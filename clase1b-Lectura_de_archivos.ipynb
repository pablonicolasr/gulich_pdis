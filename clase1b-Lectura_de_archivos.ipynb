{
 "cells": [
  {
   "cell_type": "markdown",
   "metadata": {},
   "source": [
    "# Clase 1b: Lectura de archivos, funciones, fechas.\n",
    "\n",
    "Lo que veremos en esta notebook:\n",
    "\n",
    "- [x] Leer archivos txt, csv, xml\n",
    "- [x] Listar archivos desde un directorio\n",
    "- [x] Construir funciones básicas\n",
    "- [x] Manejo básico de fechas, formato datetime.\n"
   ]
  },
  {
   "cell_type": "markdown",
   "metadata": {},
   "source": [
    "Librerías a importar:\n",
    "```python\n",
    "from termcolor import colored\n",
    "import numpy as np\n",
    "import pandas as pd\n",
    "import os\n",
    "```"
   ]
  },
  {
   "cell_type": "code",
   "execution_count": 1,
   "metadata": {},
   "outputs": [],
   "source": [
    "from termcolor import colored\n",
    "import numpy as np\n",
    "import pandas as pd\n",
    "import os"
   ]
  },
  {
   "cell_type": "markdown",
   "metadata": {},
   "source": [
    "# 1. Lectura de archivos\n",
    "\n",
    "# 1.1. Archivos csv\n",
    "\n",
    "Anteriormente vimos un ejemplo de como importar un _dataframe_ haciendo uso de la librería Pandas, pero esta no es la única que nos permite leer archivos almacenados en nuestro disco. Supongamos que nos interesa leer una matriz cualquiera de datos en formato csv o txt, utilicemos como ejemplo la _dataframe_ que leimos anteriormente:\n",
    "\n",
    "```python\n",
    "ruta = '../data/raw_data/'  # Establecemos la ruta a nuestro archivo\n",
    "filename = os.path.join(ruta, 'personas.csv')\n",
    "datos = np.genfromtxt(filename, skip_header=1, delimiter=',', dtype=int)\n",
    "print(datos)\n",
    "\n",
    "```"
   ]
  },
  {
   "cell_type": "code",
   "execution_count": 2,
   "metadata": {},
   "outputs": [
    {
     "name": "stdout",
     "output_type": "stream",
     "text": [
      "[[140070101        14         7 ...        40        28        68]\n",
      " [140070102        14         7 ...       261       233       494]\n",
      " [140070103        14         7 ...       123        96       219]\n",
      " ...\n",
      " [141821310        14       182 ...       242       249       491]\n",
      " [141821311        14       182 ...       417       417       834]\n",
      " [141821312        14       182 ...       420       434       854]]\n"
     ]
    }
   ],
   "source": [
    "ruta = os.path.join(os.getcwd(), \"raw_data\")\n",
    "filename = os.path.join(ruta, \"personas.csv\")\n",
    "datos = np.genfromtxt(filename, skip_header=1, delimiter=',', dtype=int)\n",
    "print(datos)"
   ]
  },
  {
   "cell_type": "markdown",
   "metadata": {},
   "source": [
    "En este caso, obtendríamos únicamente una matriz de datos que podríamos operar con facilidad. Sin embargo, no tendríamos etiquetas para saber cual columna estamos operando. Como vimos anteriormente, la librería Pandas soluciona este inconveniente.\n",
    "```python\n",
    "archivo = pd.read_csv(filename)\n",
    "print(archivo)\n",
    "```"
   ]
  },
  {
   "cell_type": "code",
   "execution_count": 3,
   "metadata": {},
   "outputs": [
    {
     "name": "stdout",
     "output_type": "stream",
     "text": [
      "         codigo  prov  dpto  frac  rad  varon  mujer  total\n",
      "0     140070101    14     7     1    1     40     28     68\n",
      "1     140070102    14     7     1    2    261    233    494\n",
      "2     140070103    14     7     1    3    123     96    219\n",
      "3     140070104    14     7     1    4     45     32     77\n",
      "4     140070105    14     7     1    5    137    131    268\n",
      "...         ...   ...   ...   ...  ...    ...    ...    ...\n",
      "4747  141821308    14   182    13    8    229    225    454\n",
      "4748  141821309    14   182    13    9    222    240    462\n",
      "4749  141821310    14   182    13   10    242    249    491\n",
      "4750  141821311    14   182    13   11    417    417    834\n",
      "4751  141821312    14   182    13   12    420    434    854\n",
      "\n",
      "[4752 rows x 8 columns]\n"
     ]
    }
   ],
   "source": [
    "archivo = pd.read_csv(filename)\n",
    "print(archivo)"
   ]
  },
  {
   "cell_type": "markdown",
   "metadata": {},
   "source": [
    "Incluso podemos leer únicamente las columnas que nos interesan. En este caso, las columnas \"codigo\", \"varon\" y \"mujer\" contienen los datos necesarios para generar las demás columnas como vimos en la _notebook_ anterior:\n",
    "\n",
    "```python\n",
    "df = pd.read_csv(filename, usecols=['codigo', 'varon', 'mujer'])\n",
    "\n",
    "print(df.keys())\n",
    "```"
   ]
  },
  {
   "cell_type": "code",
   "execution_count": 4,
   "metadata": {},
   "outputs": [
    {
     "name": "stdout",
     "output_type": "stream",
     "text": [
      "Index(['codigo', 'varon', 'mujer'], dtype='object')\n"
     ]
    }
   ],
   "source": [
    "df = pd.read_csv(filename, usecols=['codigo', 'varon', 'mujer'])\n",
    "\n",
    "print(df.keys())"
   ]
  },
  {
   "cell_type": "markdown",
   "metadata": {},
   "source": [
    "## 1.2. Archivos txt\n",
    "En el caso anterior, seleccionamos una serie de columnas de interés a partir de un _csv_ disponible en la web. Ahora, ¿qué pasa si nuestro archivo no se encuentra estructurado de una forma adecuada para la librería?\n",
    "\n",
    "Esto es muy común en los archivos de texto plano. Veamos por ejemplo qué pasa con un archivo de metadatos de una imagen proveniente del satélite Landsat 8 disponible en nuestra carpeta de datos:\n",
    "\n",
    "```python\n",
    "# Probemos con numpy:\n",
    "ruta = '../data/raw_data/'\n",
    "filename = f'{ruta}LC08_L1TP_226084_20200313_20200314_01_RT_MTL.txt'\n",
    "metadatos = np.genfromtxt(filename)\n",
    "print(metadatos)\n",
    "```"
   ]
  },
  {
   "cell_type": "code",
   "execution_count": 5,
   "metadata": {
    "scrolled": true
   },
   "outputs": [
    {
     "ename": "ValueError",
     "evalue": "Some errors were detected !\n    Line #3 (got 9 columns instead of 3)\n    Line #225 (got 1 columns instead of 3)",
     "output_type": "error",
     "traceback": [
      "\u001b[1;31m---------------------------------------------------------------------------\u001b[0m",
      "\u001b[1;31mValueError\u001b[0m                                Traceback (most recent call last)",
      "Cell \u001b[1;32mIn[5], line 3\u001b[0m\n\u001b[0;32m      1\u001b[0m ruta \u001b[38;5;241m=\u001b[39m \u001b[38;5;124m\"\u001b[39m\u001b[38;5;124m./raw_data/\u001b[39m\u001b[38;5;124m\"\u001b[39m\n\u001b[0;32m      2\u001b[0m filename \u001b[38;5;241m=\u001b[39m \u001b[38;5;124mf\u001b[39m\u001b[38;5;124m'\u001b[39m\u001b[38;5;132;01m{\u001b[39;00mruta\u001b[38;5;132;01m}\u001b[39;00m\u001b[38;5;124mLC08_L1TP_226084_20200313_20200314_01_RT_MTL.txt\u001b[39m\u001b[38;5;124m'\u001b[39m\n\u001b[1;32m----> 3\u001b[0m metadatos \u001b[38;5;241m=\u001b[39m \u001b[43mnp\u001b[49m\u001b[38;5;241;43m.\u001b[39;49m\u001b[43mgenfromtxt\u001b[49m\u001b[43m(\u001b[49m\u001b[43mfilename\u001b[49m\u001b[43m)\u001b[49m\n\u001b[0;32m      4\u001b[0m \u001b[38;5;28mprint\u001b[39m(metadatos)\n",
      "File \u001b[1;32m~\\anaconda3\\envs\\pdis_phd\\lib\\site-packages\\numpy\\lib\\_npyio_impl.py:2332\u001b[0m, in \u001b[0;36mgenfromtxt\u001b[1;34m(fname, dtype, comments, delimiter, skip_header, skip_footer, converters, missing_values, filling_values, usecols, names, excludelist, deletechars, replace_space, autostrip, case_sensitive, defaultfmt, unpack, usemask, loose, invalid_raise, max_rows, encoding, ndmin, like)\u001b[0m\n\u001b[0;32m   2330\u001b[0m \u001b[38;5;66;03m# Raise an exception ?\u001b[39;00m\n\u001b[0;32m   2331\u001b[0m \u001b[38;5;28;01mif\u001b[39;00m invalid_raise:\n\u001b[1;32m-> 2332\u001b[0m     \u001b[38;5;28;01mraise\u001b[39;00m \u001b[38;5;167;01mValueError\u001b[39;00m(errmsg)\n\u001b[0;32m   2333\u001b[0m \u001b[38;5;66;03m# Issue a warning ?\u001b[39;00m\n\u001b[0;32m   2334\u001b[0m \u001b[38;5;28;01melse\u001b[39;00m:\n\u001b[0;32m   2335\u001b[0m     warnings\u001b[38;5;241m.\u001b[39mwarn(errmsg, ConversionWarning, stacklevel\u001b[38;5;241m=\u001b[39m\u001b[38;5;241m2\u001b[39m)\n",
      "\u001b[1;31mValueError\u001b[0m: Some errors were detected !\n    Line #3 (got 9 columns instead of 3)\n    Line #225 (got 1 columns instead of 3)"
     ]
    }
   ],
   "source": [
    "ruta = \"./raw_data/\"\n",
    "filename = f'{ruta}LC08_L1TP_226084_20200313_20200314_01_RT_MTL.txt'\n",
    "metadatos = np.genfromtxt(filename)\n",
    "print(metadatos)"
   ]
  },
  {
   "cell_type": "code",
   "execution_count": 10,
   "metadata": {},
   "outputs": [
    {
     "name": "stdout",
     "output_type": "stream",
     "text": [
      "GROUP: PROJECTION_PARAMETERS\n",
      "ORIGIN: Image courtesy of the U.S. Geological Survey\n",
      "REQUEST_ID: 0502003141438_00016\n",
      "LANDSAT_SCENE_ID: LC82260842020073LGN00\n",
      "LANDSAT_PRODUCT_ID: LC08_L1TP_226084_20200313_20200314_01_RT\n"
     ]
    }
   ],
   "source": [
    "# Generalmente, el formato manejado por estos archivos es del tipo clave valor, por lo que es\n",
    "# importante usar la estructura de datos de \"Diccionario\"\n",
    "\n",
    "metadata = {}\n",
    "\n",
    "with open(filename, \"r\") as file:\n",
    "    for line in file:\n",
    "        line = line.strip()\n",
    "        if \"=\" in line:\n",
    "            key, value = line.split(\"=\", 1)\n",
    "            metadata[key.strip()] = value.strip().strip('\"')\n",
    "\n",
    "# Ver un ejemplo\n",
    "for k, v in list(metadata.items())[:5]:\n",
    "    print(f\"{k}: {v}\")"
   ]
  },
  {
   "cell_type": "markdown",
   "metadata": {},
   "source": [
    "```python\n",
    "# Probemos con pandas:\n",
    "metadatos = pd.read_csv(filename, delimiter='=')\n",
    "print(metadatos)\n",
    "```"
   ]
  },
  {
   "cell_type": "code",
   "execution_count": 7,
   "metadata": {},
   "outputs": [
    {
     "name": "stdout",
     "output_type": "stream",
     "text": [
      "                      GROUP                                  L1_METADATA_FILE\n",
      "0                     GROUP                                METADATA_FILE_INFO\n",
      "1                    ORIGIN    \"Image courtesy of the U.S. Geological Survey\"\n",
      "2                REQUEST_ID                             \"0502003141438_00016\"\n",
      "3          LANDSAT_SCENE_ID                           \"LC82260842020073LGN00\"\n",
      "4        LANDSAT_PRODUCT_ID        \"LC08_L1TP_226084_20200313_20200314_01_RT\"\n",
      "..                       ...                                              ...\n",
      "219             ORIENTATION                                        \"NORTH_UP\"\n",
      "220       RESAMPLING_OPTION                               \"CUBIC_CONVOLUTION\"\n",
      "221               END_GROUP                             PROJECTION_PARAMETERS\n",
      "222               END_GROUP                                  L1_METADATA_FILE\n",
      "223                      END                                              NaN\n",
      "\n",
      "[224 rows x 2 columns]\n"
     ]
    }
   ],
   "source": [
    "metadatos = pd.read_csv(filename, delimiter='=')\n",
    "print(metadatos)"
   ]
  },
  {
   "cell_type": "markdown",
   "metadata": {},
   "source": [
    "Lo anterior, aunque en este caso de alguna manera podría servir, no es lo que se esperaría cuando desarrollamos scripts de automatización, de hecho, existen archivos de metadatos donde los nombres de variables se repiten en diferentes subgrupos, lo cual generaría inconvenientes al momento de leer nuestras variables. \n",
    "\n",
    "No siempre vamos a poder manejar la estructura de los archivos de entrada. Archivos como los metadatos de las imágenes satelitales, vienen con estructuras definidas por cada agencia espacial y depende de nosotros generar _scripts_ que nos permitan acceder adecuadamente a ellos haciendo uso de librerías básicas.\n",
    "\n",
    "Python permite, mediante su función _open_, leer y guardar diferentes tipos de archivos. Veamos un ejemplo de como leer adecuadamente el archivo anterior:\n",
    "\n",
    "```python\n",
    "with open(filename, 'r') as f:\n",
    "    archi = f.readlines()\n",
    "\n",
    "archi\n",
    "```"
   ]
  },
  {
   "cell_type": "code",
   "execution_count": 8,
   "metadata": {},
   "outputs": [
    {
     "data": {
      "text/plain": [
       "['GROUP = L1_METADATA_FILE\\n',\n",
       " '  GROUP = METADATA_FILE_INFO\\n',\n",
       " '    ORIGIN = \"Image courtesy of the U.S. Geological Survey\"\\n',\n",
       " '    REQUEST_ID = \"0502003141438_00016\"\\n',\n",
       " '    LANDSAT_SCENE_ID = \"LC82260842020073LGN00\"\\n',\n",
       " '    LANDSAT_PRODUCT_ID = \"LC08_L1TP_226084_20200313_20200314_01_RT\"\\n',\n",
       " '    COLLECTION_NUMBER = 01\\n',\n",
       " '    FILE_DATE = 2020-03-14T21:41:13Z\\n',\n",
       " '    STATION_ID = \"LGN\"\\n',\n",
       " '    PROCESSING_SOFTWARE_VERSION = \"LPGS_13.1.0\"\\n',\n",
       " '  END_GROUP = METADATA_FILE_INFO\\n',\n",
       " '  GROUP = PRODUCT_METADATA\\n',\n",
       " '    DATA_TYPE = \"L1TP\"\\n',\n",
       " '    COLLECTION_CATEGORY = \"RT\"\\n',\n",
       " '    ELEVATION_SOURCE = \"GLS2000\"\\n',\n",
       " '    OUTPUT_FORMAT = \"GEOTIFF\"\\n',\n",
       " '    SPACECRAFT_ID = \"LANDSAT_8\"\\n',\n",
       " '    SENSOR_ID = \"OLI_TIRS\"\\n',\n",
       " '    WRS_PATH = 226\\n',\n",
       " '    WRS_ROW = 84\\n',\n",
       " '    NADIR_OFFNADIR = \"NADIR\"\\n',\n",
       " '    TARGET_WRS_PATH = 226\\n',\n",
       " '    TARGET_WRS_ROW = 84\\n',\n",
       " '    DATE_ACQUIRED = 2020-03-13\\n',\n",
       " '    SCENE_CENTER_TIME = \"13:50:41.0900869Z\"\\n',\n",
       " '    CORNER_UL_LAT_PRODUCT = -33.56016\\n',\n",
       " '    CORNER_UL_LON_PRODUCT = -61.57366\\n',\n",
       " '    CORNER_UR_LAT_PRODUCT = -33.50460\\n',\n",
       " '    CORNER_UR_LON_PRODUCT = -59.02733\\n',\n",
       " '    CORNER_LL_LAT_PRODUCT = -35.71026\\n',\n",
       " '    CORNER_LL_LON_PRODUCT = -61.53636\\n',\n",
       " '    CORNER_LR_LAT_PRODUCT = -35.65010\\n',\n",
       " '    CORNER_LR_LON_PRODUCT = -58.92374\\n',\n",
       " '    CORNER_UL_PROJECTION_X_PRODUCT = 632400.000\\n',\n",
       " '    CORNER_UL_PROJECTION_Y_PRODUCT = -3714300.000\\n',\n",
       " '    CORNER_UR_PROJECTION_X_PRODUCT = 869100.000\\n',\n",
       " '    CORNER_UR_PROJECTION_Y_PRODUCT = -3714300.000\\n',\n",
       " '    CORNER_LL_PROJECTION_X_PRODUCT = 632400.000\\n',\n",
       " '    CORNER_LL_PROJECTION_Y_PRODUCT = -3952800.000\\n',\n",
       " '    CORNER_LR_PROJECTION_X_PRODUCT = 869100.000\\n',\n",
       " '    CORNER_LR_PROJECTION_Y_PRODUCT = -3952800.000\\n',\n",
       " '    PANCHROMATIC_LINES = 15901\\n',\n",
       " '    PANCHROMATIC_SAMPLES = 15781\\n',\n",
       " '    REFLECTIVE_LINES = 7951\\n',\n",
       " '    REFLECTIVE_SAMPLES = 7891\\n',\n",
       " '    THERMAL_LINES = 7951\\n',\n",
       " '    THERMAL_SAMPLES = 7891\\n',\n",
       " '    FILE_NAME_BAND_1 = \"LC08_L1TP_226084_20200313_20200314_01_RT_B1.TIF\"\\n',\n",
       " '    FILE_NAME_BAND_2 = \"LC08_L1TP_226084_20200313_20200314_01_RT_B2.TIF\"\\n',\n",
       " '    FILE_NAME_BAND_3 = \"LC08_L1TP_226084_20200313_20200314_01_RT_B3.TIF\"\\n',\n",
       " '    FILE_NAME_BAND_4 = \"LC08_L1TP_226084_20200313_20200314_01_RT_B4.TIF\"\\n',\n",
       " '    FILE_NAME_BAND_5 = \"LC08_L1TP_226084_20200313_20200314_01_RT_B5.TIF\"\\n',\n",
       " '    FILE_NAME_BAND_6 = \"LC08_L1TP_226084_20200313_20200314_01_RT_B6.TIF\"\\n',\n",
       " '    FILE_NAME_BAND_7 = \"LC08_L1TP_226084_20200313_20200314_01_RT_B7.TIF\"\\n',\n",
       " '    FILE_NAME_BAND_8 = \"LC08_L1TP_226084_20200313_20200314_01_RT_B8.TIF\"\\n',\n",
       " '    FILE_NAME_BAND_9 = \"LC08_L1TP_226084_20200313_20200314_01_RT_B9.TIF\"\\n',\n",
       " '    FILE_NAME_BAND_10 = \"LC08_L1TP_226084_20200313_20200314_01_RT_B10.TIF\"\\n',\n",
       " '    FILE_NAME_BAND_11 = \"LC08_L1TP_226084_20200313_20200314_01_RT_B11.TIF\"\\n',\n",
       " '    FILE_NAME_BAND_QUALITY = \"LC08_L1TP_226084_20200313_20200314_01_RT_BQA.TIF\"\\n',\n",
       " '    ANGLE_COEFFICIENT_FILE_NAME = \"LC08_L1TP_226084_20200313_20200314_01_RT_ANG.txt\"\\n',\n",
       " '    METADATA_FILE_NAME = \"LC08_L1TP_226084_20200313_20200314_01_RT_MTL.txt\"\\n',\n",
       " '    CPF_NAME = \"LC08CPF_20200101_20200331_01.04\"\\n',\n",
       " '    BPF_NAME_OLI = \"LO8BPF20200313122531_20200313131635.01\"\\n',\n",
       " '    BPF_NAME_TIRS = \"LT8BPF20200310034739_20200310060739.01\"\\n',\n",
       " '    RLUT_FILE_NAME = \"LC08RLUT_20150303_20431231_01_12.h5\"\\n',\n",
       " '  END_GROUP = PRODUCT_METADATA\\n',\n",
       " '  GROUP = IMAGE_ATTRIBUTES\\n',\n",
       " '    CLOUD_COVER = 6.89\\n',\n",
       " '    CLOUD_COVER_LAND = 6.89\\n',\n",
       " '    IMAGE_QUALITY_OLI = 9\\n',\n",
       " '    IMAGE_QUALITY_TIRS = 7\\n',\n",
       " '    TIRS_SSM_MODEL = \"PRELIMINARY\"\\n',\n",
       " '    TIRS_SSM_POSITION_STATUS = \"ESTIMATED\"\\n',\n",
       " '    TIRS_STRAY_LIGHT_CORRECTION_SOURCE = \"TIRS\"\\n',\n",
       " '    ROLL_ANGLE = -0.001\\n',\n",
       " '    SUN_AZIMUTH = 53.19896055\\n',\n",
       " '    SUN_ELEVATION = 44.41644485\\n',\n",
       " '    EARTH_SUN_DISTANCE = 0.9940604\\n',\n",
       " '    SATURATION_BAND_1 = \"Y\"\\n',\n",
       " '    SATURATION_BAND_2 = \"N\"\\n',\n",
       " '    SATURATION_BAND_3 = \"N\"\\n',\n",
       " '    SATURATION_BAND_4 = \"N\"\\n',\n",
       " '    SATURATION_BAND_5 = \"N\"\\n',\n",
       " '    SATURATION_BAND_6 = \"Y\"\\n',\n",
       " '    SATURATION_BAND_7 = \"Y\"\\n',\n",
       " '    SATURATION_BAND_8 = \"N\"\\n',\n",
       " '    SATURATION_BAND_9 = \"N\"\\n',\n",
       " '    GROUND_CONTROL_POINTS_VERSION = 4\\n',\n",
       " '    GROUND_CONTROL_POINTS_MODEL = 169\\n',\n",
       " '    GEOMETRIC_RMSE_MODEL = 9.080\\n',\n",
       " '    GEOMETRIC_RMSE_MODEL_Y = 6.743\\n',\n",
       " '    GEOMETRIC_RMSE_MODEL_X = 6.081\\n',\n",
       " '    GROUND_CONTROL_POINTS_VERIFY = 57\\n',\n",
       " '    GEOMETRIC_RMSE_VERIFY = 5.073\\n',\n",
       " '    TRUNCATION_OLI = \"UPPER\"\\n',\n",
       " '  END_GROUP = IMAGE_ATTRIBUTES\\n',\n",
       " '  GROUP = MIN_MAX_RADIANCE\\n',\n",
       " '    RADIANCE_MAXIMUM_BAND_1 = 769.17267\\n',\n",
       " '    RADIANCE_MINIMUM_BAND_1 = -63.51853\\n',\n",
       " '    RADIANCE_MAXIMUM_BAND_2 = 787.64215\\n',\n",
       " '    RADIANCE_MINIMUM_BAND_2 = -65.04375\\n',\n",
       " '    RADIANCE_MAXIMUM_BAND_3 = 725.80554\\n',\n",
       " '    RADIANCE_MINIMUM_BAND_3 = -59.93726\\n',\n",
       " '    RADIANCE_MAXIMUM_BAND_4 = 612.04010\\n',\n",
       " '    RADIANCE_MINIMUM_BAND_4 = -50.54247\\n',\n",
       " '    RADIANCE_MAXIMUM_BAND_5 = 374.53802\\n',\n",
       " '    RADIANCE_MINIMUM_BAND_5 = -30.92947\\n',\n",
       " '    RADIANCE_MAXIMUM_BAND_6 = 93.14420\\n',\n",
       " '    RADIANCE_MINIMUM_BAND_6 = -7.69188\\n',\n",
       " '    RADIANCE_MAXIMUM_BAND_7 = 31.39458\\n',\n",
       " '    RADIANCE_MINIMUM_BAND_7 = -2.59257\\n',\n",
       " '    RADIANCE_MAXIMUM_BAND_8 = 692.66095\\n',\n",
       " '    RADIANCE_MINIMUM_BAND_8 = -57.20017\\n',\n",
       " '    RADIANCE_MAXIMUM_BAND_9 = 146.37794\\n',\n",
       " '    RADIANCE_MINIMUM_BAND_9 = -12.08794\\n',\n",
       " '    RADIANCE_MAXIMUM_BAND_10 = 22.00180\\n',\n",
       " '    RADIANCE_MINIMUM_BAND_10 = 0.10033\\n',\n",
       " '    RADIANCE_MAXIMUM_BAND_11 = 22.00180\\n',\n",
       " '    RADIANCE_MINIMUM_BAND_11 = 0.10033\\n',\n",
       " '  END_GROUP = MIN_MAX_RADIANCE\\n',\n",
       " '  GROUP = MIN_MAX_REFLECTANCE\\n',\n",
       " '    REFLECTANCE_MAXIMUM_BAND_1 = 1.210700\\n',\n",
       " '    REFLECTANCE_MINIMUM_BAND_1 = -0.099980\\n',\n",
       " '    REFLECTANCE_MAXIMUM_BAND_2 = 1.210700\\n',\n",
       " '    REFLECTANCE_MINIMUM_BAND_2 = -0.099980\\n',\n",
       " '    REFLECTANCE_MAXIMUM_BAND_3 = 1.210700\\n',\n",
       " '    REFLECTANCE_MINIMUM_BAND_3 = -0.099980\\n',\n",
       " '    REFLECTANCE_MAXIMUM_BAND_4 = 1.210700\\n',\n",
       " '    REFLECTANCE_MINIMUM_BAND_4 = -0.099980\\n',\n",
       " '    REFLECTANCE_MAXIMUM_BAND_5 = 1.210700\\n',\n",
       " '    REFLECTANCE_MINIMUM_BAND_5 = -0.099980\\n',\n",
       " '    REFLECTANCE_MAXIMUM_BAND_6 = 1.210700\\n',\n",
       " '    REFLECTANCE_MINIMUM_BAND_6 = -0.099980\\n',\n",
       " '    REFLECTANCE_MAXIMUM_BAND_7 = 1.210700\\n',\n",
       " '    REFLECTANCE_MINIMUM_BAND_7 = -0.099980\\n',\n",
       " '    REFLECTANCE_MAXIMUM_BAND_8 = 1.210700\\n',\n",
       " '    REFLECTANCE_MINIMUM_BAND_8 = -0.099980\\n',\n",
       " '    REFLECTANCE_MAXIMUM_BAND_9 = 1.210700\\n',\n",
       " '    REFLECTANCE_MINIMUM_BAND_9 = -0.099980\\n',\n",
       " '  END_GROUP = MIN_MAX_REFLECTANCE\\n',\n",
       " '  GROUP = MIN_MAX_PIXEL_VALUE\\n',\n",
       " '    QUANTIZE_CAL_MAX_BAND_1 = 65535\\n',\n",
       " '    QUANTIZE_CAL_MIN_BAND_1 = 1\\n',\n",
       " '    QUANTIZE_CAL_MAX_BAND_2 = 65535\\n',\n",
       " '    QUANTIZE_CAL_MIN_BAND_2 = 1\\n',\n",
       " '    QUANTIZE_CAL_MAX_BAND_3 = 65535\\n',\n",
       " '    QUANTIZE_CAL_MIN_BAND_3 = 1\\n',\n",
       " '    QUANTIZE_CAL_MAX_BAND_4 = 65535\\n',\n",
       " '    QUANTIZE_CAL_MIN_BAND_4 = 1\\n',\n",
       " '    QUANTIZE_CAL_MAX_BAND_5 = 65535\\n',\n",
       " '    QUANTIZE_CAL_MIN_BAND_5 = 1\\n',\n",
       " '    QUANTIZE_CAL_MAX_BAND_6 = 65535\\n',\n",
       " '    QUANTIZE_CAL_MIN_BAND_6 = 1\\n',\n",
       " '    QUANTIZE_CAL_MAX_BAND_7 = 65535\\n',\n",
       " '    QUANTIZE_CAL_MIN_BAND_7 = 1\\n',\n",
       " '    QUANTIZE_CAL_MAX_BAND_8 = 65535\\n',\n",
       " '    QUANTIZE_CAL_MIN_BAND_8 = 1\\n',\n",
       " '    QUANTIZE_CAL_MAX_BAND_9 = 65535\\n',\n",
       " '    QUANTIZE_CAL_MIN_BAND_9 = 1\\n',\n",
       " '    QUANTIZE_CAL_MAX_BAND_10 = 65535\\n',\n",
       " '    QUANTIZE_CAL_MIN_BAND_10 = 1\\n',\n",
       " '    QUANTIZE_CAL_MAX_BAND_11 = 65535\\n',\n",
       " '    QUANTIZE_CAL_MIN_BAND_11 = 1\\n',\n",
       " '  END_GROUP = MIN_MAX_PIXEL_VALUE\\n',\n",
       " '  GROUP = RADIOMETRIC_RESCALING\\n',\n",
       " '    RADIANCE_MULT_BAND_1 = 1.2706E-02\\n',\n",
       " '    RADIANCE_MULT_BAND_2 = 1.3011E-02\\n',\n",
       " '    RADIANCE_MULT_BAND_3 = 1.1990E-02\\n',\n",
       " '    RADIANCE_MULT_BAND_4 = 1.0111E-02\\n',\n",
       " '    RADIANCE_MULT_BAND_5 = 6.1871E-03\\n',\n",
       " '    RADIANCE_MULT_BAND_6 = 1.5387E-03\\n',\n",
       " '    RADIANCE_MULT_BAND_7 = 5.1862E-04\\n',\n",
       " '    RADIANCE_MULT_BAND_8 = 1.1442E-02\\n',\n",
       " '    RADIANCE_MULT_BAND_9 = 2.4181E-03\\n',\n",
       " '    RADIANCE_MULT_BAND_10 = 3.3420E-04\\n',\n",
       " '    RADIANCE_MULT_BAND_11 = 3.3420E-04\\n',\n",
       " '    RADIANCE_ADD_BAND_1 = -63.53123\\n',\n",
       " '    RADIANCE_ADD_BAND_2 = -65.05676\\n',\n",
       " '    RADIANCE_ADD_BAND_3 = -59.94925\\n',\n",
       " '    RADIANCE_ADD_BAND_4 = -50.55258\\n',\n",
       " '    RADIANCE_ADD_BAND_5 = -30.93566\\n',\n",
       " '    RADIANCE_ADD_BAND_6 = -7.69342\\n',\n",
       " '    RADIANCE_ADD_BAND_7 = -2.59309\\n',\n",
       " '    RADIANCE_ADD_BAND_8 = -57.21161\\n',\n",
       " '    RADIANCE_ADD_BAND_9 = -12.09036\\n',\n",
       " '    RADIANCE_ADD_BAND_10 = 0.10000\\n',\n",
       " '    RADIANCE_ADD_BAND_11 = 0.10000\\n',\n",
       " '    REFLECTANCE_MULT_BAND_1 = 2.0000E-05\\n',\n",
       " '    REFLECTANCE_MULT_BAND_2 = 2.0000E-05\\n',\n",
       " '    REFLECTANCE_MULT_BAND_3 = 2.0000E-05\\n',\n",
       " '    REFLECTANCE_MULT_BAND_4 = 2.0000E-05\\n',\n",
       " '    REFLECTANCE_MULT_BAND_5 = 2.0000E-05\\n',\n",
       " '    REFLECTANCE_MULT_BAND_6 = 2.0000E-05\\n',\n",
       " '    REFLECTANCE_MULT_BAND_7 = 2.0000E-05\\n',\n",
       " '    REFLECTANCE_MULT_BAND_8 = 2.0000E-05\\n',\n",
       " '    REFLECTANCE_MULT_BAND_9 = 2.0000E-05\\n',\n",
       " '    REFLECTANCE_ADD_BAND_1 = -0.100000\\n',\n",
       " '    REFLECTANCE_ADD_BAND_2 = -0.100000\\n',\n",
       " '    REFLECTANCE_ADD_BAND_3 = -0.100000\\n',\n",
       " '    REFLECTANCE_ADD_BAND_4 = -0.100000\\n',\n",
       " '    REFLECTANCE_ADD_BAND_5 = -0.100000\\n',\n",
       " '    REFLECTANCE_ADD_BAND_6 = -0.100000\\n',\n",
       " '    REFLECTANCE_ADD_BAND_7 = -0.100000\\n',\n",
       " '    REFLECTANCE_ADD_BAND_8 = -0.100000\\n',\n",
       " '    REFLECTANCE_ADD_BAND_9 = -0.100000\\n',\n",
       " '  END_GROUP = RADIOMETRIC_RESCALING\\n',\n",
       " '  GROUP = TIRS_THERMAL_CONSTANTS\\n',\n",
       " '    K1_CONSTANT_BAND_10 = 774.8853\\n',\n",
       " '    K2_CONSTANT_BAND_10 = 1321.0789\\n',\n",
       " '    K1_CONSTANT_BAND_11 = 480.8883\\n',\n",
       " '    K2_CONSTANT_BAND_11 = 1201.1442\\n',\n",
       " '  END_GROUP = TIRS_THERMAL_CONSTANTS\\n',\n",
       " '  GROUP = PROJECTION_PARAMETERS\\n',\n",
       " '    MAP_PROJECTION = \"UTM\"\\n',\n",
       " '    DATUM = \"WGS84\"\\n',\n",
       " '    ELLIPSOID = \"WGS84\"\\n',\n",
       " '    UTM_ZONE = 20\\n',\n",
       " '    GRID_CELL_SIZE_PANCHROMATIC = 15.00\\n',\n",
       " '    GRID_CELL_SIZE_REFLECTIVE = 30.00\\n',\n",
       " '    GRID_CELL_SIZE_THERMAL = 30.00\\n',\n",
       " '    ORIENTATION = \"NORTH_UP\"\\n',\n",
       " '    RESAMPLING_OPTION = \"CUBIC_CONVOLUTION\"\\n',\n",
       " '  END_GROUP = PROJECTION_PARAMETERS\\n',\n",
       " 'END_GROUP = L1_METADATA_FILE\\n',\n",
       " 'END\\n']"
      ]
     },
     "execution_count": 8,
     "metadata": {},
     "output_type": "execute_result"
    }
   ],
   "source": [
    "with open(filename, 'r') as f:\n",
    "    archi = f.readlines()\n",
    "\n",
    "archi"
   ]
  },
  {
   "cell_type": "markdown",
   "metadata": {},
   "source": [
    "Como vemos, la instrucción anterior carga el archivo y extrae las líneas, almacenando cada una de ellas en una lista. Cada línea tiene una serie de espacios, que no son de nuestro interés, así como con parámetro '\\n' que indica un salto de espacio. Estos elementos no son útiles y pueden generar errores al momento de utilizar los parámetros extraidos, así que vamos a eliminarlos:\n",
    "\n",
    "```python\n",
    "# Eliminamos los espacios y los saltos de línea\n",
    "archi = [i.strip(' \\n') for i in archi]\n",
    "print(archi)\n",
    "```"
   ]
  },
  {
   "cell_type": "code",
   "execution_count": 9,
   "metadata": {},
   "outputs": [
    {
     "name": "stdout",
     "output_type": "stream",
     "text": [
      "['GROUP = L1_METADATA_FILE', 'GROUP = METADATA_FILE_INFO', 'ORIGIN = \"Image courtesy of the U.S. Geological Survey\"', 'REQUEST_ID = \"0502003141438_00016\"', 'LANDSAT_SCENE_ID = \"LC82260842020073LGN00\"', 'LANDSAT_PRODUCT_ID = \"LC08_L1TP_226084_20200313_20200314_01_RT\"', 'COLLECTION_NUMBER = 01', 'FILE_DATE = 2020-03-14T21:41:13Z', 'STATION_ID = \"LGN\"', 'PROCESSING_SOFTWARE_VERSION = \"LPGS_13.1.0\"', 'END_GROUP = METADATA_FILE_INFO', 'GROUP = PRODUCT_METADATA', 'DATA_TYPE = \"L1TP\"', 'COLLECTION_CATEGORY = \"RT\"', 'ELEVATION_SOURCE = \"GLS2000\"', 'OUTPUT_FORMAT = \"GEOTIFF\"', 'SPACECRAFT_ID = \"LANDSAT_8\"', 'SENSOR_ID = \"OLI_TIRS\"', 'WRS_PATH = 226', 'WRS_ROW = 84', 'NADIR_OFFNADIR = \"NADIR\"', 'TARGET_WRS_PATH = 226', 'TARGET_WRS_ROW = 84', 'DATE_ACQUIRED = 2020-03-13', 'SCENE_CENTER_TIME = \"13:50:41.0900869Z\"', 'CORNER_UL_LAT_PRODUCT = -33.56016', 'CORNER_UL_LON_PRODUCT = -61.57366', 'CORNER_UR_LAT_PRODUCT = -33.50460', 'CORNER_UR_LON_PRODUCT = -59.02733', 'CORNER_LL_LAT_PRODUCT = -35.71026', 'CORNER_LL_LON_PRODUCT = -61.53636', 'CORNER_LR_LAT_PRODUCT = -35.65010', 'CORNER_LR_LON_PRODUCT = -58.92374', 'CORNER_UL_PROJECTION_X_PRODUCT = 632400.000', 'CORNER_UL_PROJECTION_Y_PRODUCT = -3714300.000', 'CORNER_UR_PROJECTION_X_PRODUCT = 869100.000', 'CORNER_UR_PROJECTION_Y_PRODUCT = -3714300.000', 'CORNER_LL_PROJECTION_X_PRODUCT = 632400.000', 'CORNER_LL_PROJECTION_Y_PRODUCT = -3952800.000', 'CORNER_LR_PROJECTION_X_PRODUCT = 869100.000', 'CORNER_LR_PROJECTION_Y_PRODUCT = -3952800.000', 'PANCHROMATIC_LINES = 15901', 'PANCHROMATIC_SAMPLES = 15781', 'REFLECTIVE_LINES = 7951', 'REFLECTIVE_SAMPLES = 7891', 'THERMAL_LINES = 7951', 'THERMAL_SAMPLES = 7891', 'FILE_NAME_BAND_1 = \"LC08_L1TP_226084_20200313_20200314_01_RT_B1.TIF\"', 'FILE_NAME_BAND_2 = \"LC08_L1TP_226084_20200313_20200314_01_RT_B2.TIF\"', 'FILE_NAME_BAND_3 = \"LC08_L1TP_226084_20200313_20200314_01_RT_B3.TIF\"', 'FILE_NAME_BAND_4 = \"LC08_L1TP_226084_20200313_20200314_01_RT_B4.TIF\"', 'FILE_NAME_BAND_5 = \"LC08_L1TP_226084_20200313_20200314_01_RT_B5.TIF\"', 'FILE_NAME_BAND_6 = \"LC08_L1TP_226084_20200313_20200314_01_RT_B6.TIF\"', 'FILE_NAME_BAND_7 = \"LC08_L1TP_226084_20200313_20200314_01_RT_B7.TIF\"', 'FILE_NAME_BAND_8 = \"LC08_L1TP_226084_20200313_20200314_01_RT_B8.TIF\"', 'FILE_NAME_BAND_9 = \"LC08_L1TP_226084_20200313_20200314_01_RT_B9.TIF\"', 'FILE_NAME_BAND_10 = \"LC08_L1TP_226084_20200313_20200314_01_RT_B10.TIF\"', 'FILE_NAME_BAND_11 = \"LC08_L1TP_226084_20200313_20200314_01_RT_B11.TIF\"', 'FILE_NAME_BAND_QUALITY = \"LC08_L1TP_226084_20200313_20200314_01_RT_BQA.TIF\"', 'ANGLE_COEFFICIENT_FILE_NAME = \"LC08_L1TP_226084_20200313_20200314_01_RT_ANG.txt\"', 'METADATA_FILE_NAME = \"LC08_L1TP_226084_20200313_20200314_01_RT_MTL.txt\"', 'CPF_NAME = \"LC08CPF_20200101_20200331_01.04\"', 'BPF_NAME_OLI = \"LO8BPF20200313122531_20200313131635.01\"', 'BPF_NAME_TIRS = \"LT8BPF20200310034739_20200310060739.01\"', 'RLUT_FILE_NAME = \"LC08RLUT_20150303_20431231_01_12.h5\"', 'END_GROUP = PRODUCT_METADATA', 'GROUP = IMAGE_ATTRIBUTES', 'CLOUD_COVER = 6.89', 'CLOUD_COVER_LAND = 6.89', 'IMAGE_QUALITY_OLI = 9', 'IMAGE_QUALITY_TIRS = 7', 'TIRS_SSM_MODEL = \"PRELIMINARY\"', 'TIRS_SSM_POSITION_STATUS = \"ESTIMATED\"', 'TIRS_STRAY_LIGHT_CORRECTION_SOURCE = \"TIRS\"', 'ROLL_ANGLE = -0.001', 'SUN_AZIMUTH = 53.19896055', 'SUN_ELEVATION = 44.41644485', 'EARTH_SUN_DISTANCE = 0.9940604', 'SATURATION_BAND_1 = \"Y\"', 'SATURATION_BAND_2 = \"N\"', 'SATURATION_BAND_3 = \"N\"', 'SATURATION_BAND_4 = \"N\"', 'SATURATION_BAND_5 = \"N\"', 'SATURATION_BAND_6 = \"Y\"', 'SATURATION_BAND_7 = \"Y\"', 'SATURATION_BAND_8 = \"N\"', 'SATURATION_BAND_9 = \"N\"', 'GROUND_CONTROL_POINTS_VERSION = 4', 'GROUND_CONTROL_POINTS_MODEL = 169', 'GEOMETRIC_RMSE_MODEL = 9.080', 'GEOMETRIC_RMSE_MODEL_Y = 6.743', 'GEOMETRIC_RMSE_MODEL_X = 6.081', 'GROUND_CONTROL_POINTS_VERIFY = 57', 'GEOMETRIC_RMSE_VERIFY = 5.073', 'TRUNCATION_OLI = \"UPPER\"', 'END_GROUP = IMAGE_ATTRIBUTES', 'GROUP = MIN_MAX_RADIANCE', 'RADIANCE_MAXIMUM_BAND_1 = 769.17267', 'RADIANCE_MINIMUM_BAND_1 = -63.51853', 'RADIANCE_MAXIMUM_BAND_2 = 787.64215', 'RADIANCE_MINIMUM_BAND_2 = -65.04375', 'RADIANCE_MAXIMUM_BAND_3 = 725.80554', 'RADIANCE_MINIMUM_BAND_3 = -59.93726', 'RADIANCE_MAXIMUM_BAND_4 = 612.04010', 'RADIANCE_MINIMUM_BAND_4 = -50.54247', 'RADIANCE_MAXIMUM_BAND_5 = 374.53802', 'RADIANCE_MINIMUM_BAND_5 = -30.92947', 'RADIANCE_MAXIMUM_BAND_6 = 93.14420', 'RADIANCE_MINIMUM_BAND_6 = -7.69188', 'RADIANCE_MAXIMUM_BAND_7 = 31.39458', 'RADIANCE_MINIMUM_BAND_7 = -2.59257', 'RADIANCE_MAXIMUM_BAND_8 = 692.66095', 'RADIANCE_MINIMUM_BAND_8 = -57.20017', 'RADIANCE_MAXIMUM_BAND_9 = 146.37794', 'RADIANCE_MINIMUM_BAND_9 = -12.08794', 'RADIANCE_MAXIMUM_BAND_10 = 22.00180', 'RADIANCE_MINIMUM_BAND_10 = 0.10033', 'RADIANCE_MAXIMUM_BAND_11 = 22.00180', 'RADIANCE_MINIMUM_BAND_11 = 0.10033', 'END_GROUP = MIN_MAX_RADIANCE', 'GROUP = MIN_MAX_REFLECTANCE', 'REFLECTANCE_MAXIMUM_BAND_1 = 1.210700', 'REFLECTANCE_MINIMUM_BAND_1 = -0.099980', 'REFLECTANCE_MAXIMUM_BAND_2 = 1.210700', 'REFLECTANCE_MINIMUM_BAND_2 = -0.099980', 'REFLECTANCE_MAXIMUM_BAND_3 = 1.210700', 'REFLECTANCE_MINIMUM_BAND_3 = -0.099980', 'REFLECTANCE_MAXIMUM_BAND_4 = 1.210700', 'REFLECTANCE_MINIMUM_BAND_4 = -0.099980', 'REFLECTANCE_MAXIMUM_BAND_5 = 1.210700', 'REFLECTANCE_MINIMUM_BAND_5 = -0.099980', 'REFLECTANCE_MAXIMUM_BAND_6 = 1.210700', 'REFLECTANCE_MINIMUM_BAND_6 = -0.099980', 'REFLECTANCE_MAXIMUM_BAND_7 = 1.210700', 'REFLECTANCE_MINIMUM_BAND_7 = -0.099980', 'REFLECTANCE_MAXIMUM_BAND_8 = 1.210700', 'REFLECTANCE_MINIMUM_BAND_8 = -0.099980', 'REFLECTANCE_MAXIMUM_BAND_9 = 1.210700', 'REFLECTANCE_MINIMUM_BAND_9 = -0.099980', 'END_GROUP = MIN_MAX_REFLECTANCE', 'GROUP = MIN_MAX_PIXEL_VALUE', 'QUANTIZE_CAL_MAX_BAND_1 = 65535', 'QUANTIZE_CAL_MIN_BAND_1 = 1', 'QUANTIZE_CAL_MAX_BAND_2 = 65535', 'QUANTIZE_CAL_MIN_BAND_2 = 1', 'QUANTIZE_CAL_MAX_BAND_3 = 65535', 'QUANTIZE_CAL_MIN_BAND_3 = 1', 'QUANTIZE_CAL_MAX_BAND_4 = 65535', 'QUANTIZE_CAL_MIN_BAND_4 = 1', 'QUANTIZE_CAL_MAX_BAND_5 = 65535', 'QUANTIZE_CAL_MIN_BAND_5 = 1', 'QUANTIZE_CAL_MAX_BAND_6 = 65535', 'QUANTIZE_CAL_MIN_BAND_6 = 1', 'QUANTIZE_CAL_MAX_BAND_7 = 65535', 'QUANTIZE_CAL_MIN_BAND_7 = 1', 'QUANTIZE_CAL_MAX_BAND_8 = 65535', 'QUANTIZE_CAL_MIN_BAND_8 = 1', 'QUANTIZE_CAL_MAX_BAND_9 = 65535', 'QUANTIZE_CAL_MIN_BAND_9 = 1', 'QUANTIZE_CAL_MAX_BAND_10 = 65535', 'QUANTIZE_CAL_MIN_BAND_10 = 1', 'QUANTIZE_CAL_MAX_BAND_11 = 65535', 'QUANTIZE_CAL_MIN_BAND_11 = 1', 'END_GROUP = MIN_MAX_PIXEL_VALUE', 'GROUP = RADIOMETRIC_RESCALING', 'RADIANCE_MULT_BAND_1 = 1.2706E-02', 'RADIANCE_MULT_BAND_2 = 1.3011E-02', 'RADIANCE_MULT_BAND_3 = 1.1990E-02', 'RADIANCE_MULT_BAND_4 = 1.0111E-02', 'RADIANCE_MULT_BAND_5 = 6.1871E-03', 'RADIANCE_MULT_BAND_6 = 1.5387E-03', 'RADIANCE_MULT_BAND_7 = 5.1862E-04', 'RADIANCE_MULT_BAND_8 = 1.1442E-02', 'RADIANCE_MULT_BAND_9 = 2.4181E-03', 'RADIANCE_MULT_BAND_10 = 3.3420E-04', 'RADIANCE_MULT_BAND_11 = 3.3420E-04', 'RADIANCE_ADD_BAND_1 = -63.53123', 'RADIANCE_ADD_BAND_2 = -65.05676', 'RADIANCE_ADD_BAND_3 = -59.94925', 'RADIANCE_ADD_BAND_4 = -50.55258', 'RADIANCE_ADD_BAND_5 = -30.93566', 'RADIANCE_ADD_BAND_6 = -7.69342', 'RADIANCE_ADD_BAND_7 = -2.59309', 'RADIANCE_ADD_BAND_8 = -57.21161', 'RADIANCE_ADD_BAND_9 = -12.09036', 'RADIANCE_ADD_BAND_10 = 0.10000', 'RADIANCE_ADD_BAND_11 = 0.10000', 'REFLECTANCE_MULT_BAND_1 = 2.0000E-05', 'REFLECTANCE_MULT_BAND_2 = 2.0000E-05', 'REFLECTANCE_MULT_BAND_3 = 2.0000E-05', 'REFLECTANCE_MULT_BAND_4 = 2.0000E-05', 'REFLECTANCE_MULT_BAND_5 = 2.0000E-05', 'REFLECTANCE_MULT_BAND_6 = 2.0000E-05', 'REFLECTANCE_MULT_BAND_7 = 2.0000E-05', 'REFLECTANCE_MULT_BAND_8 = 2.0000E-05', 'REFLECTANCE_MULT_BAND_9 = 2.0000E-05', 'REFLECTANCE_ADD_BAND_1 = -0.100000', 'REFLECTANCE_ADD_BAND_2 = -0.100000', 'REFLECTANCE_ADD_BAND_3 = -0.100000', 'REFLECTANCE_ADD_BAND_4 = -0.100000', 'REFLECTANCE_ADD_BAND_5 = -0.100000', 'REFLECTANCE_ADD_BAND_6 = -0.100000', 'REFLECTANCE_ADD_BAND_7 = -0.100000', 'REFLECTANCE_ADD_BAND_8 = -0.100000', 'REFLECTANCE_ADD_BAND_9 = -0.100000', 'END_GROUP = RADIOMETRIC_RESCALING', 'GROUP = TIRS_THERMAL_CONSTANTS', 'K1_CONSTANT_BAND_10 = 774.8853', 'K2_CONSTANT_BAND_10 = 1321.0789', 'K1_CONSTANT_BAND_11 = 480.8883', 'K2_CONSTANT_BAND_11 = 1201.1442', 'END_GROUP = TIRS_THERMAL_CONSTANTS', 'GROUP = PROJECTION_PARAMETERS', 'MAP_PROJECTION = \"UTM\"', 'DATUM = \"WGS84\"', 'ELLIPSOID = \"WGS84\"', 'UTM_ZONE = 20', 'GRID_CELL_SIZE_PANCHROMATIC = 15.00', 'GRID_CELL_SIZE_REFLECTIVE = 30.00', 'GRID_CELL_SIZE_THERMAL = 30.00', 'ORIENTATION = \"NORTH_UP\"', 'RESAMPLING_OPTION = \"CUBIC_CONVOLUTION\"', 'END_GROUP = PROJECTION_PARAMETERS', 'END_GROUP = L1_METADATA_FILE', 'END']\n"
     ]
    }
   ],
   "source": [
    "archi = [i.strip(' \\n') for i in archi]\n",
    "print(archi)"
   ]
  },
  {
   "attachments": {
    "image-2.png": {
     "image/png": "[encoded data removed]"
    }
   },
   "cell_type": "markdown",
   "metadata": {},
   "source": [
    "Si revisamos cada uno de los elementos de la lista, a excepción del último, estos contienen el nombre de una variable seguido por su valor. Esto ya es conocido de cuando trabajamos con diccionarios. A su vez, si revisamos el txt original podemos ver que tenemos un grupo que engloba todos nuestros datos y en este, tenemos subgrupos donde cada subgrupo tiene un comienzo indicado por la palabra _GROUP_ y un final, indicado por la palabra _END_GROUP_:\n",
    "\n",
    "![image-2.png](attachment:image-2.png)\n"
   ]
  },
  {
   "cell_type": "markdown",
   "metadata": {},
   "source": [
    " Teniendo esta estructura vamos entonces a construir nuestro diccionario:\n",
    " \n",
    "```python\n",
    "group1 = archi[0].split(' = ')[1]  # Nombre del grupo principal\n",
    "diccionario = {group1 :{}}\n",
    "\n",
    "# A continuación iteramos desde la segunda hasta la penúltima posición\n",
    "# esto para evitar tomar solo los subgrupos y evitar el END final\n",
    "# que nos causaría un error en el split(' = ')\n",
    "\n",
    "for i in archi[1:-1]:\n",
    "    key, val = i.split(' = ')\n",
    "    if key == 'GROUP':\n",
    "        subgrupo = val\n",
    "        diccionario[group1][subgrupo] = {}\n",
    "    elif key != 'END_GROUP':\n",
    "        diccionario[group1][subgrupo][key] = val.replace('\"', '')\n",
    " ```\n"
   ]
  },
  {
   "cell_type": "code",
   "execution_count": 11,
   "metadata": {},
   "outputs": [],
   "source": [
    "group1 = archi[0].split(' = ')[1]  # Nombre del grupo principal\n",
    "diccionario = {group1 :{}}\n",
    "\n",
    "for i in archi[1:-1]:\n",
    "    key, val = i.split(' = ')\n",
    "    if key == 'GROUP':\n",
    "        subgrupo = val\n",
    "        diccionario[group1][subgrupo] = {}\n",
    "    elif key != 'END_GROUP':\n",
    "        diccionario[group1][subgrupo][key] = val.replace('\"', '')"
   ]
  },
  {
   "cell_type": "markdown",
   "metadata": {},
   "source": [
    "Veamos qué grupos se crearon consultando mediante el método _keys()_ de nuestro diccionario:\n",
    "```python\n",
    "print(diccionario['L1_METADATA_FILE'].keys())\n",
    "```"
   ]
  },
  {
   "cell_type": "code",
   "execution_count": 12,
   "metadata": {},
   "outputs": [
    {
     "name": "stdout",
     "output_type": "stream",
     "text": [
      "dict_keys(['METADATA_FILE_INFO', 'PRODUCT_METADATA', 'IMAGE_ATTRIBUTES', 'MIN_MAX_RADIANCE', 'MIN_MAX_REFLECTANCE', 'MIN_MAX_PIXEL_VALUE', 'RADIOMETRIC_RESCALING', 'TIRS_THERMAL_CONSTANTS', 'PROJECTION_PARAMETERS'])\n"
     ]
    }
   ],
   "source": [
    "print(diccionario['L1_METADATA_FILE'].keys())"
   ]
  },
  {
   "cell_type": "markdown",
   "metadata": {},
   "source": [
    "Podríamos extraer uno de los grupos que nos interese y convertirlo en una estructura Pandas Series:\n",
    "\n",
    "```python\n",
    "subgrupo = diccionario['L1_METADATA_FILE']['PROJECTION_PARAMETERS']\n",
    "\n",
    "print(colored('\\nSubgrupo PROJECTION_PARAMETERS visto como diccionario:', 'blue'))\n",
    "print(subgrupo)\n",
    "\n",
    "prj_params = pd.Series(subgrupo)\n",
    "print(colored('\\nSubgrupo PROJECTION_PARAMETERS visto como estructura Pandas Series:', 'blue'))\n",
    "print(prj_params)\n",
    "```"
   ]
  },
  {
   "cell_type": "code",
   "execution_count": 13,
   "metadata": {},
   "outputs": [
    {
     "name": "stdout",
     "output_type": "stream",
     "text": [
      "\u001b[34m\n",
      "Subgrupo PROJECTION_PARAMETERS visto como diccionario:\u001b[0m\n",
      "{'MAP_PROJECTION': 'UTM', 'DATUM': 'WGS84', 'ELLIPSOID': 'WGS84', 'UTM_ZONE': '20', 'GRID_CELL_SIZE_PANCHROMATIC': '15.00', 'GRID_CELL_SIZE_REFLECTIVE': '30.00', 'GRID_CELL_SIZE_THERMAL': '30.00', 'ORIENTATION': 'NORTH_UP', 'RESAMPLING_OPTION': 'CUBIC_CONVOLUTION'}\n",
      "\u001b[34m\n",
      "Subgrupo PROJECTION_PARAMETERS visto como estructura Pandas Series:\u001b[0m\n",
      "MAP_PROJECTION                               UTM\n",
      "DATUM                                      WGS84\n",
      "ELLIPSOID                                  WGS84\n",
      "UTM_ZONE                                      20\n",
      "GRID_CELL_SIZE_PANCHROMATIC                15.00\n",
      "GRID_CELL_SIZE_REFLECTIVE                  30.00\n",
      "GRID_CELL_SIZE_THERMAL                     30.00\n",
      "ORIENTATION                             NORTH_UP\n",
      "RESAMPLING_OPTION              CUBIC_CONVOLUTION\n",
      "dtype: object\n"
     ]
    }
   ],
   "source": [
    "subgrupo = diccionario['L1_METADATA_FILE']['PROJECTION_PARAMETERS']\n",
    "\n",
    "print(colored('\\nSubgrupo PROJECTION_PARAMETERS visto como diccionario:', 'blue'))\n",
    "print(subgrupo)\n",
    "\n",
    "prj_params = pd.Series(subgrupo)\n",
    "print(colored('\\nSubgrupo PROJECTION_PARAMETERS visto como estructura Pandas Series:', 'blue'))\n",
    "print(prj_params)"
   ]
  },
  {
   "cell_type": "markdown",
   "metadata": {},
   "source": [
    "# 1.3. Los archivos XML\n",
    "\n",
    "XML quiere decir _Extensible Markup Language_, que se podría traducir como Lenguaje de Marcas Extensibles; lo cual, si no conocemos de antes este tipo de archivos, no nos dice mucho.\n",
    "\n",
    "Los archivos XML se componen de etiquetas o marcadores que nos aportan información de distinto tipo. Estas etiquetas o marcadores a su vez pueden estar anidados en varios niveles, dando una idea de jerarquía. Esto es muy util a la hora de organizar y compartir la información.\n",
    "\n",
    "Un ejemplo muy simple de estructura XML sería la siguiente:\n",
    "```xml\n",
    "<?xml version=\"1.0\" encoding=\"UTF-8\"?>\n",
    "   <note>\n",
    "       <to>Tove</to>\n",
    "       <from>Jani</from>\n",
    "       <heading>Reminder</heading>\n",
    "       <body>Don't forget me this weekend!</body>\n",
    "   </note>\n",
    "```\n",
    "\n",
    "Al inicio de un archivo de este tipo casi siempre encontrarán una primera línea que en inglés se llama _prolog_:\n",
    "```xml\n",
    "<?xml version=\"1.0\" encoding=\"UTF-8\"?>\n",
    "```\n",
    "\n",
    "En esta línea se especifica cuál es la versión de XML que se está usando, y cuál es la codificación de caracteres elegida. Esto es muy importante, sobre todo si dentro del contenido se hará uso de caracteres especiales.\n",
    "\n",
    "Luego se desarrolla el contenido del archivo. Siempre debe existir un único elemento o nodo **raíz** que contiene a los demás. En este caso la raíz es la entrada **note** y sus elementos _hijos_ son los atributos _to , from, heading, body_.\n",
    "\n",
    "Todo elemento de un XML, ya sea un nodo raiz, sub-nodo o atributo simple, debe abrirse y cerrarse explícitamente. Para ello se usan los símbolos **<>** y **<\\/>** respectivamente. En nuestro ejemplo, abrimos el nodo raíz con **```<note>```** y lo cerramos con **```</note>```**. De manera similar se hace con el resto de los atributos.\n",
    "\n",
    "Más referencias sobre el uso y sintaxis de archivos XML se pueden consultar [aquí](https://www.w3schools.com/xml/xml_syntax.asp). Nosotros no nos dedicaremos a escribir archivos XML en esta clase, sino solo a leerlos."
   ]
  },
  {
   "cell_type": "markdown",
   "metadata": {},
   "source": [
    "Veamos cómo abrir y leer con Python un archivo XML simple; luego veremos cómo hacerlo con ejempos más complejos. En la carpeta _Data_ hemos dejado colgado un archivo que se llama **ejemplo_xml.xml**, que es el mismo del ejemplo mostrado en la celda anterior. Para esto utilizaremos la librería _xml_. Se puede consultar su documentación en el siguiente [enlace](https://docs.python.org/3/library/xml.etree.elementtree.html).\n",
    "\n",
    "**Tip**: Algunos editores de texto avanzados como [Notepad++](https://notepad-plus-plus.org/downloads/) permiten abrir los archivos XML y expandir/contraer los nodos para ver más claramente cómo es la estructura y jerarquía del documento.\n",
    "\n",
    "```python\n",
    "from xml.etree import ElementTree as ET\n",
    "\n",
    "f = open('../data/raw_data/ejemplo_xml.xml')\n",
    "tree = ET.parse(f)\n",
    "root = tree.getroot()\n",
    "\n",
    "# Siempre cerrar el archivo una vez que no lo usamos más\n",
    "f.close()\n",
    "print(root)\n",
    "\n",
    "# Alternativa:\n",
    "# with open('../data/raw_data/ejemplo_xml.xml') as f:\n",
    "#     tree = ET.parse(f)\n",
    "#     root = tree.getroot()\n",
    "\n",
    "# print(root)\n",
    "```"
   ]
  },
  {
   "cell_type": "code",
   "execution_count": 15,
   "metadata": {},
   "outputs": [
    {
     "name": "stdout",
     "output_type": "stream",
     "text": [
      "<Element 'note' at 0x000001BFDBC2BCC0>\n"
     ]
    }
   ],
   "source": [
    "from xml.etree import ElementTree as ET\n",
    "\n",
    "f = open('./raw_data/ejemplo_xml.xml')\n",
    "tree = ET.parse(f)\n",
    "root = tree.getroot()\n",
    "\n",
    "# Siempre cerrar el archivo una vez que no lo usamos más\n",
    "f.close()\n",
    "print(root)"
   ]
  },
  {
   "cell_type": "markdown",
   "metadata": {},
   "source": [
    "Ya tenemos a la raiz del XML \"capturada\" en una variable que hemos llamado _root_. No es exactamento un texto, esta corresponde a un objeto de la clase ```xml.etree.ElementTree.Element```: por eso cuando imprimimos su contenido nos devuelve ```<Element 'note' at 0x7fda0804b6d0>```:\n",
    "\n",
    "```python\n",
    "print(type(root))\n",
    "```"
   ]
  },
  {
   "cell_type": "code",
   "execution_count": 16,
   "metadata": {},
   "outputs": [
    {
     "name": "stdout",
     "output_type": "stream",
     "text": [
      "<class 'xml.etree.ElementTree.Element'>\n"
     ]
    }
   ],
   "source": [
    "print(type(root))"
   ]
  },
  {
   "cell_type": "markdown",
   "metadata": {},
   "source": [
    "Para desmenuzarla un poco más debemos operar con el código:\n",
    "\n",
    "```python\n",
    "for item in root:\n",
    "    print(f'{item.tag}: {item.text}')\n",
    "```"
   ]
  },
  {
   "cell_type": "code",
   "execution_count": 17,
   "metadata": {},
   "outputs": [
    {
     "name": "stdout",
     "output_type": "stream",
     "text": [
      "to: Tove\n",
      "from: Jani\n",
      "heading: Reminder\n",
      "body: Don't forget me this weekend!\n"
     ]
    }
   ],
   "source": [
    "for item in root:\n",
    "    print(f'{item.tag}: {item.text}')"
   ]
  },
  {
   "cell_type": "markdown",
   "metadata": {},
   "source": [
    "Con _.text_ obtenemos como texto el contenido de cada uno de los nodos hijo, así como con _.tag_ podemos obtener el nombre del marcador. Como sabemos que cada uno de ellos no tiene sub-nodos, obtendremos directamente el contenido del atributo. No obstante, pensando en estructuras más anidadas, podríamos identificarlos por su etiqueta y guardar cada uno a una variable para luego trabajar con ellas:\n",
    "\n",
    "```python\n",
    "with open('../data/raw_data/ejemplo_xml_2.xml') as f:\n",
    "    tree = ET.parse(f)\n",
    "\n",
    "    root = tree.getroot()\n",
    "\n",
    "for item in root:\n",
    "    print(f'{item.tag}: {item.attrib[\"name\"]}')\n",
    "```"
   ]
  },
  {
   "cell_type": "code",
   "execution_count": 18,
   "metadata": {},
   "outputs": [
    {
     "name": "stdout",
     "output_type": "stream",
     "text": [
      "country: Liechtenstein\n",
      "country: Singapore\n",
      "country: Panama\n"
     ]
    }
   ],
   "source": [
    "with open('./raw_data/ejemplo_xml_2.xml') as f:\n",
    "    \n",
    "    tree = ET.parse(f)\n",
    "\n",
    "    root = tree.getroot()\n",
    "\n",
    "for item in root:\n",
    "    print(f'{item.tag}: {item.attrib[\"name\"]}')"
   ]
  },
  {
   "cell_type": "markdown",
   "metadata": {},
   "source": [
    "Ahora, vamos a acceder a los nodos hijos del subnodo que corresponde a Panamá y extraer sus valores:\n",
    "\n",
    "```python\n",
    "panama_vals = list()\n",
    "\n",
    "for item in root:\n",
    "    if item.attrib['name'] == 'Panama':\n",
    "        for subitem in item:\n",
    "            print(f'{subitem.tag}: {subitem.text}')\n",
    "            panama_vals.append(subitem.text)\n",
    "\n",
    "print(panama_vals)\n",
    "# Alternativamente, podemos usar compresión de listas,\n",
    "# aunque, esto no es muy legible:\n",
    "panama_vals = [subitem.text for subitem in item for item in root if item.attrib['name'] == 'Panama']\n",
    "print(panama_vals)\n",
    "```"
   ]
  },
  {
   "cell_type": "code",
   "execution_count": 19,
   "metadata": {},
   "outputs": [
    {
     "name": "stdout",
     "output_type": "stream",
     "text": [
      "rank: 68\n",
      "year: 2011\n",
      "gdppc: 13600\n",
      "neighbor: None\n",
      "neighbor: None\n",
      "['68', '2011', '13600', None, None]\n",
      "['68', '2011', '13600', None, None]\n"
     ]
    }
   ],
   "source": [
    "panama_vals = list()\n",
    "\n",
    "for item in root:\n",
    "    if item.attrib['name'] == 'Panama':\n",
    "        for subitem in item:\n",
    "            print(f'{subitem.tag}: {subitem.text}')\n",
    "            panama_vals.append(subitem.text)\n",
    "\n",
    "print(panama_vals)\n",
    "# Alternativamente, podemos usar compresión de listas,\n",
    "# aunque, esto no es muy legible:\n",
    "panama_vals = [subitem.text for subitem in item for item in root if item.attrib['name'] == 'Panama']\n",
    "print(panama_vals)"
   ]
  },
  {
   "cell_type": "markdown",
   "metadata": {},
   "source": [
    "### Ejercicio 1.1 (opcional):\n",
    "Leer el archivo _/data/raw_data/ejemplo_xml_2.xml_ como un diccionario de datos que contenga 3 keys. Cada key va a ser el nombre del país y cada valor de esa key va a ser un dicionario con la llave:valor de los tags rank, year y gdppc, como se muestra a continuación:\n",
    "\n",
    "```\n",
    "{'Liechtenstein': {'rank': '1', 'year': '2008', 'gdppc': '141100'}, 'Singapore': {'rank': '4', 'year': '2011', 'gdppc': '59900'}, 'Panama': {'rank': '68', 'year': '2011', 'gdppc': '13600'}}\n",
    "```"
   ]
  },
  {
   "cell_type": "code",
   "execution_count": 46,
   "metadata": {},
   "outputs": [
    {
     "name": "stdout",
     "output_type": "stream",
     "text": [
      "{'Liechtenstein': {'rank': '1', 'year': '2008', 'gdppc': '141100'}, 'Singapore': {'rank': '4', 'year': '2011', 'gdppc': '59900'}, 'Panama': {'rank': '68', 'year': '2011', 'gdppc': '13600'}}\n"
     ]
    }
   ],
   "source": [
    "# Ejercicio resuelto\n",
    "# Versión 1\n",
    "xml = ET.parse(\"./raw_data/ejemplo_xml_2.xml\")\n",
    "\n",
    "root_element = xml.getroot()\n",
    "\n",
    "diccionario = {}\n",
    "\n",
    "for child in root_element:\n",
    "\n",
    "    diccionario[child.attrib[\"name\"]] = {}\n",
    "\n",
    "    for subchild in child:\n",
    "\n",
    "        if subchild.text:\n",
    "\n",
    "            diccionario[child.attrib[\"name\"]][subchild.tag] = subchild.text\n",
    "\n",
    "print(diccionario)"
   ]
  },
  {
   "cell_type": "code",
   "execution_count": 48,
   "metadata": {},
   "outputs": [
    {
     "name": "stdout",
     "output_type": "stream",
     "text": [
      "{'Liechtenstein': {'rank': '1', 'year': '2008', 'gdppc': '141100'}, 'Singapore': {'rank': '4', 'year': '2011', 'gdppc': '59900'}, 'Panama': {'rank': '68', 'year': '2011', 'gdppc': '13600'}}\n"
     ]
    }
   ],
   "source": [
    "import xml.etree.ElementTree as ET\n",
    "\n",
    "tree = ET.parse(\"./raw_data/ejemplo_xml_2.xml\")\n",
    "root = tree.getroot()\n",
    "\n",
    "diccionario = {\n",
    "    child.attrib.get(\"name\"): {\n",
    "        sub.tag: sub.text for sub in child if sub.text\n",
    "    }\n",
    "    for child in root if \"name\" in child.attrib\n",
    "}\n",
    "\n",
    "print(diccionario)"
   ]
  },
  {
   "cell_type": "markdown",
   "metadata": {},
   "source": [
    "# 1.3. Los archivos JSON\n",
    "\n",
    "El formato de archivos JSON (JavaScript Object Notation), se utiliza ampliamente para estructurar datos y permitir su intercambio principalmente con plataformas web. Es utilizado por diversas API (Application Programming Interface) que suministran datos geoespaciales. Un ejemplo claro lo podemos consultar en la documentación de la API de [AppEEARS](https://appeears.earthdatacloud.nasa.gov/api/?python#formatting), la cual permite la descarga de diversos productos MODIS.\n",
    "\n",
    "Estos archivos son basados en texto, es decir que se pueden leer y escribir con cualquier editor que tengamos definiendo su extensión como `.json`, sin embargo, debemos tener en cuenta que a diferencia de python, los _strings_ que definamos deben ir encerrados en comillas dobles(`\"`), json no admite comilla simple (`'`). En python, su manejo es muy similar a los diccionarios por lo que permite almacenar diferentes tipos de estructuras básicas como las que ya hemos visto y su lectura/escritura se realiza mediante la librería [json](https://docs.python.org/3/library/json.html). Veamos un ejemplo:\n",
    "\n",
    "```python\n",
    "import json\n",
    "\n",
    "# Cargamos el archivo point_example.json que se encuentra en nuestra carpeta ../data/raw_data\n",
    "\n",
    "with open('../data/raw_data/point_example.json') as src:\n",
    "    data = json.load(src)\n",
    "\n",
    "print(data)\n",
    "```"
   ]
  },
  {
   "cell_type": "code",
   "execution_count": 51,
   "metadata": {},
   "outputs": [
    {
     "name": "stdout",
     "output_type": "stream",
     "text": [
      "{'params': {'dates': [{'endDate': '01-01-2020', 'recurring': False, 'startDate': '01-01-2015', 'yearRange': [2005, 2015]}], 'layers': [{'layer': '_500m_16_days_EVI', 'product': 'MOD13A1.061'}, {'layer': 'LST_Day_1km', 'product': 'MOD11A1.061'}], 'output': {'format': {'type': 'geotiff'}}, 'coordinates': [{'id': '100', 'category': 'category1', 'latitude': 34.4544983, 'longitude': -119.8659973}, {'id': '101', 'category': 'category2', 'latitude': 34.4714012, 'longitude': -119.9179993}, {'id': '102', 'category': 'category1', 'latitude': 34.4856987, 'longitude': -119.9169998}, {'id': '103', 'category': 'category2', 'latitude': 34.4805984, 'longitude': -119.9000015}, {'id': '104', 'category': 'category1', 'latitude': 34.4976006, 'longitude': -119.9229965}, {'id': '105', 'category': 'category2', 'latitude': 34.4842987, 'longitude': -119.8669968}]}, 'task_name': 'Point Example', 'task_type': 'point'}\n"
     ]
    }
   ],
   "source": [
    "import json\n",
    "\n",
    "# Cargamos el archivo point_example.json que se encuentra en nuestra carpeta ../data/raw_data\n",
    "\n",
    "with open('./raw_data/point_example.json') as src:\n",
    "    data = json.load(src)\n",
    "\n",
    "print(data)"
   ]
  },
  {
   "cell_type": "markdown",
   "metadata": {},
   "source": [
    "Adicionalmente, es posible que al realizar una consulta web o leer un archivo, tengamos nuestro objeto como un string. En este caso es posible convertirlo a json de la siguiente manera:\n",
    "\n",
    "```python\n",
    "response = '''{\"SRTMGL1_DEM\": {\"AddOffset\": \"\", \"Available\": true, \"DataType\": \"int16\", \"Description\": \"Elevation\", \"Dimensions\": [\"time\", \"lat\", \"lon\"], \"FillValue\": -32768, \"IsQA\": false, \"Layer\": \"SRTMGL1_DEM\", \"OrigDataType\": \"int16\", \"OrigValidMax\": 32767, \"OrigValidMin\": -32767, \"QualityLayers\": \"['SRTMGL1_NUM']\", \"QualityProductAndVersion\": \"SRTMGL1_NUMNC.003\", \"ScaleFactor\": \"\", \"Units\": \"Meters\", \"ValidMax\": 32767, \"ValidMin\": -32767, \"XSize\": 3601, \"YSize\": 3601}}'''\n",
    "\n",
    "response = json.loads(response)\n",
    "```"
   ]
  },
  {
   "cell_type": "code",
   "execution_count": 53,
   "metadata": {},
   "outputs": [
    {
     "name": "stdout",
     "output_type": "stream",
     "text": [
      "{'SRTMGL1_DEM': {'AddOffset': '', 'Available': True, 'DataType': 'int16', 'Description': 'Elevation', 'Dimensions': ['time', 'lat', 'lon'], 'FillValue': -32768, 'IsQA': False, 'Layer': 'SRTMGL1_DEM', 'OrigDataType': 'int16', 'OrigValidMax': 32767, 'OrigValidMin': -32767, 'QualityLayers': \"['SRTMGL1_NUM']\", 'QualityProductAndVersion': 'SRTMGL1_NUMNC.003', 'ScaleFactor': '', 'Units': 'Meters', 'ValidMax': 32767, 'ValidMin': -32767, 'XSize': 3601, 'YSize': 3601}}\n"
     ]
    }
   ],
   "source": [
    "response = '''{\"SRTMGL1_DEM\": {\"AddOffset\": \"\", \"Available\": true, \"DataType\": \"int16\", \"Description\": \"Elevation\", \"Dimensions\": [\"time\", \"lat\", \"lon\"], \"FillValue\": -32768, \"IsQA\": false, \"Layer\": \"SRTMGL1_DEM\", \"OrigDataType\": \"int16\", \"OrigValidMax\": 32767, \"OrigValidMin\": -32767, \"QualityLayers\": \"['SRTMGL1_NUM']\", \"QualityProductAndVersion\": \"SRTMGL1_NUMNC.003\", \"ScaleFactor\": \"\", \"Units\": \"Meters\", \"ValidMax\": 32767, \"ValidMin\": -32767, \"XSize\": 3601, \"YSize\": 3601}}'''\n",
    "\n",
    "response = json.loads(response)\n",
    "\n",
    "print(response)"
   ]
  },
  {
   "cell_type": "markdown",
   "metadata": {},
   "source": [
    "Finalmente, es posible guardar nuestro objeto haciendo uso de la función `dump` de la librería, para lo cual necesitamos crear un archivo y volcar la información en el:\n",
    "\n",
    "```python\n",
    "with open('../data/out/respuesta_json.json', 'w') as dst:\n",
    "    json.dump(response, dst, indent=4)\n",
    "\n",
    "```\n"
   ]
  },
  {
   "cell_type": "code",
   "execution_count": 55,
   "metadata": {},
   "outputs": [],
   "source": [
    "folder = './out'\n",
    "file_path = os.path.join(folder, 'respuesta_json.json')\n",
    "\n",
    "if not os.path.exists(folder):\n",
    "    os.makedirs(folder)\n",
    "\n",
    "with open(file_path, 'w') as dst:\n",
    "    json.dump(response, dst, indent=4)"
   ]
  },
  {
   "cell_type": "markdown",
   "metadata": {},
   "source": [
    "Para conocer más sobre este formato, puede consultar el siguiente [enlace](https://realpython.com/python-json/)."
   ]
  },
  {
   "attachments": {
    "68c9ee41-2d69-4a4c-9bab-26875b17fc69.png": {
     "image/png": "[encoded data removed]"
    }
   },
   "cell_type": "markdown",
   "metadata": {},
   "source": [
    "# 2. Funciones\n",
    "Las funciones en un lenguaje de programación, son partes de código que encapsulan un conjunto de instrucciones, facilitando su uso y permitiendo su reutilización, tanto a lo largo del nuestro programa, como por programas externos. Las funciones se componen de las siguientes partes:\n",
    "\n",
    "![funcion.png](attachment:68c9ee41-2d69-4a4c-9bab-26875b17fc69.png)\n",
    "\n",
    "```python\n",
    "def suma(a, b):\n",
    "    '''\n",
    "    Esta función devuelve la suma de dos números enteros a y b\n",
    "\n",
    "    parámetros:\n",
    "    a = número entero\n",
    "    b = número entero\n",
    "\n",
    "    retorna:\n",
    "    suma de a y b\n",
    "    '''\n",
    "\n",
    "    if isinstance(a, int) and isinstance(b, int):\n",
    "        res = a + b\n",
    "    else:\n",
    "        res = None\n",
    "        print(colored(f'\\n{a} y {b} deben ser números enteros.', 'red'))\n",
    "\n",
    "    return res\n",
    "```"
   ]
  },
  {
   "cell_type": "code",
   "execution_count": 56,
   "metadata": {},
   "outputs": [],
   "source": [
    "def suma(a, b):\n",
    "    '''\n",
    "    Esta función devuelve la suma de dos números enteros a y b\n",
    "\n",
    "    parámetros:\n",
    "    a = número entero\n",
    "    b = número entero\n",
    "\n",
    "    retorna:\n",
    "    suma de a y b\n",
    "    '''\n",
    "\n",
    "    if isinstance(a, int) and isinstance(b, int):\n",
    "        res = a + b\n",
    "    else:\n",
    "        res = None\n",
    "        print(colored(f'\\n{a} y {b} deben ser números enteros.', 'red'))\n",
    "\n",
    "    return res"
   ]
  },
  {
   "cell_type": "markdown",
   "metadata": {},
   "source": [
    "## Cómo llamamos una función?\n",
    "\n",
    "Una función se llama mediante su nombre seguido por paréntesis y, adentro de ellos, los parámetros necesarios para su ejecución:\n",
    "\n",
    "```python\n",
    "v1 = 5\n",
    "v2 = -10\n",
    "print(colored(f'La suma de {v1} y {v2} es: ', 'blue'), suma(v1, v2))\n",
    "\n",
    "v1 = '5'\n",
    "v2 = -10\n",
    "print(colored(f'La suma de \"{v1}\" y {v2} es: ', 'blue'), suma(v1, v2))\n",
    "```"
   ]
  },
  {
   "cell_type": "code",
   "execution_count": 57,
   "metadata": {},
   "outputs": [
    {
     "name": "stdout",
     "output_type": "stream",
     "text": [
      "\u001b[34mLa suma de 5 y -10 es: \u001b[0m -5\n",
      "\u001b[31m\n",
      "5 y -10 deben ser números enteros.\u001b[0m\n",
      "\u001b[34mLa suma de \"5\" y -10 es: \u001b[0m None\n"
     ]
    }
   ],
   "source": [
    "v1 = 5\n",
    "v2 = -10\n",
    "print(colored(f'La suma de {v1} y {v2} es: ', 'blue'), suma(v1, v2))\n",
    "\n",
    "v1 = '5'\n",
    "v2 = -10\n",
    "print(colored(f'La suma de \"{v1}\" y {v2} es: ', 'blue'), suma(v1, v2))"
   ]
  },
  {
   "cell_type": "markdown",
   "metadata": {},
   "source": [
    "Una función puede tener además parámetros predefinidos que pueden o no ser establecidos cuando se realiza una llamada a la misma, por ejemplo:\n",
    "\n",
    "```python\n",
    "def raiz(a, b=2):\n",
    "    '''\n",
    "    Esta función devuelve la raiz b de un número entero a positivo.\n",
    "    En caso de no definirse un valor para b, tomará por defecto 2.\n",
    "\n",
    "    parámetros:\n",
    "    a = número entero positivo\n",
    "    b = número entero\n",
    "\n",
    "    retorna:\n",
    "    raiz b de a\n",
    "    '''\n",
    "\n",
    "    if isinstance(a, int) and isinstance(b, int) and a>=0:\n",
    "        res = a**(1/b)\n",
    "    elif isinstance(a, int) and a < 0:\n",
    "        res = None\n",
    "        print(colored(f'\\n{a} debe ser un entero positivo.', 'red'))\n",
    "    else:\n",
    "        res = None\n",
    "        print(colored(f'\\n{a} y {b} deben ser números enteros.', 'red'))\n",
    "\n",
    "    return res\n",
    "```"
   ]
  },
  {
   "cell_type": "code",
   "execution_count": 58,
   "metadata": {},
   "outputs": [],
   "source": [
    "def raiz(a, b=2):\n",
    "    '''\n",
    "    Esta función devuelve la raiz b de un número entero a positivo.\n",
    "    En caso de no definirse un valor para b, tomará por defecto 2.\n",
    "\n",
    "    parámetros:\n",
    "    a = número entero positivo\n",
    "    b = número entero\n",
    "\n",
    "    retorna:\n",
    "    raiz b de a\n",
    "    '''\n",
    "\n",
    "    if isinstance(a, int) and isinstance(b, int) and a>=0:\n",
    "        res = a**(1/b)\n",
    "    elif isinstance(a, int) and a < 0:\n",
    "        res = None\n",
    "        print(colored(f'\\n{a} debe ser un entero positivo.', 'red'))\n",
    "    else:\n",
    "        res = None\n",
    "        print(colored(f'\\n{a} y {b} deben ser números enteros.', 'red'))\n",
    "\n",
    "    return res"
   ]
  },
  {
   "cell_type": "markdown",
   "metadata": {},
   "source": [
    "En el caso anterior, dado que b tiene por defecto valor 2, si necesitamos calcular una raíz cuadrada, no sería necesario definirlo:\n",
    "\n",
    "```python\n",
    "print(raiz(16))\n",
    "print(raiz(-125, 3))\n",
    "```"
   ]
  },
  {
   "cell_type": "code",
   "execution_count": 59,
   "metadata": {},
   "outputs": [
    {
     "name": "stdout",
     "output_type": "stream",
     "text": [
      "4.0\n",
      "\u001b[31m\n",
      "-125 debe ser un entero positivo.\u001b[0m\n",
      "None\n"
     ]
    }
   ],
   "source": [
    "print(raiz(16))\n",
    "print(raiz(-125, 3))"
   ]
  },
  {
   "cell_type": "markdown",
   "metadata": {},
   "source": [
    "Hasta ahora vimos como llamar funciones que creamos en el archivo que estamos trabajando, pero también es posible llamar funciones creadas en otros archivos. Las podemos importar a nuestro _script_ llamándolas como si fueran librerías. Veamos esto siguiendo los pasos a continuación:\n",
    "\n",
    "- Crear un archivo llamado _funciones.py_ en nuestra carpeta _Clase01_. \n",
    "- Copiar las siguientes líneas en el encabezado del mismo:\n",
    "\n",
    "```python\n",
    "#!/usr/bin/env python3\n",
    "# -*- coding: utf-8 -*-\n",
    "# ----------------------------------------------------------------------------\n",
    "# Created By  :\n",
    "# Created Date:\n",
    "```\n",
    "- Copiar la función _raiz_ creada anteriormente. Guardamos el archivo.\n",
    "- Crear una celda en este documento, copiar lo siguiente y ejecutarla:\n",
    "\n",
    "```python\n",
    "import funciones as fn\n",
    "```\n",
    "\n",
    "- Ejecutar el siguiente comando en una nueva celda en esta _notebook_:\n",
    "\n",
    "```python\n",
    "help(fn.raiz)\n",
    "```\n",
    "\n",
    "- Calcular la raiz cuadrada de 256 como:\n",
    "\n",
    "```python\n",
    "print(fn.raiz(256))\n",
    "```\n",
    "\n",
    "Una forma alternativa sería:\n",
    "\n",
    "```python\n",
    "from funciones import raiz\n",
    "\n",
    "print(raiz(256))\n",
    "```\n"
   ]
  },
  {
   "cell_type": "code",
   "execution_count": 60,
   "metadata": {},
   "outputs": [],
   "source": [
    "import funciones as fn"
   ]
  },
  {
   "cell_type": "code",
   "execution_count": 61,
   "metadata": {},
   "outputs": [
    {
     "name": "stdout",
     "output_type": "stream",
     "text": [
      "Help on function raiz in module funciones:\n",
      "\n",
      "raiz(a, b=2)\n",
      "    Esta función devuelve la raiz b de un número entero a positivo.\n",
      "    En caso de no definirse un valor para b, tomará por defecto 2.\n",
      "    \n",
      "    parámetros:\n",
      "    a = número entero positivo\n",
      "    b = número entero\n",
      "    \n",
      "    retorna:\n",
      "    raiz b de a\n",
      "\n"
     ]
    }
   ],
   "source": [
    "help(fn.raiz)"
   ]
  },
  {
   "cell_type": "code",
   "execution_count": 62,
   "metadata": {},
   "outputs": [
    {
     "name": "stdout",
     "output_type": "stream",
     "text": [
      "16.0\n"
     ]
    }
   ],
   "source": [
    "print(fn.raiz(256))"
   ]
  },
  {
   "cell_type": "code",
   "execution_count": 63,
   "metadata": {},
   "outputs": [
    {
     "name": "stdout",
     "output_type": "stream",
     "text": [
      "16.0\n"
     ]
    }
   ],
   "source": [
    "from funciones import raiz\n",
    "\n",
    "print(raiz(256))"
   ]
  },
  {
   "cell_type": "code",
   "execution_count": 64,
   "metadata": {},
   "outputs": [
    {
     "name": "stdout",
     "output_type": "stream",
     "text": [
      "16.0\n"
     ]
    }
   ],
   "source": [
    "# Adicional\n",
    "from funciones import *\n",
    "\n",
    "print(raiz(256))"
   ]
  },
  {
   "cell_type": "markdown",
   "metadata": {},
   "source": [
    "También es posible mover el archivo a una ruta diferente, pero en este caso deberíamos adicionar la ruta al listado de directorios de nuestro intérprete. Vamos a mover nuestro script _funciones.py_ al directorio raíz de las clases. Posteriormente, ejecutaremos las siguientes instrucciones:\n",
    "\n",
    "- Crear una nueva celda y adicionar nuestra ruta al listado de directorios con la siguiente instrucción:\n",
    "\n",
    "```python\n",
    "import sys\n",
    "sys.path.append('../')\n",
    "```\n",
    "- Importar nuestra librería y calcular la raíz cuadrada de 256:\n",
    "\n",
    "```python\n",
    "from funciones import raiz\n",
    "\n",
    "print(raiz(256))\n",
    "```\n",
    "Este archivo lo deberán guardar y en el, escribir todas las funciones que se vayan creando a lo largo del curso, dado que las mismas serán utilizadas en clases posteriores."
   ]
  },
  {
   "cell_type": "code",
   "execution_count": 65,
   "metadata": {},
   "outputs": [
    {
     "name": "stdout",
     "output_type": "stream",
     "text": [
      "16.0\n"
     ]
    }
   ],
   "source": [
    "from funciones import raiz\n",
    "\n",
    "print(raiz(256))"
   ]
  },
  {
   "cell_type": "markdown",
   "metadata": {},
   "source": [
    "### Ejercicio 2.1:\n",
    "\n",
    "En el caso anterior, realizamos una función que dados dos valores enteros retorna su suma o una que calcula una raíz dada de un número. Estas funciones, como vimos podrían ser utilizadas a lo largo de un programa siempre que se quiera realizar la misma operación. Claramente, para una operación tan sencilla no resulta adecuado generar una función, pero en casos como la lectura de un archivo como los que vimos anteriormente, podría resultar de utilidad. Tomemos el código que lee los metadatos de nuestra imagen Landsat 8 y lo convertimos en una función llamada _read_l8_metadata()_ que retorne los parámetros del grupo _MIN_MAX_REFLECTANCE_ como objeto _pandas.Series_."
   ]
  },
  {
   "cell_type": "code",
   "execution_count": 72,
   "metadata": {},
   "outputs": [],
   "source": [
    "def read_l8_metadata(filepath):\n",
    "    \n",
    "    with open(filepath, \"r\") as f:\n",
    "        \n",
    "        archi = [line.strip() for line in f if line.strip()]\n",
    "\n",
    "    group1 = archi[0].split(\" = \")[1]\n",
    "    diccionario = {group1: {}}\n",
    "\n",
    "    subgrupo = None\n",
    "    \n",
    "    for i in archi[1:]:\n",
    "        \n",
    "        if \" = \" not in i:\n",
    "            \n",
    "            continue\n",
    "            \n",
    "        key, val = i.split(' = ', 1)\n",
    "        \n",
    "        val = val.replace('\"', '')\n",
    "        \n",
    "        if key == \"GROUP\":\n",
    "            \n",
    "            subgrupo = val\n",
    "            \n",
    "            diccionario[group1][subgrupo] = {}\n",
    "            \n",
    "        elif key == \"END_GROUP\":\n",
    "            \n",
    "            subgrupo = None\n",
    "            \n",
    "        else:\n",
    "            \n",
    "            if subgrupo:\n",
    "                \n",
    "                diccionario[group1][subgrupo][key] = val\n",
    "\n",
    "    min_max_reflectance = diccionario[group1].get(\"MIN_MAX_REFLECTANCE\", {})\n",
    "    \n",
    "    for k, v in min_max_reflectance.items():\n",
    "        \n",
    "        try:\n",
    "            \n",
    "            if '.' in v or 'E' in v.upper():\n",
    "                \n",
    "                min_max_reflectance[k] = float(v)\n",
    "                \n",
    "            else:\n",
    "                \n",
    "                min_max_reflectance[k] = int(v)\n",
    "                \n",
    "        except ValueError:\n",
    "            \n",
    "            pass\n",
    "\n",
    "    return pd.Series(min_max_reflectance)   "
   ]
  },
  {
   "cell_type": "code",
   "execution_count": 73,
   "metadata": {},
   "outputs": [
    {
     "name": "stdout",
     "output_type": "stream",
     "text": [
      "REFLECTANCE_MAXIMUM_BAND_1    1.21070\n",
      "REFLECTANCE_MINIMUM_BAND_1   -0.09998\n",
      "REFLECTANCE_MAXIMUM_BAND_2    1.21070\n",
      "REFLECTANCE_MINIMUM_BAND_2   -0.09998\n",
      "REFLECTANCE_MAXIMUM_BAND_3    1.21070\n",
      "REFLECTANCE_MINIMUM_BAND_3   -0.09998\n",
      "REFLECTANCE_MAXIMUM_BAND_4    1.21070\n",
      "REFLECTANCE_MINIMUM_BAND_4   -0.09998\n",
      "REFLECTANCE_MAXIMUM_BAND_5    1.21070\n",
      "REFLECTANCE_MINIMUM_BAND_5   -0.09998\n",
      "REFLECTANCE_MAXIMUM_BAND_6    1.21070\n",
      "REFLECTANCE_MINIMUM_BAND_6   -0.09998\n",
      "REFLECTANCE_MAXIMUM_BAND_7    1.21070\n",
      "REFLECTANCE_MINIMUM_BAND_7   -0.09998\n",
      "REFLECTANCE_MAXIMUM_BAND_8    1.21070\n",
      "REFLECTANCE_MINIMUM_BAND_8   -0.09998\n",
      "REFLECTANCE_MAXIMUM_BAND_9    1.21070\n",
      "REFLECTANCE_MINIMUM_BAND_9   -0.09998\n",
      "dtype: float64\n"
     ]
    }
   ],
   "source": [
    "ruta = \"./raw_data/\"\n",
    "filename = f'{ruta}LC08_L1TP_226084_20200313_20200314_01_RT_MTL.txt'\n",
    "\n",
    "print(read_l8_metadata(filename))"
   ]
  },
  {
   "cell_type": "markdown",
   "metadata": {},
   "source": [
    "### Ejercicio 2.2 (opcional):\n",
    "\n",
    "Modifique la función anterior para que el grupo sea una entrada de la misma, de este modo, la función deberá retornar un objeto pandas.Series con los elementos del grupo dado como entrada."
   ]
  },
  {
   "cell_type": "code",
   "execution_count": 78,
   "metadata": {},
   "outputs": [],
   "source": [
    "import pandas as pd\n",
    "\n",
    "def read_l8_group_metadata(filepath, group_name=\"MIN_MAX_REFLECTANCE\"):\n",
    "    \n",
    "    with open(filepath, \"r\") as f:\n",
    "        archi = [line.strip() for line in f if line.strip()]\n",
    "    \n",
    "    group1 = archi[0].split(' = ')[1]\n",
    "    diccionario = {group1: {}}\n",
    "    \n",
    "    subgrupo = None\n",
    "    \n",
    "    for i in archi[1:]:\n",
    "        if \" = \" not in i:\n",
    "            continue\n",
    "        key, val = i.split(' = ', 1)\n",
    "        val = val.replace('\"', '')\n",
    "\n",
    "        if key == \"GROUP\":\n",
    "            subgrupo = val\n",
    "            diccionario[group1][subgrupo] = {}\n",
    "        elif key == \"END_GROUP\":\n",
    "            subgrupo = None\n",
    "        else:\n",
    "            if subgrupo:\n",
    "                diccionario[group1][subgrupo][key] = val\n",
    "    \n",
    "    grupo_dict = diccionario[group1].get(group_name)\n",
    "    \n",
    "    if grupo_dict is None:\n",
    "        \n",
    "        raise ValueError(f\"Grupo '{group_name}' no encontrado en el archivo.\")\n",
    "\n",
    "    for k, v in grupo_dict.items():\n",
    "        try:\n",
    "            if \".\" in v or \"E\" in v.upper():\n",
    "                grupo_dict[k] = float(v)\n",
    "            else:\n",
    "                grupo_dict[k] = int(v)\n",
    "        except ValueError:\n",
    "            pass\n",
    "\n",
    "    return pd.Series(grupo_dict)"
   ]
  },
  {
   "cell_type": "code",
   "execution_count": 79,
   "metadata": {},
   "outputs": [
    {
     "name": "stdout",
     "output_type": "stream",
     "text": [
      "K1_CONSTANT_BAND_10     774.8853\n",
      "K2_CONSTANT_BAND_10    1321.0789\n",
      "K1_CONSTANT_BAND_11     480.8883\n",
      "K2_CONSTANT_BAND_11    1201.1442\n",
      "dtype: float64\n"
     ]
    }
   ],
   "source": [
    "ruta = \"./raw_data/\"\n",
    "filename = f'{ruta}LC08_L1TP_226084_20200313_20200314_01_RT_MTL.txt'\n",
    "\n",
    "print(read_l8_group_metadata(filename, \"TIRS_THERMAL_CONSTANTS\"))"
   ]
  },
  {
   "cell_type": "markdown",
   "metadata": {},
   "source": [
    "### Ejercicio 2.3 (opcional):\n",
    "\n",
    "Modifique la función anterior para que dada una lista, la función retorne los diccionarios de los subgrupos de esa lista.\n"
   ]
  },
  {
   "cell_type": "code",
   "execution_count": 82,
   "metadata": {},
   "outputs": [],
   "source": [
    "def read_l8_groups_metadata(filepath, groups):\n",
    "   \n",
    "    with open(filepath, \"r\") as f:\n",
    "        archi = [line.strip() for line in f if line.strip()]\n",
    "    \n",
    "    group1 = archi[0].split(' = ')[1]\n",
    "    diccionario = {group1: {}}\n",
    "\n",
    "    subgrupo = None\n",
    "    for i in archi[1:]:\n",
    "        if \" = \" not in i:\n",
    "            continue\n",
    "        key, val = i.split(\" = \", 1)\n",
    "        val = val.replace('\"', '')\n",
    "\n",
    "        if key == \"GROUP\":\n",
    "            subgrupo = val\n",
    "            diccionario[group1][subgrupo] = {}\n",
    "        elif key == \"END_GROUP\":\n",
    "            subgrupo = None\n",
    "        else:\n",
    "            if subgrupo:\n",
    "                diccionario[group1][subgrupo][key] = val\n",
    "\n",
    "    resultado = {}\n",
    "    for g in groups:\n",
    "        if g in diccionario[group1]:\n",
    "            resultado[g] = diccionario[group1][g]\n",
    "    \n",
    "    return resultado"
   ]
  },
  {
   "cell_type": "code",
   "execution_count": 84,
   "metadata": {},
   "outputs": [
    {
     "name": "stdout",
     "output_type": "stream",
     "text": [
      "{'MIN_MAX_REFLECTANCE': {'REFLECTANCE_MAXIMUM_BAND_1': '1.210700', 'REFLECTANCE_MINIMUM_BAND_1': '-0.099980', 'REFLECTANCE_MAXIMUM_BAND_2': '1.210700', 'REFLECTANCE_MINIMUM_BAND_2': '-0.099980', 'REFLECTANCE_MAXIMUM_BAND_3': '1.210700', 'REFLECTANCE_MINIMUM_BAND_3': '-0.099980', 'REFLECTANCE_MAXIMUM_BAND_4': '1.210700', 'REFLECTANCE_MINIMUM_BAND_4': '-0.099980', 'REFLECTANCE_MAXIMUM_BAND_5': '1.210700', 'REFLECTANCE_MINIMUM_BAND_5': '-0.099980', 'REFLECTANCE_MAXIMUM_BAND_6': '1.210700', 'REFLECTANCE_MINIMUM_BAND_6': '-0.099980', 'REFLECTANCE_MAXIMUM_BAND_7': '1.210700', 'REFLECTANCE_MINIMUM_BAND_7': '-0.099980', 'REFLECTANCE_MAXIMUM_BAND_8': '1.210700', 'REFLECTANCE_MINIMUM_BAND_8': '-0.099980', 'REFLECTANCE_MAXIMUM_BAND_9': '1.210700', 'REFLECTANCE_MINIMUM_BAND_9': '-0.099980'}, 'PRODUCT_METADATA': {'DATA_TYPE': 'L1TP', 'COLLECTION_CATEGORY': 'RT', 'ELEVATION_SOURCE': 'GLS2000', 'OUTPUT_FORMAT': 'GEOTIFF', 'SPACECRAFT_ID': 'LANDSAT_8', 'SENSOR_ID': 'OLI_TIRS', 'WRS_PATH': '226', 'WRS_ROW': '84', 'NADIR_OFFNADIR': 'NADIR', 'TARGET_WRS_PATH': '226', 'TARGET_WRS_ROW': '84', 'DATE_ACQUIRED': '2020-03-13', 'SCENE_CENTER_TIME': '13:50:41.0900869Z', 'CORNER_UL_LAT_PRODUCT': '-33.56016', 'CORNER_UL_LON_PRODUCT': '-61.57366', 'CORNER_UR_LAT_PRODUCT': '-33.50460', 'CORNER_UR_LON_PRODUCT': '-59.02733', 'CORNER_LL_LAT_PRODUCT': '-35.71026', 'CORNER_LL_LON_PRODUCT': '-61.53636', 'CORNER_LR_LAT_PRODUCT': '-35.65010', 'CORNER_LR_LON_PRODUCT': '-58.92374', 'CORNER_UL_PROJECTION_X_PRODUCT': '632400.000', 'CORNER_UL_PROJECTION_Y_PRODUCT': '-3714300.000', 'CORNER_UR_PROJECTION_X_PRODUCT': '869100.000', 'CORNER_UR_PROJECTION_Y_PRODUCT': '-3714300.000', 'CORNER_LL_PROJECTION_X_PRODUCT': '632400.000', 'CORNER_LL_PROJECTION_Y_PRODUCT': '-3952800.000', 'CORNER_LR_PROJECTION_X_PRODUCT': '869100.000', 'CORNER_LR_PROJECTION_Y_PRODUCT': '-3952800.000', 'PANCHROMATIC_LINES': '15901', 'PANCHROMATIC_SAMPLES': '15781', 'REFLECTIVE_LINES': '7951', 'REFLECTIVE_SAMPLES': '7891', 'THERMAL_LINES': '7951', 'THERMAL_SAMPLES': '7891', 'FILE_NAME_BAND_1': 'LC08_L1TP_226084_20200313_20200314_01_RT_B1.TIF', 'FILE_NAME_BAND_2': 'LC08_L1TP_226084_20200313_20200314_01_RT_B2.TIF', 'FILE_NAME_BAND_3': 'LC08_L1TP_226084_20200313_20200314_01_RT_B3.TIF', 'FILE_NAME_BAND_4': 'LC08_L1TP_226084_20200313_20200314_01_RT_B4.TIF', 'FILE_NAME_BAND_5': 'LC08_L1TP_226084_20200313_20200314_01_RT_B5.TIF', 'FILE_NAME_BAND_6': 'LC08_L1TP_226084_20200313_20200314_01_RT_B6.TIF', 'FILE_NAME_BAND_7': 'LC08_L1TP_226084_20200313_20200314_01_RT_B7.TIF', 'FILE_NAME_BAND_8': 'LC08_L1TP_226084_20200313_20200314_01_RT_B8.TIF', 'FILE_NAME_BAND_9': 'LC08_L1TP_226084_20200313_20200314_01_RT_B9.TIF', 'FILE_NAME_BAND_10': 'LC08_L1TP_226084_20200313_20200314_01_RT_B10.TIF', 'FILE_NAME_BAND_11': 'LC08_L1TP_226084_20200313_20200314_01_RT_B11.TIF', 'FILE_NAME_BAND_QUALITY': 'LC08_L1TP_226084_20200313_20200314_01_RT_BQA.TIF', 'ANGLE_COEFFICIENT_FILE_NAME': 'LC08_L1TP_226084_20200313_20200314_01_RT_ANG.txt', 'METADATA_FILE_NAME': 'LC08_L1TP_226084_20200313_20200314_01_RT_MTL.txt', 'CPF_NAME': 'LC08CPF_20200101_20200331_01.04', 'BPF_NAME_OLI': 'LO8BPF20200313122531_20200313131635.01', 'BPF_NAME_TIRS': 'LT8BPF20200310034739_20200310060739.01', 'RLUT_FILE_NAME': 'LC08RLUT_20150303_20431231_01_12.h5'}}\n"
     ]
    }
   ],
   "source": [
    "ruta = \"./raw_data/\"\n",
    "filename = f'{ruta}LC08_L1TP_226084_20200313_20200314_01_RT_MTL.txt'\n",
    "\n",
    "grupos = [\"MIN_MAX_REFLECTANCE\", \"PRODUCT_METADATA\"]\n",
    "\n",
    "print(read_l8_groups_metadata(filename, grupos))"
   ]
  },
  {
   "cell_type": "markdown",
   "metadata": {},
   "source": [
    "# 3. Listar archivos\n",
    "\n",
    "Es muy común que al procesar diferentes conjuntos de datos y realizar procesos automáticos sobre ellos, necesitemos realizar listados y extraer cierta información útil para nuestro trabajo. Python ofrece diversas librerías que nos permiten realizar este tipo de procesos, entre las que se encuentran librerías como [_os_](https://docs.python.org/3/library/os.html), [_glob_](https://docs.python.org/3/library/glob.html) y [pathlib](https://docs.python.org/3/library/pathlib.html). En este apartado haremos uso de la librería [_os_](https://docs.python.org/3/library/os.html). Particularmente veremos como extraer datos de interés a partir de los nombres de los archivos contenidos en una carpeta mediante la función _listdir_ (para conocer acerca de listados recursivos puede consultar el siguiente [enlace](https://www.tutorialspoint.com/python/os_walk.htm)):\n",
    "\n",
    "```python\n",
    "import os\n",
    "\n",
    "path = '../data/raw_data/NDVI/'\n",
    "ext = 'tif'\n",
    "\n",
    "files = os.listdir(path)\n",
    "\n",
    "# Filtrar únicamente los formatos de datos que me interesan\n",
    "files_with_ext = [f for f in files if f.lower().endswith(ext.lower())]\n",
    "files_with_ext.sort()  # Organizo en orden ascendente\n",
    "\n",
    "print(colored(f'\\nArchivos con extensión {ext} encontrados:', 'blue'))\n",
    "print(files_with_ext)\n",
    "```"
   ]
  },
  {
   "cell_type": "code",
   "execution_count": 85,
   "metadata": {},
   "outputs": [
    {
     "name": "stdout",
     "output_type": "stream",
     "text": [
      "\u001b[34m\n",
      "Archivos con extensión tif encontrados:\u001b[0m\n",
      "['MOD13Q1.006__250m_16_days_NDVI_doy2007001_aid0001.tif', 'MOD13Q1.006__250m_16_days_NDVI_doy2007017_aid0001.tif', 'MOD13Q1.006__250m_16_days_NDVI_doy2007033_aid0001.tif', 'MOD13Q1.006__250m_16_days_NDVI_doy2007049_aid0001.tif', 'MOD13Q1.006__250m_16_days_NDVI_doy2007065_aid0001.tif', 'MOD13Q1.006__250m_16_days_NDVI_doy2007081_aid0001.tif', 'MOD13Q1.006__250m_16_days_NDVI_doy2007097_aid0001.tif', 'MOD13Q1.006__250m_16_days_NDVI_doy2007113_aid0001.tif', 'MOD13Q1.006__250m_16_days_NDVI_doy2007129_aid0001.tif', 'MOD13Q1.006__250m_16_days_NDVI_doy2007145_aid0001.tif', 'MOD13Q1.006__250m_16_days_NDVI_doy2007161_aid0001.tif', 'MOD13Q1.006__250m_16_days_NDVI_doy2007177_aid0001.tif', 'MOD13Q1.006__250m_16_days_NDVI_doy2007193_aid0001.tif', 'MOD13Q1.006__250m_16_days_NDVI_doy2007209_aid0001.tif', 'MOD13Q1.006__250m_16_days_NDVI_doy2007225_aid0001.tif', 'MOD13Q1.006__250m_16_days_NDVI_doy2007241_aid0001.tif', 'MOD13Q1.006__250m_16_days_NDVI_doy2007257_aid0001.tif', 'MOD13Q1.006__250m_16_days_NDVI_doy2007273_aid0001.tif', 'MOD13Q1.006__250m_16_days_NDVI_doy2007289_aid0001.tif', 'MOD13Q1.006__250m_16_days_NDVI_doy2007305_aid0001.tif', 'MOD13Q1.006__250m_16_days_NDVI_doy2007321_aid0001.tif', 'MOD13Q1.006__250m_16_days_NDVI_doy2007337_aid0001.tif', 'MOD13Q1.006__250m_16_days_NDVI_doy2007353_aid0001.tif', 'MOD13Q1.006__250m_16_days_NDVI_doy2008001_aid0001.tif', 'MOD13Q1.006__250m_16_days_NDVI_doy2008017_aid0001.tif', 'MOD13Q1.006__250m_16_days_NDVI_doy2008033_aid0001.tif', 'MOD13Q1.006__250m_16_days_NDVI_doy2008049_aid0001.tif', 'MOD13Q1.006__250m_16_days_NDVI_doy2008065_aid0001.tif', 'MOD13Q1.006__250m_16_days_NDVI_doy2008081_aid0001.tif', 'MOD13Q1.006__250m_16_days_NDVI_doy2008097_aid0001.tif', 'MOD13Q1.006__250m_16_days_NDVI_doy2008113_aid0001.tif', 'MOD13Q1.006__250m_16_days_NDVI_doy2008129_aid0001.tif', 'MOD13Q1.006__250m_16_days_NDVI_doy2008145_aid0001.tif', 'MOD13Q1.006__250m_16_days_NDVI_doy2008161_aid0001.tif', 'MOD13Q1.006__250m_16_days_NDVI_doy2008177_aid0001.tif', 'MOD13Q1.006__250m_16_days_NDVI_doy2008193_aid0001.tif', 'MOD13Q1.006__250m_16_days_NDVI_doy2008209_aid0001.tif', 'MOD13Q1.006__250m_16_days_NDVI_doy2008225_aid0001.tif', 'MOD13Q1.006__250m_16_days_NDVI_doy2008241_aid0001.tif', 'MOD13Q1.006__250m_16_days_NDVI_doy2008257_aid0001.tif', 'MOD13Q1.006__250m_16_days_NDVI_doy2008273_aid0001.tif', 'MOD13Q1.006__250m_16_days_NDVI_doy2008289_aid0001.tif', 'MOD13Q1.006__250m_16_days_NDVI_doy2008305_aid0001.tif', 'MOD13Q1.006__250m_16_days_NDVI_doy2008321_aid0001.tif', 'MOD13Q1.006__250m_16_days_NDVI_doy2008337_aid0001.tif', 'MOD13Q1.006__250m_16_days_NDVI_doy2008353_aid0001.tif', 'MOD13Q1.006__250m_16_days_NDVI_doy2009001_aid0001.tif', 'MOD13Q1.006__250m_16_days_NDVI_doy2009017_aid0001.tif', 'MOD13Q1.006__250m_16_days_NDVI_doy2009033_aid0001.tif', 'MOD13Q1.006__250m_16_days_NDVI_doy2009049_aid0001.tif', 'MOD13Q1.006__250m_16_days_NDVI_doy2009065_aid0001.tif', 'MOD13Q1.006__250m_16_days_NDVI_doy2009081_aid0001.tif', 'MOD13Q1.006__250m_16_days_NDVI_doy2009097_aid0001.tif', 'MOD13Q1.006__250m_16_days_NDVI_doy2009113_aid0001.tif', 'MOD13Q1.006__250m_16_days_NDVI_doy2009129_aid0001.tif', 'MOD13Q1.006__250m_16_days_NDVI_doy2009145_aid0001.tif', 'MOD13Q1.006__250m_16_days_NDVI_doy2009161_aid0001.tif', 'MOD13Q1.006__250m_16_days_NDVI_doy2009177_aid0001.tif', 'MOD13Q1.006__250m_16_days_NDVI_doy2009193_aid0001.tif', 'MOD13Q1.006__250m_16_days_NDVI_doy2009209_aid0001.tif', 'MOD13Q1.006__250m_16_days_NDVI_doy2009225_aid0001.tif', 'MOD13Q1.006__250m_16_days_NDVI_doy2009241_aid0001.tif', 'MOD13Q1.006__250m_16_days_NDVI_doy2009257_aid0001.tif', 'MOD13Q1.006__250m_16_days_NDVI_doy2009273_aid0001.tif', 'MOD13Q1.006__250m_16_days_NDVI_doy2009289_aid0001.tif', 'MOD13Q1.006__250m_16_days_NDVI_doy2009305_aid0001.tif', 'MOD13Q1.006__250m_16_days_NDVI_doy2009321_aid0001.tif', 'MOD13Q1.006__250m_16_days_NDVI_doy2009337_aid0001.tif', 'MOD13Q1.006__250m_16_days_NDVI_doy2009353_aid0001.tif', 'MOD13Q1.006__250m_16_days_NDVI_doy2010001_aid0001.tif', 'MOD13Q1.006__250m_16_days_NDVI_doy2010017_aid0001.tif', 'MOD13Q1.006__250m_16_days_NDVI_doy2010033_aid0001.tif', 'MOD13Q1.006__250m_16_days_NDVI_doy2010049_aid0001.tif', 'MOD13Q1.006__250m_16_days_NDVI_doy2010065_aid0001.tif', 'MOD13Q1.006__250m_16_days_NDVI_doy2010081_aid0001.tif', 'MOD13Q1.006__250m_16_days_NDVI_doy2010097_aid0001.tif', 'MOD13Q1.006__250m_16_days_NDVI_doy2010113_aid0001.tif', 'MOD13Q1.006__250m_16_days_NDVI_doy2010129_aid0001.tif', 'MOD13Q1.006__250m_16_days_NDVI_doy2010145_aid0001.tif', 'MOD13Q1.006__250m_16_days_NDVI_doy2010161_aid0001.tif', 'MOD13Q1.006__250m_16_days_NDVI_doy2010177_aid0001.tif', 'MOD13Q1.006__250m_16_days_NDVI_doy2010193_aid0001.tif', 'MOD13Q1.006__250m_16_days_NDVI_doy2010209_aid0001.tif', 'MOD13Q1.006__250m_16_days_NDVI_doy2010225_aid0001.tif', 'MOD13Q1.006__250m_16_days_NDVI_doy2010241_aid0001.tif', 'MOD13Q1.006__250m_16_days_NDVI_doy2010257_aid0001.tif', 'MOD13Q1.006__250m_16_days_NDVI_doy2010273_aid0001.tif', 'MOD13Q1.006__250m_16_days_NDVI_doy2010289_aid0001.tif', 'MOD13Q1.006__250m_16_days_NDVI_doy2010305_aid0001.tif', 'MOD13Q1.006__250m_16_days_NDVI_doy2010321_aid0001.tif', 'MOD13Q1.006__250m_16_days_NDVI_doy2010337_aid0001.tif', 'MOD13Q1.006__250m_16_days_NDVI_doy2010353_aid0001.tif', 'MOD13Q1.006__250m_16_days_NDVI_doy2011001_aid0001.tif', 'MOD13Q1.006__250m_16_days_NDVI_doy2011017_aid0001.tif', 'MOD13Q1.006__250m_16_days_NDVI_doy2011033_aid0001.tif', 'MOD13Q1.006__250m_16_days_NDVI_doy2011049_aid0001.tif', 'MOD13Q1.006__250m_16_days_NDVI_doy2011065_aid0001.tif', 'MOD13Q1.006__250m_16_days_NDVI_doy2011081_aid0001.tif', 'MOD13Q1.006__250m_16_days_NDVI_doy2011097_aid0001.tif', 'MOD13Q1.006__250m_16_days_NDVI_doy2011113_aid0001.tif', 'MOD13Q1.006__250m_16_days_NDVI_doy2011129_aid0001.tif', 'MOD13Q1.006__250m_16_days_NDVI_doy2011145_aid0001.tif', 'MOD13Q1.006__250m_16_days_NDVI_doy2011161_aid0001.tif', 'MOD13Q1.006__250m_16_days_NDVI_doy2011177_aid0001.tif', 'MOD13Q1.006__250m_16_days_NDVI_doy2011193_aid0001.tif', 'MOD13Q1.006__250m_16_days_NDVI_doy2011209_aid0001.tif', 'MOD13Q1.006__250m_16_days_NDVI_doy2011225_aid0001.tif', 'MOD13Q1.006__250m_16_days_NDVI_doy2011241_aid0001.tif', 'MOD13Q1.006__250m_16_days_NDVI_doy2011257_aid0001.tif', 'MOD13Q1.006__250m_16_days_NDVI_doy2011273_aid0001.tif', 'MOD13Q1.006__250m_16_days_NDVI_doy2011289_aid0001.tif', 'MOD13Q1.006__250m_16_days_NDVI_doy2011305_aid0001.tif', 'MOD13Q1.006__250m_16_days_NDVI_doy2011321_aid0001.tif', 'MOD13Q1.006__250m_16_days_NDVI_doy2011337_aid0001.tif', 'MOD13Q1.006__250m_16_days_NDVI_doy2011353_aid0001.tif', 'MOD13Q1.006__250m_16_days_NDVI_doy2012001_aid0001.tif', 'MOD13Q1.006__250m_16_days_NDVI_doy2012017_aid0001.tif', 'MOD13Q1.006__250m_16_days_NDVI_doy2012033_aid0001.tif', 'MOD13Q1.006__250m_16_days_NDVI_doy2012049_aid0001.tif', 'MOD13Q1.006__250m_16_days_NDVI_doy2012065_aid0001.tif', 'MOD13Q1.006__250m_16_days_NDVI_doy2012081_aid0001.tif', 'MOD13Q1.006__250m_16_days_NDVI_doy2012097_aid0001.tif', 'MOD13Q1.006__250m_16_days_NDVI_doy2012113_aid0001.tif', 'MOD13Q1.006__250m_16_days_NDVI_doy2012129_aid0001.tif', 'MOD13Q1.006__250m_16_days_NDVI_doy2012145_aid0001.tif', 'MOD13Q1.006__250m_16_days_NDVI_doy2012161_aid0001.tif', 'MOD13Q1.006__250m_16_days_NDVI_doy2012177_aid0001.tif', 'MOD13Q1.006__250m_16_days_NDVI_doy2012193_aid0001.tif', 'MOD13Q1.006__250m_16_days_NDVI_doy2012209_aid0001.tif', 'MOD13Q1.006__250m_16_days_NDVI_doy2012225_aid0001.tif', 'MOD13Q1.006__250m_16_days_NDVI_doy2012241_aid0001.tif', 'MOD13Q1.006__250m_16_days_NDVI_doy2012257_aid0001.tif', 'MOD13Q1.006__250m_16_days_NDVI_doy2012273_aid0001.tif', 'MOD13Q1.006__250m_16_days_NDVI_doy2012289_aid0001.tif', 'MOD13Q1.006__250m_16_days_NDVI_doy2012305_aid0001.tif', 'MOD13Q1.006__250m_16_days_NDVI_doy2012321_aid0001.tif', 'MOD13Q1.006__250m_16_days_NDVI_doy2012337_aid0001.tif', 'MOD13Q1.006__250m_16_days_NDVI_doy2012353_aid0001.tif', 'MOD13Q1.006__250m_16_days_NDVI_doy2013001_aid0001.tif', 'MOD13Q1.006__250m_16_days_NDVI_doy2013017_aid0001.tif', 'MOD13Q1.006__250m_16_days_NDVI_doy2013033_aid0001.tif', 'MOD13Q1.006__250m_16_days_NDVI_doy2013049_aid0001.tif', 'MOD13Q1.006__250m_16_days_NDVI_doy2013065_aid0001.tif', 'MOD13Q1.006__250m_16_days_NDVI_doy2013081_aid0001.tif', 'MOD13Q1.006__250m_16_days_NDVI_doy2013097_aid0001.tif', 'MOD13Q1.006__250m_16_days_NDVI_doy2013113_aid0001.tif', 'MOD13Q1.006__250m_16_days_NDVI_doy2013129_aid0001.tif', 'MOD13Q1.006__250m_16_days_NDVI_doy2013145_aid0001.tif', 'MOD13Q1.006__250m_16_days_NDVI_doy2013161_aid0001.tif', 'MOD13Q1.006__250m_16_days_NDVI_doy2013177_aid0001.tif', 'MOD13Q1.006__250m_16_days_NDVI_doy2013193_aid0001.tif', 'MOD13Q1.006__250m_16_days_NDVI_doy2013209_aid0001.tif', 'MOD13Q1.006__250m_16_days_NDVI_doy2013225_aid0001.tif', 'MOD13Q1.006__250m_16_days_NDVI_doy2013241_aid0001.tif', 'MOD13Q1.006__250m_16_days_NDVI_doy2013257_aid0001.tif', 'MOD13Q1.006__250m_16_days_NDVI_doy2013273_aid0001.tif', 'MOD13Q1.006__250m_16_days_NDVI_doy2013289_aid0001.tif', 'MOD13Q1.006__250m_16_days_NDVI_doy2013305_aid0001.tif', 'MOD13Q1.006__250m_16_days_NDVI_doy2013321_aid0001.tif', 'MOD13Q1.006__250m_16_days_NDVI_doy2013337_aid0001.tif', 'MOD13Q1.006__250m_16_days_NDVI_doy2013353_aid0001.tif', 'MOD13Q1.006__250m_16_days_NDVI_doy2014001_aid0001.tif', 'MOD13Q1.006__250m_16_days_NDVI_doy2014017_aid0001.tif', 'MOD13Q1.006__250m_16_days_NDVI_doy2014033_aid0001.tif', 'MOD13Q1.006__250m_16_days_NDVI_doy2014049_aid0001.tif', 'MOD13Q1.006__250m_16_days_NDVI_doy2014065_aid0001.tif', 'MOD13Q1.006__250m_16_days_NDVI_doy2014081_aid0001.tif', 'MOD13Q1.006__250m_16_days_NDVI_doy2014097_aid0001.tif', 'MOD13Q1.006__250m_16_days_NDVI_doy2014113_aid0001.tif', 'MOD13Q1.006__250m_16_days_NDVI_doy2014129_aid0001.tif', 'MOD13Q1.006__250m_16_days_NDVI_doy2014145_aid0001.tif', 'MOD13Q1.006__250m_16_days_NDVI_doy2014161_aid0001.tif', 'MOD13Q1.006__250m_16_days_NDVI_doy2014177_aid0001.tif', 'MOD13Q1.006__250m_16_days_NDVI_doy2014193_aid0001.tif', 'MOD13Q1.006__250m_16_days_NDVI_doy2014209_aid0001.tif', 'MOD13Q1.006__250m_16_days_NDVI_doy2014225_aid0001.tif', 'MOD13Q1.006__250m_16_days_NDVI_doy2014241_aid0001.tif', 'MOD13Q1.006__250m_16_days_NDVI_doy2014257_aid0001.tif', 'MOD13Q1.006__250m_16_days_NDVI_doy2014273_aid0001.tif', 'MOD13Q1.006__250m_16_days_NDVI_doy2014289_aid0001.tif', 'MOD13Q1.006__250m_16_days_NDVI_doy2014305_aid0001.tif', 'MOD13Q1.006__250m_16_days_NDVI_doy2014321_aid0001.tif', 'MOD13Q1.006__250m_16_days_NDVI_doy2014337_aid0001.tif', 'MOD13Q1.006__250m_16_days_NDVI_doy2014353_aid0001.tif', 'MOD13Q1.006__250m_16_days_NDVI_doy2015001_aid0001.tif', 'MOD13Q1.006__250m_16_days_NDVI_doy2015017_aid0001.tif', 'MOD13Q1.006__250m_16_days_NDVI_doy2015033_aid0001.tif', 'MOD13Q1.006__250m_16_days_NDVI_doy2015049_aid0001.tif', 'MOD13Q1.006__250m_16_days_NDVI_doy2015065_aid0001.tif', 'MOD13Q1.006__250m_16_days_NDVI_doy2015081_aid0001.tif', 'MOD13Q1.006__250m_16_days_NDVI_doy2015097_aid0001.tif', 'MOD13Q1.006__250m_16_days_NDVI_doy2015113_aid0001.tif', 'MOD13Q1.006__250m_16_days_NDVI_doy2015129_aid0001.tif', 'MOD13Q1.006__250m_16_days_NDVI_doy2015145_aid0001.tif', 'MOD13Q1.006__250m_16_days_NDVI_doy2015161_aid0001.tif', 'MOD13Q1.006__250m_16_days_NDVI_doy2015177_aid0001.tif', 'MOD13Q1.006__250m_16_days_NDVI_doy2015193_aid0001.tif', 'MOD13Q1.006__250m_16_days_NDVI_doy2015209_aid0001.tif', 'MOD13Q1.006__250m_16_days_NDVI_doy2015225_aid0001.tif', 'MOD13Q1.006__250m_16_days_NDVI_doy2015241_aid0001.tif', 'MOD13Q1.006__250m_16_days_NDVI_doy2015257_aid0001.tif', 'MOD13Q1.006__250m_16_days_NDVI_doy2015273_aid0001.tif', 'MOD13Q1.006__250m_16_days_NDVI_doy2015289_aid0001.tif', 'MOD13Q1.006__250m_16_days_NDVI_doy2015305_aid0001.tif', 'MOD13Q1.006__250m_16_days_NDVI_doy2015321_aid0001.tif', 'MOD13Q1.006__250m_16_days_NDVI_doy2015337_aid0001.tif', 'MOD13Q1.006__250m_16_days_NDVI_doy2015353_aid0001.tif', 'MOD13Q1.006__250m_16_days_NDVI_doy2016001_aid0001.tif', 'MOD13Q1.006__250m_16_days_NDVI_doy2016017_aid0001.tif', 'MOD13Q1.006__250m_16_days_NDVI_doy2016033_aid0001.tif', 'MOD13Q1.006__250m_16_days_NDVI_doy2016049_aid0001.tif', 'MOD13Q1.006__250m_16_days_NDVI_doy2016065_aid0001.tif', 'MOD13Q1.006__250m_16_days_NDVI_doy2016081_aid0001.tif', 'MOD13Q1.006__250m_16_days_NDVI_doy2016097_aid0001.tif', 'MOD13Q1.006__250m_16_days_NDVI_doy2016113_aid0001.tif', 'MOD13Q1.006__250m_16_days_NDVI_doy2016129_aid0001.tif', 'MOD13Q1.006__250m_16_days_NDVI_doy2016145_aid0001.tif', 'MOD13Q1.006__250m_16_days_NDVI_doy2016161_aid0001.tif', 'MOD13Q1.006__250m_16_days_NDVI_doy2016177_aid0001.tif', 'MOD13Q1.006__250m_16_days_NDVI_doy2016193_aid0001.tif', 'MOD13Q1.006__250m_16_days_NDVI_doy2016209_aid0001.tif', 'MOD13Q1.006__250m_16_days_NDVI_doy2016225_aid0001.tif', 'MOD13Q1.006__250m_16_days_NDVI_doy2016241_aid0001.tif', 'MOD13Q1.006__250m_16_days_NDVI_doy2016257_aid0001.tif', 'MOD13Q1.006__250m_16_days_NDVI_doy2016273_aid0001.tif', 'MOD13Q1.006__250m_16_days_NDVI_doy2016289_aid0001.tif', 'MOD13Q1.006__250m_16_days_NDVI_doy2016305_aid0001.tif', 'MOD13Q1.006__250m_16_days_NDVI_doy2016321_aid0001.tif', 'MOD13Q1.006__250m_16_days_NDVI_doy2016337_aid0001.tif', 'MOD13Q1.006__250m_16_days_NDVI_doy2016353_aid0001.tif', 'MOD13Q1.006__250m_16_days_NDVI_doy2017001_aid0001.tif', 'MOD13Q1.006__250m_16_days_NDVI_doy2017017_aid0001.tif', 'MOD13Q1.006__250m_16_days_NDVI_doy2017033_aid0001.tif', 'MOD13Q1.006__250m_16_days_NDVI_doy2017049_aid0001.tif', 'MOD13Q1.006__250m_16_days_NDVI_doy2017065_aid0001.tif', 'MOD13Q1.006__250m_16_days_NDVI_doy2017081_aid0001.tif', 'MOD13Q1.006__250m_16_days_NDVI_doy2017097_aid0001.tif', 'MOD13Q1.006__250m_16_days_NDVI_doy2017113_aid0001.tif', 'MOD13Q1.006__250m_16_days_NDVI_doy2017129_aid0001.tif', 'MOD13Q1.006__250m_16_days_NDVI_doy2017145_aid0001.tif', 'MOD13Q1.006__250m_16_days_NDVI_doy2017161_aid0001.tif', 'MOD13Q1.006__250m_16_days_NDVI_doy2017177_aid0001.tif', 'MOD13Q1.006__250m_16_days_NDVI_doy2017193_aid0001.tif', 'MOD13Q1.006__250m_16_days_NDVI_doy2017209_aid0001.tif', 'MOD13Q1.006__250m_16_days_NDVI_doy2017225_aid0001.tif', 'MOD13Q1.006__250m_16_days_NDVI_doy2017241_aid0001.tif', 'MOD13Q1.006__250m_16_days_NDVI_doy2017257_aid0001.tif', 'MOD13Q1.006__250m_16_days_NDVI_doy2017273_aid0001.tif', 'MOD13Q1.006__250m_16_days_NDVI_doy2017289_aid0001.tif', 'MOD13Q1.006__250m_16_days_NDVI_doy2017305_aid0001.tif', 'MOD13Q1.006__250m_16_days_NDVI_doy2017321_aid0001.tif', 'MOD13Q1.006__250m_16_days_NDVI_doy2017337_aid0001.tif', 'MOD13Q1.006__250m_16_days_NDVI_doy2017353_aid0001.tif']\n"
     ]
    }
   ],
   "source": [
    "import os\n",
    "\n",
    "path = \"./raw_data/NDVI/\"\n",
    "ext = 'tif'\n",
    "\n",
    "files = os.listdir(path)\n",
    "\n",
    "files_with_ext = [f for f in files if f.lower().endswith(ext.lower())]\n",
    "files_with_ext.sort()\n",
    "\n",
    "print(colored(f'\\nArchivos con extensión {ext} encontrados:', 'blue'))\n",
    "print(files_with_ext)"
   ]
  },
  {
   "cell_type": "markdown",
   "metadata": {},
   "source": [
    "También es posible listar archivos que tenemos adentro de un _zip_. Para esto podemos hacer uso de librería \"zipfile\". Esta librería nos permite cargar un archivo comprimido en memoria mientras leemos su contenido:\n",
    "\n",
    "```python\n",
    "from zipfile import ZipFile  # Importamos el módulo ZipFile\n",
    "import os\n",
    "\n",
    "data_dir = '../data/raw_data/'\n",
    "fn_zip = 'L1C_T21HUB_A017181_20181006T135109.zip'\n",
    "zipfilename = data_dir + fn_zip\n",
    "\n",
    "# El siguiente bloque realiza un listado recursivo\n",
    "# de los archivos contenidos en nuestro .zip\n",
    "with ZipFile(zipfilename, 'r') as zfile:\n",
    "    lista = zfile.namelist()\n",
    "\n",
    "lista\n",
    "```"
   ]
  },
  {
   "cell_type": "code",
   "execution_count": 87,
   "metadata": {},
   "outputs": [
    {
     "data": {
      "text/plain": [
       "['S2A_MSIL1C_20191120T135111_N0208_R024_T21HUB_20191120T152911.SAFE/INSPIRE.xml',\n",
       " 'S2A_MSIL1C_20191120T135111_N0208_R024_T21HUB_20191120T152911.SAFE/rep_info/',\n",
       " 'S2A_MSIL1C_20191120T135111_N0208_R024_T21HUB_20191120T152911.SAFE/rep_info/S2_User_Product_Level-1C_Metadata.xsd',\n",
       " 'S2A_MSIL1C_20191120T135111_N0208_R024_T21HUB_20191120T152911.SAFE/HTML/',\n",
       " 'S2A_MSIL1C_20191120T135111_N0208_R024_T21HUB_20191120T152911.SAFE/HTML/star_bg.jpg',\n",
       " 'S2A_MSIL1C_20191120T135111_N0208_R024_T21HUB_20191120T152911.SAFE/HTML/banner_1.png',\n",
       " 'S2A_MSIL1C_20191120T135111_N0208_R024_T21HUB_20191120T152911.SAFE/HTML/banner_2.png',\n",
       " 'S2A_MSIL1C_20191120T135111_N0208_R024_T21HUB_20191120T152911.SAFE/HTML/UserProduct_index.html',\n",
       " 'S2A_MSIL1C_20191120T135111_N0208_R024_T21HUB_20191120T152911.SAFE/HTML/UserProduct_index.xsl',\n",
       " 'S2A_MSIL1C_20191120T135111_N0208_R024_T21HUB_20191120T152911.SAFE/HTML/banner_3.png',\n",
       " 'S2A_MSIL1C_20191120T135111_N0208_R024_T21HUB_20191120T152911.SAFE/AUX_DATA/',\n",
       " 'S2A_MSIL1C_20191120T135111_N0208_R024_T21HUB_20191120T152911.SAFE/DATASTRIP/',\n",
       " 'S2A_MSIL1C_20191120T135111_N0208_R024_T21HUB_20191120T152911.SAFE/DATASTRIP/DS_SGS__20191120T152911_S20191120T135113/',\n",
       " 'S2A_MSIL1C_20191120T135111_N0208_R024_T21HUB_20191120T152911.SAFE/DATASTRIP/DS_SGS__20191120T152911_S20191120T135113/MTD_DS.xml',\n",
       " 'S2A_MSIL1C_20191120T135111_N0208_R024_T21HUB_20191120T152911.SAFE/DATASTRIP/DS_SGS__20191120T152911_S20191120T135113/QI_DATA/',\n",
       " 'S2A_MSIL1C_20191120T135111_N0208_R024_T21HUB_20191120T152911.SAFE/DATASTRIP/DS_SGS__20191120T152911_S20191120T135113/QI_DATA/SENSOR_QUALITY.xml',\n",
       " 'S2A_MSIL1C_20191120T135111_N0208_R024_T21HUB_20191120T152911.SAFE/DATASTRIP/DS_SGS__20191120T152911_S20191120T135113/QI_DATA/GENERAL_QUALITY.xml',\n",
       " 'S2A_MSIL1C_20191120T135111_N0208_R024_T21HUB_20191120T152911.SAFE/DATASTRIP/DS_SGS__20191120T152911_S20191120T135113/QI_DATA/RADIOMETRIC_QUALITY.xml',\n",
       " 'S2A_MSIL1C_20191120T135111_N0208_R024_T21HUB_20191120T152911.SAFE/DATASTRIP/DS_SGS__20191120T152911_S20191120T135113/QI_DATA/GEOMETRIC_QUALITY.xml',\n",
       " 'S2A_MSIL1C_20191120T135111_N0208_R024_T21HUB_20191120T152911.SAFE/DATASTRIP/DS_SGS__20191120T152911_S20191120T135113/QI_DATA/FORMAT_CORRECTNESS.xml',\n",
       " 'S2A_MSIL1C_20191120T135111_N0208_R024_T21HUB_20191120T152911.SAFE/manifest.safe',\n",
       " 'S2A_MSIL1C_20191120T135111_N0208_R024_T21HUB_20191120T152911.SAFE/MTD_MSIL1C.xml',\n",
       " 'S2A_MSIL1C_20191120T135111_N0208_R024_T21HUB_20191120T152911.SAFE/00Readme_Sentinel_Data_Terms_and_Conditions.txt',\n",
       " 'S2A_MSIL1C_20191120T135111_N0208_R024_T21HUB_20191120T152911.SAFE/GRANULE/L1C_T21HUB_A023044_20191120T135113/',\n",
       " 'S2A_MSIL1C_20191120T135111_N0208_R024_T21HUB_20191120T152911.SAFE/GRANULE/L1C_T21HUB_A023044_20191120T135113/MTD_TL.xml',\n",
       " 'S2A_MSIL1C_20191120T135111_N0208_R024_T21HUB_20191120T152911.SAFE/GRANULE/L1C_T21HUB_A023044_20191120T135113/QI_DATA/',\n",
       " 'S2A_MSIL1C_20191120T135111_N0208_R024_T21HUB_20191120T152911.SAFE/GRANULE/L1C_T21HUB_A023044_20191120T135113/QI_DATA/MSK_NODATA_B05.gml',\n",
       " 'S2A_MSIL1C_20191120T135111_N0208_R024_T21HUB_20191120T152911.SAFE/GRANULE/L1C_T21HUB_A023044_20191120T135113/QI_DATA/MSK_TECQUA_B12.gml',\n",
       " 'S2A_MSIL1C_20191120T135111_N0208_R024_T21HUB_20191120T152911.SAFE/GRANULE/L1C_T21HUB_A023044_20191120T135113/QI_DATA/SENSOR_QUALITY.xml',\n",
       " 'S2A_MSIL1C_20191120T135111_N0208_R024_T21HUB_20191120T152911.SAFE/GRANULE/L1C_T21HUB_A023044_20191120T135113/QI_DATA/MSK_SATURA_B11.gml',\n",
       " 'S2A_MSIL1C_20191120T135111_N0208_R024_T21HUB_20191120T152911.SAFE/GRANULE/L1C_T21HUB_A023044_20191120T135113/QI_DATA/MSK_DEFECT_B06.gml',\n",
       " 'S2A_MSIL1C_20191120T135111_N0208_R024_T21HUB_20191120T152911.SAFE/GRANULE/L1C_T21HUB_A023044_20191120T135113/QI_DATA/MSK_DETFOO_B8A.gml',\n",
       " 'S2A_MSIL1C_20191120T135111_N0208_R024_T21HUB_20191120T152911.SAFE/GRANULE/L1C_T21HUB_A023044_20191120T135113/QI_DATA/MSK_DEFECT_B8A.gml',\n",
       " 'S2A_MSIL1C_20191120T135111_N0208_R024_T21HUB_20191120T152911.SAFE/GRANULE/L1C_T21HUB_A023044_20191120T135113/QI_DATA/MSK_DETFOO_B04.gml',\n",
       " 'S2A_MSIL1C_20191120T135111_N0208_R024_T21HUB_20191120T152911.SAFE/GRANULE/L1C_T21HUB_A023044_20191120T135113/QI_DATA/MSK_DEFECT_B05.gml',\n",
       " 'S2A_MSIL1C_20191120T135111_N0208_R024_T21HUB_20191120T152911.SAFE/GRANULE/L1C_T21HUB_A023044_20191120T135113/QI_DATA/MSK_SATURA_B04.gml',\n",
       " 'S2A_MSIL1C_20191120T135111_N0208_R024_T21HUB_20191120T152911.SAFE/GRANULE/L1C_T21HUB_A023044_20191120T135113/QI_DATA/MSK_SATURA_B07.gml',\n",
       " 'S2A_MSIL1C_20191120T135111_N0208_R024_T21HUB_20191120T152911.SAFE/GRANULE/L1C_T21HUB_A023044_20191120T135113/QI_DATA/MSK_DEFECT_B09.gml',\n",
       " 'S2A_MSIL1C_20191120T135111_N0208_R024_T21HUB_20191120T152911.SAFE/GRANULE/L1C_T21HUB_A023044_20191120T135113/QI_DATA/MSK_DEFECT_B11.gml',\n",
       " 'S2A_MSIL1C_20191120T135111_N0208_R024_T21HUB_20191120T152911.SAFE/GRANULE/L1C_T21HUB_A023044_20191120T135113/QI_DATA/MSK_DEFECT_B03.gml',\n",
       " 'S2A_MSIL1C_20191120T135111_N0208_R024_T21HUB_20191120T152911.SAFE/GRANULE/L1C_T21HUB_A023044_20191120T135113/QI_DATA/MSK_DETFOO_B08.gml',\n",
       " 'S2A_MSIL1C_20191120T135111_N0208_R024_T21HUB_20191120T152911.SAFE/GRANULE/L1C_T21HUB_A023044_20191120T135113/QI_DATA/MSK_NODATA_B12.gml',\n",
       " 'S2A_MSIL1C_20191120T135111_N0208_R024_T21HUB_20191120T152911.SAFE/GRANULE/L1C_T21HUB_A023044_20191120T135113/QI_DATA/MSK_SATURA_B12.gml',\n",
       " 'S2A_MSIL1C_20191120T135111_N0208_R024_T21HUB_20191120T152911.SAFE/GRANULE/L1C_T21HUB_A023044_20191120T135113/QI_DATA/MSK_TECQUA_B03.gml',\n",
       " 'S2A_MSIL1C_20191120T135111_N0208_R024_T21HUB_20191120T152911.SAFE/GRANULE/L1C_T21HUB_A023044_20191120T135113/QI_DATA/MSK_DETFOO_B07.gml',\n",
       " 'S2A_MSIL1C_20191120T135111_N0208_R024_T21HUB_20191120T152911.SAFE/GRANULE/L1C_T21HUB_A023044_20191120T135113/QI_DATA/MSK_SATURA_B02.gml',\n",
       " 'S2A_MSIL1C_20191120T135111_N0208_R024_T21HUB_20191120T152911.SAFE/GRANULE/L1C_T21HUB_A023044_20191120T135113/QI_DATA/MSK_DETFOO_B09.gml',\n",
       " 'S2A_MSIL1C_20191120T135111_N0208_R024_T21HUB_20191120T152911.SAFE/GRANULE/L1C_T21HUB_A023044_20191120T135113/QI_DATA/MSK_TECQUA_B08.gml',\n",
       " 'S2A_MSIL1C_20191120T135111_N0208_R024_T21HUB_20191120T152911.SAFE/GRANULE/L1C_T21HUB_A023044_20191120T135113/QI_DATA/MSK_NODATA_B8A.gml',\n",
       " 'S2A_MSIL1C_20191120T135111_N0208_R024_T21HUB_20191120T152911.SAFE/GRANULE/L1C_T21HUB_A023044_20191120T135113/QI_DATA/MSK_NODATA_B04.gml',\n",
       " 'S2A_MSIL1C_20191120T135111_N0208_R024_T21HUB_20191120T152911.SAFE/GRANULE/L1C_T21HUB_A023044_20191120T135113/QI_DATA/MSK_SATURA_B09.gml',\n",
       " 'S2A_MSIL1C_20191120T135111_N0208_R024_T21HUB_20191120T152911.SAFE/GRANULE/L1C_T21HUB_A023044_20191120T135113/QI_DATA/MSK_SATURA_B03.gml',\n",
       " 'S2A_MSIL1C_20191120T135111_N0208_R024_T21HUB_20191120T152911.SAFE/GRANULE/L1C_T21HUB_A023044_20191120T135113/QI_DATA/MSK_SATURA_B08.gml',\n",
       " 'S2A_MSIL1C_20191120T135111_N0208_R024_T21HUB_20191120T152911.SAFE/GRANULE/L1C_T21HUB_A023044_20191120T135113/QI_DATA/MSK_DEFECT_B02.gml',\n",
       " 'S2A_MSIL1C_20191120T135111_N0208_R024_T21HUB_20191120T152911.SAFE/GRANULE/L1C_T21HUB_A023044_20191120T135113/QI_DATA/MSK_SATURA_B05.gml',\n",
       " 'S2A_MSIL1C_20191120T135111_N0208_R024_T21HUB_20191120T152911.SAFE/GRANULE/L1C_T21HUB_A023044_20191120T135113/QI_DATA/MSK_CLOUDS_B00.gml',\n",
       " 'S2A_MSIL1C_20191120T135111_N0208_R024_T21HUB_20191120T152911.SAFE/GRANULE/L1C_T21HUB_A023044_20191120T135113/QI_DATA/MSK_NODATA_B09.gml',\n",
       " 'S2A_MSIL1C_20191120T135111_N0208_R024_T21HUB_20191120T152911.SAFE/GRANULE/L1C_T21HUB_A023044_20191120T135113/QI_DATA/MSK_DEFECT_B10.gml',\n",
       " 'S2A_MSIL1C_20191120T135111_N0208_R024_T21HUB_20191120T152911.SAFE/GRANULE/L1C_T21HUB_A023044_20191120T135113/QI_DATA/MSK_TECQUA_B06.gml',\n",
       " 'S2A_MSIL1C_20191120T135111_N0208_R024_T21HUB_20191120T152911.SAFE/GRANULE/L1C_T21HUB_A023044_20191120T135113/QI_DATA/MSK_TECQUA_B02.gml',\n",
       " 'S2A_MSIL1C_20191120T135111_N0208_R024_T21HUB_20191120T152911.SAFE/GRANULE/L1C_T21HUB_A023044_20191120T135113/QI_DATA/MSK_DEFECT_B08.gml',\n",
       " 'S2A_MSIL1C_20191120T135111_N0208_R024_T21HUB_20191120T152911.SAFE/GRANULE/L1C_T21HUB_A023044_20191120T135113/QI_DATA/MSK_DETFOO_B03.gml',\n",
       " 'S2A_MSIL1C_20191120T135111_N0208_R024_T21HUB_20191120T152911.SAFE/GRANULE/L1C_T21HUB_A023044_20191120T135113/QI_DATA/MSK_NODATA_B03.gml',\n",
       " 'S2A_MSIL1C_20191120T135111_N0208_R024_T21HUB_20191120T152911.SAFE/GRANULE/L1C_T21HUB_A023044_20191120T135113/QI_DATA/MSK_NODATA_B02.gml',\n",
       " 'S2A_MSIL1C_20191120T135111_N0208_R024_T21HUB_20191120T152911.SAFE/GRANULE/L1C_T21HUB_A023044_20191120T135113/QI_DATA/MSK_TECQUA_B09.gml',\n",
       " 'S2A_MSIL1C_20191120T135111_N0208_R024_T21HUB_20191120T152911.SAFE/GRANULE/L1C_T21HUB_A023044_20191120T135113/QI_DATA/MSK_SATURA_B06.gml',\n",
       " 'S2A_MSIL1C_20191120T135111_N0208_R024_T21HUB_20191120T152911.SAFE/GRANULE/L1C_T21HUB_A023044_20191120T135113/QI_DATA/MSK_NODATA_B08.gml',\n",
       " 'S2A_MSIL1C_20191120T135111_N0208_R024_T21HUB_20191120T152911.SAFE/GRANULE/L1C_T21HUB_A023044_20191120T135113/QI_DATA/MSK_TECQUA_B01.gml',\n",
       " 'S2A_MSIL1C_20191120T135111_N0208_R024_T21HUB_20191120T152911.SAFE/GRANULE/L1C_T21HUB_A023044_20191120T135113/QI_DATA/MSK_DETFOO_B10.gml',\n",
       " 'S2A_MSIL1C_20191120T135111_N0208_R024_T21HUB_20191120T152911.SAFE/GRANULE/L1C_T21HUB_A023044_20191120T135113/QI_DATA/GENERAL_QUALITY.xml',\n",
       " 'S2A_MSIL1C_20191120T135111_N0208_R024_T21HUB_20191120T152911.SAFE/GRANULE/L1C_T21HUB_A023044_20191120T135113/QI_DATA/MSK_SATURA_B8A.gml',\n",
       " 'S2A_MSIL1C_20191120T135111_N0208_R024_T21HUB_20191120T152911.SAFE/GRANULE/L1C_T21HUB_A023044_20191120T135113/QI_DATA/MSK_DETFOO_B05.gml',\n",
       " 'S2A_MSIL1C_20191120T135111_N0208_R024_T21HUB_20191120T152911.SAFE/GRANULE/L1C_T21HUB_A023044_20191120T135113/QI_DATA/MSK_DETFOO_B11.gml',\n",
       " 'S2A_MSIL1C_20191120T135111_N0208_R024_T21HUB_20191120T152911.SAFE/GRANULE/L1C_T21HUB_A023044_20191120T135113/QI_DATA/T21HUB_20191120T135111_PVI.jp2',\n",
       " 'S2A_MSIL1C_20191120T135111_N0208_R024_T21HUB_20191120T152911.SAFE/GRANULE/L1C_T21HUB_A023044_20191120T135113/QI_DATA/MSK_SATURA_B10.gml',\n",
       " 'S2A_MSIL1C_20191120T135111_N0208_R024_T21HUB_20191120T152911.SAFE/GRANULE/L1C_T21HUB_A023044_20191120T135113/QI_DATA/MSK_NODATA_B01.gml',\n",
       " 'S2A_MSIL1C_20191120T135111_N0208_R024_T21HUB_20191120T152911.SAFE/GRANULE/L1C_T21HUB_A023044_20191120T135113/QI_DATA/MSK_NODATA_B10.gml',\n",
       " 'S2A_MSIL1C_20191120T135111_N0208_R024_T21HUB_20191120T152911.SAFE/GRANULE/L1C_T21HUB_A023044_20191120T135113/QI_DATA/MSK_DEFECT_B07.gml',\n",
       " 'S2A_MSIL1C_20191120T135111_N0208_R024_T21HUB_20191120T152911.SAFE/GRANULE/L1C_T21HUB_A023044_20191120T135113/QI_DATA/MSK_TECQUA_B05.gml',\n",
       " 'S2A_MSIL1C_20191120T135111_N0208_R024_T21HUB_20191120T152911.SAFE/GRANULE/L1C_T21HUB_A023044_20191120T135113/QI_DATA/MSK_DEFECT_B12.gml',\n",
       " 'S2A_MSIL1C_20191120T135111_N0208_R024_T21HUB_20191120T152911.SAFE/GRANULE/L1C_T21HUB_A023044_20191120T135113/QI_DATA/MSK_DETFOO_B06.gml',\n",
       " 'S2A_MSIL1C_20191120T135111_N0208_R024_T21HUB_20191120T152911.SAFE/GRANULE/L1C_T21HUB_A023044_20191120T135113/QI_DATA/MSK_NODATA_B11.gml',\n",
       " 'S2A_MSIL1C_20191120T135111_N0208_R024_T21HUB_20191120T152911.SAFE/GRANULE/L1C_T21HUB_A023044_20191120T135113/QI_DATA/MSK_NODATA_B07.gml',\n",
       " 'S2A_MSIL1C_20191120T135111_N0208_R024_T21HUB_20191120T152911.SAFE/GRANULE/L1C_T21HUB_A023044_20191120T135113/QI_DATA/MSK_TECQUA_B04.gml',\n",
       " 'S2A_MSIL1C_20191120T135111_N0208_R024_T21HUB_20191120T152911.SAFE/GRANULE/L1C_T21HUB_A023044_20191120T135113/QI_DATA/MSK_TECQUA_B07.gml',\n",
       " 'S2A_MSIL1C_20191120T135111_N0208_R024_T21HUB_20191120T152911.SAFE/GRANULE/L1C_T21HUB_A023044_20191120T135113/QI_DATA/MSK_TECQUA_B8A.gml',\n",
       " 'S2A_MSIL1C_20191120T135111_N0208_R024_T21HUB_20191120T152911.SAFE/GRANULE/L1C_T21HUB_A023044_20191120T135113/QI_DATA/MSK_NODATA_B06.gml',\n",
       " 'S2A_MSIL1C_20191120T135111_N0208_R024_T21HUB_20191120T152911.SAFE/GRANULE/L1C_T21HUB_A023044_20191120T135113/QI_DATA/MSK_DEFECT_B01.gml',\n",
       " 'S2A_MSIL1C_20191120T135111_N0208_R024_T21HUB_20191120T152911.SAFE/GRANULE/L1C_T21HUB_A023044_20191120T135113/QI_DATA/MSK_TECQUA_B10.gml',\n",
       " 'S2A_MSIL1C_20191120T135111_N0208_R024_T21HUB_20191120T152911.SAFE/GRANULE/L1C_T21HUB_A023044_20191120T135113/QI_DATA/MSK_DETFOO_B12.gml',\n",
       " 'S2A_MSIL1C_20191120T135111_N0208_R024_T21HUB_20191120T152911.SAFE/GRANULE/L1C_T21HUB_A023044_20191120T135113/QI_DATA/MSK_DETFOO_B02.gml',\n",
       " 'S2A_MSIL1C_20191120T135111_N0208_R024_T21HUB_20191120T152911.SAFE/GRANULE/L1C_T21HUB_A023044_20191120T135113/QI_DATA/MSK_TECQUA_B11.gml',\n",
       " 'S2A_MSIL1C_20191120T135111_N0208_R024_T21HUB_20191120T152911.SAFE/GRANULE/L1C_T21HUB_A023044_20191120T135113/QI_DATA/GEOMETRIC_QUALITY.xml',\n",
       " 'S2A_MSIL1C_20191120T135111_N0208_R024_T21HUB_20191120T152911.SAFE/GRANULE/L1C_T21HUB_A023044_20191120T135113/QI_DATA/MSK_SATURA_B01.gml',\n",
       " 'S2A_MSIL1C_20191120T135111_N0208_R024_T21HUB_20191120T152911.SAFE/GRANULE/L1C_T21HUB_A023044_20191120T135113/QI_DATA/MSK_DETFOO_B01.gml',\n",
       " 'S2A_MSIL1C_20191120T135111_N0208_R024_T21HUB_20191120T152911.SAFE/GRANULE/L1C_T21HUB_A023044_20191120T135113/QI_DATA/FORMAT_CORRECTNESS.xml',\n",
       " 'S2A_MSIL1C_20191120T135111_N0208_R024_T21HUB_20191120T152911.SAFE/GRANULE/L1C_T21HUB_A023044_20191120T135113/QI_DATA/MSK_DEFECT_B04.gml',\n",
       " 'S2A_MSIL1C_20191120T135111_N0208_R024_T21HUB_20191120T152911.SAFE/GRANULE/L1C_T21HUB_A023044_20191120T135113/AUX_DATA/',\n",
       " 'S2A_MSIL1C_20191120T135111_N0208_R024_T21HUB_20191120T152911.SAFE/GRANULE/L1C_T21HUB_A023044_20191120T135113/AUX_DATA/AUX_ECMWFT',\n",
       " 'S2A_MSIL1C_20191120T135111_N0208_R024_T21HUB_20191120T152911.SAFE/GRANULE/L1C_T21HUB_A023044_20191120T135113/IMG_DATA/',\n",
       " 'S2A_MSIL1C_20191120T135111_N0208_R024_T21HUB_20191120T152911.SAFE/GRANULE/L1C_T21HUB_A023044_20191120T135113/IMG_DATA/T21HUB_20191120T135111_B03.jp2',\n",
       " 'S2A_MSIL1C_20191120T135111_N0208_R024_T21HUB_20191120T152911.SAFE/GRANULE/L1C_T21HUB_A023044_20191120T135113/IMG_DATA/T21HUB_20191120T135111_B12.jp2',\n",
       " 'S2A_MSIL1C_20191120T135111_N0208_R024_T21HUB_20191120T152911.SAFE/GRANULE/L1C_T21HUB_A023044_20191120T135113/IMG_DATA/T21HUB_20191120T135111_B11.jp2',\n",
       " 'S2A_MSIL1C_20191120T135111_N0208_R024_T21HUB_20191120T152911.SAFE/GRANULE/L1C_T21HUB_A023044_20191120T135113/IMG_DATA/T21HUB_20191120T135111_B02.jp2',\n",
       " 'S2A_MSIL1C_20191120T135111_N0208_R024_T21HUB_20191120T152911.SAFE/GRANULE/L1C_T21HUB_A023044_20191120T135113/IMG_DATA/T21HUB_20191120T135111_B10.jp2',\n",
       " 'S2A_MSIL1C_20191120T135111_N0208_R024_T21HUB_20191120T152911.SAFE/GRANULE/L1C_T21HUB_A023044_20191120T135113/IMG_DATA/T21HUB_20191120T135111_B05.jp2',\n",
       " 'S2A_MSIL1C_20191120T135111_N0208_R024_T21HUB_20191120T152911.SAFE/GRANULE/L1C_T21HUB_A023044_20191120T135113/IMG_DATA/T21HUB_20191120T135111_B07.jp2',\n",
       " 'S2A_MSIL1C_20191120T135111_N0208_R024_T21HUB_20191120T152911.SAFE/GRANULE/L1C_T21HUB_A023044_20191120T135113/IMG_DATA/T21HUB_20191120T135111_B09.jp2',\n",
       " 'S2A_MSIL1C_20191120T135111_N0208_R024_T21HUB_20191120T152911.SAFE/GRANULE/L1C_T21HUB_A023044_20191120T135113/IMG_DATA/T21HUB_20191120T135111_B04.jp2',\n",
       " 'S2A_MSIL1C_20191120T135111_N0208_R024_T21HUB_20191120T152911.SAFE/GRANULE/L1C_T21HUB_A023044_20191120T135113/IMG_DATA/T21HUB_20191120T135111_B8A.jp2',\n",
       " 'S2A_MSIL1C_20191120T135111_N0208_R024_T21HUB_20191120T152911.SAFE/GRANULE/L1C_T21HUB_A023044_20191120T135113/IMG_DATA/T21HUB_20191120T135111_TCI.jp2',\n",
       " 'S2A_MSIL1C_20191120T135111_N0208_R024_T21HUB_20191120T152911.SAFE/GRANULE/L1C_T21HUB_A023044_20191120T135113/IMG_DATA/T21HUB_20191120T135111_B06.jp2',\n",
       " 'S2A_MSIL1C_20191120T135111_N0208_R024_T21HUB_20191120T152911.SAFE/GRANULE/L1C_T21HUB_A023044_20191120T135113/IMG_DATA/T21HUB_20191120T135111_B01.jp2',\n",
       " 'S2A_MSIL1C_20191120T135111_N0208_R024_T21HUB_20191120T152911.SAFE/GRANULE/L1C_T21HUB_A023044_20191120T135113/IMG_DATA/T21HUB_20191120T135111_B08.jp2']"
      ]
     },
     "execution_count": 87,
     "metadata": {},
     "output_type": "execute_result"
    }
   ],
   "source": [
    "from zipfile import ZipFile\n",
    "import os\n",
    "\n",
    "data_dir = './raw_data/'\n",
    "fn_zip = \"L1C_T21HUB_A023044_20191120T135113.zip\"\n",
    "zipfilename = data_dir + fn_zip\n",
    "\n",
    "# El siguiente bloque realiza un listado recursivo\n",
    "# de los archivos contenidos en nuestro .zip\n",
    "with ZipFile(zipfilename, 'r') as zfile:\n",
    "    \n",
    "    lista = zfile.namelist()\n",
    "\n",
    "lista"
   ]
  },
  {
   "cell_type": "markdown",
   "metadata": {},
   "source": [
    "A partir de esto podríamos por ejemplo filtrar nuestro contenido. Vamos a extraer los nombres de los archivos con extensión \"jp2\" que hay en nuestro _zip_.\n",
    "\n",
    "```python\n",
    "lista = [os.path.basename(i) for i in lista if i.endswith('jp2')]\n",
    "\n",
    "lista\n",
    "```"
   ]
  },
  {
   "cell_type": "code",
   "execution_count": 88,
   "metadata": {},
   "outputs": [
    {
     "data": {
      "text/plain": [
       "['T21HUB_20191120T135111_PVI.jp2',\n",
       " 'T21HUB_20191120T135111_B03.jp2',\n",
       " 'T21HUB_20191120T135111_B12.jp2',\n",
       " 'T21HUB_20191120T135111_B11.jp2',\n",
       " 'T21HUB_20191120T135111_B02.jp2',\n",
       " 'T21HUB_20191120T135111_B10.jp2',\n",
       " 'T21HUB_20191120T135111_B05.jp2',\n",
       " 'T21HUB_20191120T135111_B07.jp2',\n",
       " 'T21HUB_20191120T135111_B09.jp2',\n",
       " 'T21HUB_20191120T135111_B04.jp2',\n",
       " 'T21HUB_20191120T135111_B8A.jp2',\n",
       " 'T21HUB_20191120T135111_TCI.jp2',\n",
       " 'T21HUB_20191120T135111_B06.jp2',\n",
       " 'T21HUB_20191120T135111_B01.jp2',\n",
       " 'T21HUB_20191120T135111_B08.jp2']"
      ]
     },
     "execution_count": 88,
     "metadata": {},
     "output_type": "execute_result"
    }
   ],
   "source": [
    "lista = [os.path.basename(i) for i in lista if i.endswith(\"jp2\")]\n",
    "\n",
    "lista"
   ]
  },
  {
   "cell_type": "markdown",
   "metadata": {},
   "source": [
    "Más adelante vamos a ver cómo leer estos archivos, por ahora volvamos a nuestro primer listado y veamos el nombre de la primera imagen de NDVI:\n",
    "\n",
    "```python\n",
    "print(files_with_ext[0])\n",
    "```"
   ]
  },
  {
   "cell_type": "code",
   "execution_count": 89,
   "metadata": {},
   "outputs": [
    {
     "name": "stdout",
     "output_type": "stream",
     "text": [
      "MOD13Q1.006__250m_16_days_NDVI_doy2007001_aid0001.tif\n"
     ]
    }
   ],
   "source": [
    "print(files_with_ext[0])"
   ]
  },
  {
   "cell_type": "markdown",
   "metadata": {},
   "source": [
    "Como vemos, el nombre del archivo anterior nos da información importante sobre el mismo. Por ahora no vamos a entrar en detalles, únicamente nos centraremos en su fecha. Veamos como extraerla:\n",
    "\n",
    "```python\n",
    "print(colored('\\nDivido el string haciendo uso de la palabra \"doy\":', 'blue'))\n",
    "split_str = files_with_ext[0].split('doy')\n",
    "print(split_str)\n",
    "```\n",
    "\n",
    "Me quedo con el lado derecho del string, es decir, el elemento 1 de mi lista:\n",
    "\n",
    "```python\n",
    "print(colored('\\nDivido mi nuevo string utilizando el guión bajo \"_\":', 'blue'))\n",
    "split_str2 = split_str[1].split(\"_\")\n",
    "print(split_str2)\n",
    "```\n",
    "\n",
    "Extraigo la fecha:\n",
    "\n",
    "```python\n",
    "print(colored('\\nMe quedo con mi elemento 0 que corresponde a la fecha de la imagen:', 'blue'))\n",
    "fecha = split_str2[0]\n",
    "print(fecha)\n",
    "```\n"
   ]
  },
  {
   "cell_type": "code",
   "execution_count": 90,
   "metadata": {},
   "outputs": [
    {
     "name": "stdout",
     "output_type": "stream",
     "text": [
      "\u001b[34m\n",
      "Divido el string haciendo uso de la palabra \"doy\":\u001b[0m\n",
      "['MOD13Q1.006__250m_16_days_NDVI_', '2007001_aid0001.tif']\n"
     ]
    }
   ],
   "source": [
    "print(colored('\\nDivido el string haciendo uso de la palabra \"doy\":', 'blue'))\n",
    "split_str = files_with_ext[0].split('doy')\n",
    "print(split_str)"
   ]
  },
  {
   "cell_type": "code",
   "execution_count": 91,
   "metadata": {},
   "outputs": [
    {
     "name": "stdout",
     "output_type": "stream",
     "text": [
      "\u001b[34m\n",
      "Divido mi nuevo string utilizando el guión bajo \"_\":\u001b[0m\n",
      "['2007001', 'aid0001.tif']\n"
     ]
    }
   ],
   "source": [
    "print(colored('\\nDivido mi nuevo string utilizando el guión bajo \"_\":', 'blue'))\n",
    "split_str2 = split_str[1].split(\"_\")\n",
    "print(split_str2)"
   ]
  },
  {
   "cell_type": "code",
   "execution_count": 92,
   "metadata": {},
   "outputs": [
    {
     "name": "stdout",
     "output_type": "stream",
     "text": [
      "\u001b[34m\n",
      "Me quedo con mi elemento 0 que corresponde a la fecha de la imagen:\u001b[0m\n",
      "2007001\n"
     ]
    }
   ],
   "source": [
    "print(colored('\\nMe quedo con mi elemento 0 que corresponde a la fecha de la imagen:', 'blue'))\n",
    "fecha = split_str2[0]\n",
    "print(fecha)"
   ]
  },
  {
   "cell_type": "markdown",
   "metadata": {},
   "source": [
    "### Ejercicio 3.1 (opcional)\n",
    "Extraer un listado con las fechas para todas las imágenes de la lista:"
   ]
  },
  {
   "cell_type": "code",
   "execution_count": 120,
   "metadata": {},
   "outputs": [],
   "source": [
    "from datetime import datetime\n",
    "\n",
    "class GetImage:\n",
    "\n",
    "    def __init__(self, list_img):\n",
    "\n",
    "        self.list_img = list_img\n",
    "\n",
    "    def get_dates(self):\n",
    "\n",
    "        listado = []\n",
    "\n",
    "        for l in self.list_img:\n",
    "\n",
    "            split_str = l.split(\"_\")[1]\n",
    "\n",
    "            split_str2 = split_str.split(\"T\")[0]\n",
    "\n",
    "            fecha_str = split_str2\n",
    "\n",
    "            listado.append(datetime.strptime(fecha_str, \"%Y%m%d\").date())\n",
    "\n",
    "        return listado    "
   ]
  },
  {
   "cell_type": "code",
   "execution_count": 121,
   "metadata": {},
   "outputs": [
    {
     "name": "stdout",
     "output_type": "stream",
     "text": [
      "[datetime.date(2019, 11, 20), datetime.date(2019, 11, 20), datetime.date(2019, 11, 20), datetime.date(2019, 11, 20), datetime.date(2019, 11, 20), datetime.date(2019, 11, 20), datetime.date(2019, 11, 20), datetime.date(2019, 11, 20), datetime.date(2019, 11, 20), datetime.date(2019, 11, 20), datetime.date(2019, 11, 20), datetime.date(2019, 11, 20), datetime.date(2019, 11, 20), datetime.date(2019, 11, 20), datetime.date(2019, 11, 20)]\n"
     ]
    }
   ],
   "source": [
    "print(GetImage(lista).get_dates())"
   ]
  },
  {
   "cell_type": "markdown",
   "metadata": {},
   "source": [
    "# 4. Formato datetime\n",
    "\n",
    "Python cuenta con un tipo de objeto especial que permite manejar con facilidad fechas (_datetime_), por medio de operaciones básicas como restas, comparaciones, suma de días, extracción de parámetros como año, mes o día, etc. Esto es especialmente útil cuando trabajamos por ejemplo con series temporales, dado resulta de mucha utilidad conocer el espaciamiento entre los datos, realizar selecciones por intervalos de tiempo (semanal, mensual, diario, etc.), entre otros. \n",
    "\n",
    "Veamos cómo a partir de las fechas extraídas anteriormente podemos obtener este tipo de objetos, utilizando para este objetivo la librería [_datetime_](https://docs.python.org/3/library/datetime.html), pero primero, veamos algunas funciones para tener en cuenta:\n",
    "\n",
    "```python\n",
    "from datetime import datetime, timedelta\n",
    "\n",
    "print(colored('\\nConvertir un string a datetime:', 'blue'))\n",
    "\n",
    "mi_fecha = '2021-09-13 06:15:20'\n",
    "fmt = '%Y-%m-%d %H:%M:%S'\n",
    "\n",
    "mi_fecha_dt = datetime.strptime(mi_fecha, fmt)\n",
    "\n",
    "print(colored('\\nTipo de objeto inicial: ', 'blue'), type(mi_fecha))\n",
    "print(colored('\\nTipo de objeto final: ', 'blue'), type(mi_fecha_dt))\n",
    "print(colored('\\nFecha en formato datetime: ', 'blue'), mi_fecha_dt)\n",
    "```"
   ]
  },
  {
   "cell_type": "code",
   "execution_count": 122,
   "metadata": {},
   "outputs": [
    {
     "name": "stdout",
     "output_type": "stream",
     "text": [
      "\u001b[34m\n",
      "Convertir un string a datetime:\u001b[0m\n",
      "\u001b[34m\n",
      "Tipo de objeto inicial: \u001b[0m <class 'str'>\n",
      "\u001b[34m\n",
      "Tipo de objeto final: \u001b[0m <class 'datetime.datetime'>\n",
      "\u001b[34m\n",
      "Fecha en formato datetime: \u001b[0m 2021-09-13 06:15:20\n"
     ]
    }
   ],
   "source": [
    "from datetime import datetime, timedelta\n",
    "\n",
    "print(colored('\\nConvertir un string a datetime:', 'blue'))\n",
    "\n",
    "mi_fecha = '2021-09-13 06:15:20'\n",
    "fmt = '%Y-%m-%d %H:%M:%S'\n",
    "\n",
    "mi_fecha_dt = datetime.strptime(mi_fecha, fmt)\n",
    "\n",
    "print(colored('\\nTipo de objeto inicial: ', 'blue'), type(mi_fecha))\n",
    "print(colored('\\nTipo de objeto final: ', 'blue'), type(mi_fecha_dt))\n",
    "print(colored('\\nFecha en formato datetime: ', 'blue'), mi_fecha_dt)"
   ]
  },
  {
   "cell_type": "markdown",
   "metadata": {},
   "source": [
    "Vamos a calcular diferencia entre dos fechas:\n",
    "\n",
    "```python\n",
    "mi_fecha2 = '2021/10/13'\n",
    "fmt2 = '%Y/%m/%d'\n",
    "\n",
    "mi_fecha_dt2 = datetime.strptime(mi_fecha2, fmt2)\n",
    "\n",
    "print(colored('\\nFecha_1: ', 'blue'), mi_fecha_dt)\n",
    "print(colored('\\nFecha_2: ', 'blue'), mi_fecha_dt2)\n",
    "print(colored('\\nDiferencia fecha_2 - fecha_1: ', 'blue'), mi_fecha_dt2 - mi_fecha_dt)\n",
    "```"
   ]
  },
  {
   "cell_type": "code",
   "execution_count": 123,
   "metadata": {},
   "outputs": [
    {
     "name": "stdout",
     "output_type": "stream",
     "text": [
      "\u001b[34m\n",
      "Fecha_1: \u001b[0m 2021-09-13 06:15:20\n",
      "\u001b[34m\n",
      "Fecha_2: \u001b[0m 2021-10-13 00:00:00\n",
      "\u001b[34m\n",
      "Diferencia fecha_2 - fecha_1: \u001b[0m 29 days, 17:44:40\n"
     ]
    }
   ],
   "source": [
    "mi_fecha2 = '2021/10/13'\n",
    "fmt2 = '%Y/%m/%d'\n",
    "\n",
    "mi_fecha_dt2 = datetime.strptime(mi_fecha2, fmt2)\n",
    "\n",
    "print(colored('\\nFecha_1: ', 'blue'), mi_fecha_dt)\n",
    "print(colored('\\nFecha_2: ', 'blue'), mi_fecha_dt2)\n",
    "print(colored('\\nDiferencia fecha_2 - fecha_1: ', 'blue'), mi_fecha_dt2 - mi_fecha_dt)"
   ]
  },
  {
   "cell_type": "markdown",
   "metadata": {},
   "source": [
    "Veamos otras operaciones útiles:\n",
    "\n",
    "```python\n",
    "print(colored('\\nSumando días a una fecha: ', 'blue'), mi_fecha_dt + timedelta(days=30))\n",
    "print(colored('\\nComparando fechas\\n ¿fecha_2>fecha_1?: ', 'blue'), mi_fecha_dt2 > mi_fecha_dt)\n",
    "\n",
    "print(colored('\\nConvirtiendo de formato datetime a string: ', 'blue'))\n",
    "fecha_str = datetime.strftime(mi_fecha_dt, '%Y%m%d')\n",
    "print(colored('Fecha: ', 'blue'), fecha_str)\n",
    "print(colored('Tipo de dato: ', 'blue'), type(fecha_str))\n",
    "\n",
    "print(colored('\\nConvirtiendo de formato datetime a string con día juliano: ', 'blue'))\n",
    "fecha_j = datetime.strftime(mi_fecha_dt, '%Y%j')\n",
    "print(colored('Fecha: ', 'blue'), fecha_j)\n",
    "print(colored('Tipo de dato: ', 'blue'), type(fecha_j))\n",
    "```"
   ]
  },
  {
   "cell_type": "code",
   "execution_count": 124,
   "metadata": {},
   "outputs": [
    {
     "name": "stdout",
     "output_type": "stream",
     "text": [
      "\u001b[34m\n",
      "Sumando días a una fecha: \u001b[0m 2021-10-13 06:15:20\n",
      "\u001b[34m\n",
      "Comparando fechas\n",
      " ¿fecha_2>fecha_1?: \u001b[0m True\n",
      "\u001b[34m\n",
      "Convirtiendo de formato datetime a string: \u001b[0m\n",
      "\u001b[34mFecha: \u001b[0m 20210913\n",
      "\u001b[34mTipo de dato: \u001b[0m <class 'str'>\n",
      "\u001b[34m\n",
      "Convirtiendo de formato datetime a string con día juliano: \u001b[0m\n",
      "\u001b[34mFecha: \u001b[0m 2021256\n",
      "\u001b[34mTipo de dato: \u001b[0m <class 'str'>\n"
     ]
    }
   ],
   "source": [
    "print(colored('\\nSumando días a una fecha: ', 'blue'), mi_fecha_dt + timedelta(days=30))\n",
    "print(colored('\\nComparando fechas\\n ¿fecha_2>fecha_1?: ', 'blue'), mi_fecha_dt2 > mi_fecha_dt)\n",
    "\n",
    "print(colored('\\nConvirtiendo de formato datetime a string: ', 'blue'))\n",
    "fecha_str = datetime.strftime(mi_fecha_dt, '%Y%m%d')\n",
    "print(colored('Fecha: ', 'blue'), fecha_str)\n",
    "print(colored('Tipo de dato: ', 'blue'), type(fecha_str))\n",
    "\n",
    "print(colored('\\nConvirtiendo de formato datetime a string con día juliano: ', 'blue'))\n",
    "fecha_j = datetime.strftime(mi_fecha_dt, '%Y%j')\n",
    "print(colored('Fecha: ', 'blue'), fecha_j)\n",
    "print(colored('Tipo de dato: ', 'blue'), type(fecha_j))"
   ]
  },
  {
   "cell_type": "markdown",
   "metadata": {},
   "source": [
    "Retomando, veamos como convertir a formato datetime la primera fecha de nuestra lista de imágenes:\n",
    "\n",
    "```python\n",
    "print(colored('\\nPrimera fecha de la lista: ', 'blue'), fecha)\n",
    "print(colored('\\nTipo de dato: ', 'blue'), type(fecha))\n",
    "\n",
    "fecha_dt = datetime.strptime(fecha, '%Y%j')\n",
    "\n",
    "print(colored('\\nPrimera fecha en formato datetime: ', 'blue'), fecha_dt)\n",
    "print(colored('\\nTipo de dato: ', 'blue'), type(fecha_dt))\n",
    "```"
   ]
  },
  {
   "cell_type": "code",
   "execution_count": 125,
   "metadata": {},
   "outputs": [
    {
     "name": "stdout",
     "output_type": "stream",
     "text": [
      "\u001b[34m\n",
      "Primera fecha de la lista: \u001b[0m 2007001\n",
      "\u001b[34m\n",
      "Tipo de dato: \u001b[0m <class 'str'>\n",
      "\u001b[34m\n",
      "Primera fecha en formato datetime: \u001b[0m 2007-01-01 00:00:00\n",
      "\u001b[34m\n",
      "Tipo de dato: \u001b[0m <class 'datetime.datetime'>\n"
     ]
    }
   ],
   "source": [
    "print(colored('\\nPrimera fecha de la lista: ', 'blue'), fecha)\n",
    "print(colored('\\nTipo de dato: ', 'blue'), type(fecha))\n",
    "\n",
    "fecha_dt = datetime.strptime(fecha, '%Y%j')\n",
    "\n",
    "print(colored('\\nPrimera fecha en formato datetime: ', 'blue'), fecha_dt)\n",
    "print(colored('\\nTipo de dato: ', 'blue'), type(fecha_dt))"
   ]
  },
  {
   "cell_type": "markdown",
   "metadata": {},
   "source": [
    "### Ejercicio 4.1:\n",
    "\n",
    "Escribir una función llamada _get_dates_ que reciba como parámetro la ruta donde se encuentran las imágenes de NDVI suministradas y retorne un listado con las fechas de cada imagen, en formato _datetime_, ordenadas de manera ascendente. Esta función, deberá además almacenarse en el archivo _funciones.py_."
   ]
  },
  {
   "cell_type": "code",
   "execution_count": 132,
   "metadata": {},
   "outputs": [
    {
     "name": "stdout",
     "output_type": "stream",
     "text": [
      "[datetime.date(2007, 1, 1), datetime.date(2007, 1, 17), datetime.date(2007, 2, 2), datetime.date(2007, 2, 18), datetime.date(2007, 3, 6), datetime.date(2007, 3, 22), datetime.date(2007, 4, 7), datetime.date(2007, 4, 23), datetime.date(2007, 5, 9), datetime.date(2007, 5, 25), datetime.date(2007, 6, 10), datetime.date(2007, 6, 26), datetime.date(2007, 7, 12), datetime.date(2007, 7, 28), datetime.date(2007, 8, 13), datetime.date(2007, 8, 29), datetime.date(2007, 9, 14), datetime.date(2007, 9, 30), datetime.date(2007, 10, 16), datetime.date(2007, 11, 1), datetime.date(2007, 11, 17), datetime.date(2007, 12, 3), datetime.date(2007, 12, 19), datetime.date(2008, 1, 1), datetime.date(2008, 1, 17), datetime.date(2008, 2, 2), datetime.date(2008, 2, 18), datetime.date(2008, 3, 5), datetime.date(2008, 3, 21), datetime.date(2008, 4, 6), datetime.date(2008, 4, 22), datetime.date(2008, 5, 8), datetime.date(2008, 5, 24), datetime.date(2008, 6, 9), datetime.date(2008, 6, 25), datetime.date(2008, 7, 11), datetime.date(2008, 7, 27), datetime.date(2008, 8, 12), datetime.date(2008, 8, 28), datetime.date(2008, 9, 13), datetime.date(2008, 9, 29), datetime.date(2008, 10, 15), datetime.date(2008, 10, 31), datetime.date(2008, 11, 16), datetime.date(2008, 12, 2), datetime.date(2008, 12, 18), datetime.date(2009, 1, 1), datetime.date(2009, 1, 17), datetime.date(2009, 2, 2), datetime.date(2009, 2, 18), datetime.date(2009, 3, 6), datetime.date(2009, 3, 22), datetime.date(2009, 4, 7), datetime.date(2009, 4, 23), datetime.date(2009, 5, 9), datetime.date(2009, 5, 25), datetime.date(2009, 6, 10), datetime.date(2009, 6, 26), datetime.date(2009, 7, 12), datetime.date(2009, 7, 28), datetime.date(2009, 8, 13), datetime.date(2009, 8, 29), datetime.date(2009, 9, 14), datetime.date(2009, 9, 30), datetime.date(2009, 10, 16), datetime.date(2009, 11, 1), datetime.date(2009, 11, 17), datetime.date(2009, 12, 3), datetime.date(2009, 12, 19), datetime.date(2010, 1, 1), datetime.date(2010, 1, 17), datetime.date(2010, 2, 2), datetime.date(2010, 2, 18), datetime.date(2010, 3, 6), datetime.date(2010, 3, 22), datetime.date(2010, 4, 7), datetime.date(2010, 4, 23), datetime.date(2010, 5, 9), datetime.date(2010, 5, 25), datetime.date(2010, 6, 10), datetime.date(2010, 6, 26), datetime.date(2010, 7, 12), datetime.date(2010, 7, 28), datetime.date(2010, 8, 13), datetime.date(2010, 8, 29), datetime.date(2010, 9, 14), datetime.date(2010, 9, 30), datetime.date(2010, 10, 16), datetime.date(2010, 11, 1), datetime.date(2010, 11, 17), datetime.date(2010, 12, 3), datetime.date(2010, 12, 19), datetime.date(2011, 1, 1), datetime.date(2011, 1, 17), datetime.date(2011, 2, 2), datetime.date(2011, 2, 18), datetime.date(2011, 3, 6), datetime.date(2011, 3, 22), datetime.date(2011, 4, 7), datetime.date(2011, 4, 23), datetime.date(2011, 5, 9), datetime.date(2011, 5, 25), datetime.date(2011, 6, 10), datetime.date(2011, 6, 26), datetime.date(2011, 7, 12), datetime.date(2011, 7, 28), datetime.date(2011, 8, 13), datetime.date(2011, 8, 29), datetime.date(2011, 9, 14), datetime.date(2011, 9, 30), datetime.date(2011, 10, 16), datetime.date(2011, 11, 1), datetime.date(2011, 11, 17), datetime.date(2011, 12, 3), datetime.date(2011, 12, 19), datetime.date(2012, 1, 1), datetime.date(2012, 1, 17), datetime.date(2012, 2, 2), datetime.date(2012, 2, 18), datetime.date(2012, 3, 5), datetime.date(2012, 3, 21), datetime.date(2012, 4, 6), datetime.date(2012, 4, 22), datetime.date(2012, 5, 8), datetime.date(2012, 5, 24), datetime.date(2012, 6, 9), datetime.date(2012, 6, 25), datetime.date(2012, 7, 11), datetime.date(2012, 7, 27), datetime.date(2012, 8, 12), datetime.date(2012, 8, 28), datetime.date(2012, 9, 13), datetime.date(2012, 9, 29), datetime.date(2012, 10, 15), datetime.date(2012, 10, 31), datetime.date(2012, 11, 16), datetime.date(2012, 12, 2), datetime.date(2012, 12, 18), datetime.date(2013, 1, 1), datetime.date(2013, 1, 17), datetime.date(2013, 2, 2), datetime.date(2013, 2, 18), datetime.date(2013, 3, 6), datetime.date(2013, 3, 22), datetime.date(2013, 4, 7), datetime.date(2013, 4, 23), datetime.date(2013, 5, 9), datetime.date(2013, 5, 25), datetime.date(2013, 6, 10), datetime.date(2013, 6, 26), datetime.date(2013, 7, 12), datetime.date(2013, 7, 28), datetime.date(2013, 8, 13), datetime.date(2013, 8, 29), datetime.date(2013, 9, 14), datetime.date(2013, 9, 30), datetime.date(2013, 10, 16), datetime.date(2013, 11, 1), datetime.date(2013, 11, 17), datetime.date(2013, 12, 3), datetime.date(2013, 12, 19), datetime.date(2014, 1, 1), datetime.date(2014, 1, 17), datetime.date(2014, 2, 2), datetime.date(2014, 2, 18), datetime.date(2014, 3, 6), datetime.date(2014, 3, 22), datetime.date(2014, 4, 7), datetime.date(2014, 4, 23), datetime.date(2014, 5, 9), datetime.date(2014, 5, 25), datetime.date(2014, 6, 10), datetime.date(2014, 6, 26), datetime.date(2014, 7, 12), datetime.date(2014, 7, 28), datetime.date(2014, 8, 13), datetime.date(2014, 8, 29), datetime.date(2014, 9, 14), datetime.date(2014, 9, 30), datetime.date(2014, 10, 16), datetime.date(2014, 11, 1), datetime.date(2014, 11, 17), datetime.date(2014, 12, 3), datetime.date(2014, 12, 19), datetime.date(2015, 1, 1), datetime.date(2015, 1, 17), datetime.date(2015, 2, 2), datetime.date(2015, 2, 18), datetime.date(2015, 3, 6), datetime.date(2015, 3, 22), datetime.date(2015, 4, 7), datetime.date(2015, 4, 23), datetime.date(2015, 5, 9), datetime.date(2015, 5, 25), datetime.date(2015, 6, 10), datetime.date(2015, 6, 26), datetime.date(2015, 7, 12), datetime.date(2015, 7, 28), datetime.date(2015, 8, 13), datetime.date(2015, 8, 29), datetime.date(2015, 9, 14), datetime.date(2015, 9, 30), datetime.date(2015, 10, 16), datetime.date(2015, 11, 1), datetime.date(2015, 11, 17), datetime.date(2015, 12, 3), datetime.date(2015, 12, 19), datetime.date(2016, 1, 1), datetime.date(2016, 1, 17), datetime.date(2016, 2, 2), datetime.date(2016, 2, 18), datetime.date(2016, 3, 5), datetime.date(2016, 3, 21), datetime.date(2016, 4, 6), datetime.date(2016, 4, 22), datetime.date(2016, 5, 8), datetime.date(2016, 5, 24), datetime.date(2016, 6, 9), datetime.date(2016, 6, 25), datetime.date(2016, 7, 11), datetime.date(2016, 7, 27), datetime.date(2016, 8, 12), datetime.date(2016, 8, 28), datetime.date(2016, 9, 13), datetime.date(2016, 9, 29), datetime.date(2016, 10, 15), datetime.date(2016, 10, 31), datetime.date(2016, 11, 16), datetime.date(2016, 12, 2), datetime.date(2016, 12, 18), datetime.date(2017, 1, 1), datetime.date(2017, 1, 17), datetime.date(2017, 2, 2), datetime.date(2017, 2, 18), datetime.date(2017, 3, 6), datetime.date(2017, 3, 22), datetime.date(2017, 4, 7), datetime.date(2017, 4, 23), datetime.date(2017, 5, 9), datetime.date(2017, 5, 25), datetime.date(2017, 6, 10), datetime.date(2017, 6, 26), datetime.date(2017, 7, 12), datetime.date(2017, 7, 28), datetime.date(2017, 8, 13), datetime.date(2017, 8, 29), datetime.date(2017, 9, 14), datetime.date(2017, 9, 30), datetime.date(2017, 10, 16), datetime.date(2017, 11, 1), datetime.date(2017, 11, 17), datetime.date(2017, 12, 3), datetime.date(2017, 12, 19)]\n"
     ]
    }
   ],
   "source": [
    "import importlib\n",
    "\n",
    "import funciones\n",
    "\n",
    "importlib.reload(funciones)\n",
    "\n",
    "from funciones import get_dates as get_d\n",
    "\n",
    "path = \"./raw_data/NDVI/\"\n",
    "ext = \"tif\"\n",
    "\n",
    "files = os.listdir(path)\n",
    "\n",
    "files_with_ext = [f for f in files if f.lower().endswith(ext.lower())]\n",
    "files_with_ext.sort()\n",
    "\n",
    "print(get_d(files_with_ext))"
   ]
  },
  {
   "cell_type": "code",
   "execution_count": null,
   "metadata": {},
   "outputs": [],
   "source": []
  }
 ],
 "metadata": {
  "kernelspec": {
   "display_name": "Python 3 (ipykernel)",
   "language": "python",
   "name": "python3"
  },
  "language_info": {
   "codemirror_mode": {
    "name": "ipython",
    "version": 3
   },
   "file_extension": ".py",
   "mimetype": "text/x-python",
   "name": "python",
   "nbconvert_exporter": "python",
   "pygments_lexer": "ipython3",
   "version": "3.9.21"
  }
 },
 "nbformat": 4,
 "nbformat_minor": 4
}
