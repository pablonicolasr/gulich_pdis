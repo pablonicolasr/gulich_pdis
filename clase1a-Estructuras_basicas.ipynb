{
 "cells": [
  {
   "cell_type": "markdown",
   "metadata": {},
   "source": [
    "# Clase 1a: Estructuras básicas, librerías Numpy y Pandas\n",
    "Lo que veremos en esta notebook:\n",
    "\n",
    "- [x] Estructuras básicas: listas, tuplas y diccionarios\n",
    "- [x] Librería Numpy: Manejo básico de arrays, acceso a los datos, operaciones básicas y máscaras\n",
    "- [x] Librería Pandas: Estructuras Series y DataFrame, acceso a los datos y filtros"
   ]
  },
  {
   "cell_type": "markdown",
   "metadata": {},
   "source": [
    "# Python\n",
    "\n",
    "Python es un lenguaje de programación gratuito y de código abierto, creado Guido van Rossum, el cual fue lanzado en 1991. Es un lenguaje interpretado, lo que significa que el código se ejecuta directamente, no existe una compilación previa. Es un lenguaje de alto nivel, por lo que su sintaxis es muy sencilla y requiere menos líneas de código para su ejecución."
   ]
  },
  {
   "cell_type": "markdown",
   "metadata": {},
   "source": [
    "# 0. Algunos tips antes de comenzar...\n",
    "\n",
    "Un resumen del manual de buenas prácticas se puede encontrar en el siguiente [enlace](https://realpython.com/python-pep8/)."
   ]
  },
  {
   "cell_type": "markdown",
   "metadata": {},
   "source": [
    "### Indentación:\n",
    "La indentación es un aspecto fundamental en python que consiste en una serie de espacios que agrupan el código, proporcionando una jerarquía al mismo. Se recomienda que cada nivel de indentación se realice con cuatro espacios de la siguiente manera:\n",
    "\n",
    "```python\n",
    "lista = [2, 3, 4, 5]\n",
    "\n",
    "for elem in lista:\n",
    "    elem_cuadrado = elem**2\n",
    "    print(elem_cuadrado)\n",
    "```\n",
    "Cualquier inconsistencia en los espacios proporcionará un error. Probemos por ejemplo:\n",
    "\n",
    "```python\n",
    "lista = [2, 3, 4, 5]\n",
    "\n",
    "for elem in lista:\n",
    "   elem_cuadrado = elem**2\n",
    "    print(elem_cuadrado)\n",
    "```"
   ]
  },
  {
   "cell_type": "code",
   "execution_count": 1,
   "metadata": {},
   "outputs": [
    {
     "name": "stdout",
     "output_type": "stream",
     "text": [
      "4\n",
      "9\n",
      "16\n",
      "25\n"
     ]
    }
   ],
   "source": [
    "lista = [2, 3, 4, 5]\n",
    "\n",
    "for num in lista:\n",
    "    square_num = num**2\n",
    "    print(square_num)"
   ]
  },
  {
   "cell_type": "markdown",
   "metadata": {},
   "source": [
    "Para consultar errores pueden dirigirse al siguiente [enlace](https://docs.python.org/es/3/tutorial/errors.html)"
   ]
  },
  {
   "cell_type": "markdown",
   "metadata": {},
   "source": [
    "### Comentarios:\n",
    "\n",
    "Los comentarios son líneas en nuestro código que contribuyen a la comprensión del mismo. Existen tres tipos de comentarios:\n",
    "\n",
    "- Comentarios sobre bloques de código (Block Comments):\n",
    "Son aquellos que se utilizan para documentar una pequeña sección de código. Se definen anteponiendo un # a la línea y van indentados al mismo nivel que la sección de código que explican.\n",
    "\n",
    "```python\n",
    "# Itera sobre i, asignando los valores de 0 a 9 e\n",
    "# imprime su valor seguido un salto de línea\n",
    "for i in range(10):\n",
    "    print(i, '\\n')\n",
    "```\n",
    "\n",
    "- Comentarios entre líneas (Inline Comments):\n",
    "Se utilizan para explicar una línea de código. Generalmente van al final de la misma y se definen de igual manera anteponiendo un # al inicio de los mismos y deben comenzar por lo menos dos espacios después de terminar la línea de código.\n",
    "\n",
    "```python\n",
    "name = 'Santiago'  # Asigna a la variable \"name\" el nombre del docente\n",
    "print(f'El docente se llama {name}')\n",
    "```\n",
    "\n",
    "- Cadenas de documentación (Documentation Strings):\n",
    "Se utilizan generalmente para describir módulos, funciones, clases o métodos. Son _strings_ encerrados por tres comillas, bien sean dobles o simples. Cabe resaltar que python utiliza comillas simples o dobles sin hacer diferencia entre ellas, siempre que estas sean consistentes al abrir y cerrar.\n",
    "\n",
    "```python\n",
    "def suma(a, b):\n",
    "    '''\n",
    "    Función suma de enteros\n",
    "\n",
    "    parámetros:\n",
    "    a: número entero\n",
    "    b: número entero\n",
    "\n",
    "    retorna:\n",
    "    retorna la suma de los mismos, de lo contrario, retorna None.\n",
    "    '''\n",
    "\n",
    "    if isinstance(a, int) and isinstance(b, int):\n",
    "        resultado = a + b\n",
    "    else:\n",
    "        print('los datos de entrada deben ser de tipo entero')\n",
    "        resultado = None\n",
    "\n",
    "    return resultado\n",
    "\n",
    "```"
   ]
  },
  {
   "cell_type": "code",
   "execution_count": 2,
   "metadata": {},
   "outputs": [
    {
     "name": "stdout",
     "output_type": "stream",
     "text": [
      "0 \n",
      "\n",
      "1 \n",
      "\n",
      "2 \n",
      "\n",
      "3 \n",
      "\n",
      "4 \n",
      "\n",
      "5 \n",
      "\n",
      "6 \n",
      "\n",
      "7 \n",
      "\n",
      "8 \n",
      "\n",
      "9 \n",
      "\n"
     ]
    }
   ],
   "source": [
    "for i in range(10):\n",
    "    print(i, \"\\n\")"
   ]
  },
  {
   "cell_type": "code",
   "execution_count": 3,
   "metadata": {},
   "outputs": [
    {
     "name": "stdout",
     "output_type": "stream",
     "text": [
      "El docente se llama Santiago\n"
     ]
    }
   ],
   "source": [
    "name = \"Santiago\"  # Asigna a la variable \"name\" el nombre del docente\n",
    "print(f\"El docente se llama {name}\")"
   ]
  },
  {
   "cell_type": "code",
   "execution_count": 4,
   "metadata": {},
   "outputs": [],
   "source": [
    "import os\n",
    "\n",
    "def limp_pant():\n",
    "    \n",
    "    return os.system(\"cls\" if os.name==\"nt\" else \"clear\")"
   ]
  },
  {
   "cell_type": "code",
   "execution_count": 5,
   "metadata": {},
   "outputs": [],
   "source": [
    "def suma(a=9, b=10):\n",
    "    '''\n",
    "    Función suma de enteros\n",
    "\n",
    "    parámetros:\n",
    "    a: número entero\n",
    "    b: número entero\n",
    "\n",
    "    retorna:\n",
    "    retorna la suma de los mismos, de lo contrario, retorna None.\n",
    "    '''\n",
    "\n",
    "    if isinstance(a, int) and isinstance(b, int):\n",
    "        resultado = a + b\n",
    "    else:\n",
    "        print(\"los datos de entrada deben ser de tipo entero\")\n",
    "        resultado = None\n",
    "\n",
    "    return resultado"
   ]
  },
  {
   "cell_type": "code",
   "execution_count": 6,
   "metadata": {},
   "outputs": [
    {
     "name": "stdin",
     "output_type": "stream",
     "text": [
      "Introduzca el primer numero entero: \n",
      " 4\n"
     ]
    },
    {
     "name": "stdout",
     "output_type": "stream",
     "text": [
      "El numero 1 introducido es 4\n"
     ]
    },
    {
     "name": "stdin",
     "output_type": "stream",
     "text": [
      "Introduzca el segundo numero entero: \n",
      " 5\n"
     ]
    },
    {
     "name": "stdout",
     "output_type": "stream",
     "text": [
      "El numero 2 introducido es 5\n"
     ]
    }
   ],
   "source": [
    "band1 = False\n",
    "band2 = False\n",
    "\n",
    "while not band1:\n",
    "\n",
    "    try:\n",
    "        \n",
    "        n1 = int(input(\"Introduzca el primer numero entero: \\n\"))\n",
    "\n",
    "        print(f\"El numero 1 introducido es {n1}\")\n",
    "\n",
    "        band1 = True\n",
    "\n",
    "    except Exception as e:\n",
    "\n",
    "        print(\"Debe introducir un numero entero\")\n",
    "\n",
    "        input(\"Presione una tecla para continuar...\")\n",
    "        \n",
    "        limp_pant()\n",
    "\n",
    "\n",
    "while not band2:\n",
    "\n",
    "    try:\n",
    "        \n",
    "        n2 = int(input(\"Introduzca el segundo numero entero: \\n\"))\n",
    "\n",
    "        print(f\"El numero 2 introducido es {n2}\")\n",
    "\n",
    "        band2 = True\n",
    "\n",
    "    except Exception as e:\n",
    "\n",
    "        print(\"Debe introducir un numero entero\")\n",
    "\n",
    "        input(\"Presione una tecla para continuar...\")\n",
    "        \n",
    "        limp_pant()\n",
    "    "
   ]
  },
  {
   "cell_type": "code",
   "execution_count": 7,
   "metadata": {},
   "outputs": [
    {
     "data": {
      "text/plain": [
       "9"
      ]
     },
     "execution_count": 7,
     "metadata": {},
     "output_type": "execute_result"
    }
   ],
   "source": [
    "suma(n1, n2)"
   ]
  },
  {
   "cell_type": "markdown",
   "metadata": {},
   "source": [
    "### Imprimir en pantalla:\n",
    "\n",
    "Hasta la versión 2.7, para imprimir un valor en pantalla, Python utilizaba la sentencia _print_, seguida directamente del elemento que queríamos mostrar. Sin embargo, a partir de la versión 3x, se hizo necesario el uso del paréntesis dado que se incluyó como función y las funciones en Python hacen uso de paréntesis. Veamos algunos ejemplos:\n",
    "\n",
    "``` python\n",
    "print('El carro es azul')\n",
    "print(15)\n",
    "print(12.5)\n",
    "```\n",
    "\n",
    "Para concatenar un string con un entero, hay que convertir dicho entero a string:\n",
    "\n",
    "``` python\n",
    "edad = 29\n",
    "print('Juan tiene ' + str(edad) + ' años')\n",
    "```\n",
    "\n",
    "O utilizando _fstrings_:\n",
    "\n",
    "``` python\n",
    "print(f'Juan tiene {edad} años')\n",
    "print('Juan tiene {:2d} años'.format(edad))\n",
    "```\n"
   ]
  },
  {
   "cell_type": "code",
   "execution_count": 8,
   "metadata": {},
   "outputs": [
    {
     "name": "stdout",
     "output_type": "stream",
     "text": [
      "El carro es azul\n",
      "15\n",
      "12.5\n"
     ]
    }
   ],
   "source": [
    "print(\"El carro es azul\")\n",
    "print(15)\n",
    "print(12.5)"
   ]
  },
  {
   "cell_type": "markdown",
   "metadata": {},
   "source": [
    "### Variables:\n",
    "\n",
    "Una variable es un espacio para almacenar datos en la memoria de un ordenador. En Python, una variable se define de la siguiente manera:\n",
    "\n",
    "```python\n",
    "Nombre_Variable = Valor\n",
    "```\n",
    "Las variables pueden contener diferentes tipos de elementos, como valores enteros, flotantes, string, listas, entre otros. Veamos algunos ejemplos:\n",
    "\n",
    "| Nombre del tipo de dato | Tipo de dato | Ejemplo |\n",
    "| :-: | :-: | :-: | \n",
    "| int | Valores enteros | 4 |\n",
    "| float | Valores decimales | 3.1415 | \n",
    "| str | Texto (Strings) | 'Hot' | \n",
    "| bool | Valores booleanos: True/False | True |\n",
    "\n",
    "Como se ve en la tabla anterior, cuando se define un elemento tipo _string_, este debe ir entre comillas, mientras que un número sea entero o flotante así como un valor _booleano_, puede escribirse de manera directa a menos que vaya concatenado con un string, en cuyo caso hay que realizar un cambio de tipo de variable.\n",
    "\n",
    "\n",
    "```python\n",
    "entero = 2\n",
    "flotante = 5.3\n",
    "lista = [1, 'Gato', 5.4]\n",
    "```"
   ]
  },
  {
   "cell_type": "code",
   "execution_count": 9,
   "metadata": {},
   "outputs": [],
   "source": [
    "entero = 2\n",
    "flotante = 5.3\n",
    "lista = [1, 'Gato', 5.4]"
   ]
  },
  {
   "cell_type": "markdown",
   "metadata": {},
   "source": [
    "### Operadores:\n",
    "\n",
    "Existen algunos operadores adicionales que permiten realizar comparaciones o asignaciones, siendo muy útiles cuando realizamos ciclos o queremos evaluar condiciones. Estos operadores se detallan a continuación:\n",
    "\n",
    "\n",
    "|Función del Operador |Símbolos| \n",
    "| :-: | :-: | \n",
    "| Operadores de asignación | =, +=, -=, etc.| \n",
    "| Comparaciones | (==, !=, >, <. >=, <=) y (is, is not, in, not in)|\n",
    "| Booleanos | (and (&), not (~), or ) | \n",
    "\n",
    "Probemos algunos ejemplos:\n",
    "```python\n",
    "# Operadores de asignación\n",
    "a = 5\n",
    "a *= 2\n",
    "print(a)\n",
    "\n",
    "# Operadores de comparación\n",
    "a = 6\n",
    "print(a == 6)\n",
    "\n",
    "lista = [1, 'Gato', 5.4]\n",
    "b  = 'Gato'\n",
    "print(b in lista)\n",
    "\n",
    "# Operadores booleanos\n",
    "a = 6\n",
    "print(a==10 and a>5)\n",
    "```\n"
   ]
  },
  {
   "cell_type": "code",
   "execution_count": 10,
   "metadata": {},
   "outputs": [
    {
     "name": "stdout",
     "output_type": "stream",
     "text": [
      "10\n"
     ]
    }
   ],
   "source": [
    "a = 5\n",
    "a *= 2\n",
    "print(a)"
   ]
  },
  {
   "cell_type": "code",
   "execution_count": 11,
   "metadata": {},
   "outputs": [
    {
     "name": "stdout",
     "output_type": "stream",
     "text": [
      "True\n"
     ]
    }
   ],
   "source": [
    "a = 6\n",
    "print(a == 6)"
   ]
  },
  {
   "cell_type": "code",
   "execution_count": 12,
   "metadata": {},
   "outputs": [
    {
     "name": "stdout",
     "output_type": "stream",
     "text": [
      "True\n"
     ]
    }
   ],
   "source": [
    "lista = [1, 'Gato', 5.4]\n",
    "b  = 'Gato'\n",
    "print(b in lista)"
   ]
  },
  {
   "cell_type": "code",
   "execution_count": 13,
   "metadata": {},
   "outputs": [
    {
     "name": "stdout",
     "output_type": "stream",
     "text": [
      "False\n"
     ]
    }
   ],
   "source": [
    "a = 6\n",
    "print(a==10 and a>5)"
   ]
  },
  {
   "cell_type": "markdown",
   "metadata": {},
   "source": [
    "# 1. Estructuras Básicas"
   ]
  },
  {
   "attachments": {
    "lista_1.png": {
     "image/png": "[encoded data removed]"
    }
   },
   "cell_type": "markdown",
   "metadata": {},
   "source": [
    "## 1.1. ¿Qué es una lista?\n",
    "Una lista es una estructura de datos que permiten almacenar diferentes tipos de elementos (enteros, flotantes, cadenas de texto, listas, etc.) en un mismo objeto y el acceso a cada uno de sus elementos, se puede realizar por medio de su ubicación dentro de la lista, comenzando a contar a partir de cero, por ejemplo:\n",
    "\n",
    "![lista_1.png](attachment:lista_1.png)\n",
    "\n",
    "```python\n",
    "from termcolor import colored\n",
    "\n",
    "lista = [1, 'perro', [2, 3], 1.5, None, 1]\n",
    "\n",
    "print(lista)\n",
    "\n",
    "print(colored('\\nTercer elemento de la lista: ', 'blue'),\n",
    "      lista[2])\n",
    "\n",
    "print(colored('\\nPrimeros dos elementos de la lista: ', 'blue'),\n",
    "      lista[:2])\n",
    "\n",
    "print(colored('\\nÚltimo elemento de la lista: ', 'blue'),\n",
    "      lista[-1])\n",
    "\n",
    "```"
   ]
  },
  {
   "cell_type": "code",
   "execution_count": 14,
   "metadata": {},
   "outputs": [
    {
     "name": "stdout",
     "output_type": "stream",
     "text": [
      "[1, 'perro', [2, 3], 1.5, None, 1]\n"
     ]
    }
   ],
   "source": [
    "from termcolor import colored\n",
    "\n",
    "lista = [1, 'perro', [2, 3], 1.5, None, 1]\n",
    "\n",
    "print(lista)"
   ]
  },
  {
   "cell_type": "code",
   "execution_count": 15,
   "metadata": {},
   "outputs": [
    {
     "name": "stdout",
     "output_type": "stream",
     "text": [
      "\u001b[34m\n",
      "Tercer elemento de la lista: \u001b[0m [2, 3]\n"
     ]
    }
   ],
   "source": [
    "print(colored('\\nTercer elemento de la lista: ', 'blue'),\n",
    "      lista[2])"
   ]
  },
  {
   "cell_type": "code",
   "execution_count": 16,
   "metadata": {},
   "outputs": [
    {
     "name": "stdout",
     "output_type": "stream",
     "text": [
      "\u001b[34m\n",
      "Primeros dos elementos de la lista: \u001b[0m [1, 'perro']\n"
     ]
    }
   ],
   "source": [
    "print(colored('\\nPrimeros dos elementos de la lista: ', 'blue'),\n",
    "      lista[:2])"
   ]
  },
  {
   "cell_type": "code",
   "execution_count": 17,
   "metadata": {},
   "outputs": [
    {
     "name": "stdout",
     "output_type": "stream",
     "text": [
      "\u001b[34m\n",
      "Último elemento de la lista: \u001b[0m 1\n"
     ]
    }
   ],
   "source": [
    "print(colored('\\nÚltimo elemento de la lista: ', 'blue'),\n",
    "      lista[-1])"
   ]
  },
  {
   "cell_type": "markdown",
   "metadata": {},
   "source": [
    "También es posible conocer información sobre la lista y sus elementos con métodos como _type()_ o _len()_:\n",
    "\n",
    "```python\n",
    "lista = [1, 'perro', [2, 3], 1.5, None, 1]\n",
    "\n",
    "print(colored('\\nTipo de elemento de la posición 2 de la lista: ', 'blue'),\n",
    "      type(lista[2]))\n",
    "\n",
    "print(colored('\\nLongitud de la lista: ', 'blue'),\n",
    "      len(lista))\n",
    "\n",
    "print(colored('\\nTipo y longitud del segundo elemento de la lista: ', 'blue'),\n",
    "      f'{type(lista[1])} , {len(lista[1])}')\n",
    "\n",
    "```"
   ]
  },
  {
   "cell_type": "code",
   "execution_count": 18,
   "metadata": {},
   "outputs": [
    {
     "name": "stdout",
     "output_type": "stream",
     "text": [
      "\u001b[34m\n",
      "Tipo de elemento de la posición 2 de la lista: \u001b[0m <class 'list'>\n"
     ]
    }
   ],
   "source": [
    "print(colored('\\nTipo de elemento de la posición 2 de la lista: ', 'blue'),\n",
    "      type(lista[2]))"
   ]
  },
  {
   "cell_type": "code",
   "execution_count": 19,
   "metadata": {},
   "outputs": [
    {
     "name": "stdout",
     "output_type": "stream",
     "text": [
      "\u001b[34m\n",
      "Longitud de la lista: \u001b[0m 6\n"
     ]
    }
   ],
   "source": [
    "print(colored('\\nLongitud de la lista: ', 'blue'),\n",
    "      len(lista))"
   ]
  },
  {
   "cell_type": "code",
   "execution_count": 20,
   "metadata": {},
   "outputs": [
    {
     "name": "stdout",
     "output_type": "stream",
     "text": [
      "\u001b[34m\n",
      "Tipo y longitud del segundo elemento de la lista: \u001b[0m <class 'str'> , 5\n"
     ]
    }
   ],
   "source": [
    "print(colored('\\nTipo y longitud del segundo elemento de la lista: ', 'blue'),\n",
    "      f'{type(lista[1])} , {len(lista[1])}')"
   ]
  },
  {
   "cell_type": "markdown",
   "metadata": {},
   "source": [
    "Las listas son de tipo mutable, esto quiere decir que sus características pueden ser modificadas, lo que permite a las mismas crecer de manera dinámica, ejemplo:\n",
    "\n",
    "```python\n",
    "lista = [1, 'perro', [2, 3], 1.5, None, 1]\n",
    "\n",
    "lista.append('nuevo elemento')\n",
    "\n",
    "print(lista)\n",
    "\n",
    "# Removemos el segundo elemento de la lista:\n",
    "print(colored('\\nMétodo pop: ', 'blue'),\n",
    "      lista[2])\n",
    "\n",
    "lista.pop(2)\n",
    "\n",
    "print(lista)\n",
    "```"
   ]
  },
  {
   "cell_type": "code",
   "execution_count": 21,
   "metadata": {},
   "outputs": [
    {
     "name": "stdout",
     "output_type": "stream",
     "text": [
      "[1, 'perro', [2, 3], 1.5, None, 1, 'nuevo elemento']\n",
      "\u001b[34m\n",
      "Método pop: \u001b[0m [2, 3]\n",
      "[1, 'perro', 1.5, None, 1, 'nuevo elemento']\n"
     ]
    }
   ],
   "source": [
    "lista = [1, 'perro', [2, 3], 1.5, None, 1]\n",
    "\n",
    "lista.append('nuevo elemento')\n",
    "\n",
    "print(lista)\n",
    "\n",
    "# Removemos el segundo elemento de la lista:\n",
    "print(colored('\\nMétodo pop: ', 'blue'),\n",
    "      lista[2])\n",
    "\n",
    "lista.pop(2)\n",
    "\n",
    "print(lista)"
   ]
  },
  {
   "cell_type": "markdown",
   "metadata": {},
   "source": [
    "Esta propiedad de mutabilidad, hace que al realizar modificaciones sobre una lista, las mismas se realicen en todos los elementos que hagan uso de ella\n",
    "\n",
    "```python\n",
    "lista = [1, 'perro', [2, 3], 1.5, None, 1]\n",
    "\n",
    "lista2 = ['a', 'b', 'c', lista]\n",
    "\n",
    "print(colored('La lista 2 contiene la lista original: \\n', 'blue'),\n",
    "      lista2)\n",
    "```"
   ]
  },
  {
   "cell_type": "code",
   "execution_count": 22,
   "metadata": {},
   "outputs": [
    {
     "name": "stdout",
     "output_type": "stream",
     "text": [
      "\u001b[34mLa lista 2 contiene la lista original: \n",
      "\u001b[0m ['a', 'b', 'c', [1, 'perro', [2, 3], 1.5, None, 1]]\n"
     ]
    }
   ],
   "source": [
    "lista = [1, 'perro', [2, 3], 1.5, None, 1]\n",
    "\n",
    "lista2 = ['a', 'b', 'c', lista]\n",
    "\n",
    "print(colored('La lista 2 contiene la lista original: \\n', 'blue'),\n",
    "      lista2)"
   ]
  },
  {
   "cell_type": "markdown",
   "metadata": {},
   "source": [
    "Al modificar el segunto elemento de la lista original, también se modifica la lista2:\n",
    "\n",
    "```python\n",
    "lista[1] = 'Gato'\n",
    "\n",
    "print(colored('lista original modificada:\\n', 'blue'),\n",
    "      lista)\n",
    "\n",
    "print(colored('\\nlista 2:\\n', 'blue'),\n",
    "      lista2)\n",
    "```"
   ]
  },
  {
   "cell_type": "code",
   "execution_count": 23,
   "metadata": {},
   "outputs": [
    {
     "name": "stdout",
     "output_type": "stream",
     "text": [
      "\u001b[34mlista original modificada:\n",
      "\u001b[0m [1, 'Gato', [2, 3], 1.5, None, 1]\n",
      "\u001b[34m\n",
      "lista 2:\n",
      "\u001b[0m ['a', 'b', 'c', [1, 'Gato', [2, 3], 1.5, None, 1]]\n"
     ]
    }
   ],
   "source": [
    "lista[1] = 'Gato'\n",
    "\n",
    "print(colored('lista original modificada:\\n', 'blue'),\n",
    "      lista)\n",
    "\n",
    "print(colored('\\nlista 2:\\n', 'blue'),\n",
    "      lista2)"
   ]
  },
  {
   "cell_type": "markdown",
   "metadata": {},
   "source": [
    "Y si modificamos un elemento de `lista` que se encuentra contenida en `lista2`?\n",
    "\n",
    "### Ejercicio 1.1:\n",
    "- Modificar la lista que se encuentra contenida en `lista2`, cambiar el elemento con el nombre 'Gato' a 'Perro' y verificar qué pasa con ambas listas. Para acceder a esta posición deberá utilizar dos índices, el índice de la lista seguido por el índice del elemento en la segunda lista, ejemplo:\n",
    "\n",
    "```python\n",
    "lista_t = [1, 2, [3, 4], 5]\n",
    "print(f'Tercer elemento de lista_t: {lista_t[2]}')\n",
    "print(f'Segundo elemento de la lista que se encuentra en la tercer posición de lista_t: {lista_t[2][1]}')\n",
    "```\n",
    "\n"
   ]
  },
  {
   "cell_type": "code",
   "execution_count": 24,
   "metadata": {},
   "outputs": [
    {
     "name": "stdout",
     "output_type": "stream",
     "text": [
      "Lista 2 modificada ['a', 'b', 'c', [1, 'Perro', [2, 3], 1.5, None, 1]]\n",
      "Lista original insertada en lista 2 (fue modificada): [1, 'Perro', [2, 3], 1.5, None, 1]\n"
     ]
    }
   ],
   "source": [
    "lista2[3][1] = \"Perro\"\n",
    "print(f\"Lista 2 modificada {lista2}\")\n",
    "print(f\"Lista original insertada en lista 2 (fue modificada): {lista}\")"
   ]
  },
  {
   "cell_type": "markdown",
   "metadata": {},
   "source": [
    "¿Cómo hago para que esto no pase?\n",
    "\n",
    "- Probar el método copy(). Para esto vamos a redefinir las dos listas anteriores, la diferencia es que esta vez incluiremos en la lista2, la lista original seguida del método `.copy()`:\n",
    "\n",
    "```python\n",
    "lista = [1, 'perro', [2, 3], 1.5, None, 1]\n",
    "\n",
    "lista2 = ['a', 'b', 'c', lista.copy()]\n",
    "\n",
    "```"
   ]
  },
  {
   "cell_type": "code",
   "execution_count": 25,
   "metadata": {},
   "outputs": [
    {
     "name": "stdout",
     "output_type": "stream",
     "text": [
      "['a', 'b', 'c', [1, 'perro', [2, 3], 1.5, None, 1]]\n"
     ]
    }
   ],
   "source": [
    "lista = [1, 'perro', [2, 3], 1.5, None, 1]\n",
    "\n",
    "lista2 = ['a', 'b', 'c', lista.copy()]\n",
    "\n",
    "print(lista2)"
   ]
  },
  {
   "cell_type": "code",
   "execution_count": 26,
   "metadata": {},
   "outputs": [
    {
     "name": "stdout",
     "output_type": "stream",
     "text": [
      "Lista 2 modificada ['a', 'b', 'c', [1, 'Gato', [2, 3], 1.5, None, 1]]\n",
      "Lista original insertada en lista 2 (fue modificada): [1, 'perro', [2, 3], 1.5, None, 1]\n"
     ]
    }
   ],
   "source": [
    "lista2[3][1] = \"Gato\"\n",
    "print(f\"Lista 2 modificada {lista2}\")\n",
    "print(f\"Lista original insertada en lista 2 (fue modificada): {lista}\")"
   ]
  },
  {
   "cell_type": "markdown",
   "metadata": {},
   "source": [
    "En caso de querer hacer una copia recursiva de los elementos, también podemos hacer uso de la librería copy:\n",
    "\n",
    "```python\n",
    "import copy\n",
    "\n",
    "# Creamos una una copia profunda de la lista anidada 'lista2'\n",
    "\n",
    "lista3 = copy.deepcopy(lista2)\n",
    "\n",
    "# Imprimamos nuestras listas:\n",
    "print(colored('lista 2:\\n', 'blue'), lista2)\n",
    "print(colored('lista 3:\\n', 'blue'), lista3)\n",
    "\n",
    "# probemos modificar el elemento [3][2][1]\n",
    "lista3[3][2][1] = 9\n",
    "print(colored('lista 2:\\n', 'blue'), lista2)\n",
    "print(colored('lista 3 modificada:\\n', 'blue'), lista3)\n",
    "```"
   ]
  },
  {
   "cell_type": "code",
   "execution_count": 27,
   "metadata": {},
   "outputs": [
    {
     "name": "stdout",
     "output_type": "stream",
     "text": [
      "\u001b[34mlista 2:\n",
      "\u001b[0m ['a', 'b', 'c', [1, 'Gato', [2, 3], 1.5, None, 1]]\n",
      "\u001b[34mlista 3:\n",
      "\u001b[0m ['a', 'b', 'c', [1, 'Gato', [2, 3], 1.5, None, 1]]\n",
      "\u001b[34mlista 2:\n",
      "\u001b[0m ['a', 'b', 'c', [1, 'Gato', [2, 3], 1.5, None, 1]]\n",
      "\u001b[34mlista 3 modificada:\n",
      "\u001b[0m ['a', 'b', 'c', [1, 'Gato', [2, 9], 1.5, None, 1]]\n"
     ]
    }
   ],
   "source": [
    "import copy\n",
    "\n",
    "# Creamos una una copia profunda de la lista anidada 'lista2'\n",
    "\n",
    "lista3 = copy.deepcopy(lista2)\n",
    "\n",
    "# Imprimamos nuestras listas:\n",
    "print(colored('lista 2:\\n', 'blue'), lista2)\n",
    "print(colored('lista 3:\\n', 'blue'), lista3)\n",
    "\n",
    "# probemos modificar el elemento [3][2][1]\n",
    "lista3[3][2][1] = 9\n",
    "print(colored('lista 2:\\n', 'blue'), lista2)\n",
    "print(colored('lista 3 modificada:\\n', 'blue'), lista3)"
   ]
  },
  {
   "cell_type": "markdown",
   "metadata": {},
   "source": [
    "También podemos iterar sobre una lista. Por ejemplo, si queremos conocer todas las posiciones en nuestra _lista_ donde el valor de nuestro elemento sea _1_ podemos: \n",
    "\n",
    "```python\n",
    "\n",
    "print(lista)\n",
    "posiciones = []\n",
    "\n",
    "for pos, val in enumerate(lista):\n",
    "    if val == 1:\n",
    "        posiciones.append(pos)\n",
    "\n",
    "print(colored('Posiciones donde nuestro elemento vale 1:\\n', 'blue'),\n",
    "      posiciones)\n",
    "```\n"
   ]
  },
  {
   "cell_type": "code",
   "execution_count": 28,
   "metadata": {},
   "outputs": [
    {
     "name": "stdout",
     "output_type": "stream",
     "text": [
      "[1, 'perro', [2, 3], 1.5, None, 1]\n",
      "\u001b[34mPosiciones donde nuestro elemento vale 1:\n",
      "\u001b[0m [0, 5]\n"
     ]
    }
   ],
   "source": [
    "print(lista)\n",
    "posiciones = []\n",
    "\n",
    "for pos, val in enumerate(lista):\n",
    "    if val == 1:\n",
    "        posiciones.append(pos)\n",
    "\n",
    "print(colored('Posiciones donde nuestro elemento vale 1:\\n', 'blue'),\n",
    "      posiciones)"
   ]
  },
  {
   "cell_type": "markdown",
   "metadata": {},
   "source": [
    "O por comprensión de listas:\n",
    "```python\n",
    "posiciones = [pos for pos, val in enumerate(lista) if val == 1]\n",
    "\n",
    "print(colored('Posiciones donde nuestro elemento vale 1:\\n', 'blue'),\n",
    "      posiciones)\n",
    "```"
   ]
  },
  {
   "cell_type": "code",
   "execution_count": 29,
   "metadata": {},
   "outputs": [
    {
     "name": "stdout",
     "output_type": "stream",
     "text": [
      "\u001b[34mPosiciones donde nuestro elemento vale 1:\n",
      "\u001b[0m [0, 5]\n"
     ]
    }
   ],
   "source": [
    "posiciones = [pos for pos, val in enumerate(lista) if val == 1]\n",
    "\n",
    "print(colored('Posiciones donde nuestro elemento vale 1:\\n', 'blue'),\n",
    "      posiciones)"
   ]
  },
  {
   "cell_type": "markdown",
   "metadata": {},
   "source": [
    "Para conocer más sobre listas y sus métodos consultar el siguiente [enlace](https://docs.python.org/es/3/tutorial/datastructures.html)"
   ]
  },
  {
   "cell_type": "markdown",
   "metadata": {},
   "source": [
    "## 1.2. ¿Qué es una tupla?\n",
    "Una tupla es una estructura iterable similar a las listas. Permiten almacenar diferentes tipos de elementos (enteros, flotantes, cadenas de texto, listas, etc.) en un mismo objeto y el acceso a cada uno de sus elementos se realiza, al igual que las listas, por su ubicación en la misma. Sin embargo, a diferencia de las listas, las tuplas son estructuras que no son mutables, es decir, sus valores son fijos. Ejemplo:\n",
    "\n",
    "```python\n",
    "a = (1, 'Gato', 3)\n",
    "\n",
    "print(colored('El elemento almacenado en a es de tipo: ', 'blue'),\n",
    "      type(a))\n",
    "\n",
    "print(colored('El segundo elemento de a es: ', 'blue'),\n",
    "      a[1])\n",
    "\n",
    "# Intentando modificar una tupla:\n",
    "a[0] = 5\n",
    "```"
   ]
  },
  {
   "cell_type": "code",
   "execution_count": 30,
   "metadata": {},
   "outputs": [
    {
     "name": "stdout",
     "output_type": "stream",
     "text": [
      "\u001b[34mEl elemento almacenado en a es de tipo: \u001b[0m <class 'tuple'>\n",
      "\u001b[34mEl segundo elemento de a es: \u001b[0m Gato\n"
     ]
    },
    {
     "ename": "TypeError",
     "evalue": "'tuple' object does not support item assignment",
     "output_type": "error",
     "traceback": [
      "\u001b[1;31m---------------------------------------------------------------------------\u001b[0m",
      "\u001b[1;31mTypeError\u001b[0m                                 Traceback (most recent call last)",
      "Cell \u001b[1;32mIn[30], line 10\u001b[0m\n\u001b[0;32m      6\u001b[0m \u001b[38;5;28mprint\u001b[39m(colored(\u001b[38;5;124m'\u001b[39m\u001b[38;5;124mEl segundo elemento de a es: \u001b[39m\u001b[38;5;124m'\u001b[39m, \u001b[38;5;124m'\u001b[39m\u001b[38;5;124mblue\u001b[39m\u001b[38;5;124m'\u001b[39m),\n\u001b[0;32m      7\u001b[0m       a[\u001b[38;5;241m1\u001b[39m])\n\u001b[0;32m      9\u001b[0m \u001b[38;5;66;03m# Intentando modificar una tupla:\u001b[39;00m\n\u001b[1;32m---> 10\u001b[0m \u001b[43ma\u001b[49m\u001b[43m[\u001b[49m\u001b[38;5;241;43m0\u001b[39;49m\u001b[43m]\u001b[49m \u001b[38;5;241m=\u001b[39m \u001b[38;5;241m5\u001b[39m\n",
      "\u001b[1;31mTypeError\u001b[0m: 'tuple' object does not support item assignment"
     ]
    }
   ],
   "source": [
    "a = (1, 'Gato', 3)\n",
    "\n",
    "print(colored('El elemento almacenado en a es de tipo: ', 'blue'),\n",
    "      type(a))\n",
    "\n",
    "print(colored('El segundo elemento de a es: ', 'blue'),\n",
    "      a[1])\n",
    "\n",
    "# Intentando modificar una tupla:\n",
    "a[0] = 5"
   ]
  },
  {
   "cell_type": "markdown",
   "metadata": {},
   "source": [
    "En caso de querer modificar nuestros elementos deberíamos cambiar el tipo de objeto de tupla a uno mutable. Esta acción es posible realizarla mediante los comandos list() y tuple():\n",
    "\n",
    "```python\n",
    "list(a)\n",
    "```"
   ]
  },
  {
   "cell_type": "code",
   "execution_count": 31,
   "metadata": {},
   "outputs": [
    {
     "name": "stdout",
     "output_type": "stream",
     "text": [
      "\u001b[34mEl elemento almacenado en a es de tipo: \u001b[0m <class 'tuple'>\n",
      "\u001b[34mEl segundo elemento de a es: \u001b[0m Gato\n",
      "[5, 'Gato', 3]\n"
     ]
    }
   ],
   "source": [
    "a = (1, 'Gato', 3)\n",
    "\n",
    "print(colored('El elemento almacenado en a es de tipo: ', 'blue'),\n",
    "      type(a))\n",
    "\n",
    "print(colored('El segundo elemento de a es: ', 'blue'),\n",
    "      a[1])\n",
    "\n",
    "a = list(a)\n",
    "\n",
    "# Intentando modificar una tupla:\n",
    "a[0] = 5\n",
    "\n",
    "print(a)"
   ]
  },
  {
   "attachments": {
    "diccionario_1.png": {
     "image/png": "[encoded data removed]"
    }
   },
   "cell_type": "markdown",
   "metadata": {},
   "source": [
    "## 1.3. ¿Qué es un diccionario?\n",
    "Los diccionarios son estructuras de datos que, al igual que las listas y las tuplas, permiten almacenar diferentes tipos de datos, sin embargo, a diferencia de estas los elementos no son indexados, sino que se almacenan de la forma llave y valor, donde la llave corresponde a un identificador único que permite acceder al elemento. Un diccionario se define entre llaves {}, cada uno de sus elementos se encuentra separado por comas (,) y cada par {llave: valor} se separa por dos puntos (:)\n",
    "\n",
    "![diccionario_1.png](attachment:diccionario_1.png)\n",
    "\n",
    "Veamos esto con ejemplos:\n",
    "\n",
    "```python\n",
    "dic = {'a': 1, 'b': 2, 'c': 'Perro'}\n",
    "print(dic)\n",
    "```"
   ]
  },
  {
   "cell_type": "code",
   "execution_count": 32,
   "metadata": {},
   "outputs": [
    {
     "name": "stdout",
     "output_type": "stream",
     "text": [
      "{'a': 1, 'b': 2, 'c': 'Perro'}\n"
     ]
    }
   ],
   "source": [
    "dic = {'a': 1, 'b': 2, 'c': 'Perro'}\n",
    "print(dic)"
   ]
  },
  {
   "cell_type": "markdown",
   "metadata": {},
   "source": [
    "Podemos conocer tanto las llaves como los valores de un diccionario haciendo uso de sus métodos keys() y values():\n",
    "\n",
    "```python\n",
    "print(colored('Las llaves de nuestro diccionario son: \\n', 'blue'),\n",
    "      dic.keys())\n",
    "\n",
    "print(colored('\\nLos valores de nuestro diccionario son: \\n', 'blue'),\n",
    "      dic.values())\n",
    "```"
   ]
  },
  {
   "cell_type": "code",
   "execution_count": 33,
   "metadata": {},
   "outputs": [
    {
     "name": "stdout",
     "output_type": "stream",
     "text": [
      "\u001b[34mLas llaves de nuestro diccionario son: \n",
      "\u001b[0m dict_keys(['a', 'b', 'c'])\n",
      "\u001b[34m\n",
      "Los valores de nuestro diccionario son: \n",
      "\u001b[0m dict_values([1, 2, 'Perro'])\n"
     ]
    }
   ],
   "source": [
    "print(colored('Las llaves de nuestro diccionario son: \\n', 'blue'),\n",
    "      dic.keys())\n",
    "\n",
    "print(colored('\\nLos valores de nuestro diccionario son: \\n', 'blue'),\n",
    "      dic.values())"
   ]
  },
  {
   "cell_type": "markdown",
   "metadata": {},
   "source": [
    "Así como recuperar todos los elementos como una lista de tuplas, donde cada tupla corresponde a un par (llave, valor):\n",
    "\n",
    "```python\n",
    "print(dic.items())\n",
    "```"
   ]
  },
  {
   "cell_type": "code",
   "execution_count": 34,
   "metadata": {},
   "outputs": [
    {
     "name": "stdout",
     "output_type": "stream",
     "text": [
      "dict_items([('a', 1), ('b', 2), ('c', 'Perro')])\n"
     ]
    }
   ],
   "source": [
    "print(dic.items())"
   ]
  },
  {
   "cell_type": "markdown",
   "metadata": {},
   "source": [
    "Adicionalmente, podemos recorrer los elementos del diccionario. Ejemplos:\n",
    "\n",
    "```python\n",
    "# Recorramos las llaves:\n",
    "for k in dic:\n",
    "    print(k)\n",
    "\n",
    "# Recorramos los valores:\n",
    "for v in dic.values():\n",
    "    print(v)\n",
    "\n",
    "# Recorramos ambos:\n",
    "for k, v in dic.items():\n",
    "    print(f'llave: {k}, valor: {v}')\n",
    "```"
   ]
  },
  {
   "cell_type": "code",
   "execution_count": 35,
   "metadata": {},
   "outputs": [
    {
     "name": "stdout",
     "output_type": "stream",
     "text": [
      "a\n",
      "b\n",
      "c\n",
      "1\n",
      "2\n",
      "Perro\n",
      "llave: a, valor: 1\n",
      "llave: b, valor: 2\n",
      "llave: c, valor: Perro\n"
     ]
    }
   ],
   "source": [
    "# Recorramos las llaves:\n",
    "for k in dic:\n",
    "    print(k)\n",
    "\n",
    "# Recorramos los valores:\n",
    "for v in dic.values():\n",
    "    print(v)\n",
    "\n",
    "# Recorramos ambos:\n",
    "for k, v in dic.items():\n",
    "    print(f'llave: {k}, valor: {v}')"
   ]
  },
  {
   "cell_type": "markdown",
   "metadata": {},
   "source": [
    "Ahora bien, los diccionarios pueden ser creados de diferentes maneras, a continuación les presentaremos algunas alternativas tomando datos extraídos de la página de [Datos Agroindustriales](https://datos.magyp.gob.ar/dataset/estimaciones-agricolas) del Ministerio de Agricultura Ganadería y Pesca de Argentina:\n",
    "\n",
    "```python\n",
    "# Forma simple\n",
    "dic1 = {'id_provincia': 14,\n",
    "        'provincia': 'Cordoba',\n",
    "        'id_departamento': 63,\n",
    "        'departamento': 'Marcos Juarez',\n",
    "        'id_cultivo': 34,\n",
    "        'cultivo': 'Soja 1ra',\n",
    "        'id_campaña': 50,\n",
    "        'campaña': '2018/2019',\n",
    "        'sup_sembrada': 333319,\n",
    "        'sup_cosechada': 319179,\n",
    "        'produccion': 1390982,\n",
    "        'rendimiento': 4358}\n",
    "\n",
    "print(dic1)\n",
    "print(type(dic1))\n",
    "```"
   ]
  },
  {
   "cell_type": "code",
   "execution_count": 36,
   "metadata": {},
   "outputs": [
    {
     "name": "stdout",
     "output_type": "stream",
     "text": [
      "{'id_provincia': 14, 'provincia': 'Cordoba', 'id_departamento': 63, 'departamento': 'Marcos Juarez', 'id_cultivo': 34, 'cultivo': 'Soja 1ra', 'id_campaña': 50, 'campaña': '2018/2019', 'sup_sembrada': 333319, 'sup_cosechada': 319179, 'produccion': 1390982, 'rendimiento': 4358}\n",
      "<class 'dict'>\n"
     ]
    }
   ],
   "source": [
    "dic1 = {'id_provincia': 14,\n",
    "        'provincia': 'Cordoba',\n",
    "        'id_departamento': 63,\n",
    "        'departamento': 'Marcos Juarez',\n",
    "        'id_cultivo': 34,\n",
    "        'cultivo': 'Soja 1ra',\n",
    "        'id_campaña': 50,\n",
    "        'campaña': '2018/2019',\n",
    "        'sup_sembrada': 333319,\n",
    "        'sup_cosechada': 319179,\n",
    "        'produccion': 1390982,\n",
    "        'rendimiento': 4358}\n",
    "\n",
    "print(dic1)\n",
    "print(type(dic1))"
   ]
  },
  {
   "cell_type": "markdown",
   "metadata": {},
   "source": [
    "```python\n",
    "# A partir de argumentos con nombre\n",
    "dic2 = dict(id_provincia=14,\n",
    "            provincia='Cordoba',\n",
    "            id_departamento=63,\n",
    "            departamento='Marcos Juarez',\n",
    "            id_cultivo=34,\n",
    "            cultivo='Soja 1ra',\n",
    "            id_campaña=50,\n",
    "            campaña='2018/2019',\n",
    "            sup_sembrada=333319,\n",
    "            sup_cosechada=319179,\n",
    "            produccion=1390982,\n",
    "            rendimiento=4358)\n",
    "\n",
    "print(dic2)\n",
    "```"
   ]
  },
  {
   "cell_type": "code",
   "execution_count": 37,
   "metadata": {},
   "outputs": [
    {
     "name": "stdout",
     "output_type": "stream",
     "text": [
      "{'id_provincia': 14, 'provincia': 'Cordoba', 'id_departamento': 63, 'departamento': 'Marcos Juarez', 'id_cultivo': 34, 'cultivo': 'Soja 1ra', 'id_campaña': 50, 'campaña': '2018/2019', 'sup_sembrada': 333319, 'sup_cosechada': 319179, 'produccion': 1390982, 'rendimiento': 4358}\n"
     ]
    }
   ],
   "source": [
    "dic2 = dict(id_provincia=14,\n",
    "            provincia='Cordoba',\n",
    "            id_departamento=63,\n",
    "            departamento='Marcos Juarez',\n",
    "            id_cultivo=34,\n",
    "            cultivo='Soja 1ra',\n",
    "            id_campaña=50,\n",
    "            campaña='2018/2019',\n",
    "            sup_sembrada=333319,\n",
    "            sup_cosechada=319179,\n",
    "            produccion=1390982,\n",
    "            rendimiento=4358)\n",
    "\n",
    "print(dic2)"
   ]
  },
  {
   "cell_type": "markdown",
   "metadata": {},
   "source": [
    "```python\n",
    "# A partir de listas\n",
    "\n",
    "llaves = ['id_provincia',\n",
    "          'provincia',\n",
    "          'id_departamento',\n",
    "          'departamento',\n",
    "          'id_cultivo',\n",
    "          'cultivo',\n",
    "          'id_campaña',\n",
    "          'campaña',\n",
    "          'sup_sembrada',\n",
    "          'sup_cosechada',\n",
    "          'produccion',\n",
    "          'rendimiento']\n",
    "\n",
    "valores = [14,\n",
    "           'Cordoba',\n",
    "           63,\n",
    "           'Marcos Juarez',\n",
    "           34,\n",
    "           'Soja 1ra',\n",
    "           50,\n",
    "           '2018/2019',\n",
    "           333319,\n",
    "           319179,\n",
    "           1390982,\n",
    "           4358]\n",
    "```"
   ]
  },
  {
   "cell_type": "code",
   "execution_count": 38,
   "metadata": {},
   "outputs": [],
   "source": [
    "llaves = ['id_provincia',\n",
    "          'provincia',\n",
    "          'id_departamento',\n",
    "          'departamento',\n",
    "          'id_cultivo',\n",
    "          'cultivo',\n",
    "          'id_campaña',\n",
    "          'campaña',\n",
    "          'sup_sembrada',\n",
    "          'sup_cosechada',\n",
    "          'produccion',\n",
    "          'rendimiento']\n",
    "\n",
    "valores = [14,\n",
    "           'Cordoba',\n",
    "           63,\n",
    "           'Marcos Juarez',\n",
    "           34,\n",
    "           'Soja 1ra',\n",
    "           50,\n",
    "           '2018/2019',\n",
    "           333319,\n",
    "           319179,\n",
    "           1390982,\n",
    "           4358]"
   ]
  },
  {
   "cell_type": "markdown",
   "metadata": {},
   "source": [
    "Aquí vamos a tener en cuenta dos formas, asumiendo que nuestras dos listas contienen el mismo número de elementos y se encuentran ordenadas, es decir, que cada posición de la lista valor corresponde a la misma posición en la lista llaves. La primera consiste en crear un diccionario vacío e ir agregando valores:\n",
    "```python\n",
    "dic3 = {}  # Definimos nuestro diccionario vacío\n",
    "print(dic3)\n",
    "\n",
    "dic3['valor1'] = 5  # Agregamos un nuevo valor\n",
    "print(dic3)\n",
    "```"
   ]
  },
  {
   "cell_type": "markdown",
   "metadata": {},
   "source": [
    "Teniendo en cuenta lo anterior, vamos a iterar sobre nuestras listas \n",
    "```python\n",
    "dic3 = {}\n",
    "for pos, key in enumerate(llaves):\n",
    "    dic3[key] = valores[pos]\n",
    "\n",
    "# O por comprensión:\n",
    "# dic3 = {key:valores[pos] for pos, key in enumerate(llaves)}\n",
    "\n",
    "print(dic3)\n",
    "```"
   ]
  },
  {
   "cell_type": "code",
   "execution_count": 39,
   "metadata": {},
   "outputs": [
    {
     "name": "stdout",
     "output_type": "stream",
     "text": [
      "{'id_provincia': 14, 'provincia': 'Cordoba', 'id_departamento': 63, 'departamento': 'Marcos Juarez', 'id_cultivo': 34, 'cultivo': 'Soja 1ra', 'id_campaña': 50, 'campaña': '2018/2019', 'sup_sembrada': 333319, 'sup_cosechada': 319179, 'produccion': 1390982, 'rendimiento': 4358}\n"
     ]
    }
   ],
   "source": [
    "dic3 = {}\n",
    "for pos, key in enumerate(llaves):\n",
    "    dic3[key] = valores[pos]\n",
    "\n",
    "# O por comprensión:\n",
    "# dic3 = {key:valores[pos] for pos, key in enumerate(llaves)}\n",
    "\n",
    "print(dic3)"
   ]
  },
  {
   "cell_type": "markdown",
   "metadata": {},
   "source": [
    "La segunda forma es utilizando la fución _zip()_. Esta función forma pares de elementos entre las listas teniendo en cuenta sus posiciones. Veamos como funciona:\n",
    "\n",
    "```python\n",
    "x = zip(llaves, valores)\n",
    "print(x)\n",
    "```\n",
    "\n",
    "Si queremos entender lo que hace, podemos indicar que se ejecute, para lo cual utilizaremos la función _list()_:\n",
    "\n",
    "```python\n",
    "print(list(x))\n",
    "```\n",
    "\n",
    "Como convertir esto en un diccionario?\n",
    "\n",
    "Probemos ahora la función _dict()_.\n",
    "```python\n",
    "dict(zip(llaves, valores))\n",
    "```"
   ]
  },
  {
   "cell_type": "code",
   "execution_count": 40,
   "metadata": {},
   "outputs": [
    {
     "name": "stdout",
     "output_type": "stream",
     "text": [
      "<zip object at 0x0000023E2A7F6500>\n"
     ]
    }
   ],
   "source": [
    "x = zip(llaves, valores)\n",
    "print(x)"
   ]
  },
  {
   "cell_type": "code",
   "execution_count": 41,
   "metadata": {},
   "outputs": [
    {
     "name": "stdout",
     "output_type": "stream",
     "text": [
      "[('id_provincia', 14), ('provincia', 'Cordoba'), ('id_departamento', 63), ('departamento', 'Marcos Juarez'), ('id_cultivo', 34), ('cultivo', 'Soja 1ra'), ('id_campaña', 50), ('campaña', '2018/2019'), ('sup_sembrada', 333319), ('sup_cosechada', 319179), ('produccion', 1390982), ('rendimiento', 4358)]\n"
     ]
    }
   ],
   "source": [
    "print(list(x))"
   ]
  },
  {
   "cell_type": "code",
   "execution_count": 42,
   "metadata": {},
   "outputs": [
    {
     "data": {
      "text/plain": [
       "{'id_provincia': 14,\n",
       " 'provincia': 'Cordoba',\n",
       " 'id_departamento': 63,\n",
       " 'departamento': 'Marcos Juarez',\n",
       " 'id_cultivo': 34,\n",
       " 'cultivo': 'Soja 1ra',\n",
       " 'id_campaña': 50,\n",
       " 'campaña': '2018/2019',\n",
       " 'sup_sembrada': 333319,\n",
       " 'sup_cosechada': 319179,\n",
       " 'produccion': 1390982,\n",
       " 'rendimiento': 4358}"
      ]
     },
     "execution_count": 42,
     "metadata": {},
     "output_type": "execute_result"
    }
   ],
   "source": [
    "dict(zip(llaves, valores))"
   ]
  },
  {
   "cell_type": "markdown",
   "metadata": {},
   "source": [
    "Por otro lado, como mencionamos anteriormente, los valores en el diccionario no son indexados numéricamente, es decir, no podemos acceder a una determinada posición con números, si lo podemos hacer por medio de su llave, por ejemplo:\n",
    "\n",
    "```python\n",
    "print(dic3['id_provincia'])\n",
    "\n",
    "print(dic3.get('id_provincia'))\n",
    "```\n",
    "\n",
    "Prueben las dos líneas ejecutadas anteriormente alterando la llave por una no existente en el diccionario.\n",
    "¿Qué diferencia notaste entre ambas?"
   ]
  },
  {
   "cell_type": "code",
   "execution_count": 43,
   "metadata": {},
   "outputs": [
    {
     "name": "stdout",
     "output_type": "stream",
     "text": [
      "14\n",
      "14\n"
     ]
    }
   ],
   "source": [
    "print(dic3['id_provincia'])\n",
    "\n",
    "print(dic3.get('id_provincia'))"
   ]
  },
  {
   "cell_type": "markdown",
   "metadata": {},
   "source": [
    "### Ejercicio 1.2: \n",
    "\n",
    "Dado el diccionario:\n",
    "\n",
    "```python\n",
    "dic = {'id_provincia': 14,\n",
    "       'provincia': 'Cordoba',\n",
    "       'id_departamento': 63,\n",
    "       'departamento': 'Marcos Juarez',\n",
    "       'id_cultivo': 34,\n",
    "       'cultivo': 'Soja 1ra',\n",
    "       'id_campaña': 50,\n",
    "       'campaña': '2018/2019',\n",
    "       'sup_sembrada': 333319,\n",
    "       'sup_cosechada': 319179,\n",
    "       'produccion': 1390982,\n",
    "       'rendimiento': 4358}\n",
    "```\n",
    "así como la lista:\n",
    "\n",
    "```python\n",
    "lista = ['provincia', 'cultivo', 'campaña', 'produccion']\n",
    "```\n",
    "\n",
    "A partir de la variable _dic_, crear un nuevo diccionario que contenga únicamente las llaves de la lista.\n",
    "\n",
    "<!-- <span style=\"color:blue\">Recomendación</span>: Recuerda la forma simple de crear un diccionario y la comprensión de listas. -->"
   ]
  },
  {
   "cell_type": "code",
   "execution_count": 44,
   "metadata": {},
   "outputs": [],
   "source": [
    "dic = {'id_provincia': 14,\n",
    "       'provincia': 'Cordoba',\n",
    "       'id_departamento': 63,\n",
    "       'departamento': 'Marcos Juarez',\n",
    "       'id_cultivo': 34,\n",
    "       'cultivo': 'Soja 1ra',\n",
    "       'id_campaña': 50,\n",
    "       'campaña': '2018/2019',\n",
    "       'sup_sembrada': 333319,\n",
    "       'sup_cosechada': 319179,\n",
    "       'produccion': 1390982,\n",
    "       'rendimiento': 4358}\n",
    "\n",
    "lista = ['provincia', 'cultivo', 'campaña', 'produccion']"
   ]
  },
  {
   "cell_type": "code",
   "execution_count": 45,
   "metadata": {},
   "outputs": [
    {
     "data": {
      "text/plain": [
       "{'provincia': 'Cordoba',\n",
       " 'cultivo': 'Soja 1ra',\n",
       " 'campaña': '2018/2019',\n",
       " 'produccion': 1390982}"
      ]
     },
     "execution_count": 45,
     "metadata": {},
     "output_type": "execute_result"
    }
   ],
   "source": [
    "# Resolución\n",
    "\n",
    "dict_res = {key: value for key, value in dic.items() if key in lista}\n",
    "\n",
    "dict_res"
   ]
  },
  {
   "cell_type": "markdown",
   "metadata": {},
   "source": [
    "# 2. Librería Numpy\n",
    "Numpy es una librería que se especializa en el manejo objetos de tipo array de n dimensiones. Es utilizada como base en la mayoría de paquetes científicos de Python como por ejemplo Pandas, Scikit-learn, además de paquetes de visualización como Matplotlib.\n",
    "\n",
    "## 2.1. ¿Cómo se importa numpy?\n",
    "Para importar una librería en python, normalmente se hace uso de la palabra _import_, donde es muy común que se utilice un _alias_ para modificar su nombre, esto se hace por medio de la palabra _as_. Por ejemplo, al importar la librería numpy, en la mayoría de la documentación que encontremos vamos a ver que se se utiliza el _alias_ _\"np\"_, de esta manera, siempre utilizaremos este _alias_ para invocar las diferentes funciones de esta librería:  \n",
    "\n",
    "```python\n",
    "import numpy as np\n",
    "\n",
    "print(colored('Versión de numpy: ', 'blue'), np.__version__)\n",
    "```\n"
   ]
  },
  {
   "cell_type": "code",
   "execution_count": 46,
   "metadata": {},
   "outputs": [
    {
     "name": "stdout",
     "output_type": "stream",
     "text": [
      "\u001b[34mVersión de numpy: \u001b[0m 2.0.2\n"
     ]
    }
   ],
   "source": [
    "import numpy as np\n",
    "\n",
    "print(colored('Versión de numpy: ', 'blue'), np.__version__)"
   ]
  },
  {
   "cell_type": "markdown",
   "metadata": {},
   "source": [
    "## 2.2 ¿Qué es un Array?\n",
    "Un array es un arreglo de n dimensiones, donde cada elemento contiene valores del mismo tipo (float, int, etc.), por ejemplo:\n",
    "\n",
    "```python\n",
    "# arr = np.arange(12).reshape(3, 4)\n",
    "arr = np.array([[0,  1,  2,  3],\n",
    "                [4,  5,  6,  7],\n",
    "                [8,  9, 10, 11]])\n",
    "\n",
    "print(colored('Array creado:\\n', 'blue'),\n",
    "      arr)\n",
    "\n",
    "print(colored('\\nDimensiones:', 'blue'),\n",
    "      arr.shape)\n",
    "\n",
    "print(colored('\\nTipo de objeto:', 'blue'),\n",
    "      type(arr))\n",
    "\n",
    "print(colored('\\nTipo de dato:', 'blue'),\n",
    "      arr.dtype)\n",
    "```"
   ]
  },
  {
   "cell_type": "code",
   "execution_count": 47,
   "metadata": {},
   "outputs": [
    {
     "name": "stdout",
     "output_type": "stream",
     "text": [
      "\u001b[34mArray creado:\n",
      "\u001b[0m [[ 0  1  2  3]\n",
      " [ 4  5  6  7]\n",
      " [ 8  9 10 11]]\n",
      "\u001b[34m\n",
      "Dimensiones:\u001b[0m (3, 4)\n",
      "\u001b[34m\n",
      "Tipo de objeto:\u001b[0m <class 'numpy.ndarray'>\n",
      "\u001b[34m\n",
      "Tipo de dato:\u001b[0m int64\n"
     ]
    }
   ],
   "source": [
    "# arr = np.arange(12).reshape(3, 4)\n",
    "arr = np.array([[0,  1,  2,  3],\n",
    "                [4,  5,  6,  7],\n",
    "                [8,  9, 10, 11]])\n",
    "\n",
    "print(colored('Array creado:\\n', 'blue'),\n",
    "      arr)\n",
    "\n",
    "print(colored('\\nDimensiones:', 'blue'),\n",
    "      arr.shape)\n",
    "\n",
    "print(colored('\\nTipo de objeto:', 'blue'),\n",
    "      type(arr))\n",
    "\n",
    "print(colored('\\nTipo de dato:', 'blue'),\n",
    "      arr.dtype)"
   ]
  },
  {
   "cell_type": "markdown",
   "metadata": {},
   "source": [
    "Existen diversas formas de crear un array, por ahora vamos a nombrar solo algunas, sin embargo podemos consultar más información en este [enlace](https://numpy.org/doc/stable/user/basics.creation.html#arrays-creation):\n",
    "\n",
    "```python\n",
    "# A partir de una lista:\n",
    "lista = [4, 6, 5, 7]\n",
    "arr = np.array(lista)\n",
    "\n",
    "print(colored('Array creado:', 'blue'),\n",
    "      arr)\n",
    "\n",
    "print(colored('\\nTipo de objeto:', 'blue'),\n",
    "      type(arr))\n",
    "\n",
    "print(colored('\\nTipo de dato:', 'blue'),\n",
    "      arr.dtype)\n",
    "```"
   ]
  },
  {
   "cell_type": "code",
   "execution_count": 48,
   "metadata": {},
   "outputs": [
    {
     "name": "stdout",
     "output_type": "stream",
     "text": [
      "\u001b[34mArray creado:\u001b[0m [4 6 5 7]\n",
      "\u001b[34m\n",
      "Tipo de objeto:\u001b[0m <class 'numpy.ndarray'>\n",
      "\u001b[34m\n",
      "Tipo de dato:\u001b[0m int64\n"
     ]
    }
   ],
   "source": [
    "# A partir de una lista:\n",
    "lista = [4, 6, 5, 7]\n",
    "arr = np.array(lista)\n",
    "\n",
    "print(colored('Array creado:', 'blue'),\n",
    "      arr)\n",
    "\n",
    "print(colored('\\nTipo de objeto:', 'blue'),\n",
    "      type(arr))\n",
    "\n",
    "print(colored('\\nTipo de dato:', 'blue'),\n",
    "      arr.dtype)"
   ]
  },
  {
   "cell_type": "markdown",
   "metadata": {},
   "source": [
    "A partir de una tupla:\n",
    "\n",
    "```python\n",
    "tupla = (3, 6, 8, 8)\n",
    "arr = np.array(tupla, dtype=float)\n",
    "\n",
    "print(colored('\\nArray creado:', 'blue'),\n",
    "      arr)\n",
    "\n",
    "print(colored('\\nTipo de objeto:', 'blue'),\n",
    "      type(arr))\n",
    "\n",
    "print(colored('\\nTipo de dato:', 'blue'),\n",
    "      arr.dtype)\n",
    "```"
   ]
  },
  {
   "cell_type": "code",
   "execution_count": 49,
   "metadata": {},
   "outputs": [
    {
     "name": "stdout",
     "output_type": "stream",
     "text": [
      "\u001b[34m\n",
      "Array creado:\u001b[0m [3. 6. 8. 8.]\n",
      "\u001b[34m\n",
      "Tipo de objeto:\u001b[0m <class 'numpy.ndarray'>\n",
      "\u001b[34m\n",
      "Tipo de dato:\u001b[0m float64\n"
     ]
    }
   ],
   "source": [
    "tupla = (3, 6, 8, 8)\n",
    "arr = np.array(tupla, dtype=float)\n",
    "\n",
    "print(colored('\\nArray creado:', 'blue'),\n",
    "      arr)\n",
    "\n",
    "print(colored('\\nTipo de objeto:', 'blue'),\n",
    "      type(arr))\n",
    "\n",
    "print(colored('\\nTipo de dato:', 'blue'),\n",
    "      arr.dtype)"
   ]
  },
  {
   "cell_type": "markdown",
   "metadata": {},
   "source": [
    "A partir de funciones generales de Numpy:\n",
    "\n",
    "```python\n",
    "# Array de ceros\n",
    "ceros = np.zeros((3, 4))\n",
    "print(colored('\\nArray de ceros:\\n', 'blue'),\n",
    "      ceros)\n",
    "\n",
    "# Array de unos\n",
    "unos = np.ones((2, 3))\n",
    "print(colored('\\nArray de unos:\\n', 'blue'),\n",
    "      unos)\n",
    "\n",
    "# Array random\n",
    "# np.random.seed(seed=5)\n",
    "random1 = np.random.random((2, 4))\n",
    "print(colored('\\nArray random 1:\\n', 'blue'),\n",
    "      random1)\n",
    "\n",
    "random2 = np.random.randint(0, 5, size=(3, 4))\n",
    "print(colored('\\nArray random 2:\\n', 'blue'),\n",
    "      random2)\n",
    "```"
   ]
  },
  {
   "cell_type": "code",
   "execution_count": 50,
   "metadata": {},
   "outputs": [
    {
     "name": "stdout",
     "output_type": "stream",
     "text": [
      "\u001b[34m\n",
      "Array de ceros:\n",
      "\u001b[0m [[0. 0. 0. 0.]\n",
      " [0. 0. 0. 0.]\n",
      " [0. 0. 0. 0.]]\n",
      "\u001b[34m\n",
      "Array de unos:\n",
      "\u001b[0m [[1. 1. 1.]\n",
      " [1. 1. 1.]]\n",
      "\u001b[34m\n",
      "Array random 1:\n",
      "\u001b[0m [[0.75271968 0.17159307 0.30032426 0.58286082]\n",
      " [0.72208304 0.10460552 0.46395828 0.35475122]]\n",
      "\u001b[34m\n",
      "Array random 2:\n",
      "\u001b[0m [[3 0 1 2]\n",
      " [0 3 2 3]\n",
      " [3 1 2 4]]\n"
     ]
    }
   ],
   "source": [
    "# Array de ceros\n",
    "ceros = np.zeros((3, 4))\n",
    "print(colored('\\nArray de ceros:\\n', 'blue'),\n",
    "      ceros)\n",
    "\n",
    "# Array de unos\n",
    "unos = np.ones((2, 3))\n",
    "print(colored('\\nArray de unos:\\n', 'blue'),\n",
    "      unos)\n",
    "\n",
    "# Array random\n",
    "# np.random.seed(seed=5)\n",
    "random1 = np.random.random((2, 4))\n",
    "print(colored('\\nArray random 1:\\n', 'blue'),\n",
    "      random1)\n",
    "\n",
    "random2 = np.random.randint(0, 5, size=(3, 4))\n",
    "print(colored('\\nArray random 2:\\n', 'blue'),\n",
    "      random2)"
   ]
  },
  {
   "cell_type": "markdown",
   "metadata": {},
   "source": [
    "A diferencia de las listas, cuando insertamos un array en otro los elementos no se vinculan, por lo que al modificar uno el otro no se ve alterado:\n",
    "\n",
    "```python\n",
    "arr1 = np.array([1, 2, 3, 4])\n",
    "arr2 = np.array([arr1,\n",
    "                [5, 6, 7, 8],\n",
    "                [9, 10, 11, 12],\n",
    "                [13, 14, 15, 16]])\n",
    "\n",
    "print(colored('El array 2 contiene el array original:\\n', 'blue'),\n",
    "      arr2)\n",
    "\n",
    "arr1[2] = 50\n",
    "\n",
    "print(colored('\\nArray original modificado:\\n', 'blue'),\n",
    "      arr1)\n",
    "\n",
    "print(colored('\\nEl Array 2 mantiene sus valores iniciales:\\n', 'blue'),\n",
    "      arr2)\n",
    "```"
   ]
  },
  {
   "cell_type": "code",
   "execution_count": 51,
   "metadata": {},
   "outputs": [
    {
     "name": "stdout",
     "output_type": "stream",
     "text": [
      "\u001b[34mEl array 2 contiene el array original:\n",
      "\u001b[0m [[ 1  2  3  4]\n",
      " [ 5  6  7  8]\n",
      " [ 9 10 11 12]\n",
      " [13 14 15 16]]\n",
      "\u001b[34m\n",
      "Array original modificado:\n",
      "\u001b[0m [ 1  2 50  4]\n",
      "\u001b[34m\n",
      "El Array 2 mantiene sus valores iniciales:\n",
      "\u001b[0m [[ 1  2  3  4]\n",
      " [ 5  6  7  8]\n",
      " [ 9 10 11 12]\n",
      " [13 14 15 16]]\n"
     ]
    }
   ],
   "source": [
    "arr1 = np.array([1, 2, 3, 4])\n",
    "arr2 = np.array([arr1,\n",
    "                [5, 6, 7, 8],\n",
    "                [9, 10, 11, 12],\n",
    "                [13, 14, 15, 16]])\n",
    "\n",
    "print(colored('El array 2 contiene el array original:\\n', 'blue'),\n",
    "      arr2)\n",
    "\n",
    "arr1[2] = 50\n",
    "\n",
    "print(colored('\\nArray original modificado:\\n', 'blue'),\n",
    "      arr1)\n",
    "\n",
    "print(colored('\\nEl Array 2 mantiene sus valores iniciales:\\n', 'blue'),\n",
    "      arr2)"
   ]
  },
  {
   "cell_type": "markdown",
   "metadata": {},
   "source": [
    "Veamos qué pasa si tenemos diferentes tipos de datos en un array:\n",
    "```python\n",
    "arr3 = np.array([1, 'a', 3.])\n",
    "\n",
    "print(arr3)\n",
    "print(colored('El array 3 es de tipo:', 'blue'),\n",
    "      arr3.dtype)\n",
    "```"
   ]
  },
  {
   "cell_type": "code",
   "execution_count": 52,
   "metadata": {},
   "outputs": [
    {
     "name": "stdout",
     "output_type": "stream",
     "text": [
      "['1' 'a' '3.0']\n",
      "\u001b[34mEl array 3 es de tipo:\u001b[0m <U32\n"
     ]
    }
   ],
   "source": [
    "arr3 = np.array([1, 'a', 3.])\n",
    "\n",
    "print(arr3)\n",
    "print(colored('El array 3 es de tipo:', 'blue'),\n",
    "      arr3.dtype)"
   ]
  },
  {
   "cell_type": "markdown",
   "metadata": {},
   "source": [
    "Para más información acerca de los formatos de datos que maneja numpy consultar el siguiente [enlace](https://numpy.org/doc/stable/reference/arrays.dtypes.html#)."
   ]
  },
  {
   "cell_type": "markdown",
   "metadata": {},
   "source": [
    "## 2.3. Acceso a los datos de un array\n",
    "\n",
    "Los array de numpy son arreglos n-dimensionales, donde cada posición es indexada comenzando a contar a partir del cero. Veamos esto gráficamente:\n",
    "\n",
    "```python\n",
    "# Creamos el siguiente array:\n",
    "arr = np.array([[4, 3, 1, 0],\n",
    "                [8, 2, 9, 4],\n",
    "                [5, 7, 6, 5],\n",
    "                [9, 3, 5, 2],\n",
    "                [4, 6, 7, 1]])\n",
    "\n",
    "print(colored('arr:\\n', 'blue'),\n",
    "      arr)\n",
    "\n",
    "print(colored('\\nTipo de dato:', 'blue'),\n",
    "      arr.dtype)\n",
    "\n",
    "# Consultemos sus dimensiones:\n",
    "print(colored('\\nDimensiones:', 'blue'),\n",
    "      arr.shape)\n",
    "```"
   ]
  },
  {
   "cell_type": "code",
   "execution_count": 53,
   "metadata": {},
   "outputs": [
    {
     "name": "stdout",
     "output_type": "stream",
     "text": [
      "\u001b[34marr:\n",
      "\u001b[0m [[4 3 1 0]\n",
      " [8 2 9 4]\n",
      " [5 7 6 5]\n",
      " [9 3 5 2]\n",
      " [4 6 7 1]]\n",
      "\u001b[34m\n",
      "Tipo de dato:\u001b[0m int64\n",
      "\u001b[34m\n",
      "Dimensiones:\u001b[0m (5, 4)\n"
     ]
    }
   ],
   "source": [
    "arr = np.array([[4, 3, 1, 0],\n",
    "                [8, 2, 9, 4],\n",
    "                [5, 7, 6, 5],\n",
    "                [9, 3, 5, 2],\n",
    "                [4, 6, 7, 1]])\n",
    "\n",
    "print(colored('arr:\\n', 'blue'),\n",
    "      arr)\n",
    "\n",
    "print(colored('\\nTipo de dato:', 'blue'),\n",
    "      arr.dtype)\n",
    "\n",
    "# Consultemos sus dimensiones:\n",
    "print(colored('\\nDimensiones:', 'blue'),\n",
    "      arr.shape)"
   ]
  },
  {
   "attachments": {
    "array2D_1.png": {
     "image/png": "[encoded data removed]"
    }
   },
   "cell_type": "markdown",
   "metadata": {},
   "source": [
    "Como vemos, el array anterior tiene dos dimensiones (5, 4), donde la primera dimensión nos muestra el número de filas y la segunda el número de columnas. Sin embargo, las mismas se encuentran indexadas con números a partir del cero como muestra el gráfico a continuación:\n",
    "\n",
    "![array2D_1.png](attachment:array2D_1.png)\n"
   ]
  },
  {
   "attachments": {
    "25087b0b-9ecf-49f7-9794-6d8d51674973.png": {
     "image/png": "[encoded data removed]"
    }
   },
   "cell_type": "markdown",
   "metadata": {},
   "source": [
    "Supongamos que queremos acceder al dato de la segunda fila y tercera columna. En este caso deberíamos buscarlo en las posiciones (1, 2) del array. Vamos a verificarlo:\n",
    "\n",
    "![array2D_2.png](attachment:25087b0b-9ecf-49f7-9794-6d8d51674973.png)\n",
    "\n",
    "```python\n",
    "print(arr[1, 2])\n",
    "```"
   ]
  },
  {
   "cell_type": "code",
   "execution_count": 54,
   "metadata": {},
   "outputs": [
    {
     "name": "stdout",
     "output_type": "stream",
     "text": [
      "9\n"
     ]
    }
   ],
   "source": [
    "print(arr[1, 2])"
   ]
  },
  {
   "cell_type": "markdown",
   "metadata": {},
   "source": [
    "También es posible modificar las dimensiones de nuestras matrices. Esto es especialmente útil cuando aplicamos algunas funciones, como el cálculo de histogramas o regresiones lineales que veremos más adelante. Ejemplo:\n",
    "\n",
    "```python\n",
    "# np.random.seed(seed=5)\n",
    "arr = np.random.random((3, 4))\n",
    "\n",
    "print(colored('\\nArray:\\n', 'blue'),\n",
    "      arr)\n",
    "print(colored('\\nDimensiones de nuestro array:\\n', 'blue'),\n",
    "      arr.shape)\n",
    "\n",
    "# Ravel\n",
    "arr = arr.ravel()\n",
    "\n",
    "print(colored('\\nArray modificado con la función ravel():\\n', 'blue'),\n",
    "      arr)\n",
    "print(colored('\\nDimensiones de nuestro array:\\n', 'blue'),\n",
    "      arr.shape)\n",
    "\n",
    "# Reshape\n",
    "arr = arr.reshape(3, 4)\n",
    "\n",
    "print(colored('\\nArray modificado con la función reshape():\\n', 'blue'),\n",
    "      arr)\n",
    "print(colored('\\nDimensiones de nuestro array:\\n', 'blue'),\n",
    "      arr.shape)\n",
    "```"
   ]
  },
  {
   "cell_type": "code",
   "execution_count": 55,
   "metadata": {},
   "outputs": [
    {
     "name": "stdout",
     "output_type": "stream",
     "text": [
      "\u001b[34m\n",
      "Array:\n",
      "\u001b[0m [[0.37454012 0.95071431 0.73199394 0.59865848]\n",
      " [0.15601864 0.15599452 0.05808361 0.86617615]\n",
      " [0.60111501 0.70807258 0.02058449 0.96990985]]\n",
      "\u001b[34m\n",
      "Dimensiones de nuestro array:\n",
      "\u001b[0m (3, 4)\n",
      "\u001b[34m\n",
      "Array modificado con la función ravel():\n",
      "\u001b[0m [0.37454012 0.95071431 0.73199394 0.59865848 0.15601864 0.15599452\n",
      " 0.05808361 0.86617615 0.60111501 0.70807258 0.02058449 0.96990985]\n",
      "\u001b[34m\n",
      "Dimensiones de nuestro array:\n",
      "\u001b[0m (12,)\n",
      "\u001b[34m\n",
      "Array modificado con la función reshape():\n",
      "\u001b[0m [[0.37454012 0.95071431 0.73199394 0.59865848]\n",
      " [0.15601864 0.15599452 0.05808361 0.86617615]\n",
      " [0.60111501 0.70807258 0.02058449 0.96990985]]\n",
      "\u001b[34m\n",
      "Dimensiones de nuestro array:\n",
      "\u001b[0m (3, 4)\n"
     ]
    }
   ],
   "source": [
    "np.random.seed(seed=42)\n",
    "arr = np.random.random((3, 4))\n",
    "\n",
    "print(colored('\\nArray:\\n', 'blue'),\n",
    "      arr)\n",
    "print(colored('\\nDimensiones de nuestro array:\\n', 'blue'),\n",
    "      arr.shape)\n",
    "\n",
    "# Ravel\n",
    "arr = arr.ravel()\n",
    "\n",
    "print(colored('\\nArray modificado con la función ravel():\\n', 'blue'),\n",
    "      arr)\n",
    "print(colored('\\nDimensiones de nuestro array:\\n', 'blue'),\n",
    "      arr.shape)\n",
    "\n",
    "# Reshape\n",
    "arr = arr.reshape(3, 4)\n",
    "\n",
    "print(colored('\\nArray modificado con la función reshape():\\n', 'blue'),\n",
    "      arr)\n",
    "print(colored('\\nDimensiones de nuestro array:\\n', 'blue'),\n",
    "      arr.shape)"
   ]
  },
  {
   "cell_type": "markdown",
   "metadata": {},
   "source": [
    "Otra herramienta útil que podemos utilizar es el _slicing_, que nos permite extraer porciones de nuestro array para ser procesadas independientemente, para esto, debemos tener en cuenta que el último elemento indexado no será incluído. Veamos esto gráficamente:\n",
    "\n",
    "```python\n",
    "arr = np.array([4, 5, 8, 6, 1, 2, 6, 9])\n",
    "print(arr)\n",
    "```"
   ]
  },
  {
   "cell_type": "code",
   "execution_count": 56,
   "metadata": {},
   "outputs": [
    {
     "name": "stdout",
     "output_type": "stream",
     "text": [
      "[4 5 8 6 1 2 6 9]\n"
     ]
    }
   ],
   "source": [
    "arr = np.array([4, 5, 8, 6, 1, 2, 6, 9])\n",
    "print(arr)"
   ]
  },
  {
   "attachments": {
    "977ec5e4-3def-4b02-9015-74039d2f8b84.png": {
     "image/png": "[encoded data removed]"
    }
   },
   "cell_type": "markdown",
   "metadata": {},
   "source": [
    "En el caso anterior, tenemos un array de 1 dimensión y 8 elementos. Supongamos que queremos extraer las posiciones 3, 4 y 5. Esto corresponde a los índices 2, 3 y 4 pero, dado que el último no se encuentra incluído, es necesario indicar también el índice 5. Para esto, entre corchetes definimos los índices inicial y final separados por dos puntos como se ve en la siguiente imagen:\n",
    "\n",
    "![array1D_1.png](attachment:977ec5e4-3def-4b02-9015-74039d2f8b84.png)\n",
    "\n",
    "```python\n",
    "print(arr[2:5])\n",
    "```"
   ]
  },
  {
   "cell_type": "code",
   "execution_count": 57,
   "metadata": {},
   "outputs": [
    {
     "name": "stdout",
     "output_type": "stream",
     "text": [
      "[8 6 1]\n"
     ]
    }
   ],
   "source": [
    "print(arr[2:5])"
   ]
  },
  {
   "attachments": {
    "724e7a5c-bd3d-4bd4-9d45-e6a7e3a87e4a.png": {
     "image/png": "[encoded data removed]"
    }
   },
   "cell_type": "markdown",
   "metadata": {},
   "source": [
    "También es posible realizar una extracción cada x elementos, donde x representará el paso. Esto se realiza definiendo tres posiciones, inicio, fin y paso:\n",
    "\n",
    "![slicing_1.png](attachment:724e7a5c-bd3d-4bd4-9d45-e6a7e3a87e4a.png)\n",
    "\n",
    "```python\n",
    "print(arr[0:7:2])\n",
    "```"
   ]
  },
  {
   "cell_type": "code",
   "execution_count": 58,
   "metadata": {},
   "outputs": [
    {
     "name": "stdout",
     "output_type": "stream",
     "text": [
      "[4 8 1 6]\n"
     ]
    }
   ],
   "source": [
    "print(arr[0:7:2])"
   ]
  },
  {
   "cell_type": "markdown",
   "metadata": {},
   "source": [
    "Vamos a extender esto a dos dimensiones:\n",
    "\n",
    "```python\n",
    "arr = np.array([[0, 0, 0, 0, 0, 0, 0, 0],\n",
    "                [0, 6, 8, 4, 3, 5, 5, 0],\n",
    "                [0, 1, 7, 4, 2, 7, 9, 0],\n",
    "                [0, 5, 6, 7, 9, 6, 8, 0],\n",
    "                [0, 0, 0, 0, 0, 0, 0, 0]])\n",
    "\n",
    "print(arr)\n",
    "```"
   ]
  },
  {
   "cell_type": "code",
   "execution_count": 59,
   "metadata": {},
   "outputs": [
    {
     "name": "stdout",
     "output_type": "stream",
     "text": [
      "[[0 0 0 0 0 0 0 0]\n",
      " [0 6 8 4 3 5 5 0]\n",
      " [0 1 7 4 2 7 9 0]\n",
      " [0 5 6 7 9 6 8 0]\n",
      " [0 0 0 0 0 0 0 0]]\n"
     ]
    }
   ],
   "source": [
    "arr = np.array([[0, 0, 0, 0, 0, 0, 0, 0],\n",
    "                [0, 6, 8, 4, 3, 5, 5, 0],\n",
    "                [0, 1, 7, 4, 2, 7, 9, 0],\n",
    "                [0, 5, 6, 7, 9, 6, 8, 0],\n",
    "                [0, 0, 0, 0, 0, 0, 0, 0]])\n",
    "\n",
    "print(arr)"
   ]
  },
  {
   "attachments": {
    "837794f6-b939-4cf0-995f-2d8980c8291b.png": {
     "image/png": "[encoded data removed]"
    }
   },
   "cell_type": "markdown",
   "metadata": {},
   "source": [
    "Como vemos, el array anterior contiene un borde de ceros. Asumamos que necesitamos realizar algún tipo de operación donde ese borde nos genera conflicto. Podemos extraer únicamente la parte que nos interesa de la siguiente manera:\n",
    "\n",
    "![array2D_3.png](attachment:837794f6-b939-4cf0-995f-2d8980c8291b.png)\n",
    "\n",
    "```python\n",
    "print(arr[1:4, 1:7])\n",
    "```"
   ]
  },
  {
   "cell_type": "code",
   "execution_count": 60,
   "metadata": {},
   "outputs": [
    {
     "name": "stdout",
     "output_type": "stream",
     "text": [
      "[[6 8 4 3 5 5]\n",
      " [1 7 4 2 7 9]\n",
      " [5 6 7 9 6 8]]\n"
     ]
    }
   ],
   "source": [
    "print(arr[1:4, 1:7])"
   ]
  },
  {
   "cell_type": "markdown",
   "metadata": {},
   "source": [
    "## 2.4. Operaciones básicas con arrays\n",
    "\n",
    "Los arreglos de numpy, a diferencia de las listas, permiten realizar operaciones directas entre ellos utilizando los operadores básicos de suma, resta, multiplicación, etc., aunque para esto, es necesario tener en cuenta que si la operación incluye dos arrays, estos deben tener las mismas dimensiones. Ejemplos:\n",
    "\n",
    "```python\n",
    "# np.random.seed(seed=5)\n",
    "arr1 = np.arange(12).reshape(3, 4)\n",
    "arr2 = np.random.random((3, 4))\n",
    "\n",
    "print(colored('\\narr1:\\n', 'blue'), arr1)\n",
    "print(colored('\\narr2:\\n', 'blue'), arr2)\n",
    "\n",
    "print(colored('\\nDimensiones del arr1:', 'blue'), arr1.shape)\n",
    "print(colored('\\nDimensiones del arr2:', 'blue'), arr2.shape)\n",
    "\n",
    "print(colored('\\narr1 + 5:\\n', 'blue'), arr1 + 5)\n",
    "print(colored('\\narr1 + arr2:\\n', 'blue'), arr1 + arr2)\n",
    "print(colored('\\narr1 * arr2:\\n', 'blue'), arr1 * arr2)\n",
    "```\n"
   ]
  },
  {
   "cell_type": "code",
   "execution_count": 61,
   "metadata": {},
   "outputs": [
    {
     "name": "stdout",
     "output_type": "stream",
     "text": [
      "\u001b[34m\n",
      "arr1:\n",
      "\u001b[0m [[ 0  1  2  3]\n",
      " [ 4  5  6  7]\n",
      " [ 8  9 10 11]]\n",
      "\u001b[34m\n",
      "arr2:\n",
      "\u001b[0m [[0.37454012 0.95071431 0.73199394 0.59865848]\n",
      " [0.15601864 0.15599452 0.05808361 0.86617615]\n",
      " [0.60111501 0.70807258 0.02058449 0.96990985]]\n",
      "\u001b[34m\n",
      "Dimensiones del arr1:\u001b[0m (3, 4)\n",
      "\u001b[34m\n",
      "Dimensiones del arr2:\u001b[0m (3, 4)\n",
      "\u001b[34m\n",
      "arr1 + 5:\n",
      "\u001b[0m [[ 5  6  7  8]\n",
      " [ 9 10 11 12]\n",
      " [13 14 15 16]]\n",
      "\u001b[34m\n",
      "arr1 + arr2:\n",
      "\u001b[0m [[ 0.37454012  1.95071431  2.73199394  3.59865848]\n",
      " [ 4.15601864  5.15599452  6.05808361  7.86617615]\n",
      " [ 8.60111501  9.70807258 10.02058449 11.96990985]]\n",
      "\u001b[34m\n",
      "arr1 * arr2:\n",
      "\u001b[0m [[ 0.          0.95071431  1.46398788  1.79597545]\n",
      " [ 0.62407456  0.7799726   0.34850167  6.06323302]\n",
      " [ 4.80892009  6.3726532   0.20584494 10.66900837]]\n"
     ]
    }
   ],
   "source": [
    "np.random.seed(seed=42)\n",
    "arr1 = np.arange(12).reshape(3, 4)\n",
    "arr2 = np.random.random((3, 4))\n",
    "\n",
    "\n",
    "print(colored('\\narr1:\\n', 'blue'), arr1)\n",
    "print(colored('\\narr2:\\n', 'blue'), arr2)\n",
    "\n",
    "print(colored('\\nDimensiones del arr1:', 'blue'), arr1.shape)\n",
    "print(colored('\\nDimensiones del arr2:', 'blue'), arr2.shape)\n",
    "\n",
    "print(colored('\\narr1 + 5:\\n', 'blue'), arr1 + 5)\n",
    "print(colored('\\narr1 + arr2:\\n', 'blue'), arr1 + arr2)\n",
    "print(colored('\\narr1 * arr2:\\n', 'blue'), arr1 * arr2)"
   ]
  },
  {
   "cell_type": "markdown",
   "metadata": {},
   "source": [
    "Así mismo, numpy ofrece un gran número de funciones matemáticas que podemos aplicar a nuestros arrays. Estos se pueden consultar en el siguiente [enlace](https://numpy.org/doc/stable/reference/routines.math.html)."
   ]
  },
  {
   "attachments": {
    "c3c5be03-bc4d-42ba-a931-505dc70926a4.png": {
     "image/png": "[encoded data removed]"
    }
   },
   "cell_type": "markdown",
   "metadata": {},
   "source": [
    "## 2.5. Máscaras\n",
    "\n",
    "Las máscaras son elementos útiles cuando queremos trabajar con los elementos que cumplen únicamente el criterio que nos interesa, por ejemplo, valores de altura en un Modelo de Elevación Digital, Temperatura Superficial, etc. \n",
    "\n",
    "Veamos cómo podríamos hacer esto desde Numpy. Para esto utilizaremos el mismo array creado en el punto anterior, quedándonos únicamente con los valores mayores a 5:\n",
    "\n",
    "![mask_1.png](attachment:c3c5be03-bc4d-42ba-a931-505dc70926a4.png)\n",
    "\n",
    "```python\n",
    "mascara = arr > 5\n",
    "print(mascara)\n",
    "```"
   ]
  },
  {
   "cell_type": "code",
   "execution_count": 62,
   "metadata": {},
   "outputs": [
    {
     "name": "stdout",
     "output_type": "stream",
     "text": [
      "[[False False False False False False False False]\n",
      " [False  True  True False False False False False]\n",
      " [False False  True False False  True  True False]\n",
      " [False False  True  True  True  True  True False]\n",
      " [False False False False False False False False]]\n"
     ]
    }
   ],
   "source": [
    "mascara = arr > 5\n",
    "print(mascara)"
   ]
  },
  {
   "cell_type": "markdown",
   "metadata": {},
   "source": [
    "Como vemos, al aplicar la condición arr>5, se genera un nuevo array que me retorna valores True o False, dependiendo si se cumple o no la condición deseada. Ahora, para aplicarla a mi array es solo cuestión de multiplicar ambas matrices:\n",
    "\n",
    "```python\n",
    "array_mask = mascara * arr\n",
    "print(array_mask)\n",
    "```"
   ]
  },
  {
   "cell_type": "code",
   "execution_count": 63,
   "metadata": {},
   "outputs": [
    {
     "name": "stdout",
     "output_type": "stream",
     "text": [
      "[[0 0 0 0 0 0 0 0]\n",
      " [0 6 8 0 0 0 0 0]\n",
      " [0 0 7 0 0 7 9 0]\n",
      " [0 0 6 7 9 6 8 0]\n",
      " [0 0 0 0 0 0 0 0]]\n"
     ]
    }
   ],
   "source": [
    "array_mask = mascara * arr\n",
    "print(array_mask)"
   ]
  },
  {
   "cell_type": "markdown",
   "metadata": {},
   "source": [
    "En lugar de multiplicar, podríamos indicar estos valores como nulos utilizando el elemento _np.nan_ de numpy de esta manera, los ceros no afectarán si queremos calcular algún estadístico sobre el total de nuestro arreglo. Sin embargo, esto aplica únicamente para arreglos de tipo _float_, por lo que tendremos que cambiar primero el tipo de dato:\n",
    "\n",
    "```python\n",
    "# Cambiamos el tipo de dato:\n",
    "arr2 = arr.astype(float)\n",
    "\n",
    "print(colored('\\nValores del arreglo arr2:\\n', 'blue'), arr2)\n",
    "print(colored('\\nTipo de dato:', 'blue'), arr2.dtype)\n",
    "\n",
    "# Enmascarando nuestro arreglo:\n",
    "arr2[~mascara] = np.nan\n",
    "\n",
    "print(colored('\\nValores del arreglo arr2:', 'blue'), arr2)\n",
    "print(colored('\\nTipo de dato:', 'blue'), arr2.dtype)\n",
    "print(colored('Promedio de los valores del arreglo arr2:', 'blue'),\n",
    "      np.nanmean(arr2))\n",
    "\n",
    "# Comparemos con la multiplicación previa donde nuestros\n",
    "# elementos enmascarados tomaron valores de cero:\n",
    "array_mask = mascara*arr\n",
    "array_mask = array_mask.astype(float)\n",
    "\n",
    "print(colored('\\nValores del arreglo array_mask:', 'blue'))\n",
    "print(array_mask)\n",
    "print(colored('\\nTipo de dato:', 'blue'), array_mask.dtype)\n",
    "print(colored('Promedio de los valores del arreglo array_mask:', 'blue'),\n",
    "      np.nanmean(array_mask))\n",
    "```"
   ]
  },
  {
   "cell_type": "code",
   "execution_count": 64,
   "metadata": {},
   "outputs": [
    {
     "name": "stdout",
     "output_type": "stream",
     "text": [
      "\u001b[34m\n",
      "Valores del arreglo arr2:\n",
      "\u001b[0m [[0. 0. 0. 0. 0. 0. 0. 0.]\n",
      " [0. 6. 8. 4. 3. 5. 5. 0.]\n",
      " [0. 1. 7. 4. 2. 7. 9. 0.]\n",
      " [0. 5. 6. 7. 9. 6. 8. 0.]\n",
      " [0. 0. 0. 0. 0. 0. 0. 0.]]\n",
      "\u001b[34m\n",
      "Tipo de dato:\u001b[0m float64\n",
      "\u001b[34m\n",
      "Valores del arreglo arr2:\u001b[0m [[nan nan nan nan nan nan nan nan]\n",
      " [nan  6.  8. nan nan nan nan nan]\n",
      " [nan nan  7. nan nan  7.  9. nan]\n",
      " [nan nan  6.  7.  9.  6.  8. nan]\n",
      " [nan nan nan nan nan nan nan nan]]\n",
      "\u001b[34m\n",
      "Tipo de dato:\u001b[0m float64\n",
      "\u001b[34mPromedio de los valores del arreglo arr2:\u001b[0m 7.3\n",
      "\u001b[34m\n",
      "Valores del arreglo array_mask:\u001b[0m\n",
      "[[0. 0. 0. 0. 0. 0. 0. 0.]\n",
      " [0. 6. 8. 0. 0. 0. 0. 0.]\n",
      " [0. 0. 7. 0. 0. 7. 9. 0.]\n",
      " [0. 0. 6. 7. 9. 6. 8. 0.]\n",
      " [0. 0. 0. 0. 0. 0. 0. 0.]]\n",
      "\u001b[34m\n",
      "Tipo de dato:\u001b[0m float64\n",
      "\u001b[34mPromedio de los valores del arreglo array_mask:\u001b[0m 1.825\n"
     ]
    }
   ],
   "source": [
    "arr2 = arr.astype(float)\n",
    "\n",
    "print(colored('\\nValores del arreglo arr2:\\n', 'blue'), arr2)\n",
    "print(colored('\\nTipo de dato:', 'blue'), arr2.dtype)\n",
    "\n",
    "# Enmascarando nuestro arreglo:\n",
    "arr2[~mascara] = np.nan\n",
    "\n",
    "print(colored('\\nValores del arreglo arr2:', 'blue'), arr2)\n",
    "print(colored('\\nTipo de dato:', 'blue'), arr2.dtype)\n",
    "print(colored('Promedio de los valores del arreglo arr2:', 'blue'),\n",
    "      np.nanmean(arr2))\n",
    "\n",
    "# Comparemos con la multiplicación previa donde nuestros\n",
    "# elementos enmascarados tomaron valores de cero:\n",
    "array_mask = mascara*arr\n",
    "array_mask = array_mask.astype(float)\n",
    "\n",
    "print(colored('\\nValores del arreglo array_mask:', 'blue'))\n",
    "print(array_mask)\n",
    "print(colored('\\nTipo de dato:', 'blue'), array_mask.dtype)\n",
    "print(colored('Promedio de los valores del arreglo array_mask:', 'blue'),\n",
    "      np.nanmean(array_mask))"
   ]
  },
  {
   "cell_type": "markdown",
   "metadata": {},
   "source": [
    "### Ejercicio 2.1: \n",
    "\n",
    "Realizar el promedio de la siguiente matriz enmascarando los valores cero:\n",
    "\n",
    "```\n",
    "arr = np.array([[0, 0, 0, 0, 0, 0, 0, 0],\n",
    "                [0, 6, 8, 4, 3, 5, 5, 0],\n",
    "                [0, 1, 7, 4, 2, 7, 9, 0],\n",
    "                [0, 5, 6, 7, 9, 6, 8, 0],\n",
    "                [0, 0, 0, 0, 0, 0, 0, 0]])\n",
    "```"
   ]
  },
  {
   "cell_type": "code",
   "execution_count": 65,
   "metadata": {},
   "outputs": [],
   "source": [
    "arr = np.array([[0, 0, 0, 0, 0, 0, 0, 0],\n",
    "                [0, 6, 8, 4, 3, 5, 5, 0],\n",
    "                [0, 1, 7, 4, 2, 7, 9, 0],\n",
    "                [0, 5, 6, 7, 9, 6, 8, 0],\n",
    "                [0, 0, 0, 0, 0, 0, 0, 0]])"
   ]
  },
  {
   "cell_type": "code",
   "execution_count": 66,
   "metadata": {},
   "outputs": [
    {
     "name": "stdout",
     "output_type": "stream",
     "text": [
      "5.666666666666667\n"
     ]
    }
   ],
   "source": [
    "# Solución 1\n",
    "promedio = np.mean(arr[arr != 0])\n",
    "\n",
    "print(promedio)"
   ]
  },
  {
   "cell_type": "code",
   "execution_count": 67,
   "metadata": {},
   "outputs": [
    {
     "name": "stdout",
     "output_type": "stream",
     "text": [
      "5.666666666666667\n"
     ]
    }
   ],
   "source": [
    "#Solución  2\n",
    "mascara = np.ma.masked_equal(arr, 0)\n",
    "prom = mascara.mean()\n",
    "print(prom)"
   ]
  },
  {
   "cell_type": "markdown",
   "metadata": {},
   "source": [
    "# 3. Librería Pandas\n",
    "\n",
    "[Pandas](https://pandas.pydata.org/docs/user_guide/index.html#user-guide) es un paquete de python construido sobre la librería Numpy que contiene estructuras diseñadas para trabajar con información etiquetada. Esto facilita su análisis, así como el manejo de series temporales. Al igual que con Numpy, la librería se importa mediante el comando _import_. Asimismo, a medida que avancemos y consultemos la documentación existente, veremos que se utiliza el _alias_ _pd_, como se muestra a continuación:\n",
    "\n",
    "```python\n",
    "import pandas as pd\n",
    "```"
   ]
  },
  {
   "cell_type": "code",
   "execution_count": 68,
   "metadata": {},
   "outputs": [],
   "source": [
    "import pandas as pd"
   ]
  },
  {
   "cell_type": "markdown",
   "metadata": {},
   "source": [
    "## 3.1. Estructuras que maneja Pandas\n",
    "Pandas cuenta con dos estructuras principales que son:\n",
    "### 3.1.1. Series:\n",
    "Es la estructura principal de la librería Pandas, equivalente a arrays en una sola dimensión, pero con la posibilidad de utilizar etiquetas para su indexación. Esta estructura se puede construir a partir de listas, arrays de Numpy en una sola dimensión, diccionarios o tuplas, ejemplos:\n",
    "\n",
    "```python\n",
    "import pandas as pd\n",
    "import numpy as np\n",
    "\n",
    "# Recordemos el array creado anteriormente\n",
    "arr1 = np.array([1, 2, 3, 4])\n",
    "print(type(arr1))\n",
    "\n",
    "# Utilicemos estructuras conocidas para crear\n",
    "# un objeto de tipo Pandas series\n",
    "# <class 'pandas.core.series.Series'>\n",
    "\n",
    "series_numpy = pd.Series(arr1)\n",
    "print(colored('\\nA partir de un array de numpy:', 'blue'))\n",
    "print(series_numpy)\n",
    "\n",
    "lista3 = [1, 2, 3, 4, 5]\n",
    "series_lista = pd.Series(lista3)\n",
    "print(colored('\\nA partir de una lista:', 'blue'))\n",
    "print(series_lista)\n",
    "\n",
    "diccionario = {'a': 1, 'b': 2, 'c': 3}\n",
    "series_dic = pd.Series(data=diccionario, index=diccionario.keys())\n",
    "print(colored('\\nA partir de un diccionario:', 'blue'))\n",
    "print(series_dic)\n",
    "```"
   ]
  },
  {
   "cell_type": "code",
   "execution_count": 69,
   "metadata": {},
   "outputs": [
    {
     "name": "stdout",
     "output_type": "stream",
     "text": [
      "<class 'numpy.ndarray'>\n",
      "\u001b[34m\n",
      "A partir de un array de numpy:\u001b[0m\n",
      "0    1\n",
      "1    2\n",
      "2    3\n",
      "3    4\n",
      "dtype: int64\n",
      "\u001b[34m\n",
      "A partir de una lista:\u001b[0m\n",
      "0    1\n",
      "1    2\n",
      "2    3\n",
      "3    4\n",
      "4    5\n",
      "dtype: int64\n",
      "\u001b[34m\n",
      "A partir de un diccionario:\u001b[0m\n",
      "a    1\n",
      "b    2\n",
      "c    3\n",
      "dtype: int64\n"
     ]
    }
   ],
   "source": [
    "import pandas as pd\n",
    "import numpy as np\n",
    "\n",
    "# Recordemos el array creado anteriormente\n",
    "arr1 = np.array([1, 2, 3, 4])\n",
    "print(type(arr1))\n",
    "\n",
    "# Utilicemos estructuras conocidas para crear\n",
    "# un objeto de tipo Pandas series\n",
    "# <class 'pandas.core.series.Series'>\n",
    "\n",
    "series_numpy = pd.Series(arr1)\n",
    "print(colored('\\nA partir de un array de numpy:', 'blue'))\n",
    "print(series_numpy)\n",
    "\n",
    "lista3 = [1, 2, 3, 4, 5]\n",
    "series_lista = pd.Series(lista3)\n",
    "print(colored('\\nA partir de una lista:', 'blue'))\n",
    "print(series_lista)\n",
    "\n",
    "diccionario = {'a': 1, 'b': 2, 'c': 3}\n",
    "series_dic = pd.Series(data=diccionario, index=diccionario.keys())\n",
    "print(colored('\\nA partir de un diccionario:', 'blue'))\n",
    "print(series_dic)"
   ]
  },
  {
   "cell_type": "markdown",
   "metadata": {},
   "source": [
    "#### Selección de datos:\n",
    "\n",
    "Para acceder a los datos de la estructura se puede hacer uso de los métodos _loc()_ e _iloc()_. \n",
    "\n",
    "Donde _iloc()_ realiza una consulta dada la posición del elemento en el vector (comenzando a contar desde cero), mientras que _loc()_ lo hace teniendo en cuenta el valor de la etiqueta en el índice:\n",
    "\n",
    "```python\n",
    "print(colored('\\nImprimir por posición en el vector:', 'blue'))\n",
    "print(series_dic.iloc[1])\n",
    "\n",
    "print(colored('\\nImprimir por etiqueta en el índice:', 'blue'))\n",
    "print(series_dic.loc['b'])\n",
    "```"
   ]
  },
  {
   "cell_type": "code",
   "execution_count": 70,
   "metadata": {},
   "outputs": [
    {
     "name": "stdout",
     "output_type": "stream",
     "text": [
      "\u001b[34m\n",
      "Imprimir por posición en el vector:\u001b[0m\n",
      "2\n",
      "\u001b[34m\n",
      "Imprimir por etiqueta en el índice:\u001b[0m\n",
      "2\n"
     ]
    }
   ],
   "source": [
    "print(colored('\\nImprimir por posición en el vector:', 'blue'))\n",
    "print(series_dic.iloc[1])\n",
    "\n",
    "print(colored('\\nImprimir por etiqueta en el índice:', 'blue'))\n",
    "print(series_dic.loc['b'])"
   ]
  },
  {
   "cell_type": "markdown",
   "metadata": {},
   "source": [
    "De igual manera podríamos filtrar nuestros datos:\n",
    "```python\n",
    "series_dic.loc[series_dic == 2]\n",
    "```"
   ]
  },
  {
   "cell_type": "code",
   "execution_count": 71,
   "metadata": {},
   "outputs": [
    {
     "data": {
      "text/plain": [
       "b    2\n",
       "dtype: int64"
      ]
     },
     "execution_count": 71,
     "metadata": {},
     "output_type": "execute_result"
    }
   ],
   "source": [
    "series_dic.loc[series_dic == 2]"
   ]
  },
  {
   "cell_type": "markdown",
   "metadata": {},
   "source": [
    "Para más información acerca de Pandas Series puedes consultar el siguiente [enlace](https://pandas.pydata.org/docs/reference/api/pandas.Series.html#pandas.Series)"
   ]
  },
  {
   "cell_type": "markdown",
   "metadata": {},
   "source": [
    "### 3.1.2. DataFrame:\n",
    "Son equivalentes a tablas de datos en dos dimensiones, que permiten almacenar elementos de diferentes tipos. Al igual que la estructura Series, permite indexar las diferentes filas del _dataframe_ y, adicionalmente, manejar títulos para cada columna. \n",
    "\n",
    "Esta estructura también es posible crearla a partir de objetos tales como: listas, arrays en dos dimensiones, diccionarios o tuplas. Una muestra de esto se presenta a continuación:\n",
    "\n",
    "```python\n",
    "lista = [[1, 2], [3, 4], [5, 6]]\n",
    "df_from_list = pd.DataFrame(lista, columns=['col1', 'col2'])\n",
    "print(colored('\\nPandas DataFrame a partir de lista:', 'blue'))\n",
    "print(df_from_list)\n",
    "\n",
    "arr = np.array(lista)\n",
    "print(colored('\\nValores del array:', 'blue'))\n",
    "print(arr)\n",
    "\n",
    "df_from_array = pd.DataFrame(arr, columns=['col1', 'col2'])\n",
    "print(colored('\\nPandas DataFrame a partir de array:', 'blue'))\n",
    "print(df_from_array)\n",
    "\n",
    "dic = {'col1': [1, 2], 'col2': [3, 4], 'col3': [5, 6]}\n",
    "print(colored('\\nDiccionario:', 'blue'))\n",
    "print(dic)\n",
    "\n",
    "df_from_dic = pd.DataFrame(dic)\n",
    "print(colored('\\nPandas DataFrame a partir de diccionario:', 'blue'))\n",
    "print(df_from_dic)\n",
    "\n",
    "tupla = ((1, 2), (3, 4), (5, 6))\n",
    "print(colored('\\nTupla:', 'blue'))\n",
    "print(tupla)\n",
    "\n",
    "df_from_tuple = pd.DataFrame(tupla, columns=['col1', 'col2'])\n",
    "print(colored('\\nPandas DataFrame a partir de tupla:', 'blue'))\n",
    "print(df_from_tuple)\n",
    "```"
   ]
  },
  {
   "cell_type": "code",
   "execution_count": 72,
   "metadata": {},
   "outputs": [
    {
     "name": "stdout",
     "output_type": "stream",
     "text": [
      "\u001b[34m\n",
      "Pandas DataFrame a partir de lista:\u001b[0m\n",
      "   col1  col2\n",
      "0     1     2\n",
      "1     3     4\n",
      "2     5     6\n",
      "\u001b[34m\n",
      "Valores del array:\u001b[0m\n",
      "[[1 2]\n",
      " [3 4]\n",
      " [5 6]]\n",
      "\u001b[34m\n",
      "Pandas DataFrame a partir de array:\u001b[0m\n",
      "   col1  col2\n",
      "0     1     2\n",
      "1     3     4\n",
      "2     5     6\n",
      "\u001b[34m\n",
      "Diccionario:\u001b[0m\n",
      "{'col1': [1, 2], 'col2': [3, 4], 'col3': [5, 6]}\n",
      "\u001b[34m\n",
      "Pandas DataFrame a partir de diccionario:\u001b[0m\n",
      "   col1  col2  col3\n",
      "0     1     3     5\n",
      "1     2     4     6\n",
      "\u001b[34m\n",
      "Tupla:\u001b[0m\n",
      "((1, 2), (3, 4), (5, 6))\n",
      "\u001b[34m\n",
      "Pandas DataFrame a partir de tupla:\u001b[0m\n",
      "   col1  col2\n",
      "0     1     2\n",
      "1     3     4\n",
      "2     5     6\n"
     ]
    }
   ],
   "source": [
    "lista = [[1, 2], [3, 4], [5, 6]]\n",
    "df_from_list = pd.DataFrame(lista, columns=['col1', 'col2'])\n",
    "print(colored('\\nPandas DataFrame a partir de lista:', 'blue'))\n",
    "print(df_from_list)\n",
    "\n",
    "arr = np.array(lista)\n",
    "print(colored('\\nValores del array:', 'blue'))\n",
    "print(arr)\n",
    "\n",
    "df_from_array = pd.DataFrame(arr, columns=['col1', 'col2'])\n",
    "print(colored('\\nPandas DataFrame a partir de array:', 'blue'))\n",
    "print(df_from_array)\n",
    "\n",
    "dic = {'col1': [1, 2], 'col2': [3, 4], 'col3': [5, 6]}\n",
    "print(colored('\\nDiccionario:', 'blue'))\n",
    "print(dic)\n",
    "\n",
    "df_from_dic = pd.DataFrame(dic)\n",
    "print(colored('\\nPandas DataFrame a partir de diccionario:', 'blue'))\n",
    "print(df_from_dic)\n",
    "\n",
    "tupla = ((1, 2), (3, 4), (5, 6))\n",
    "print(colored('\\nTupla:', 'blue'))\n",
    "print(tupla)\n",
    "\n",
    "df_from_tuple = pd.DataFrame(tupla, columns=['col1', 'col2'])\n",
    "print(colored('\\nPandas DataFrame a partir de tupla:', 'blue'))\n",
    "print(df_from_tuple)"
   ]
  },
  {
   "cell_type": "markdown",
   "metadata": {},
   "source": [
    "La estructura _dataframe_ permite manipular los índices, al igual que los nombres de las columnas. A continuación veremos un ejemplo de esto:\n",
    "\n",
    "```python\n",
    "lista = [[1, 2], [3, 4], [5, 6]]\n",
    "df_from_list = pd.DataFrame(lista)\n",
    "\n",
    "print(colored('\\nDataFrame original:', 'blue'))\n",
    "print(df_from_list)\n",
    "\n",
    "# Modificando los índices:\n",
    "df_from_list.index = ['A', 'B', 'C']\n",
    "\n",
    "# Modificando los títulos de las columnas:\n",
    "df_from_list.columns = ['col1', 'col2']\n",
    "\n",
    "print(colored('\\nDataFrame modificado:', 'blue'))\n",
    "print(df_from_list)\n",
    "\n",
    "# Modificando el nombre de una sola columna:\n",
    "df_from_list.rename(columns={\"col1\": \"new_col1\"})\n",
    "\n",
    "# Modificando el índice de mi dataframe:\n",
    "print(colored('\\nUtilizando una columna como índice:', 'blue'))\n",
    "\n",
    "df_from_list = df_from_list.set_index('col1')\n",
    "\n",
    "print(df_from_list)\n",
    "```"
   ]
  },
  {
   "cell_type": "code",
   "execution_count": 73,
   "metadata": {},
   "outputs": [
    {
     "name": "stdout",
     "output_type": "stream",
     "text": [
      "\u001b[34m\n",
      "DataFrame original:\u001b[0m\n",
      "   0  1\n",
      "0  1  2\n",
      "1  3  4\n",
      "2  5  6\n",
      "\u001b[34m\n",
      "DataFrame modificado:\u001b[0m\n",
      "   col1  col2\n",
      "A     1     2\n",
      "B     3     4\n",
      "C     5     6\n",
      "\u001b[34m\n",
      "Utilizando una columna como índice:\u001b[0m\n",
      "      col2\n",
      "col1      \n",
      "1        2\n",
      "3        4\n",
      "5        6\n"
     ]
    }
   ],
   "source": [
    "lista = [[1, 2], [3, 4], [5, 6]]\n",
    "df_from_list = pd.DataFrame(lista)\n",
    "\n",
    "print(colored('\\nDataFrame original:', 'blue'))\n",
    "print(df_from_list)\n",
    "\n",
    "# Modificando los índices:\n",
    "df_from_list.index = ['A', 'B', 'C']\n",
    "\n",
    "# Modificando los títulos de las columnas:\n",
    "df_from_list.columns = ['col1', 'col2']\n",
    "\n",
    "print(colored('\\nDataFrame modificado:', 'blue'))\n",
    "print(df_from_list)\n",
    "\n",
    "# Modificando el nombre de una sola columna:\n",
    "df_from_list.rename(columns={\"col1\": \"new_col1\"})\n",
    "\n",
    "# Modificando el índice de mi dataframe:\n",
    "print(colored('\\nUtilizando una columna como índice:', 'blue'))\n",
    "\n",
    "df_from_list = df_from_list.set_index('col1')\n",
    "\n",
    "print(df_from_list)"
   ]
  },
  {
   "cell_type": "markdown",
   "metadata": {},
   "source": [
    "#### Selección de datos:\n",
    "Los métodos _loc()_ e _iloc()_ son extensivos para la selección de filas dentro de un _dataframe_. En el caso de las columnas, es posible seleccionarlas por medio de su nombre o índice. Ejemplos:\n",
    "\n",
    "```python\n",
    "dic = {'col1': [1, 2, 3], 'col2': [3, 4, 5], 'col3': [5, 6, 7]}\n",
    "df_from_list = pd.DataFrame(dic)\n",
    "df_from_list.index = ['A', 'B', 'C']\n",
    "\n",
    "print(colored('Tenemos nuestro dataframe:\\n', 'blue'), df_from_list)\n",
    "\n",
    "# Veamos como funcionan los métodos.\n",
    "# Ubiquemos las filas 1 y 2 de la columna 0:\n",
    "\n",
    "print(colored('\\nMétodo iloc():\\n', 'blue'))\n",
    "print(df_from_list.iloc[1:3, 0])\n",
    "\n",
    "print(colored('\\nMétodo loc():\\n', 'blue'))\n",
    "print(df_from_list.loc['B':'C', 'col1'])\n",
    "```"
   ]
  },
  {
   "cell_type": "code",
   "execution_count": 74,
   "metadata": {},
   "outputs": [
    {
     "name": "stdout",
     "output_type": "stream",
     "text": [
      "\u001b[34mTenemos nuestro dataframe:\n",
      "\u001b[0m    col1  col2  col3\n",
      "A     1     3     5\n",
      "B     2     4     6\n",
      "C     3     5     7\n",
      "\u001b[34m\n",
      "Método iloc():\n",
      "\u001b[0m\n",
      "B    2\n",
      "C    3\n",
      "Name: col1, dtype: int64\n",
      "\u001b[34m\n",
      "Método loc():\n",
      "\u001b[0m\n",
      "B    2\n",
      "C    3\n",
      "Name: col1, dtype: int64\n"
     ]
    }
   ],
   "source": [
    "dic = {'col1': [1, 2, 3], 'col2': [3, 4, 5], 'col3': [5, 6, 7]}\n",
    "df_from_list = pd.DataFrame(dic)\n",
    "df_from_list.index = ['A', 'B', 'C']\n",
    "\n",
    "print(colored('Tenemos nuestro dataframe:\\n', 'blue'), df_from_list)\n",
    "\n",
    "# Veamos como funcionan los métodos.\n",
    "# Ubiquemos las filas 1 y 2 de la columna 0:\n",
    "\n",
    "print(colored('\\nMétodo iloc():\\n', 'blue'))\n",
    "print(df_from_list.iloc[1:3, 0])\n",
    "\n",
    "print(colored('\\nMétodo loc():\\n', 'blue'))\n",
    "print(df_from_list.loc['B':'C', 'col1'])"
   ]
  },
  {
   "cell_type": "markdown",
   "metadata": {},
   "source": [
    "También es posible modificar los valores, así como agregar filas o columnas a nuestro _dataframe_, incluso es posible unir mas de un _dataframe_. Esto lo veremos en clases posteriores. Por ahora vamos a utilizar una función de la librería pandas que nos permitirá leer un archivo csv: \n",
    "\n",
    "```python\n",
    "df = pd.read_csv('../data/raw_data/personas.csv')\n",
    "print(df)\n",
    "```"
   ]
  },
  {
   "cell_type": "code",
   "execution_count": 75,
   "metadata": {},
   "outputs": [],
   "source": [
    "df = pd.read_csv(os.path.join(os.path.join(), \"raw_data\", \"personas.csv\"))"
   ]
  },
  {
   "cell_type": "markdown",
   "metadata": {},
   "source": [
    "Explora los siguientes comandos para obtener la información del _dataframe_ anterior:\n",
    "\n",
    "df.columns, df.index, df.shape, df.head(), df.tail(), type(df), df.info() y df.describe().\n"
   ]
  },
  {
   "cell_type": "code",
   "execution_count": 76,
   "metadata": {},
   "outputs": [
    {
     "name": "stdout",
     "output_type": "stream",
     "text": [
      "Columnas Index(['codigo', 'prov', 'dpto', 'frac', 'rad', 'varon', 'mujer', 'total'], dtype='object')\n",
      "-------------------------\n",
      "Indices RangeIndex(start=0, stop=4752, step=1)\n",
      "-------------------------\n",
      "Dimension (4752, 8)\n",
      "-------------------------\n",
      "Primeros registros <bound method NDFrame.head of          codigo  prov  dpto  frac  rad  varon  mujer  total\n",
      "0     140070101    14     7     1    1     40     28     68\n",
      "1     140070102    14     7     1    2    261    233    494\n",
      "2     140070103    14     7     1    3    123     96    219\n",
      "3     140070104    14     7     1    4     45     32     77\n",
      "4     140070105    14     7     1    5    137    131    268\n",
      "...         ...   ...   ...   ...  ...    ...    ...    ...\n",
      "4747  141821308    14   182    13    8    229    225    454\n",
      "4748  141821309    14   182    13    9    222    240    462\n",
      "4749  141821310    14   182    13   10    242    249    491\n",
      "4750  141821311    14   182    13   11    417    417    834\n",
      "4751  141821312    14   182    13   12    420    434    854\n",
      "\n",
      "[4752 rows x 8 columns]>\n",
      "-------------------------\n",
      "Ultimos registros <bound method NDFrame.tail of          codigo  prov  dpto  frac  rad  varon  mujer  total\n",
      "0     140070101    14     7     1    1     40     28     68\n",
      "1     140070102    14     7     1    2    261    233    494\n",
      "2     140070103    14     7     1    3    123     96    219\n",
      "3     140070104    14     7     1    4     45     32     77\n",
      "4     140070105    14     7     1    5    137    131    268\n",
      "...         ...   ...   ...   ...  ...    ...    ...    ...\n",
      "4747  141821308    14   182    13    8    229    225    454\n",
      "4748  141821309    14   182    13    9    222    240    462\n",
      "4749  141821310    14   182    13   10    242    249    491\n",
      "4750  141821311    14   182    13   11    417    417    834\n",
      "4751  141821312    14   182    13   12    420    434    854\n",
      "\n",
      "[4752 rows x 8 columns]>\n",
      "-------------------------\n",
      "Tipo df <class 'pandas.core.frame.DataFrame'>\n",
      "-------------------------\n",
      "<class 'pandas.core.frame.DataFrame'>\n",
      "RangeIndex: 4752 entries, 0 to 4751\n",
      "Data columns (total 8 columns):\n",
      " #   Column  Non-Null Count  Dtype\n",
      "---  ------  --------------  -----\n",
      " 0   codigo  4752 non-null   int64\n",
      " 1   prov    4752 non-null   int64\n",
      " 2   dpto    4752 non-null   int64\n",
      " 3   frac    4752 non-null   int64\n",
      " 4   rad     4752 non-null   int64\n",
      " 5   varon   4752 non-null   int64\n",
      " 6   mujer   4752 non-null   int64\n",
      " 7   total   4752 non-null   int64\n",
      "dtypes: int64(8)\n",
      "memory usage: 297.1 KB\n",
      "Informacion: None\n",
      "-------------------------\n",
      "Estadisticas              codigo    prov        dpto         frac          rad  \\\n",
      "count  4.752000e+03  4752.0  4752.00000  4752.000000  4752.000000   \n",
      "mean   1.406955e+08    14.0    69.34154    21.099958     8.367635   \n",
      "std    5.592273e+05     0.0    56.05660    25.860601     5.052674   \n",
      "min    1.400701e+08    14.0     7.00000     1.000000     1.000000   \n",
      "25%    1.401470e+08    14.0    14.00000     4.000000     4.000000   \n",
      "50%    1.405604e+08    14.0    56.00000     9.000000     8.000000   \n",
      "75%    1.411903e+08    14.0   119.00000    25.000000    12.000000   \n",
      "max    1.418213e+08    14.0   182.00000    99.000000    27.000000   \n",
      "\n",
      "             varon        mujer        total  \n",
      "count  4752.000000  4752.000000  4752.000000  \n",
      "mean    337.771044   358.541246   696.312290  \n",
      "std     196.816007   205.086649   398.267489  \n",
      "min       0.000000     0.000000     0.000000  \n",
      "25%     198.000000   218.000000   419.750000  \n",
      "50%     334.000000   369.000000   703.000000  \n",
      "75%     455.250000   489.000000   944.000000  \n",
      "max    2483.000000  1622.000000  3273.000000  \n"
     ]
    }
   ],
   "source": [
    "print(f\"Columnas {df.columns}\")\n",
    "print(\"-------------------------\")\n",
    "print(f\"Indices {df.index}\")\n",
    "print(\"-------------------------\")\n",
    "print(f\"Dimension {df.shape}\")\n",
    "print(\"-------------------------\")\n",
    "print(f\"Primeros registros {df.head}\")\n",
    "print(\"-------------------------\")\n",
    "print(f\"Ultimos registros {df.tail}\")\n",
    "print(\"-------------------------\")\n",
    "print(f\"Tipo df {type(df)}\")\n",
    "print(\"-------------------------\")\n",
    "print(f\"Informacion: {df.info() }\")\n",
    "print(\"-------------------------\")\n",
    "print(f\"Estadisticas {df.describe()}\")"
   ]
  },
  {
   "cell_type": "markdown",
   "metadata": {},
   "source": [
    "## 3.2. Filtros\n",
    "\n",
    "Podemos realizar diferentes tipos de filtros que nos permitan obtener únicamente los registros de interés. Esta tarea se puede llevar a cabo mediante el uso de condicionales simples como: igual a (==), diferente (!=), mayor que (>), menor que (<), entre otros. A continuación veremos algunos ejemplos:\n",
    "\n",
    "```python\n",
    "# Seleccionemos la columna dpto y consultemos los\n",
    "# valores únicos de la misma:\n",
    "\n",
    "print(df['dpto'].unique())\n",
    "```"
   ]
  },
  {
   "cell_type": "code",
   "execution_count": 77,
   "metadata": {},
   "outputs": [
    {
     "name": "stdout",
     "output_type": "stream",
     "text": [
      "[  7  14  21  28  35  42  49  56  63  70  77  84  91  98 105 112 119 126\n",
      " 133 140 147 154 161 168 175 182]\n"
     ]
    }
   ],
   "source": [
    "print(df['dpto'].unique())"
   ]
  },
  {
   "cell_type": "markdown",
   "metadata": {},
   "source": [
    "```python\n",
    "# Seleccionemos todos los registros cuyo\n",
    "# dpto sea igual a 14:\n",
    "\n",
    "dpto14 = df[df['dpto'] == 14]\n",
    "\n",
    "print(dpto14)\n",
    "```"
   ]
  },
  {
   "cell_type": "code",
   "execution_count": 79,
   "metadata": {},
   "outputs": [
    {
     "name": "stdout",
     "output_type": "stream",
     "text": [
      "         codigo  prov  dpto  frac  rad  varon  mujer  total\n",
      "138   140140101    14    14     1    1    306    276    582\n",
      "139   140140102    14    14     1    2    639    599   1238\n",
      "140   140140103    14    14     1    3    641    642   1283\n",
      "141   140140104    14    14     1    4    403    408    811\n",
      "142   140140105    14    14     1    5    458    487    945\n",
      "...         ...   ...   ...   ...  ...    ...    ...    ...\n",
      "1626  140149909    14    14    99    9    546    601   1147\n",
      "1627  140149910    14    14    99   10    608    619   1227\n",
      "1628  140149911    14    14    99   11    350    419    769\n",
      "1629  140149912    14    14    99   12    469    453    922\n",
      "1630  140149913    14    14    99   13    821    832   1653\n",
      "\n",
      "[1493 rows x 8 columns]\n"
     ]
    }
   ],
   "source": [
    "dpto14 = df[df['dpto'] == 14]\n",
    "\n",
    "print(dpto14)"
   ]
  },
  {
   "cell_type": "markdown",
   "metadata": {},
   "source": [
    "```python\n",
    "# Sumemos el total de personas del dpto 14:\n",
    "\n",
    "print(dpto14['total'].sum())\n",
    "```"
   ]
  },
  {
   "cell_type": "code",
   "execution_count": 80,
   "metadata": {},
   "outputs": [
    {
     "name": "stdout",
     "output_type": "stream",
     "text": [
      "1329604\n"
     ]
    }
   ],
   "source": [
    "print(dpto14['total'].sum())"
   ]
  },
  {
   "cell_type": "markdown",
   "metadata": {},
   "source": [
    "```python\n",
    "# Filtremos los registros del departamento 14\n",
    "# cuya fracción sea igual a 1:\n",
    "\n",
    "print(df[(df['dpto'] == 14) & (df['frac'] == 1)])\n",
    "```"
   ]
  },
  {
   "cell_type": "code",
   "execution_count": 81,
   "metadata": {},
   "outputs": [
    {
     "name": "stdout",
     "output_type": "stream",
     "text": [
      "        codigo  prov  dpto  frac  rad  varon  mujer  total\n",
      "138  140140101    14    14     1    1    306    276    582\n",
      "139  140140102    14    14     1    2    639    599   1238\n",
      "140  140140103    14    14     1    3    641    642   1283\n",
      "141  140140104    14    14     1    4    403    408    811\n",
      "142  140140105    14    14     1    5    458    487    945\n",
      "143  140140106    14    14     1    6    565    614   1179\n",
      "144  140140107    14    14     1    7    362    397    759\n",
      "145  140140108    14    14     1    8    379    393    772\n",
      "146  140140109    14    14     1    9    725    744   1469\n",
      "147  140140110    14    14     1   10    421    454    875\n",
      "148  140140111    14    14     1   11    302    377    679\n",
      "149  140140112    14    14     1   12    434    516    950\n",
      "150  140140113    14    14     1   13    592    606   1198\n"
     ]
    }
   ],
   "source": [
    "print(df[(df['dpto'] == 14) & (df['frac'] == 1)])"
   ]
  },
  {
   "cell_type": "markdown",
   "metadata": {},
   "source": [
    "```python\n",
    "# Filtremos los registros del departamento 14\n",
    "# cuya fracción no sea igual a 1:\n",
    "\n",
    "print(df[(df['dpto'] == 14) & ~(df['frac'] == 1)])\n",
    "# print(df[(df['dpto'] == 14) & (df['frac'] != 1)])\n",
    "```"
   ]
  },
  {
   "cell_type": "code",
   "execution_count": 82,
   "metadata": {},
   "outputs": [
    {
     "name": "stdout",
     "output_type": "stream",
     "text": [
      "         codigo  prov  dpto  frac  rad  varon  mujer  total\n",
      "151   140140201    14    14     2    1    499    475    974\n",
      "152   140140202    14    14     2    2    670    684   1354\n",
      "153   140140203    14    14     2    3    527    571   1098\n",
      "154   140140204    14    14     2    4    459    503    962\n",
      "155   140140205    14    14     2    5    321    402    723\n",
      "...         ...   ...   ...   ...  ...    ...    ...    ...\n",
      "1626  140149909    14    14    99    9    546    601   1147\n",
      "1627  140149910    14    14    99   10    608    619   1227\n",
      "1628  140149911    14    14    99   11    350    419    769\n",
      "1629  140149912    14    14    99   12    469    453    922\n",
      "1630  140149913    14    14    99   13    821    832   1653\n",
      "\n",
      "[1480 rows x 8 columns]\n"
     ]
    }
   ],
   "source": [
    "print(df[(df['dpto'] == 14) & ~(df['frac'] == 1)])"
   ]
  },
  {
   "cell_type": "markdown",
   "metadata": {},
   "source": [
    "También es posible adicionar o eliminar columnas de nuestro _dataframe_, veamos a continuación como es esto:\n",
    "\n",
    "```python\n",
    "\n",
    "# Eliminemos la columna código de nuestro dataframe:\n",
    "\n",
    "df = df.drop(columns=['codigo'])\n",
    "print(df)\n",
    "```"
   ]
  },
  {
   "cell_type": "code",
   "execution_count": 83,
   "metadata": {},
   "outputs": [
    {
     "name": "stdout",
     "output_type": "stream",
     "text": [
      "      prov  dpto  frac  rad  varon  mujer  total\n",
      "0       14     7     1    1     40     28     68\n",
      "1       14     7     1    2    261    233    494\n",
      "2       14     7     1    3    123     96    219\n",
      "3       14     7     1    4     45     32     77\n",
      "4       14     7     1    5    137    131    268\n",
      "...    ...   ...   ...  ...    ...    ...    ...\n",
      "4747    14   182    13    8    229    225    454\n",
      "4748    14   182    13    9    222    240    462\n",
      "4749    14   182    13   10    242    249    491\n",
      "4750    14   182    13   11    417    417    834\n",
      "4751    14   182    13   12    420    434    854\n",
      "\n",
      "[4752 rows x 7 columns]\n"
     ]
    }
   ],
   "source": [
    "df = df.drop(columns=['codigo'])\n",
    "print(df)"
   ]
  },
  {
   "cell_type": "markdown",
   "metadata": {},
   "source": [
    "Reconstruyamos nuestra columna, para esto vamos a ver un método utilizado por la librería pandas llamado _.map_. Este método permite iterar sobre una columna y aplicar una función determinada a una serie de datos. Antes de realizar este proceso, sobre nuestro _dataframe_, ejecutemos un ejemplo básico de este funcionamiento sobre una lista: \n",
    "\n",
    "```python\n",
    "# Tenemos nuestra lista:\n",
    "\n",
    "lista = [4, 5, 10, 20, 1]\n",
    "print(lista)\n",
    "```"
   ]
  },
  {
   "cell_type": "code",
   "execution_count": 84,
   "metadata": {},
   "outputs": [
    {
     "name": "stdout",
     "output_type": "stream",
     "text": [
      "[4, 5, 10, 20, 1]\n"
     ]
    }
   ],
   "source": [
    "lista = [4, 5, 10, 20, 1]\n",
    "print(lista)"
   ]
  },
  {
   "cell_type": "markdown",
   "metadata": {},
   "source": [
    "Una vez tenemos nuestra lista, vamos a convertirla de valores enteros a datos de tipo _string_ buscando que conserven dos dígitos. Es decir, que nuestro número 4 pasará a ser '04', el 10 será '10', etc.\n",
    "Para esto, una manera simple es iterar con un _for_ sobre nuestra lista:\n",
    "\n",
    "```python\n",
    "nueva_lista = ['{:02d}'.format(i) for i in lista]\n",
    "print(nueva_lista)\n",
    "```"
   ]
  },
  {
   "cell_type": "code",
   "execution_count": 85,
   "metadata": {},
   "outputs": [
    {
     "name": "stdout",
     "output_type": "stream",
     "text": [
      "['04', '05', '10', '20', '01']\n"
     ]
    }
   ],
   "source": [
    "nueva_lista = ['{:02d}'.format(i) for i in lista]\n",
    "print(nueva_lista)"
   ]
  },
  {
   "cell_type": "markdown",
   "metadata": {},
   "source": [
    "Esto mismo se puede hacer utilizando _map()_, que devuelve un iterable que efectúa operaciones únicamente cuando se quiere acceder al elemento, es decir:\n",
    "\n",
    "```python\n",
    "map('{:02d}'.format, lista)\n",
    "```"
   ]
  },
  {
   "cell_type": "code",
   "execution_count": 86,
   "metadata": {},
   "outputs": [
    {
     "data": {
      "text/plain": [
       "<map at 0x23e49955880>"
      ]
     },
     "execution_count": 86,
     "metadata": {},
     "output_type": "execute_result"
    }
   ],
   "source": [
    "map('{:02d}'.format, lista)"
   ]
  },
  {
   "cell_type": "markdown",
   "metadata": {},
   "source": [
    "En el caso anterior tenemos un objeto que es un iterador, donde el resultado no se guarda en memoria, sino que se genera a medida que se requiere. Por ejemplo si hacemos:\n",
    "\n",
    "```python\n",
    "list(map('{:02d}'.format, lista))\n",
    "```"
   ]
  },
  {
   "cell_type": "code",
   "execution_count": 87,
   "metadata": {},
   "outputs": [
    {
     "data": {
      "text/plain": [
       "['04', '05', '10', '20', '01']"
      ]
     },
     "execution_count": 87,
     "metadata": {},
     "output_type": "execute_result"
    }
   ],
   "source": [
    "list(map('{:02d}'.format, lista))"
   ]
  },
  {
   "cell_type": "markdown",
   "metadata": {},
   "source": [
    "Lo anterior es sumamente útil cuando se manejan grandes volúmenes de datos, permitiendo ejecuciones mucho mas eficientes de nuestros programas. \n",
    "\n",
    "Veamos ahora cómo lo implementaríamos para generar nuevamente nuestra columna _codigo_:\n",
    "\n",
    "```python\n",
    "# crear columna\n",
    "\n",
    "df['codigo_nuevo'] = df['prov'].map(str) \\\n",
    "                     + df['dpto'].map(str) \\\n",
    "                     + df['frac'].map(str) \\\n",
    "                     + df['rad'].map(str)\n",
    "print(df)\n",
    "```"
   ]
  },
  {
   "cell_type": "code",
   "execution_count": 88,
   "metadata": {},
   "outputs": [
    {
     "name": "stdout",
     "output_type": "stream",
     "text": [
      "      prov  dpto  frac  rad  varon  mujer  total codigo_nuevo\n",
      "0       14     7     1    1     40     28     68        14711\n",
      "1       14     7     1    2    261    233    494        14712\n",
      "2       14     7     1    3    123     96    219        14713\n",
      "3       14     7     1    4     45     32     77        14714\n",
      "4       14     7     1    5    137    131    268        14715\n",
      "...    ...   ...   ...  ...    ...    ...    ...          ...\n",
      "4747    14   182    13    8    229    225    454     14182138\n",
      "4748    14   182    13    9    222    240    462     14182139\n",
      "4749    14   182    13   10    242    249    491    141821310\n",
      "4750    14   182    13   11    417    417    834    141821311\n",
      "4751    14   182    13   12    420    434    854    141821312\n",
      "\n",
      "[4752 rows x 8 columns]\n"
     ]
    }
   ],
   "source": [
    "df['codigo_nuevo'] = df['prov'].map(str) \\\n",
    "                     + df['dpto'].map(str) \\\n",
    "                     + df['frac'].map(str) \\\n",
    "                     + df['rad'].map(str)\n",
    "print(df)"
   ]
  },
  {
   "cell_type": "markdown",
   "metadata": {},
   "source": [
    "¿Se parece al código inicial? \n",
    "\n",
    "No, ¿verdad?\n",
    "\n",
    "En el código inicial, la provincia tiene asignados dos dígitos, el departamento 3, la fracción y radios 2 cada uno. Esto es posible manejarlo si definimos el formato de la columna cuando aplicamos el método _map()_ de la misma manera que lo vimos en el ejemplo que ejecutamos previamente, así que vamos a recalcularlo:\n",
    "\n",
    "```python\n",
    "df['codigo_nuevo'] = df['prov'].map('{:02}'.format) \\\n",
    "                     + df['dpto'].map('{:03}'.format) \\\n",
    "                     + df['frac'].map('{:02}'.format) \\\n",
    "                     + df['rad'].map('{:02}'.format)\n",
    "print(df)\n",
    "```"
   ]
  },
  {
   "cell_type": "code",
   "execution_count": 89,
   "metadata": {},
   "outputs": [
    {
     "name": "stdout",
     "output_type": "stream",
     "text": [
      "      prov  dpto  frac  rad  varon  mujer  total codigo_nuevo\n",
      "0       14     7     1    1     40     28     68    140070101\n",
      "1       14     7     1    2    261    233    494    140070102\n",
      "2       14     7     1    3    123     96    219    140070103\n",
      "3       14     7     1    4     45     32     77    140070104\n",
      "4       14     7     1    5    137    131    268    140070105\n",
      "...    ...   ...   ...  ...    ...    ...    ...          ...\n",
      "4747    14   182    13    8    229    225    454    141821308\n",
      "4748    14   182    13    9    222    240    462    141821309\n",
      "4749    14   182    13   10    242    249    491    141821310\n",
      "4750    14   182    13   11    417    417    834    141821311\n",
      "4751    14   182    13   12    420    434    854    141821312\n",
      "\n",
      "[4752 rows x 8 columns]\n"
     ]
    }
   ],
   "source": [
    "df['codigo_nuevo'] = df['prov'].map('{:02}'.format) \\\n",
    "                     + df['dpto'].map('{:03}'.format) \\\n",
    "                     + df['frac'].map('{:02}'.format) \\\n",
    "                     + df['rad'].map('{:02}'.format)\n",
    "print(df)"
   ]
  },
  {
   "cell_type": "markdown",
   "metadata": {},
   "source": [
    "De la misma manera que tomamos valores de diferentes columnas para formar una nueva, es posible extraer parte de una cadena string de una columna haciendo uso del método _map()_. Supongamos que nuestro dataframe solo cuenta con las columnas 'varon', 'mujer' y 'codigo_nuevo'. Esto se ve de la siguiente manera:\n",
    "\n",
    "```python\n",
    "df2 = df.loc[:, ['varon', 'mujer', 'codigo_nuevo']]\n",
    "df2\n",
    "```"
   ]
  },
  {
   "cell_type": "code",
   "execution_count": 90,
   "metadata": {},
   "outputs": [
    {
     "data": {
      "text/html": [
       "<div>\n",
       "<style scoped>\n",
       "    .dataframe tbody tr th:only-of-type {\n",
       "        vertical-align: middle;\n",
       "    }\n",
       "\n",
       "    .dataframe tbody tr th {\n",
       "        vertical-align: top;\n",
       "    }\n",
       "\n",
       "    .dataframe thead th {\n",
       "        text-align: right;\n",
       "    }\n",
       "</style>\n",
       "<table border=\"1\" class=\"dataframe\">\n",
       "  <thead>\n",
       "    <tr style=\"text-align: right;\">\n",
       "      <th></th>\n",
       "      <th>varon</th>\n",
       "      <th>mujer</th>\n",
       "      <th>codigo_nuevo</th>\n",
       "    </tr>\n",
       "  </thead>\n",
       "  <tbody>\n",
       "    <tr>\n",
       "      <th>0</th>\n",
       "      <td>40</td>\n",
       "      <td>28</td>\n",
       "      <td>140070101</td>\n",
       "    </tr>\n",
       "    <tr>\n",
       "      <th>1</th>\n",
       "      <td>261</td>\n",
       "      <td>233</td>\n",
       "      <td>140070102</td>\n",
       "    </tr>\n",
       "    <tr>\n",
       "      <th>2</th>\n",
       "      <td>123</td>\n",
       "      <td>96</td>\n",
       "      <td>140070103</td>\n",
       "    </tr>\n",
       "    <tr>\n",
       "      <th>3</th>\n",
       "      <td>45</td>\n",
       "      <td>32</td>\n",
       "      <td>140070104</td>\n",
       "    </tr>\n",
       "    <tr>\n",
       "      <th>4</th>\n",
       "      <td>137</td>\n",
       "      <td>131</td>\n",
       "      <td>140070105</td>\n",
       "    </tr>\n",
       "    <tr>\n",
       "      <th>...</th>\n",
       "      <td>...</td>\n",
       "      <td>...</td>\n",
       "      <td>...</td>\n",
       "    </tr>\n",
       "    <tr>\n",
       "      <th>4747</th>\n",
       "      <td>229</td>\n",
       "      <td>225</td>\n",
       "      <td>141821308</td>\n",
       "    </tr>\n",
       "    <tr>\n",
       "      <th>4748</th>\n",
       "      <td>222</td>\n",
       "      <td>240</td>\n",
       "      <td>141821309</td>\n",
       "    </tr>\n",
       "    <tr>\n",
       "      <th>4749</th>\n",
       "      <td>242</td>\n",
       "      <td>249</td>\n",
       "      <td>141821310</td>\n",
       "    </tr>\n",
       "    <tr>\n",
       "      <th>4750</th>\n",
       "      <td>417</td>\n",
       "      <td>417</td>\n",
       "      <td>141821311</td>\n",
       "    </tr>\n",
       "    <tr>\n",
       "      <th>4751</th>\n",
       "      <td>420</td>\n",
       "      <td>434</td>\n",
       "      <td>141821312</td>\n",
       "    </tr>\n",
       "  </tbody>\n",
       "</table>\n",
       "<p>4752 rows × 3 columns</p>\n",
       "</div>"
      ],
      "text/plain": [
       "      varon  mujer codigo_nuevo\n",
       "0        40     28    140070101\n",
       "1       261    233    140070102\n",
       "2       123     96    140070103\n",
       "3        45     32    140070104\n",
       "4       137    131    140070105\n",
       "...     ...    ...          ...\n",
       "4747    229    225    141821308\n",
       "4748    222    240    141821309\n",
       "4749    242    249    141821310\n",
       "4750    417    417    141821311\n",
       "4751    420    434    141821312\n",
       "\n",
       "[4752 rows x 3 columns]"
      ]
     },
     "execution_count": 90,
     "metadata": {},
     "output_type": "execute_result"
    }
   ],
   "source": [
    "df2 = df.loc[:, ['varon', 'mujer', 'codigo_nuevo']]\n",
    "df2"
   ]
  },
  {
   "cell_type": "markdown",
   "metadata": {},
   "source": [
    "Ahora necesitamos crear a partir de nuestro código las columnas faltantes ('prov', 'dpto', 'frac', 'radio'). Esto sería fácil si tenemos un solo string, por ejemplo:\n",
    "\n",
    "```python\n",
    "s = '140070101'\n",
    "print(colored('\\nProvincia: ', 'blue'), s[:2])\n",
    "print(colored('\\nDepartamento: ', 'blue'), s[2:5])\n",
    "print(colored('\\nFracción: ', 'blue'), s[5:7])\n",
    "print(colored('\\nRadio: ', 'blue'), s[7:])\n",
    "```"
   ]
  },
  {
   "cell_type": "code",
   "execution_count": 91,
   "metadata": {},
   "outputs": [
    {
     "name": "stdout",
     "output_type": "stream",
     "text": [
      "\u001b[34m\n",
      "Provincia: \u001b[0m 14\n",
      "\u001b[34m\n",
      "Departamento: \u001b[0m 007\n",
      "\u001b[34m\n",
      "Fracción: \u001b[0m 01\n",
      "\u001b[34m\n",
      "Radio: \u001b[0m 01\n"
     ]
    }
   ],
   "source": [
    "s = '140070101'\n",
    "print(colored('\\nProvincia: ', 'blue'), s[:2])\n",
    "print(colored('\\nDepartamento: ', 'blue'), s[2:5])\n",
    "print(colored('\\nFracción: ', 'blue'), s[5:7])\n",
    "print(colored('\\nRadio: ', 'blue'), s[7:])"
   ]
  },
  {
   "cell_type": "markdown",
   "metadata": {},
   "source": [
    "Aquí nuevamente nos puede ser de utilidad el método _map()_ visto anteriormente. Sin embargo, vamos a introducir un nuevo tipo de funciones llamadas funciones lambda. Estas funciones son también llamadas funciones anónimas, esto es porque no tienen un nombre que permita llamarlas. En lugar de eso, se pueden definir al momento de utilizarlas, simplificando el código y evitando guardar elementos innecesarios en memoria. Veamos como es esto paso a paso:\n",
    "\n",
    "```python\n",
    "lista = [4, 2, 5]\n",
    "list(map(lambda x: x**2, lista))\n",
    "```"
   ]
  },
  {
   "cell_type": "code",
   "execution_count": 92,
   "metadata": {},
   "outputs": [
    {
     "data": {
      "text/plain": [
       "[16, 4, 25]"
      ]
     },
     "execution_count": 92,
     "metadata": {},
     "output_type": "execute_result"
    }
   ],
   "source": [
    "lista = [4, 2, 5]\n",
    "list(map(lambda x: x**2, lista))"
   ]
  },
  {
   "cell_type": "markdown",
   "metadata": {},
   "source": [
    "Veamos ahora qué pasa con elementos de tipo string. Supongamos que tenemos una lista de nombres que queremos ordenar alfabéticamente. Esto es fácil utilizando la el método _sort()_ de los objetos tipo lista:\n",
    "\n",
    "```python\n",
    "nombres = ['Pedro Sanchez', 'Marcela Arias', 'Marcos Cardona', 'Martha Bravo']\n",
    "\n",
    "nombres.sort()\n",
    "print(nombres)\n",
    "\n",
    "nombres.sort(reverse=True)\n",
    "print(nombres)\n",
    "```"
   ]
  },
  {
   "cell_type": "code",
   "execution_count": 93,
   "metadata": {},
   "outputs": [
    {
     "name": "stdout",
     "output_type": "stream",
     "text": [
      "['Marcela Arias', 'Marcos Cardona', 'Martha Bravo', 'Pedro Sanchez']\n",
      "['Pedro Sanchez', 'Martha Bravo', 'Marcos Cardona', 'Marcela Arias']\n"
     ]
    }
   ],
   "source": [
    "nombres = ['Pedro Sanchez', 'Marcela Arias', 'Marcos Cardona', 'Martha Bravo']\n",
    "\n",
    "nombres.sort()\n",
    "print(nombres)\n",
    "\n",
    "nombres.sort(reverse=True)\n",
    "print(nombres)"
   ]
  },
  {
   "cell_type": "markdown",
   "metadata": {},
   "source": [
    "Sin embargo, ¿qué pasaría si queremos ordenar nuestra lista dados los apellidos de las personas?\n",
    "En este caso resultan de gran utilidad las funciones lambda. Veamos como funcionan:\n",
    "\n",
    "```python\n",
    "nombres.sort(key=lambda x: x.split(' ')[1])\n",
    "print(nombres)\n",
    "```"
   ]
  },
  {
   "cell_type": "code",
   "execution_count": 94,
   "metadata": {},
   "outputs": [
    {
     "name": "stdout",
     "output_type": "stream",
     "text": [
      "['Marcela Arias', 'Martha Bravo', 'Marcos Cardona', 'Pedro Sanchez']\n"
     ]
    }
   ],
   "source": [
    "nombres.sort(key=lambda x: x.split(' ')[1])\n",
    "print(nombres)"
   ]
  },
  {
   "cell_type": "markdown",
   "metadata": {},
   "source": [
    "Volvamos al caso de nuestro _dataframe_ y a modo de ejemplo vamos a obtener únicamente la columna 'dpto' a partir de nuestro código:\n",
    "\n",
    "```python\n",
    "print(df2)\n",
    "\n",
    "# Vamos a crear nuestra columna departamento (dpto)\n",
    "df2['dpto'] = df2['codigo_nuevo'].map(lambda x: x[2:5])\n",
    "df2\n",
    "```"
   ]
  },
  {
   "cell_type": "code",
   "execution_count": 95,
   "metadata": {},
   "outputs": [
    {
     "name": "stdout",
     "output_type": "stream",
     "text": [
      "      varon  mujer codigo_nuevo\n",
      "0        40     28    140070101\n",
      "1       261    233    140070102\n",
      "2       123     96    140070103\n",
      "3        45     32    140070104\n",
      "4       137    131    140070105\n",
      "...     ...    ...          ...\n",
      "4747    229    225    141821308\n",
      "4748    222    240    141821309\n",
      "4749    242    249    141821310\n",
      "4750    417    417    141821311\n",
      "4751    420    434    141821312\n",
      "\n",
      "[4752 rows x 3 columns]\n"
     ]
    },
    {
     "data": {
      "text/html": [
       "<div>\n",
       "<style scoped>\n",
       "    .dataframe tbody tr th:only-of-type {\n",
       "        vertical-align: middle;\n",
       "    }\n",
       "\n",
       "    .dataframe tbody tr th {\n",
       "        vertical-align: top;\n",
       "    }\n",
       "\n",
       "    .dataframe thead th {\n",
       "        text-align: right;\n",
       "    }\n",
       "</style>\n",
       "<table border=\"1\" class=\"dataframe\">\n",
       "  <thead>\n",
       "    <tr style=\"text-align: right;\">\n",
       "      <th></th>\n",
       "      <th>varon</th>\n",
       "      <th>mujer</th>\n",
       "      <th>codigo_nuevo</th>\n",
       "      <th>dpto</th>\n",
       "    </tr>\n",
       "  </thead>\n",
       "  <tbody>\n",
       "    <tr>\n",
       "      <th>0</th>\n",
       "      <td>40</td>\n",
       "      <td>28</td>\n",
       "      <td>140070101</td>\n",
       "      <td>007</td>\n",
       "    </tr>\n",
       "    <tr>\n",
       "      <th>1</th>\n",
       "      <td>261</td>\n",
       "      <td>233</td>\n",
       "      <td>140070102</td>\n",
       "      <td>007</td>\n",
       "    </tr>\n",
       "    <tr>\n",
       "      <th>2</th>\n",
       "      <td>123</td>\n",
       "      <td>96</td>\n",
       "      <td>140070103</td>\n",
       "      <td>007</td>\n",
       "    </tr>\n",
       "    <tr>\n",
       "      <th>3</th>\n",
       "      <td>45</td>\n",
       "      <td>32</td>\n",
       "      <td>140070104</td>\n",
       "      <td>007</td>\n",
       "    </tr>\n",
       "    <tr>\n",
       "      <th>4</th>\n",
       "      <td>137</td>\n",
       "      <td>131</td>\n",
       "      <td>140070105</td>\n",
       "      <td>007</td>\n",
       "    </tr>\n",
       "    <tr>\n",
       "      <th>...</th>\n",
       "      <td>...</td>\n",
       "      <td>...</td>\n",
       "      <td>...</td>\n",
       "      <td>...</td>\n",
       "    </tr>\n",
       "    <tr>\n",
       "      <th>4747</th>\n",
       "      <td>229</td>\n",
       "      <td>225</td>\n",
       "      <td>141821308</td>\n",
       "      <td>182</td>\n",
       "    </tr>\n",
       "    <tr>\n",
       "      <th>4748</th>\n",
       "      <td>222</td>\n",
       "      <td>240</td>\n",
       "      <td>141821309</td>\n",
       "      <td>182</td>\n",
       "    </tr>\n",
       "    <tr>\n",
       "      <th>4749</th>\n",
       "      <td>242</td>\n",
       "      <td>249</td>\n",
       "      <td>141821310</td>\n",
       "      <td>182</td>\n",
       "    </tr>\n",
       "    <tr>\n",
       "      <th>4750</th>\n",
       "      <td>417</td>\n",
       "      <td>417</td>\n",
       "      <td>141821311</td>\n",
       "      <td>182</td>\n",
       "    </tr>\n",
       "    <tr>\n",
       "      <th>4751</th>\n",
       "      <td>420</td>\n",
       "      <td>434</td>\n",
       "      <td>141821312</td>\n",
       "      <td>182</td>\n",
       "    </tr>\n",
       "  </tbody>\n",
       "</table>\n",
       "<p>4752 rows × 4 columns</p>\n",
       "</div>"
      ],
      "text/plain": [
       "      varon  mujer codigo_nuevo dpto\n",
       "0        40     28    140070101  007\n",
       "1       261    233    140070102  007\n",
       "2       123     96    140070103  007\n",
       "3        45     32    140070104  007\n",
       "4       137    131    140070105  007\n",
       "...     ...    ...          ...  ...\n",
       "4747    229    225    141821308  182\n",
       "4748    222    240    141821309  182\n",
       "4749    242    249    141821310  182\n",
       "4750    417    417    141821311  182\n",
       "4751    420    434    141821312  182\n",
       "\n",
       "[4752 rows x 4 columns]"
      ]
     },
     "execution_count": 95,
     "metadata": {},
     "output_type": "execute_result"
    }
   ],
   "source": [
    "print(df2)\n",
    "\n",
    "# Vamos a crear nuestra columna departamento (dpto)\n",
    "df2['dpto'] = df2['codigo_nuevo'].map(lambda x: x[2:5])\n",
    "df2"
   ]
  },
  {
   "cell_type": "markdown",
   "metadata": {},
   "source": [
    "### Ejercicio 3.2: \n",
    "\n",
    "1. Carga el archivo \"personas.csv\" que se encuentra en la carpeta _../data/raw_data/_. Realiza la suma de las columnas _varon_ y _mujer_, almacénalas en una nueva llamada _total2_ y compáralas con la columna _total_. Deberían ser iguales.\n",
    "\n",
    "\n",
    "2. Dado el siguiente diccionario, crea una columna en el _dataframe_ llamada _nombredpto_ donde se asigne el nombre del departamento correspondiente (según la columna _dpto_). Para el desarrollo de este ejercicio, recuerda los métodos de filtrado loc() e iloc().\n",
    "\n",
    "```python\n",
    "# Diccionario:\n",
    "nombres = {154: 'SOBREMONTE',\n",
    "           175: 'TULUMBA',\n",
    "           112: 'RIO SECO',\n",
    "           28: 'CRUZ DEL EJE',\n",
    "           49: 'ISCHILIN',\n",
    "           140: 'SAN JUSTO',\n",
    "           168: 'TOTORAL',\n",
    "           105: 'RIO PRIMERO',\n",
    "           70: 'MINAS',\n",
    "           91: 'PUNILLA',\n",
    "           21: 'COLON',\n",
    "           77: 'POCHO',\n",
    "           14: 'CAPITAL',\n",
    "           119: 'RIO SEGUNDO',\n",
    "           147: 'SANTA MARIA',\n",
    "           126: 'SAN ALBERTO',\n",
    "           7: 'CALAMUCHITA',\n",
    "           133: 'SAN JAVIER',\n",
    "           161: 'TERCERO ARRIBA',\n",
    "           182: 'UNION',\n",
    "           42: 'GENERAL SAN MARTIN',\n",
    "           63: 'MARCOS JUAREZ',\n",
    "           98: 'RIO CUARTO',\n",
    "           56: 'JUAREZ CELMAN',\n",
    "           84: 'PTE ROQUE SAENZ PEÑA',\n",
    "           35: 'GENERAL ROCA'}\n",
    "```\n"
   ]
  },
  {
   "cell_type": "code",
   "execution_count": 96,
   "metadata": {},
   "outputs": [
    {
     "data": {
      "text/html": [
       "<div>\n",
       "<style scoped>\n",
       "    .dataframe tbody tr th:only-of-type {\n",
       "        vertical-align: middle;\n",
       "    }\n",
       "\n",
       "    .dataframe tbody tr th {\n",
       "        vertical-align: top;\n",
       "    }\n",
       "\n",
       "    .dataframe thead th {\n",
       "        text-align: right;\n",
       "    }\n",
       "</style>\n",
       "<table border=\"1\" class=\"dataframe\">\n",
       "  <thead>\n",
       "    <tr style=\"text-align: right;\">\n",
       "      <th></th>\n",
       "      <th>codigo</th>\n",
       "      <th>prov</th>\n",
       "      <th>dpto</th>\n",
       "      <th>frac</th>\n",
       "      <th>rad</th>\n",
       "      <th>varon</th>\n",
       "      <th>mujer</th>\n",
       "      <th>total</th>\n",
       "    </tr>\n",
       "  </thead>\n",
       "  <tbody>\n",
       "    <tr>\n",
       "      <th>0</th>\n",
       "      <td>140070101</td>\n",
       "      <td>14</td>\n",
       "      <td>7</td>\n",
       "      <td>1</td>\n",
       "      <td>1</td>\n",
       "      <td>40</td>\n",
       "      <td>28</td>\n",
       "      <td>68</td>\n",
       "    </tr>\n",
       "    <tr>\n",
       "      <th>1</th>\n",
       "      <td>140070102</td>\n",
       "      <td>14</td>\n",
       "      <td>7</td>\n",
       "      <td>1</td>\n",
       "      <td>2</td>\n",
       "      <td>261</td>\n",
       "      <td>233</td>\n",
       "      <td>494</td>\n",
       "    </tr>\n",
       "    <tr>\n",
       "      <th>2</th>\n",
       "      <td>140070103</td>\n",
       "      <td>14</td>\n",
       "      <td>7</td>\n",
       "      <td>1</td>\n",
       "      <td>3</td>\n",
       "      <td>123</td>\n",
       "      <td>96</td>\n",
       "      <td>219</td>\n",
       "    </tr>\n",
       "    <tr>\n",
       "      <th>3</th>\n",
       "      <td>140070104</td>\n",
       "      <td>14</td>\n",
       "      <td>7</td>\n",
       "      <td>1</td>\n",
       "      <td>4</td>\n",
       "      <td>45</td>\n",
       "      <td>32</td>\n",
       "      <td>77</td>\n",
       "    </tr>\n",
       "    <tr>\n",
       "      <th>4</th>\n",
       "      <td>140070105</td>\n",
       "      <td>14</td>\n",
       "      <td>7</td>\n",
       "      <td>1</td>\n",
       "      <td>5</td>\n",
       "      <td>137</td>\n",
       "      <td>131</td>\n",
       "      <td>268</td>\n",
       "    </tr>\n",
       "    <tr>\n",
       "      <th>...</th>\n",
       "      <td>...</td>\n",
       "      <td>...</td>\n",
       "      <td>...</td>\n",
       "      <td>...</td>\n",
       "      <td>...</td>\n",
       "      <td>...</td>\n",
       "      <td>...</td>\n",
       "      <td>...</td>\n",
       "    </tr>\n",
       "    <tr>\n",
       "      <th>4747</th>\n",
       "      <td>141821308</td>\n",
       "      <td>14</td>\n",
       "      <td>182</td>\n",
       "      <td>13</td>\n",
       "      <td>8</td>\n",
       "      <td>229</td>\n",
       "      <td>225</td>\n",
       "      <td>454</td>\n",
       "    </tr>\n",
       "    <tr>\n",
       "      <th>4748</th>\n",
       "      <td>141821309</td>\n",
       "      <td>14</td>\n",
       "      <td>182</td>\n",
       "      <td>13</td>\n",
       "      <td>9</td>\n",
       "      <td>222</td>\n",
       "      <td>240</td>\n",
       "      <td>462</td>\n",
       "    </tr>\n",
       "    <tr>\n",
       "      <th>4749</th>\n",
       "      <td>141821310</td>\n",
       "      <td>14</td>\n",
       "      <td>182</td>\n",
       "      <td>13</td>\n",
       "      <td>10</td>\n",
       "      <td>242</td>\n",
       "      <td>249</td>\n",
       "      <td>491</td>\n",
       "    </tr>\n",
       "    <tr>\n",
       "      <th>4750</th>\n",
       "      <td>141821311</td>\n",
       "      <td>14</td>\n",
       "      <td>182</td>\n",
       "      <td>13</td>\n",
       "      <td>11</td>\n",
       "      <td>417</td>\n",
       "      <td>417</td>\n",
       "      <td>834</td>\n",
       "    </tr>\n",
       "    <tr>\n",
       "      <th>4751</th>\n",
       "      <td>141821312</td>\n",
       "      <td>14</td>\n",
       "      <td>182</td>\n",
       "      <td>13</td>\n",
       "      <td>12</td>\n",
       "      <td>420</td>\n",
       "      <td>434</td>\n",
       "      <td>854</td>\n",
       "    </tr>\n",
       "  </tbody>\n",
       "</table>\n",
       "<p>4752 rows × 8 columns</p>\n",
       "</div>"
      ],
      "text/plain": [
       "         codigo  prov  dpto  frac  rad  varon  mujer  total\n",
       "0     140070101    14     7     1    1     40     28     68\n",
       "1     140070102    14     7     1    2    261    233    494\n",
       "2     140070103    14     7     1    3    123     96    219\n",
       "3     140070104    14     7     1    4     45     32     77\n",
       "4     140070105    14     7     1    5    137    131    268\n",
       "...         ...   ...   ...   ...  ...    ...    ...    ...\n",
       "4747  141821308    14   182    13    8    229    225    454\n",
       "4748  141821309    14   182    13    9    222    240    462\n",
       "4749  141821310    14   182    13   10    242    249    491\n",
       "4750  141821311    14   182    13   11    417    417    834\n",
       "4751  141821312    14   182    13   12    420    434    854\n",
       "\n",
       "[4752 rows x 8 columns]"
      ]
     },
     "execution_count": 96,
     "metadata": {},
     "output_type": "execute_result"
    }
   ],
   "source": [
    "df_final = pd.read_csv(os.path.join(os.getcwd(), \"raw_data\", \"personas.csv\"))\n",
    "df_final"
   ]
  },
  {
   "cell_type": "code",
   "execution_count": 99,
   "metadata": {},
   "outputs": [
    {
     "data": {
      "text/html": [
       "<div>\n",
       "<style scoped>\n",
       "    .dataframe tbody tr th:only-of-type {\n",
       "        vertical-align: middle;\n",
       "    }\n",
       "\n",
       "    .dataframe tbody tr th {\n",
       "        vertical-align: top;\n",
       "    }\n",
       "\n",
       "    .dataframe thead th {\n",
       "        text-align: right;\n",
       "    }\n",
       "</style>\n",
       "<table border=\"1\" class=\"dataframe\">\n",
       "  <thead>\n",
       "    <tr style=\"text-align: right;\">\n",
       "      <th></th>\n",
       "      <th>codigo</th>\n",
       "      <th>prov</th>\n",
       "      <th>dpto</th>\n",
       "      <th>frac</th>\n",
       "      <th>rad</th>\n",
       "      <th>varon</th>\n",
       "      <th>mujer</th>\n",
       "      <th>total</th>\n",
       "      <th>total2</th>\n",
       "    </tr>\n",
       "  </thead>\n",
       "  <tbody>\n",
       "    <tr>\n",
       "      <th>0</th>\n",
       "      <td>140070101</td>\n",
       "      <td>14</td>\n",
       "      <td>7</td>\n",
       "      <td>1</td>\n",
       "      <td>1</td>\n",
       "      <td>40</td>\n",
       "      <td>28</td>\n",
       "      <td>68</td>\n",
       "      <td>68</td>\n",
       "    </tr>\n",
       "    <tr>\n",
       "      <th>1</th>\n",
       "      <td>140070102</td>\n",
       "      <td>14</td>\n",
       "      <td>7</td>\n",
       "      <td>1</td>\n",
       "      <td>2</td>\n",
       "      <td>261</td>\n",
       "      <td>233</td>\n",
       "      <td>494</td>\n",
       "      <td>494</td>\n",
       "    </tr>\n",
       "    <tr>\n",
       "      <th>2</th>\n",
       "      <td>140070103</td>\n",
       "      <td>14</td>\n",
       "      <td>7</td>\n",
       "      <td>1</td>\n",
       "      <td>3</td>\n",
       "      <td>123</td>\n",
       "      <td>96</td>\n",
       "      <td>219</td>\n",
       "      <td>219</td>\n",
       "    </tr>\n",
       "    <tr>\n",
       "      <th>3</th>\n",
       "      <td>140070104</td>\n",
       "      <td>14</td>\n",
       "      <td>7</td>\n",
       "      <td>1</td>\n",
       "      <td>4</td>\n",
       "      <td>45</td>\n",
       "      <td>32</td>\n",
       "      <td>77</td>\n",
       "      <td>77</td>\n",
       "    </tr>\n",
       "    <tr>\n",
       "      <th>4</th>\n",
       "      <td>140070105</td>\n",
       "      <td>14</td>\n",
       "      <td>7</td>\n",
       "      <td>1</td>\n",
       "      <td>5</td>\n",
       "      <td>137</td>\n",
       "      <td>131</td>\n",
       "      <td>268</td>\n",
       "      <td>268</td>\n",
       "    </tr>\n",
       "    <tr>\n",
       "      <th>...</th>\n",
       "      <td>...</td>\n",
       "      <td>...</td>\n",
       "      <td>...</td>\n",
       "      <td>...</td>\n",
       "      <td>...</td>\n",
       "      <td>...</td>\n",
       "      <td>...</td>\n",
       "      <td>...</td>\n",
       "      <td>...</td>\n",
       "    </tr>\n",
       "    <tr>\n",
       "      <th>4747</th>\n",
       "      <td>141821308</td>\n",
       "      <td>14</td>\n",
       "      <td>182</td>\n",
       "      <td>13</td>\n",
       "      <td>8</td>\n",
       "      <td>229</td>\n",
       "      <td>225</td>\n",
       "      <td>454</td>\n",
       "      <td>454</td>\n",
       "    </tr>\n",
       "    <tr>\n",
       "      <th>4748</th>\n",
       "      <td>141821309</td>\n",
       "      <td>14</td>\n",
       "      <td>182</td>\n",
       "      <td>13</td>\n",
       "      <td>9</td>\n",
       "      <td>222</td>\n",
       "      <td>240</td>\n",
       "      <td>462</td>\n",
       "      <td>462</td>\n",
       "    </tr>\n",
       "    <tr>\n",
       "      <th>4749</th>\n",
       "      <td>141821310</td>\n",
       "      <td>14</td>\n",
       "      <td>182</td>\n",
       "      <td>13</td>\n",
       "      <td>10</td>\n",
       "      <td>242</td>\n",
       "      <td>249</td>\n",
       "      <td>491</td>\n",
       "      <td>491</td>\n",
       "    </tr>\n",
       "    <tr>\n",
       "      <th>4750</th>\n",
       "      <td>141821311</td>\n",
       "      <td>14</td>\n",
       "      <td>182</td>\n",
       "      <td>13</td>\n",
       "      <td>11</td>\n",
       "      <td>417</td>\n",
       "      <td>417</td>\n",
       "      <td>834</td>\n",
       "      <td>834</td>\n",
       "    </tr>\n",
       "    <tr>\n",
       "      <th>4751</th>\n",
       "      <td>141821312</td>\n",
       "      <td>14</td>\n",
       "      <td>182</td>\n",
       "      <td>13</td>\n",
       "      <td>12</td>\n",
       "      <td>420</td>\n",
       "      <td>434</td>\n",
       "      <td>854</td>\n",
       "      <td>854</td>\n",
       "    </tr>\n",
       "  </tbody>\n",
       "</table>\n",
       "<p>4752 rows × 9 columns</p>\n",
       "</div>"
      ],
      "text/plain": [
       "         codigo  prov  dpto  frac  rad  varon  mujer  total  total2\n",
       "0     140070101    14     7     1    1     40     28     68      68\n",
       "1     140070102    14     7     1    2    261    233    494     494\n",
       "2     140070103    14     7     1    3    123     96    219     219\n",
       "3     140070104    14     7     1    4     45     32     77      77\n",
       "4     140070105    14     7     1    5    137    131    268     268\n",
       "...         ...   ...   ...   ...  ...    ...    ...    ...     ...\n",
       "4747  141821308    14   182    13    8    229    225    454     454\n",
       "4748  141821309    14   182    13    9    222    240    462     462\n",
       "4749  141821310    14   182    13   10    242    249    491     491\n",
       "4750  141821311    14   182    13   11    417    417    834     834\n",
       "4751  141821312    14   182    13   12    420    434    854     854\n",
       "\n",
       "[4752 rows x 9 columns]"
      ]
     },
     "execution_count": 99,
     "metadata": {},
     "output_type": "execute_result"
    }
   ],
   "source": [
    "# Sumamos columna varon y mujer, se crea columna total2\n",
    "df_final[\"total2\"] = df_final[\"varon\"] + df_final[\"mujer\"]\n",
    "df_final"
   ]
  },
  {
   "cell_type": "code",
   "execution_count": 101,
   "metadata": {},
   "outputs": [],
   "source": [
    "# Para verificar que total es igual a total2, \n",
    "#creamos una nueva columna que sea True en el caso que los registros sean iguales y False en caso contrario\n",
    "df_final[\"total_iguales\"] = df_final[\"total\"] == df_final[\"total2\"]"
   ]
  },
  {
   "cell_type": "code",
   "execution_count": 102,
   "metadata": {},
   "outputs": [
    {
     "data": {
      "text/html": [
       "<div>\n",
       "<style scoped>\n",
       "    .dataframe tbody tr th:only-of-type {\n",
       "        vertical-align: middle;\n",
       "    }\n",
       "\n",
       "    .dataframe tbody tr th {\n",
       "        vertical-align: top;\n",
       "    }\n",
       "\n",
       "    .dataframe thead th {\n",
       "        text-align: right;\n",
       "    }\n",
       "</style>\n",
       "<table border=\"1\" class=\"dataframe\">\n",
       "  <thead>\n",
       "    <tr style=\"text-align: right;\">\n",
       "      <th></th>\n",
       "      <th>codigo</th>\n",
       "      <th>prov</th>\n",
       "      <th>dpto</th>\n",
       "      <th>frac</th>\n",
       "      <th>rad</th>\n",
       "      <th>varon</th>\n",
       "      <th>mujer</th>\n",
       "      <th>total</th>\n",
       "      <th>total2</th>\n",
       "      <th>total_iguales</th>\n",
       "    </tr>\n",
       "  </thead>\n",
       "  <tbody>\n",
       "    <tr>\n",
       "      <th>0</th>\n",
       "      <td>140070101</td>\n",
       "      <td>14</td>\n",
       "      <td>7</td>\n",
       "      <td>1</td>\n",
       "      <td>1</td>\n",
       "      <td>40</td>\n",
       "      <td>28</td>\n",
       "      <td>68</td>\n",
       "      <td>68</td>\n",
       "      <td>True</td>\n",
       "    </tr>\n",
       "    <tr>\n",
       "      <th>1</th>\n",
       "      <td>140070102</td>\n",
       "      <td>14</td>\n",
       "      <td>7</td>\n",
       "      <td>1</td>\n",
       "      <td>2</td>\n",
       "      <td>261</td>\n",
       "      <td>233</td>\n",
       "      <td>494</td>\n",
       "      <td>494</td>\n",
       "      <td>True</td>\n",
       "    </tr>\n",
       "    <tr>\n",
       "      <th>2</th>\n",
       "      <td>140070103</td>\n",
       "      <td>14</td>\n",
       "      <td>7</td>\n",
       "      <td>1</td>\n",
       "      <td>3</td>\n",
       "      <td>123</td>\n",
       "      <td>96</td>\n",
       "      <td>219</td>\n",
       "      <td>219</td>\n",
       "      <td>True</td>\n",
       "    </tr>\n",
       "    <tr>\n",
       "      <th>3</th>\n",
       "      <td>140070104</td>\n",
       "      <td>14</td>\n",
       "      <td>7</td>\n",
       "      <td>1</td>\n",
       "      <td>4</td>\n",
       "      <td>45</td>\n",
       "      <td>32</td>\n",
       "      <td>77</td>\n",
       "      <td>77</td>\n",
       "      <td>True</td>\n",
       "    </tr>\n",
       "    <tr>\n",
       "      <th>4</th>\n",
       "      <td>140070105</td>\n",
       "      <td>14</td>\n",
       "      <td>7</td>\n",
       "      <td>1</td>\n",
       "      <td>5</td>\n",
       "      <td>137</td>\n",
       "      <td>131</td>\n",
       "      <td>268</td>\n",
       "      <td>268</td>\n",
       "      <td>True</td>\n",
       "    </tr>\n",
       "    <tr>\n",
       "      <th>...</th>\n",
       "      <td>...</td>\n",
       "      <td>...</td>\n",
       "      <td>...</td>\n",
       "      <td>...</td>\n",
       "      <td>...</td>\n",
       "      <td>...</td>\n",
       "      <td>...</td>\n",
       "      <td>...</td>\n",
       "      <td>...</td>\n",
       "      <td>...</td>\n",
       "    </tr>\n",
       "    <tr>\n",
       "      <th>4747</th>\n",
       "      <td>141821308</td>\n",
       "      <td>14</td>\n",
       "      <td>182</td>\n",
       "      <td>13</td>\n",
       "      <td>8</td>\n",
       "      <td>229</td>\n",
       "      <td>225</td>\n",
       "      <td>454</td>\n",
       "      <td>454</td>\n",
       "      <td>True</td>\n",
       "    </tr>\n",
       "    <tr>\n",
       "      <th>4748</th>\n",
       "      <td>141821309</td>\n",
       "      <td>14</td>\n",
       "      <td>182</td>\n",
       "      <td>13</td>\n",
       "      <td>9</td>\n",
       "      <td>222</td>\n",
       "      <td>240</td>\n",
       "      <td>462</td>\n",
       "      <td>462</td>\n",
       "      <td>True</td>\n",
       "    </tr>\n",
       "    <tr>\n",
       "      <th>4749</th>\n",
       "      <td>141821310</td>\n",
       "      <td>14</td>\n",
       "      <td>182</td>\n",
       "      <td>13</td>\n",
       "      <td>10</td>\n",
       "      <td>242</td>\n",
       "      <td>249</td>\n",
       "      <td>491</td>\n",
       "      <td>491</td>\n",
       "      <td>True</td>\n",
       "    </tr>\n",
       "    <tr>\n",
       "      <th>4750</th>\n",
       "      <td>141821311</td>\n",
       "      <td>14</td>\n",
       "      <td>182</td>\n",
       "      <td>13</td>\n",
       "      <td>11</td>\n",
       "      <td>417</td>\n",
       "      <td>417</td>\n",
       "      <td>834</td>\n",
       "      <td>834</td>\n",
       "      <td>True</td>\n",
       "    </tr>\n",
       "    <tr>\n",
       "      <th>4751</th>\n",
       "      <td>141821312</td>\n",
       "      <td>14</td>\n",
       "      <td>182</td>\n",
       "      <td>13</td>\n",
       "      <td>12</td>\n",
       "      <td>420</td>\n",
       "      <td>434</td>\n",
       "      <td>854</td>\n",
       "      <td>854</td>\n",
       "      <td>True</td>\n",
       "    </tr>\n",
       "  </tbody>\n",
       "</table>\n",
       "<p>4752 rows × 10 columns</p>\n",
       "</div>"
      ],
      "text/plain": [
       "         codigo  prov  dpto  frac  rad  varon  mujer  total  total2  \\\n",
       "0     140070101    14     7     1    1     40     28     68      68   \n",
       "1     140070102    14     7     1    2    261    233    494     494   \n",
       "2     140070103    14     7     1    3    123     96    219     219   \n",
       "3     140070104    14     7     1    4     45     32     77      77   \n",
       "4     140070105    14     7     1    5    137    131    268     268   \n",
       "...         ...   ...   ...   ...  ...    ...    ...    ...     ...   \n",
       "4747  141821308    14   182    13    8    229    225    454     454   \n",
       "4748  141821309    14   182    13    9    222    240    462     462   \n",
       "4749  141821310    14   182    13   10    242    249    491     491   \n",
       "4750  141821311    14   182    13   11    417    417    834     834   \n",
       "4751  141821312    14   182    13   12    420    434    854     854   \n",
       "\n",
       "      total_iguales  \n",
       "0              True  \n",
       "1              True  \n",
       "2              True  \n",
       "3              True  \n",
       "4              True  \n",
       "...             ...  \n",
       "4747           True  \n",
       "4748           True  \n",
       "4749           True  \n",
       "4750           True  \n",
       "4751           True  \n",
       "\n",
       "[4752 rows x 10 columns]"
      ]
     },
     "execution_count": 102,
     "metadata": {},
     "output_type": "execute_result"
    }
   ],
   "source": [
    "df_final"
   ]
  },
  {
   "cell_type": "code",
   "execution_count": 103,
   "metadata": {},
   "outputs": [
    {
     "data": {
      "text/plain": [
       "array([ True])"
      ]
     },
     "execution_count": 103,
     "metadata": {},
     "output_type": "execute_result"
    }
   ],
   "source": [
    "# Ahora verificamos cuantos valores \"unicos\" hay en total_iguales\n",
    "df_final[\"total_iguales\"].unique()"
   ]
  },
  {
   "cell_type": "code",
   "execution_count": 105,
   "metadata": {},
   "outputs": [],
   "source": [
    "# Vemos que solo hay un valor, y es True, quiere decir que no hay ningún valor que sea distinto\n",
    "# Ahora asignaremos nombre de depto\n",
    "nombres = {154: 'SOBREMONTE',\n",
    "           175: 'TULUMBA',\n",
    "           112: 'RIO SECO',\n",
    "           28: 'CRUZ DEL EJE',\n",
    "           49: 'ISCHILIN',\n",
    "           140: 'SAN JUSTO',\n",
    "           168: 'TOTORAL',\n",
    "           105: 'RIO PRIMERO',\n",
    "           70: 'MINAS',\n",
    "           91: 'PUNILLA',\n",
    "           21: 'COLON',\n",
    "           77: 'POCHO',\n",
    "           14: 'CAPITAL',\n",
    "           119: 'RIO SEGUNDO',\n",
    "           147: 'SANTA MARIA',\n",
    "           126: 'SAN ALBERTO',\n",
    "           7: 'CALAMUCHITA',\n",
    "           133: 'SAN JAVIER',\n",
    "           161: 'TERCERO ARRIBA',\n",
    "           182: 'UNION',\n",
    "           42: 'GENERAL SAN MARTIN',\n",
    "           63: 'MARCOS JUAREZ',\n",
    "           98: 'RIO CUARTO',\n",
    "           56: 'JUAREZ CELMAN',\n",
    "           84: 'PTE ROQUE SAENZ PEÑA',\n",
    "           35: 'GENERAL ROCA'}"
   ]
  },
  {
   "cell_type": "code",
   "execution_count": 106,
   "metadata": {},
   "outputs": [],
   "source": [
    "# Recorremos el diccionario con el propósito de hacer un \"match\" entre la columna \"dpto\" y la key\n",
    "# En caso de ser iguales, le asignamos el nombre de depto correspondiente\n",
    "for key, value in nombres.items():\n",
    "    \n",
    "    df_final.loc[df_final[\"dpto\"] == key, \"nombredpto\"] = value"
   ]
  },
  {
   "cell_type": "code",
   "execution_count": 107,
   "metadata": {},
   "outputs": [
    {
     "data": {
      "text/html": [
       "<div>\n",
       "<style scoped>\n",
       "    .dataframe tbody tr th:only-of-type {\n",
       "        vertical-align: middle;\n",
       "    }\n",
       "\n",
       "    .dataframe tbody tr th {\n",
       "        vertical-align: top;\n",
       "    }\n",
       "\n",
       "    .dataframe thead th {\n",
       "        text-align: right;\n",
       "    }\n",
       "</style>\n",
       "<table border=\"1\" class=\"dataframe\">\n",
       "  <thead>\n",
       "    <tr style=\"text-align: right;\">\n",
       "      <th></th>\n",
       "      <th>codigo</th>\n",
       "      <th>prov</th>\n",
       "      <th>dpto</th>\n",
       "      <th>frac</th>\n",
       "      <th>rad</th>\n",
       "      <th>varon</th>\n",
       "      <th>mujer</th>\n",
       "      <th>total</th>\n",
       "      <th>total2</th>\n",
       "      <th>total_iguales</th>\n",
       "      <th>nombredpto</th>\n",
       "    </tr>\n",
       "  </thead>\n",
       "  <tbody>\n",
       "    <tr>\n",
       "      <th>0</th>\n",
       "      <td>140070101</td>\n",
       "      <td>14</td>\n",
       "      <td>7</td>\n",
       "      <td>1</td>\n",
       "      <td>1</td>\n",
       "      <td>40</td>\n",
       "      <td>28</td>\n",
       "      <td>68</td>\n",
       "      <td>68</td>\n",
       "      <td>True</td>\n",
       "      <td>CALAMUCHITA</td>\n",
       "    </tr>\n",
       "    <tr>\n",
       "      <th>1</th>\n",
       "      <td>140070102</td>\n",
       "      <td>14</td>\n",
       "      <td>7</td>\n",
       "      <td>1</td>\n",
       "      <td>2</td>\n",
       "      <td>261</td>\n",
       "      <td>233</td>\n",
       "      <td>494</td>\n",
       "      <td>494</td>\n",
       "      <td>True</td>\n",
       "      <td>CALAMUCHITA</td>\n",
       "    </tr>\n",
       "    <tr>\n",
       "      <th>2</th>\n",
       "      <td>140070103</td>\n",
       "      <td>14</td>\n",
       "      <td>7</td>\n",
       "      <td>1</td>\n",
       "      <td>3</td>\n",
       "      <td>123</td>\n",
       "      <td>96</td>\n",
       "      <td>219</td>\n",
       "      <td>219</td>\n",
       "      <td>True</td>\n",
       "      <td>CALAMUCHITA</td>\n",
       "    </tr>\n",
       "    <tr>\n",
       "      <th>3</th>\n",
       "      <td>140070104</td>\n",
       "      <td>14</td>\n",
       "      <td>7</td>\n",
       "      <td>1</td>\n",
       "      <td>4</td>\n",
       "      <td>45</td>\n",
       "      <td>32</td>\n",
       "      <td>77</td>\n",
       "      <td>77</td>\n",
       "      <td>True</td>\n",
       "      <td>CALAMUCHITA</td>\n",
       "    </tr>\n",
       "    <tr>\n",
       "      <th>4</th>\n",
       "      <td>140070105</td>\n",
       "      <td>14</td>\n",
       "      <td>7</td>\n",
       "      <td>1</td>\n",
       "      <td>5</td>\n",
       "      <td>137</td>\n",
       "      <td>131</td>\n",
       "      <td>268</td>\n",
       "      <td>268</td>\n",
       "      <td>True</td>\n",
       "      <td>CALAMUCHITA</td>\n",
       "    </tr>\n",
       "    <tr>\n",
       "      <th>...</th>\n",
       "      <td>...</td>\n",
       "      <td>...</td>\n",
       "      <td>...</td>\n",
       "      <td>...</td>\n",
       "      <td>...</td>\n",
       "      <td>...</td>\n",
       "      <td>...</td>\n",
       "      <td>...</td>\n",
       "      <td>...</td>\n",
       "      <td>...</td>\n",
       "      <td>...</td>\n",
       "    </tr>\n",
       "    <tr>\n",
       "      <th>4747</th>\n",
       "      <td>141821308</td>\n",
       "      <td>14</td>\n",
       "      <td>182</td>\n",
       "      <td>13</td>\n",
       "      <td>8</td>\n",
       "      <td>229</td>\n",
       "      <td>225</td>\n",
       "      <td>454</td>\n",
       "      <td>454</td>\n",
       "      <td>True</td>\n",
       "      <td>UNION</td>\n",
       "    </tr>\n",
       "    <tr>\n",
       "      <th>4748</th>\n",
       "      <td>141821309</td>\n",
       "      <td>14</td>\n",
       "      <td>182</td>\n",
       "      <td>13</td>\n",
       "      <td>9</td>\n",
       "      <td>222</td>\n",
       "      <td>240</td>\n",
       "      <td>462</td>\n",
       "      <td>462</td>\n",
       "      <td>True</td>\n",
       "      <td>UNION</td>\n",
       "    </tr>\n",
       "    <tr>\n",
       "      <th>4749</th>\n",
       "      <td>141821310</td>\n",
       "      <td>14</td>\n",
       "      <td>182</td>\n",
       "      <td>13</td>\n",
       "      <td>10</td>\n",
       "      <td>242</td>\n",
       "      <td>249</td>\n",
       "      <td>491</td>\n",
       "      <td>491</td>\n",
       "      <td>True</td>\n",
       "      <td>UNION</td>\n",
       "    </tr>\n",
       "    <tr>\n",
       "      <th>4750</th>\n",
       "      <td>141821311</td>\n",
       "      <td>14</td>\n",
       "      <td>182</td>\n",
       "      <td>13</td>\n",
       "      <td>11</td>\n",
       "      <td>417</td>\n",
       "      <td>417</td>\n",
       "      <td>834</td>\n",
       "      <td>834</td>\n",
       "      <td>True</td>\n",
       "      <td>UNION</td>\n",
       "    </tr>\n",
       "    <tr>\n",
       "      <th>4751</th>\n",
       "      <td>141821312</td>\n",
       "      <td>14</td>\n",
       "      <td>182</td>\n",
       "      <td>13</td>\n",
       "      <td>12</td>\n",
       "      <td>420</td>\n",
       "      <td>434</td>\n",
       "      <td>854</td>\n",
       "      <td>854</td>\n",
       "      <td>True</td>\n",
       "      <td>UNION</td>\n",
       "    </tr>\n",
       "  </tbody>\n",
       "</table>\n",
       "<p>4752 rows × 11 columns</p>\n",
       "</div>"
      ],
      "text/plain": [
       "         codigo  prov  dpto  frac  rad  varon  mujer  total  total2  \\\n",
       "0     140070101    14     7     1    1     40     28     68      68   \n",
       "1     140070102    14     7     1    2    261    233    494     494   \n",
       "2     140070103    14     7     1    3    123     96    219     219   \n",
       "3     140070104    14     7     1    4     45     32     77      77   \n",
       "4     140070105    14     7     1    5    137    131    268     268   \n",
       "...         ...   ...   ...   ...  ...    ...    ...    ...     ...   \n",
       "4747  141821308    14   182    13    8    229    225    454     454   \n",
       "4748  141821309    14   182    13    9    222    240    462     462   \n",
       "4749  141821310    14   182    13   10    242    249    491     491   \n",
       "4750  141821311    14   182    13   11    417    417    834     834   \n",
       "4751  141821312    14   182    13   12    420    434    854     854   \n",
       "\n",
       "      total_iguales   nombredpto  \n",
       "0              True  CALAMUCHITA  \n",
       "1              True  CALAMUCHITA  \n",
       "2              True  CALAMUCHITA  \n",
       "3              True  CALAMUCHITA  \n",
       "4              True  CALAMUCHITA  \n",
       "...             ...          ...  \n",
       "4747           True        UNION  \n",
       "4748           True        UNION  \n",
       "4749           True        UNION  \n",
       "4750           True        UNION  \n",
       "4751           True        UNION  \n",
       "\n",
       "[4752 rows x 11 columns]"
      ]
     },
     "execution_count": 107,
     "metadata": {},
     "output_type": "execute_result"
    }
   ],
   "source": [
    "df_final"
   ]
  },
  {
   "cell_type": "code",
   "execution_count": 108,
   "metadata": {},
   "outputs": [
    {
     "data": {
      "text/plain": [
       "array(['CALAMUCHITA', 'CAPITAL', 'COLON', 'CRUZ DEL EJE', 'GENERAL ROCA',\n",
       "       'GENERAL SAN MARTIN', 'ISCHILIN', 'JUAREZ CELMAN', 'MARCOS JUAREZ',\n",
       "       'MINAS', 'POCHO', 'PTE ROQUE SAENZ PEÑA', 'PUNILLA', 'RIO CUARTO',\n",
       "       'RIO PRIMERO', 'RIO SECO', 'RIO SEGUNDO', 'SAN ALBERTO',\n",
       "       'SAN JAVIER', 'SAN JUSTO', 'SANTA MARIA', 'SOBREMONTE',\n",
       "       'TERCERO ARRIBA', 'TOTORAL', 'TULUMBA', 'UNION'], dtype=object)"
      ]
     },
     "execution_count": 108,
     "metadata": {},
     "output_type": "execute_result"
    }
   ],
   "source": [
    "# Ahora verificamos cuantos valores \"unicos\" hay en nombredepto\n",
    "df_final[\"nombredpto\"].unique()"
   ]
  },
  {
   "cell_type": "markdown",
   "metadata": {},
   "source": [
    "Para más información acerca de Pandas DataFrame consulta el siguiente [enlace](https://pandas.pydata.org/docs/reference/api/pandas.DataFrame.html#pandas.DataFrame)"
   ]
  }
 ],
 "metadata": {
  "kernelspec": {
   "display_name": "Python 3 (ipykernel)",
   "language": "python",
   "name": "python3"
  },
  "language_info": {
   "codemirror_mode": {
    "name": "ipython",
    "version": 3
   },
   "file_extension": ".py",
   "mimetype": "text/x-python",
   "name": "python",
   "nbconvert_exporter": "python",
   "pygments_lexer": "ipython3",
   "version": "3.9.21"
  }
 },
 "nbformat": 4,
 "nbformat_minor": 4
}
