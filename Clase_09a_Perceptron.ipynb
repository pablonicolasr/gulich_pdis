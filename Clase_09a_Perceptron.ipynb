{
 "cells": [
  {
   "cell_type": "markdown",
   "metadata": {
    "slideshow": {
     "slide_type": "slide"
    }
   },
   "source": [
    "Procesamiento Digital de Imágenes Satelitales\n",
    "# Redes Neuronales"
   ]
  },
  {
   "cell_type": "code",
   "execution_count": 1,
   "metadata": {
    "slideshow": {
     "slide_type": "skip"
    }
   },
   "outputs": [],
   "source": [
    "#Importamos bibliotecas básicas\n",
    "import numpy as np\n",
    "import matplotlib.pyplot as plt\n",
    "from matplotlib.animation import FuncAnimation\n",
    "from matplotlib import rc\n",
    "rc('animation', html='html5')\n",
    "plt.style.use('fivethirtyeight')"
   ]
  },
  {
   "cell_type": "markdown",
   "metadata": {
    "slideshow": {
     "slide_type": "slide"
    }
   },
   "source": [
    "![Redes Neuronales](images/redes_neuronales.png)"
   ]
  },
  {
   "cell_type": "markdown",
   "metadata": {
    "slideshow": {
     "slide_type": "notes"
    }
   },
   "source": [
    "**¿Qué es una neurona biológica?**\n",
    "\n",
    "Imaginemos por un momento el cerebro humano como una gran red de comunicación. \n",
    "Esa red está formada por millones de pequeñas unidades llamadas neuronas. \n",
    "Una neurona es una célula especializada en recibir, procesar y transmitir información a otras neuronas,\n",
    "músculos o glándulas.\n",
    "\n",
    "Cada neurona tiene tres partes principales:\n",
    "\n",
    "- Dendritas, que actúan como pequeñas antenas que reciben señales de otras neuronas.\n",
    "\n",
    "- Cuerpo celular o soma, donde se integra toda esa información recibida.\n",
    "\n",
    "- Axón, un largo cable que transporta el mensaje procesado hacia otras neuronas.\n",
    "\n",
    "Cuando una señal llega a la neurona, si es lo suficientemente fuerte, se genera una especie de \"pulso eléctrico\" llamado potencial de acción, que viaja por el axón hasta llegar al final, donde se comunica con otras neuronas a través de una conexión llamada sinapsis.\n",
    "\n",
    "Así, miles de millones de señales fluyen cada segundo en nuestro cerebro, permitiéndonos desde respirar hasta resolver un problema matemático.\n",
    "\n",
    "Em sintésis, una neurona biológica recibe información, decide si debe transmitirla o no, y luego la pasa a la siguiente neurona. Esta idea tan simple inspiró el modelo de neuronas artificiales en la inteligencia artificial."
   ]
  },
  {
   "cell_type": "markdown",
   "metadata": {
    "slideshow": {
     "slide_type": "slide"
    }
   },
   "source": [
    "![Neurona](images/neurona.png)"
   ]
  },
  {
   "cell_type": "markdown",
   "metadata": {
    "slideshow": {
     "slide_type": "notes"
    }
   },
   "source": [
    "**¿Y cómo se inspira una máquina en una neurona?**\n",
    "\n",
    "Al ver cómo trabaja una neurona biológica —recibiendo información, procesándola y transmitiéndola si corresponde—, los científicos pensaron: ¿y si hacemos algo parecido en una computadora?\n",
    "\n",
    "Así nació la idea de la neurona artificial, que no es una célula, sino una función matemática. Su trabajo es muy similar al de la neurona biológica:\n",
    "\n",
    "- Recibe datos de entrada, que pueden ser números, como características de una imagen o los valores de un sensor.\n",
    "\n",
    "- Pondera esos datos, es decir, les da diferente importancia usando unos números llamados pesos.\n",
    "\n",
    "- Suma todo y le aplica una función, como si fuera una decisión: ¿la señal total es suficientemente fuerte?\n",
    "\n",
    "- Genera una salida, que puede ser, por ejemplo, una predicción o una clasificación.\n",
    "\n",
    "Este modelo básico se llama perceptrón, y fue propuesto en 1958 por Frank Rosenblatt. Es la versión más simple de una neurona artificial.\n",
    "\n",
    "Podríamos decir que el perceptrón “decide” en base a una fórmula matemática si una entrada pertenece a una clase u otra. Por ejemplo: si el clima está nublado y la humedad es alta, ¿salgo con paraguas o no?"
   ]
  },
  {
   "cell_type": "markdown",
   "metadata": {
    "slideshow": {
     "slide_type": "slide"
    }
   },
   "source": [
    "## Perceptrón Simple\n",
    "\n",
    " - Propuesto por Dr Frank Rosenblatt en 1958\n",
    " - El objetivo es encontrar un hiperplano de separación\n",
    "   - Sólo encuentra la solución si los datos son linealmente separables\n",
    " - Es un algoritmo online (procesa un ejemplo a la vez), ajustando los parámetros poco a poco\n",
    " \n",
    " <img align=\"left\" src=\"images/perceptron.png\" alt=\"Perceptron\" width=\"1200\" style=\"padding-left:300px\">\n",
    "\n",
    " "
   ]
  },
  {
   "cell_type": "markdown",
   "metadata": {
    "slideshow": {
     "slide_type": "notes"
    }
   },
   "source": [
    "**Un ejemplo simple: la puerta lógica AND**\n",
    "\n",
    "Para entender cómo funciona un perceptrón, pensemos en un problema muy simple: la puerta lógica AND.\n",
    "\n",
    "En lógica, una puerta AND recibe dos valores de entrada —por ejemplo, verdadero o falso— y solo responde “verdadero” si ambos son verdaderos. Si al menos uno es falso, responde falso.\n",
    "\n",
    "Podemos escribirlo así:\n",
    "\n",
    "    True AND True → True\n",
    "\n",
    "    True AND False → False\n",
    "\n",
    "    False AND True → False\n",
    "\n",
    "    False AND False → False\n",
    "\n",
    "Ahora imaginemos que usamos un perceptrón para aprender esta regla. Le damos como entrada los pares de valores (por ejemplo, codificados como 1 y -1) y le pedimos que aprenda cuándo debe dar como resultado un 1 (verdadero) o un -1 (falso).\n",
    "\n",
    "Lo interesante es que el perceptrón puede aprender esto perfectamente, porque los datos se pueden separar con una simple línea recta en un plano. Eso es lo que se llama un problema linealmente separable."
   ]
  },
  {
   "cell_type": "markdown",
   "metadata": {
    "slideshow": {
     "slide_type": "slide"
    }
   },
   "source": [
    "### *Ejemplo de problema lineal:* puerta lógica AND\n",
    "\n",
    "```Python\n",
    "    True  AND True  = True\n",
    "    True  AND False = False\n",
    "    False AND True  = False\n",
    "    False AND False = False\n",
    "```"
   ]
  },
  {
   "cell_type": "markdown",
   "metadata": {
    "slideshow": {
     "slide_type": "-"
    }
   },
   "source": [
    "Una representación del conjunto de datos podría ser la siguiente"
   ]
  },
  {
   "cell_type": "code",
   "execution_count": 2,
   "metadata": {
    "slideshow": {
     "slide_type": "-"
    }
   },
   "outputs": [],
   "source": [
    "#Tomando True = 1 y False = -1\n",
    "X = np.array([[1, 1], [1, -1], [-1, 1], [-1, -1]]) #Feature matrix shape(4,2)\n",
    "y = np.array([1, -1, -1, -1]) #Labels"
   ]
  },
  {
   "cell_type": "code",
   "execution_count": 3,
   "metadata": {
    "slideshow": {
     "slide_type": "slide"
    }
   },
   "outputs": [
    {
     "data": {
      "image/png": "[encoded data removed]",
      "text/plain": [
       "<Figure size 640x480 with 1 Axes>"
      ]
     },
     "metadata": {},
     "output_type": "display_data"
    }
   ],
   "source": [
    "plt.scatter(X[y == -1, 0], X[y == -1, 1], c='red', marker='o', label='FALSE', s=100)\n",
    "plt.scatter(X[y == 1, 0], X[y == 1, 1], c='blue', marker='s', label='TRUE', s=100)\n",
    "plt.xlabel('$x_1$',fontsize=16)\n",
    "plt.ylabel('$x_2$',fontsize=16)\n",
    "plt.legend();"
   ]
  },
  {
   "cell_type": "markdown",
   "metadata": {},
   "source": [
    "Pero… ¿qué pasa si el problema no se puede resolver con una sola línea?\n",
    "\n",
    "Un buen contraejemplo es la puerta lógica XOR. Esta dice que la salida es verdadera solo si las entradas son diferentes. O sea:\n",
    "\n",
    "    True XOR True → False\n",
    "\n",
    "    True XOR False → True\n",
    "\n",
    "    False XOR True → True\n",
    "\n",
    "    False XOR False → False\n",
    "\n",
    "Este problema no puede resolverse con un solo perceptrón, porque los datos no pueden separarse con una única línea recta. Para resolverlo, hace falta algo más complejo: una red de neuronas artificiales, lo que llamamos un perceptrón multicapa.\n",
    "\n",
    "Entonces, así como en el cerebro no todo se resuelve con una sola neurona, en inteligencia artificial tampoco. A veces, necesitamos una red de neuronas artificiales que trabajen juntas para aprender problemas más difíciles."
   ]
  },
  {
   "cell_type": "markdown",
   "metadata": {
    "slideshow": {
     "slide_type": "slide"
    }
   },
   "source": [
    "### Ejemplo no aplicable - Puerta XOR \n",
    "\n",
    "![XOR](images/xor.png)\n",
    "\n",
    "```Python\n",
    "    True  AND True  = False\n",
    "    True  AND False = True\n",
    "    False AND True  = True\n",
    "    False AND False = False\n",
    "```"
   ]
  },
  {
   "cell_type": "markdown",
   "metadata": {
    "slideshow": {
     "slide_type": "notes"
    }
   },
   "source": [
    "La función XOR no puede ser *aprendida* por un único perceptrón puesto que requiere al menos de dos líneas para separar las clases (-1 y 1). Debe utilizarse al menos una capa adicional de perceptrones para permitir su aprendizaje. A o B pero no ambos."
   ]
  },
  {
   "cell_type": "markdown",
   "metadata": {
    "slideshow": {
     "slide_type": "slide"
    }
   },
   "source": [
    "Una representación del conjunto de datos podría ser la siguiente"
   ]
  },
  {
   "cell_type": "code",
   "execution_count": 4,
   "metadata": {
    "slideshow": {
     "slide_type": "-"
    }
   },
   "outputs": [],
   "source": [
    "X_xor = np.array([[-1, -1], [-1, 1], [1, -1], [1, 1]])\n",
    "y_xor = np.array([-1, 1, 1, -1])"
   ]
  },
  {
   "cell_type": "code",
   "execution_count": 5,
   "metadata": {
    "slideshow": {
     "slide_type": "-"
    }
   },
   "outputs": [
    {
     "data": {
      "text/plain": [
       "<matplotlib.legend.Legend at 0x22589b92070>"
      ]
     },
     "execution_count": 5,
     "metadata": {},
     "output_type": "execute_result"
    },
    {
     "data": {
      "image/png": "[encoded data removed]",
      "text/plain": [
       "<Figure size 640x480 with 1 Axes>"
      ]
     },
     "metadata": {},
     "output_type": "display_data"
    }
   ],
   "source": [
    "plt.scatter(X_xor[y_xor == -1, 0], X_xor[y_xor == -1, 1], c='red', marker='o', label='False', s=100)\n",
    "plt.scatter(X_xor[y_xor == 1, 0], X_xor[y_xor == 1, 1], c='blue', marker='s', label='True', s=100)\n",
    "plt.plot([-1.1, 1.1], [1.5, -0.5], color='black', ls='--', lw=2)\n",
    "plt.plot([-1.1, 1.1], [0.5, -1.5], color='black', ls='--', lw=2)\n",
    "plt.fill_between([-1.1, 1.1], [1.5, -0.5], [0.5,-1.5],color='gray', alpha=0.5)\n",
    "\n",
    "plt.xlim(-1.1,1.1); plt.ylim(-1.5,1.5)\n",
    "plt.xlabel('x1'); plt.ylabel('x2')\n",
    "plt.legend()"
   ]
  },
  {
   "cell_type": "markdown",
   "metadata": {
    "slideshow": {
     "slide_type": "slide"
    }
   },
   "source": [
    "## Algoritmo del Perceptrón"
   ]
  },
  {
   "cell_type": "markdown",
   "metadata": {
    "slideshow": {
     "slide_type": "-"
    }
   },
   "source": [
    "### Datos de entrada\n",
    " - Conjunto de datos de entrenamiento $\\{{\\bf X}_i, y_i\\}$, $i=1..n$ con $y_i \\in \\{1,-1\\} $ (i.e. clasificación binaria)\n",
    "\n",
    "### Hyperparámetros\n",
    " - Tasa de aprendizaje ($\\alpha$)"
   ]
  },
  {
   "cell_type": "markdown",
   "metadata": {
    "slideshow": {
     "slide_type": "notes"
    }
   },
   "source": [
    "Este algoritmo tiene un único hyper-parámetro el cual es la tasa de aprendizaje, es decir, la velocidad con la que se van a ir actualizando los pesos durante el entrenamiento. Los pesos $\\omega$ son los parámetros que el modelo debe aprender a partir de los datos."
   ]
  },
  {
   "cell_type": "markdown",
   "metadata": {
    "slideshow": {
     "slide_type": "subslide"
    }
   },
   "source": [
    "### Entrenamiento\n",
    " - Inicializar los pesos ${\\bf \\omega}^{(0)} \\in \\Bbb{R}^n$ \n",
    " - Para cada ejemplo $\\{ {\\bf X}_i, y_i\\}$\n",
    "   - Predecir $ \\hat{y}_i = \\mathrm{sign}\\left( {\\bf X}_i \\cdot {\\bf \\omega} + \\omega_0 \\right)$ \\\n",
    "     (la función de activación es un escalón)\n",
    "   - Si $ \\hat{y}_i \\neq y_i$\n",
    "       - $\\omega^{k+1} = \\omega^{k} + \\alpha \\left( \\left( y_i - \\hat{y}_i \\right) \\cdot{\\bf X}_i \\right)$ \\\n",
    "         donde $\\alpha$ es la tasa de aprendizaje\n",
    "\n",
    "<img align=\"right\" src=\"images/perceptron.png\" alt=\"Perceptron\" width=\"600\">\n",
    "\n",
    "Actualiza solo cuando se comete un error  \n",
    "\n",
    "**Error en positivos**: $\\omega^{k+1} = \\omega^{k} + \\alpha {\\bf X}_i$\n",
    "    \n",
    "**Error en negativos**: $\\omega^{k+1} = \\omega^{k} - \\alpha {\\bf X}_i$\n"
   ]
  },
  {
   "cell_type": "markdown",
   "metadata": {
    "slideshow": {
     "slide_type": "notes"
    }
   },
   "source": [
    "Notar que el algoritmo comienza con pesos aleatorios, hace una predicción y, si se equivoca, ajusta los pesos: \n",
    " \n",
    " - Si predijo por debajo, suma un \"poquito\"\n",
    " - Si predijo por arriba, resta un \"poquito\"\n",
    " \n",
    "donde el \"poquito\" está dado por la tasa de aprendizaje.\n",
    "\n",
    "El procedimiento se repite hasta que no haya más errores, o hasta que se alcance el número máximo de iteraciones."
   ]
  },
  {
   "cell_type": "markdown",
   "metadata": {
    "slideshow": {
     "slide_type": "slide"
    }
   },
   "source": [
    "## Un poco de código\n",
    "\n",
    "Definamos las funciones de **Activación** y **Predicción**"
   ]
  },
  {
   "cell_type": "markdown",
   "metadata": {
    "slideshow": {
     "slide_type": "notes"
    }
   },
   "source": [
    "La función de activación es una función escalón que devuelve 1 si el argumento es positvo o -1 en caso de que sea negativo.\n",
    "\n",
    "La función de predicción realiza la suma del producto de las entradas y los pesos, y lo pasa por la función de  activación."
   ]
  },
  {
   "cell_type": "code",
   "execution_count": 6,
   "metadata": {
    "slideshow": {
     "slide_type": "-"
    }
   },
   "outputs": [],
   "source": [
    "# Por conveniencia redefinimos la matriz de features agregando una columna más al inicio para el sesgo (bias)\n",
    "X = np.column_stack((np.ones(X.shape[0],dtype=int),X))"
   ]
  },
  {
   "cell_type": "markdown",
   "metadata": {
    "slideshow": {
     "slide_type": "notes"
    }
   },
   "source": [
    "**¿Qué es el *bias* en una neurona o perceptrón?**\n",
    "\n",
    "El bias es un valor adicional que se suma al resultado de la combinación lineal de los pesos y las entradas.\n",
    "Matemáticamente, si las entradas son x₁, x₂ y los pesos son w₁, w₂, la salida antes de aplicar la función de activación sería:\n",
    "\n",
    "$ s= w_1 * x_1 +w_2 * x_2 + b $\n",
    "\n",
    "Donde $b$ es el bias.\n",
    "\n",
    "**¿Para qué sirve el bias?**\n",
    "\n",
    "Permite desplazar la frontera de decisión.\n",
    "\n",
    "Sin bias, la línea de decisión siempre pasaría por el origen (0,0).\n",
    "\n",
    "El bias actúa como una especie de “offset” que permite mover esa línea hacia arriba, abajo o a los costados.\n",
    "\n",
    "El bias funciona como un umbral que decide cuándo una neurona se activa o no.\n",
    "\n",
    "Si no existiera bias:\n",
    "\n",
    "  - La neurona solo se activaría si la combinación de entradas ponderadas supera exactamente cero.\n",
    "\n",
    "  - Con bias, podemos desplazar esa frontera, activando la neurona con más flexibilidad.\n",
    "\n",
    "Así, la red es capaz de representar patrones más complejos.\n",
    "\n"
   ]
  },
  {
   "cell_type": "code",
   "execution_count": 7,
   "metadata": {
    "slideshow": {
     "slide_type": "-"
    }
   },
   "outputs": [],
   "source": [
    "def activation(s: float) -> int:\n",
    "    return 1 if s > 0.0 else -1  # función escalón (step), usada en perceptrones clásicos\n",
    "\n",
    "def predict(X: np.array , w: np.array) -> int:\n",
    "    s = np.dot(w, X)\n",
    "    return activation(s)"
   ]
  },
  {
   "cell_type": "code",
   "execution_count": 8,
   "metadata": {
    "slideshow": {
     "slide_type": "subslide"
    }
   },
   "outputs": [],
   "source": [
    "def activation(s: float) -> int:\n",
    "    return 1 if s > 0.0 else -1\n",
    "\n",
    "def predict(X: np.array , w: np.array) -> int:\n",
    "    s = np.dot(w, X)\n",
    "    return activation(s)"
   ]
  },
  {
   "cell_type": "markdown",
   "metadata": {
    "slideshow": {
     "slide_type": "slide"
    }
   },
   "source": [
    "... y la función de **entrenamiento**"
   ]
  },
  {
   "cell_type": "markdown",
   "metadata": {
    "slideshow": {
     "slide_type": "notes"
    }
   },
   "source": [
    "En la función de entrenamiento:\n",
    "  - Recorremos todos los datos.\n",
    "  - Hacemos la predicción.\n",
    "  - Si hay error, ajustamos los pesos.\n",
    "\n",
    "Esto se repite hasta que ya no hay errores, o hasta que se alcanza un número máximo de iteraciones."
   ]
  },
  {
   "cell_type": "code",
   "execution_count": 9,
   "metadata": {
    "slideshow": {
     "slide_type": "-"
    }
   },
   "outputs": [],
   "source": [
    "def epoch(X, y, weights, alpha):\n",
    "    contador_de_errores = 0  # Cuenta cuantos errores se cometieron en cada iteración\n",
    "    for Xi, yi in zip(X, y):\n",
    "        yhat = predict(Xi, weights) # Predice el valor de salida\n",
    "        error = yi - yhat # Esto es igual a cero cuando acierta, 2 o -2 cuando se equiva\n",
    "        if error != 0: # Si se equivocó, actualiza\n",
    "            contador_de_errores += 1\n",
    "            weights += alpha * error * Xi                 \n",
    "    return weights, contador_de_errores"
   ]
  },
  {
   "cell_type": "code",
   "execution_count": 10,
   "metadata": {
    "slideshow": {
     "slide_type": "fragment"
    }
   },
   "outputs": [],
   "source": [
    "def fit(X, y, weights=None, alpha=0.1, max_iter=100, verbose=True):\n",
    "    # Inicializamos los pesos si es que no fueron dados como entrada\n",
    "    w = weights.copy() if weights.all() else np.random.rand(X.shape[1])\n",
    "    \n",
    "    N = 0\n",
    "    while N < max_iter:      \n",
    "        \n",
    "        w, contador = epoch(X, y, w, alpha)\n",
    "        if verbose:\n",
    "            print(f\"Iteración {N:03d}: Cantidad de errores restantes: {contador}\")\n",
    "        \n",
    "        if contador == 0:\n",
    "            break\n",
    "        N += 1\n",
    "\n",
    "    if verbose:\n",
    "        print(f\"\\nFinalizó entrenamiento: N. de iteraciones: {N} - Cant. de errores restantes: {contador}\\n\")\n",
    "    \n",
    "    return w"
   ]
  },
  {
   "cell_type": "markdown",
   "metadata": {
    "slideshow": {
     "slide_type": "slide"
    }
   },
   "source": [
    "## Entrenemos el Percetrón"
   ]
  },
  {
   "cell_type": "markdown",
   "metadata": {
    "slideshow": {
     "slide_type": "notes"
    }
   },
   "source": [
    "Como primer paso, fijamos la tasa de aprendizaje e inicializamos los pesos con un generador de números aleatorios.\n",
    "\n",
    "Realizamos una primera predicción del modelo sin entrenar (i.e. con estos pesos aleatorios) y observamos la respuesta. Como es de esperarse, el modelo se equivoca en la predicción, es decir, el hyper-plano no separa los datos. "
   ]
  },
  {
   "cell_type": "code",
   "execution_count": 11,
   "metadata": {
    "slideshow": {
     "slide_type": "-"
    }
   },
   "outputs": [
    {
     "name": "stdout",
     "output_type": "stream",
     "text": [
      "( 1, 1) ->  1 (debería ser  1)\n",
      "( 1, 1) ->  1 (debería ser -1)\n",
      "( 1,-1) ->  1 (debería ser -1)\n",
      "( 1,-1) -> -1 (debería ser -1)\n"
     ]
    }
   ],
   "source": [
    "np.random.seed(42)\n",
    "w = np.random.rand(X.shape[1]) # inicialización aleatoria de pesos\n",
    "\n",
    "for Xi, yi in zip(X,y):\n",
    "    yhat = predict(Xi,w)\n",
    "    print(f\"({Xi[0]:2d},{Xi[1]:2d}) -> {yhat:2d} (debería ser {yi:2d})\")"
   ]
  },
  {
   "cell_type": "code",
   "execution_count": 12,
   "metadata": {
    "slideshow": {
     "slide_type": "subslide"
    }
   },
   "outputs": [
    {
     "data": {
      "image/png": "[encoded data removed]",
      "text/plain": [
       "<Figure size 800x800 with 1 Axes>"
      ]
     },
     "metadata": {},
     "output_type": "display_data"
    }
   ],
   "source": [
    "plt.figure(figsize=(8,8))\n",
    "plt.scatter(X[y == -1, 1], X[y == -1, 2], c='red', marker='o', label='False', s=100)\n",
    "plt.scatter(X[y == 1, 1], X[y == 1, 2], c='blue', marker='s', label='True', s=100)\n",
    "\n",
    "x1 = np.linspace(-1.1,1.1,11); x2 = - w[0]/w[2] - w[1]/w[2] * x1\n",
    "plt.plot(x1, x2, color='green', lw=2)\n",
    "\n",
    "plt.arrow(x1[5], x2[5], w[2], w[1], head_width=0.1, head_length=0.1, fc='green', ec='green')\n",
    "\n",
    "plt.xlabel('$x_1$',fontsize=16)\n",
    "plt.ylabel('$x_2$',fontsize=16)\n",
    "\n",
    "plt.legend();"
   ]
  },
  {
   "cell_type": "markdown",
   "metadata": {
    "slideshow": {
     "slide_type": "notes"
    }
   },
   "source": [
    "Aquí la linea verde representa el hyper-plano de separación, mientras que la flecha es su normal.\n",
    "Puede observarse como los datos no son bien separados con los pesos iniciales."
   ]
  },
  {
   "cell_type": "markdown",
   "metadata": {
    "slideshow": {
     "slide_type": "notes"
    }
   },
   "source": [
    "Ahora realizamos el entrenamiento del modelo. La función **fit** nos devolverá los pesos actualizados."
   ]
  },
  {
   "cell_type": "code",
   "execution_count": 13,
   "metadata": {
    "slideshow": {
     "slide_type": "slide"
    }
   },
   "outputs": [
    {
     "name": "stdout",
     "output_type": "stream",
     "text": [
      "Iteración 000: Cantidad de errores restantes: 2\n",
      "Iteración 001: Cantidad de errores restantes: 2\n",
      "Iteración 002: Cantidad de errores restantes: 2\n",
      "Iteración 003: Cantidad de errores restantes: 2\n",
      "Iteración 004: Cantidad de errores restantes: 2\n",
      "Iteración 005: Cantidad de errores restantes: 1\n",
      "Iteración 006: Cantidad de errores restantes: 1\n",
      "Iteración 007: Cantidad de errores restantes: 2\n",
      "Iteración 008: Cantidad de errores restantes: 1\n",
      "Iteración 009: Cantidad de errores restantes: 1\n",
      "Iteración 010: Cantidad de errores restantes: 2\n",
      "Iteración 011: Cantidad de errores restantes: 1\n",
      "Iteración 012: Cantidad de errores restantes: 1\n",
      "Iteración 013: Cantidad de errores restantes: 0\n",
      "\n",
      "Finalizó entrenamiento: N. de iteraciones: 13 - Cant. de errores restantes: 0\n",
      "\n",
      "Pesos iniciales:  [0.37454012 0.95071431 0.73199394]\n",
      "Nuevos pesos:  [-0.02545988  0.83071431  0.85199394]\n"
     ]
    }
   ],
   "source": [
    "a = 0.01 # tasa de aprendizaje\n",
    "\n",
    "new_w = fit(X, y, weights=w, alpha=a)\n",
    "\n",
    "print(\"Pesos iniciales: \", w) #Pesos iniciales\n",
    "print(\"Nuevos pesos: \", new_w) #Pesos luego del entrenamiento"
   ]
  },
  {
   "cell_type": "code",
   "execution_count": 14,
   "metadata": {
    "slideshow": {
     "slide_type": "-"
    }
   },
   "outputs": [
    {
     "name": "stdout",
     "output_type": "stream",
     "text": [
      "( 1, 1) ->  1 (debería ser  1)\n",
      "( 1, 1) -> -1 (debería ser -1)\n",
      "( 1,-1) -> -1 (debería ser -1)\n",
      "( 1,-1) -> -1 (debería ser -1)\n"
     ]
    }
   ],
   "source": [
    "for xi, yi in zip(X,y):\n",
    "    yhat = predict(xi,new_w)\n",
    "    print(f\"({xi[0]:2d},{xi[1]:2d}) -> {yhat:2d} (debería ser {yi:2d})\")"
   ]
  },
  {
   "cell_type": "code",
   "execution_count": 15,
   "metadata": {
    "slideshow": {
     "slide_type": "subslide"
    }
   },
   "outputs": [
    {
     "data": {
      "image/png": "[encoded data removed]",
      "text/plain": [
       "<Figure size 800x800 with 1 Axes>"
      ]
     },
     "metadata": {},
     "output_type": "display_data"
    }
   ],
   "source": [
    "plt.figure(figsize=(8,8))\n",
    "plt.scatter(X[y == -1, 1], X[y == -1, 2], c='red', marker='o', label='False', s=100)\n",
    "plt.scatter(X[y == 1, 1], X[y == 1, 2], c='blue', marker='s', label='True', s=100)\n",
    "\n",
    "x1 = np.linspace(-1.1,1.1,11); x2 = -new_w[0]/new_w[2] - new_w[1]/new_w[2] * x1\n",
    "plt.plot(x1, x2, color='green', lw=2)\n",
    "plt.arrow(x1[5], x2[5], new_w[2], new_w[1], head_width=0.1, head_length=0.1, fc='green', ec='green')\n",
    "\n",
    "plt.xlabel('$x_1$',fontsize=16)\n",
    "plt.ylabel('$x_2$',fontsize=16)\n",
    "plt.legend();"
   ]
  },
  {
   "cell_type": "markdown",
   "metadata": {
    "slideshow": {
     "slide_type": "notes"
    }
   },
   "source": [
    "Con los pesos actualizados, trazamos la nueva línea de decisión. Esta línea separa perfectamente los puntos True (cuadrado azul) y False (puntos rojos).\n",
    "\n",
    "Esto demuestra cómo el Perceptrón, mediante ensayo y error, logra aprender cuál es la frontera adecuada para separar las clases."
   ]
  },
  {
   "cell_type": "markdown",
   "metadata": {
    "slideshow": {
     "slide_type": "slide"
    }
   },
   "source": [
    "## Animación "
   ]
  },
  {
   "cell_type": "code",
   "execution_count": 16,
   "metadata": {
    "slideshow": {
     "slide_type": "-"
    }
   },
   "outputs": [],
   "source": [
    "def fit(X, y, weights=None, alpha=0.1, max_iter=100, verbose=True):\n",
    "    # Inicializamos los pesos si es que no fueron dados como entrada\n",
    "    w = weights.copy() if weights.all() else np.random.rand(X.shape[1])\n",
    "    \n",
    "    N = 0\n",
    "    w_sequence = []\n",
    "    while N < max_iter:      \n",
    "        \n",
    "        w, contador = epoch(X, y, w, alpha)\n",
    "        if verbose:\n",
    "            print(f\"Iteración {N:03d}: Cantidad de errores restantes: {contador}\")\n",
    "        \n",
    "        w_sequence.append([*w])\n",
    "        \n",
    "        if contador == 0:\n",
    "            break\n",
    "        N += 1\n",
    "\n",
    "    if verbose:\n",
    "        print(f\"\\nFinalizó entrenamiento: N. de iteraciones: {N} - Cant. de errores restantes: {contador}\\n\")\n",
    "    \n",
    "    return w, w_sequence"
   ]
  },
  {
   "cell_type": "code",
   "execution_count": 17,
   "metadata": {
    "slideshow": {
     "slide_type": "slide"
    }
   },
   "outputs": [],
   "source": [
    "%%capture\n",
    "\n",
    "fig, ax = plt.subplots(figsize=(10,10))\n",
    "\n",
    "ax.set_xlim(-1.5, 1.5)\n",
    "ax.set_ylim(-1.5, 1.5)\n",
    "\n",
    "plt.scatter(X[y == -1, 1], X[y == -1, 2], c='red', marker='o', label='False', s=100)\n",
    "plt.scatter(X[y == 1, 1], X[y == 1, 2], c='blue', marker='s', label='True', s=100)\n",
    "\n",
    "x1 = np.linspace(-1.5, 1.5, 100)\n",
    "line, = ax.plot([], [], 'g-', lw=2)\n",
    "\n",
    "np.random.seed(42)\n",
    "w = np.random.rand(X.shape[1]) # inicialización aleatoria de pesos\n",
    "a = 0.01\n",
    "\n",
    "w, w_sequence = fit(X,y,weights=w,alpha=a,verbose=False)\n",
    "\n",
    "def update(frame):\n",
    "    global w_sequence\n",
    "    w = w_sequence[frame]\n",
    "    if w[2] != 0:  # evitar división por cero\n",
    "        x2 = -w[0]/w[2] - w[1]/w[2]*x1\n",
    "        line.set_data(x1, x2)\n",
    "    return line,\n",
    "\n",
    "ani = FuncAnimation(fig, update, frames=len(w_sequence), interval=500, repeat=False);"
   ]
  },
  {
   "cell_type": "code",
   "execution_count": 18,
   "metadata": {
    "slideshow": {
     "slide_type": "slide"
    }
   },
   "outputs": [
    {
     "data": {
      "text/html": [
       "<video width=\"1000\" height=\"1000\" controls autoplay>\n",
       "  <source type=\"video/mp4\" src=\"data:video/mp4;base64,AAAAIGZ0eXBNNFYgAAACAE00ViBpc29taXNvMmF2YzEAAAAIZnJlZQAApXxtZGF0AAACoAYF//+c\n",
       "3EXpvebZSLeWLNgg2SPu73gyNjQgLSBjb3JlIDE2MSAtIEguMjY0L01QRUctNCBBVkMgY29kZWMg\n",
       "LSBDb3B5bGVmdCAyMDAzLTIwMjAgLSBodHRwOi8vd3d3LnZpZGVvbGFuLm9yZy94MjY0Lmh0bWwg\n",
       "LSBvcHRpb25zOiBjYWJhYz0xIHJlZj0zIGRlYmxvY2s9MTowOjAgYW5hbHlzZT0weDM6MHgxMTMg\n",
       "bWU9aGV4IHN1Ym1lPTcgcHN5PTEgcHN5X3JkPTEuMDA6MC4wMCBtaXhlZF9yZWY9MSBtZV9yYW5n\n",
       "ZT0xNiBjaHJvbWFfbWU9MSB0cmVsbGlzPTEgOHg4ZGN0PTEgY3FtPTAgZGVhZHpvbmU9MjEsMTEg\n",
       "ZmFzdF9wc2tpcD0xIGNocm9tYV9xcF9vZmZzZXQ9LTIgdGhyZWFkcz0yNCBsb29rYWhlYWRfdGhy\n",
       "ZWFkcz00IHNsaWNlZF90aHJlYWRzPTAgbnI9MCBkZWNpbWF0ZT0xIGludGVybGFjZWQ9MCBibHVy\n",
       "YXlfY29tcGF0PTAgY29uc3RyYWluZWRfaW50cmE9MCBiZnJhbWVzPTMgYl9weXJhbWlkPTIgYl9h\n",
       "ZGFwdD0xIGJfYmlhcz0wIGRpcmVjdD0xIHdlaWdodGI9MSBvcGVuX2dvcD0wIHdlaWdodHA9MiBr\n",
       "ZXlpbnQ9MjUwIGtleWludF9taW49MiBzY2VuZWN1dD00MCBpbnRyYV9yZWZyZXNoPTAgcmNfbG9v\n",
       "a2FoZWFkPTQwIHJjPWNyZiBtYnRyZWU9MSBjcmY9MjMuMCBxY29tcD0wLjYwIHFwbWluPTAgcXBt\n",
       "YXg9NjkgcXBzdGVwPTQgaXBfcmF0aW89MS40MCBhcT0xOjEuMDAAgAAALxFliIQAFv/+99M/zLLq\n",
       "UOW146j3op4mX0N1JQGblsTtOoAAAAMAAAMAAAMAACgC2LZTalgJNa7AAAADAAuoAGoAC8gBrgBi\n",
       "wB9t3452/XgATEyb5CSYa4DbkARcMfYPyAWPgj+0n6rWwVl343EnRtlBbr2KE7b8JkdW1VY+3CO2\n",
       "qYV3JdrNLvfysru9t9wnFMLLLB+hN7FxiQrtuvyPIpi2ky9R4MGxzvdCnIigC/4Cv//je8SoSx6q\n",
       "yW//PNAsCiQrk4UjrRgxbXKOYbYS3ZV32/hu5OdOjKbqnIXXLXSqhHTWyThoJ4eoLVuNDHEZ55Vl\n",
       "u54ZsIOSdqFiZor3UC2FxnLRqfAVONkgfu6x5d4lb50RZ7vpdDLnbEfQUDmNzWrhwhF251BJayWu\n",
       "7XgFjoE/G7jfy2zTWu8PF8JkplxS8KSaEgLBCUjoOX7ILARwxkYXjPNAcAG+XVd1hxHwRGwlbLkb\n",
       "sB8heZvSftJuapXB8uNBZo/EflgQjDl8EgNYfWyvCWxCYFlVV2MMgiXhhAc6tIJLnOQBVsSru1QI\n",
       "QaMpApuBc03W/yvZFw2FkehfJNbf46hLyFSmCTpdjoLWODPsOC9TCrhPlbZaZ+cD4vZGnSZmZUAv\n",
       "CjPcRD+Pnc39U3hWOCzAUAtm9nv1RUlf7tBGXDscPMXFDQ3Jowk8eLKoVnVYWTTvhkuMl1GdVqSB\n",
       "wK7Uy3dqK9mv0/uvFqse36h04kdPo2XRw85m03H4W3Jr1xElD9tfp3T8JbtoF6l98KzOXezl2mDo\n",
       "njRkC10IAA27/rb6onNtpjvZRUjkMBePANizU7bL7jHGrxnT6Y8VIM0KNTaiM1yBwcYmem9aGmtR\n",
       "09b13O7tM02Jz4ujWD513zvbre3l5QBLyi0/Jf9gZYXOOSfFxdCxtkIqc7XyKd82KFaFgvcGxxli\n",
       "DenwAOa1fZWsA824iDuTPWxcFNcF7nqgts2q13snMopFvOuuxy607CzLHHq10Gnz3sTn6LrMoSEt\n",
       "n5JLkSAKKDj+67vWgm5wmn9u6IlVd+VNBSCXCEONHauh15ZLD6GAS/RPL3t8Pca5+Ckx1BFcdG9e\n",
       "nC1uq4AFVf4LXM92WRvncmBKfa3tudYraoq2C3NR3DGz2wmlfKb6xKCUnsxs+lmKcW1Wa68I3DV/\n",
       "IFPDo2Y5JE1sbG0yUaHzj+d6wjcjxsON73mmDUt1YfkS9+8pB50FPoMdBpTtyksq849oqodZfGO3\n",
       "nPwHGxBmzUACXFCh0pBdN/WFzeM7DB9Uu+x4F2eJV6/sZXZsMzHdF8Z2HcUBRS2OD671H7fuhbwl\n",
       "6g/yKgmpIA2qY/yMBwqXOqpAxDeieI5Kk5GT1rhOrvT3rgBzyyEKJrqZeqYnZfR7OhuWqN4IHZ+Y\n",
       "Zzg7oLqiABRfASteA8ZaRNl4EyRJAN+70o0sZFlKL7KKQdFILXd4jGU58HdXiko8wqkkfljvhD+U\n",
       "zacO9iH1q3qT8n9uudL8J7TL3gCFZkJsNdzmhviB9TaZA1Fui6H0NAe2LoUk64vT4GyR2pxrjZX1\n",
       "zZFhqQAJMEByc2BYy4ZpzmHXqON+yXf2+vwNxwv8RUWHDqKoRvKRRq/08cyIahC01FYca4+3PLTg\n",
       "HYsCOK8p2ExwEypjrCKzxi6+PUC3nmSFZ8XsqNGK8DxVWhp/Y/nplMlsMUk+/kMGpkZr4xUsuC5T\n",
       "BX+ADOlKY7psi6S4yTmtvmzKdNoB6yqLy3M4/4nCo1/rUse3oL4y3eJZE8pGXkBggJI0SiSPlxso\n",
       "2r7miK7rih4w9ld5HzTYJPX9+wCEUyW7qlMs4qWaQIqVUcP2I4bOnUsCqmaxt8lDJhkny/8oV0WS\n",
       "leCTCSGF+u1EKONfC7eaHGNpoWsCqpLTrgh+5q4iFmQ/K1dJrFkdd+OBuLsbJIx6AFZz1WGI8Jec\n",
       "hF3KZsfEOPO0m2WA57FLpCFigUSs20PgbHYAIpz3ycyAXDmnaYohEKLdvKBB8Zn46SWkacuZtyQZ\n",
       "RDKm7QXszIVPUN9VYQBkIEI6G7/YSoCQjjVuTX/+s6zvhiM8K2twe/3p8i6TPRQJ+w1TtndknUHI\n",
       "KqxZfzkt4sSXFvOahWXimboy5NS4q3tGr4p8uFATAE4LfW+/qtFhSKKzm+Av/pr/KkreXhq3xeOu\n",
       "6wz2nz9tcwMMCQRvfBb80VrNrs9UMoT5bEFaoWzc26vJUiM8IN4eQ/9pv1E7O/eI0y4zRv3A/hpt\n",
       "JnsMesDZ5uVz4gne8bbYrKH/2/cy2dIfCg/QHZtgwwsMazzMetxbzVPRfyby/GfSK1IMTBDCdzch\n",
       "nJZBfxMynmunVJDU4qeC5Jrea7gYTITerxQZ6G3+R9nX4BC8do70/aMAV2J7n9EFf/oq7oYzpD5m\n",
       "v2skdSwp+xUUkXj/6LChWig6HKxPwTqb6s/VmmGQNeMMPRtiRHS7Ejoe/bGnhHaafHaVt/IGVS1W\n",
       "X+Vu2a/lBHQzTBpQ2QB6ce0h4eQ/pwSsk5jJUit5zpEMPSiOQJaRnmL0iZQcBN3Z7xeF5gFrnDyS\n",
       "ri56ttPCuaA7gVj2E9EjMJI9aUSHR04YopyVob0R9zO0X5NvThAtckoaXARi6cdZdXTmY8TZ8Bnw\n",
       "JkdfOADGQK6MFbv06HOzRWbt1TEbypLFKqjyxg2hJykIr9G8iQIpcaYvqJ/+M85GEvWpRGQkPxKN\n",
       "+OABHZaO0lAyf0kuJMoJ2oJTphX/EmxBk53jRYXbQ0WK8lFO8h5K+GLxo6nJsGsmItCyEo2+07lU\n",
       "g/ZpxzTvvwcrxuQ6O4qq3HU/IOwKdSGyEG6TokpvjmM8uOTgHmswFyMXQsoDgfTeNbfM8bI5exjY\n",
       "j4h+92m6Z3iT/WfXnRCq96TV4dW4/6zb0ZVpg0vfe6oUGL6vVC7X8B5neTUpD7oJW4jIR+8vhTh1\n",
       "yhodoeQJDfplg6itErymHHqqQ1pvouqN1zHpJ8T8QQPz041sPrPxVc/s07+wcDvO/twXJtkhVAtW\n",
       "caUKAjYOM7KBbBSr5IzvpWhZzcsKeB9oKPRrYauSSSDQGY+B14T1Ol1Ry4OZdYDcyIZTDNekOL3R\n",
       "0M+YB7/P/G+vslR6FSNX+DbABVbtXbr/gKiSFcybZAXoj5IqGJHyEKH1sZHLjXxOcE3m+eAm4h8x\n",
       "qrFFVQli5rIVdQKgGoHcF8LN5j5JQQubF0sFdf0lmwX7lA7B8+x/oyPQi0NwpzxJKBvO9FgGqdvp\n",
       "dq9P/IefXHRBQ+/cJFLNDoHpnStFQsNgcNOeO96o0HFr5pYn1UwkY9ZakzSOd+QqLNWbSkZPPRsu\n",
       "26FLwqOlV2U5SIcql1iXK5tQs9hniQw9tcIODqApsXY8OlbK0i1V2aEj7tU7PyV6xNFeK8HtgdhV\n",
       "2gKQh4ezlkj0816RZ+k76K9kh8aoGEm8KHrbo8VKJYNViIYAADPgp0O6ripyyVoSoBtNwVftXyfT\n",
       "CEWwVgcVRnYWQLmlYBegsRySjQAjADRGHWDYHLUKDPkOCet4YOxsSLkTWWd3pw2ey6rhLfNJNRUV\n",
       "OvL15wlpTMEh0wXRFHk7UC9s43ucXc/cdQpKqMHeIOnR8LMYIBU12dYAgLzCVE57BKm373vycfBy\n",
       "AjJ4Y1ZZnW+NISHkvUa7IUAz4YU8QNUw69xOJdZ5b0dBNlY8DvV4B5T/d6sOYSQhjvMtToXTc6G6\n",
       "J2lh/Enn89KRlV4GWJ0x3nYmzv8u4wkLQsvSdEAqbyGgkJzbCW3A7unp8iuv/wBAAQ+z/N+vS6H3\n",
       "sTEnTD5PlyLGLiBPPTAxkSp8Z4xusnlHkT56W0ekTGu7irvsrvQW3Ki0Ver7c22geh8SlzpY5rs0\n",
       "/DgGkvFQ6ZPfI5nvV5FrZMDWm16dmou+gE20ywXQQAihn1vZjj0Pb4EP6aWtc1VXljnF15uAAGpU\n",
       "gIFzQvzpViJwCeD0sgaERnN98dOLm1skLx68IO/UQSfzYnldKAYAbQUMD973XuvHrYb6MvM6WK/7\n",
       "PKNmf3srygVBfKg5g5A5+WImo9o/Q6arCNhx0hw05FOMsITTIA0rAl56jEHSzF851DMjNuAAYWj6\n",
       "d1juAK9GRXSESl3LmFQMuFGH6NYRs5klgoA82/01RdmtbfOZ1fXXe3vkik7HWyZdRLBeLCRD/ZMp\n",
       "1ZQ37zhJw4KMyvvj8skkWUxO1izLmj5r+7pACvemtISsdyvITsH/llNDZ0JwQ6ZGjitYgu+iH8AE\n",
       "638Yd+XV6tE4dzW/3o5Isz8HVHK4IM3x/pTSu9OXrPkY8akzQmhQR+vH+N03DAOXSoI/c31sCnzd\n",
       "UQwNI3EE9Gso2XO5+t8TtEabW0a+j6ZDfvLqD2hV58fpD7NeeR5DDnDaOuEwuMiG0shIQDrXePML\n",
       "2e6gAFxwACFA4aIRN6qHkJkzjD6kXsEBWugYUkKMcleatk7M1uI64527vCJr8KJchVkcpyTJKCtZ\n",
       "BSAocDv/fOVsd0ykj8k8sMqsQ5QTfJ562iAX2qmHqT8Kkc0DEUFks6jDMytgitf/KzyGEcnseXT9\n",
       "5m98nsaePf5h6EIwVpVnOb++QgLEMZfuiqzjITZLVom5IjVPGjFgW0G5imo8S+knZpxVCj6+8oRh\n",
       "d7vQtJr+An5hBxu8DfgwTQTTHzROd6TqzMoBEfa4gQ4WwlnZCRs4S3Dh0tLLWFaiDSqUw8IN353f\n",
       "hdMjjQXKcqi2ilsx1BQWWpzHHDtVblN8LEo3P9+Uc79ZYEUnnDB+MY1e8/t9/hyQz2q0nsTRvFKy\n",
       "2Vd4TtZLTrDG9/uLhL61L+eQ6Q02rYQyWlkVEL1OlkWi6XE5PjgvV8duWw8eYaOTEkoO7Xmd5Chq\n",
       "onqmPKNgoTWbYJPYkTNQ6unCTzfx44AtKnplsC3GpzIUi4qmYUwloGHyKBQZ/Y9OnQ+Rs/0AEkZ0\n",
       "2Vteu5giEBTHM+tqUSrfE3EUvjO+tEuMW7/AFbyqfc9dqi8opVrhzyk3VENkJ/Ia7KJZHwzYMyfo\n",
       "0YAaiZpl/3ewW6RGFBuc8USVrsnn+D5YJib5q27SEpuIr+W8qgb32Jsn30oPL4aC4pwIGql2sMo9\n",
       "o6O/Cr8TEiJRsKsA53g2eEsB5xIUwn2a9jSbNC4XEzsEh1qihc3dxf/LKSg2H6V4gI2CEs65qKRS\n",
       "qAKO+z/kCNSJAvaXKpkwlVsqMQr5iq5QbbeX8poq8jmUARZiqlvyP6m54uk0cmFEX0WyTF0nLUt/\n",
       "AcYUNLZ8qNzCzRJ6Fjk/hT7V0bm92fguAHXY4W8aKXUU6HKKImvTM518SXXvO/52pqzn8JcoJXAA\n",
       "AAQaTBc6Z0Z1XUT41a73Y2rso3eUPbGFzmey8vVad613cPnrT5Hhq4LTxmjdAR9ilKJb2R7fZeGn\n",
       "cdYJJi3gGRKKfXRrFqO0xcPeaGfLrazieAWb9Shojp/sC7gWRFZNcoy8MrB2Kw62Ift57Yjhbf3z\n",
       "PDR+pVWgAAyrX0XXEO/KcGk5kFv1YTsUlyb8zrQMbCBMQUIhfnY1yGy990iej6PCBQ3FeuHAzWOk\n",
       "6QyDva1wwX4pwbxlwtEbS5spCynlJWl6E2YqyuDGGPV64cuD7FS51EYBfTi9OSMG2w/jk7nw8zlN\n",
       "8kXe1HWqxo3MgAACkKDYeVN51KdOk4iqzecjB8lBMZz8rFaNvwqYKlegnNAw8WgNUEXjHwt7pDtJ\n",
       "Nq4dRQzO+eyU7P+SaFRV70wyMA+xL4pcu2hTO2vYlW+ZV0nHHNc8HxYB4GtdeIAG5EbsMXJ64Umw\n",
       "b3Ia5yVNqFE2eAuXtv2zsitwShmAAAMw8HMA4NW5peD4caVRNZGeiye0SDynHMKrYpjqAvciIeWr\n",
       "9O/cC+gyXzir0Qw4t7THv5/qLrg3G+2bcbMzvmlFaWx9Htu31FJ43kKfJ5TXeabCOIYKrC8EoIe0\n",
       "eFfUn39S84IFKQ9BYQvcXQG0BOo9A4xLa4Mud4ymk48AAI6HVEfZLcKKR+3KIMvVx5msbbavziW5\n",
       "Al1WyIhrPLd6jM6cVDpzRAfzc9LBsuWglO6bar1TDtHWH8im37+Bqe2pwHfDJYBQLnLLophPIlUg\n",
       "NZhTuzw+g+OYV18kkJSjoP0wTdvS4Jvn74rCNt+iFHDSgG0Fjt12pAABhXhBb9gantP5k9TAnI4c\n",
       "02LEUNRdaI2bE1o0gTRQgfJXo2eXKBXy1cr6emX4k8oRQFEv48DXpqd5rT1txh9WXojz224Uib6B\n",
       "F1Z/zwNFRvf8mXgtOucpA8wmL2AaapvckcZJCwCgnid/pCjkWDZIQU6ea9s8CpI/MjLzUAPgP7wa\n",
       "yPYDHcZVEymVUlAkTgCCCDXOUI+YQ2OONkHRv+uj/XS+Px3dqngvNUwFMD6B4yMaEUPq1EWr+eic\n",
       "t16IDFinpC6xzinHAtbtQYnqmNaZoRNIjzUNNybaHBAyAlimSrb23XdS5iVE3UmABy63TsKtDtBe\n",
       "gP9dWzER+riz+rfVB/oXdRPxGsrAaud49zLH2CAOiwKAJELXJv3HgLHRVEpVpDxqg1YKAyK4e1Xc\n",
       "4MT90sbIwFWjbR5808djHLpscafR27G+db62JyoUg1Tt3ia4hnia8P3xjjAEVXt0BmoA0eoL3HGn\n",
       "V8X3fsXNCGNGHZfCNGSjyIY44fQLR/3VnfM+5h8lG6jlxcsa0NYBlcMO2wEHjO+rXXg+MSuGcGXm\n",
       "gdbsqmkAK265H+pQ+lEHtDrArRlQrcZzcdnvtbEEDbyunLp5eWgH8pc7B8aI/m5Yf6fIWMbrvn/5\n",
       "iNNgo268ZOm6PAveXHo9IWCx6Gzhoh601Q+baBCKnBr9qT9IzZYm1DuHMX3v8H+jKSCUXQ+MA8EY\n",
       "Kl95Yp1AxPULl5lBkC++i+CK7JhfPeU/N6wlJsbc6RCxJOY1R+pfMK4gRzScrzyXRT3yd4npI0v5\n",
       "6vuDOeJ3TPPo6dgTqr55tRU45+pF6Jnc4VuFVCXAcMCr3SSpzS0wVrggKjCxugIb9eLoV6uE7CoD\n",
       "f6iZSfnTmP3KPsweJwtJRICenoUQXH823+esS9JuD6MVRLiDnvTgSTTN2BAkB4yW+/iFOuWHeD28\n",
       "aIIIZeuNPaeVH22dMI2ild+h+XQIEL785Qj5RDyj77NDZTvwLCPDfb9Vzd3iRkKCElwjEu8Vzcih\n",
       "ZeK/WrXf41WVrkFGlBxnL6l4mJVan29nlNwG325JZ3EslFYNAQX13inoXsw5y5rOkvF5HLEgNVaq\n",
       "3KscqQn/+WRIdK0MBqaZAlWVRdVLHADnzAV8fYP/gCy/tGV6TUnWRTbWD+nREgceeLzlOd0gGzj4\n",
       "0+KxVyu3Yvc9VyVPtPcWCCUDkx5Es4HERXsocFHg2C+mS3o8OiaH2O7wjuaEvHkY9rGM9POh6nIY\n",
       "IJpGCc5JfE+pkhcfTHm8aUl+czDK8diMin69f2NxvVvDsctkSM8APVsoDQ/lfkXz5lcUOyJsLaKP\n",
       "PTb/wQvwWN/N6ZhRZB0kx7rC8cWW7vuipZOTcUH0SuJBmpKkMpWbcRRUswkY//+vD7uhzoM9He9M\n",
       "mAZ0oMLKqCE9hWGBHBWpv96rWxH4mB8Ijx3ZErWUyI6E5mSaVnYneAAFEQI3neTLyEs0rqbj20N7\n",
       "GHatAySEBG1Squx0ATK+ZSUXZK3z94DNCCWxDHVmOQMZKFMm8D5o+GeNHWiV5ss1EYh4zV7mzdgb\n",
       "3wOuhrjbPaW9iuqoS95wasYBXZe3T0SaOZPg+gH6o9sAAR5utMme6ek8fM2D1FKe/gt4MkcJqDZH\n",
       "qAo6j7KEFTFUfsymnzmKsTf0YQGQdnU9q7jeygqGoLoWWyIvlUxdjAV7T+L99uwdjqa+qJrBuqNJ\n",
       "nFOvETLcCWydxLQQpIkLdz5aLFbcGgGp4H28WosfWDll7t1gAGlq66XXbeT4qxO8uEVnWSODxFaY\n",
       "6fu2YYfMG0SVbP37Lo3iPiNHKp1hHZYhWSnPoZVtcSq9wPfdSLr6rzLR0WncPJdBe8fKAfQCGCZ1\n",
       "hqF9aTEHaRm9LkpZJ8XCnSpHmbwO+2oljr6UNRfQAAlUl1KKXGPHEB8uOtlEUDmPmP5wsucT9VLl\n",
       "6jhG6a0GmD2hpNu5jNqd1YyYo3rJ7u8CIC9QzrVrfBgeC9RA/Qgf07alTsGqpB4oNGJMwxvfbyi5\n",
       "nGom3mX22NBdFSPLrKQoQa8/YX7ZZLvmoGlsLYlryRjDjftHIn/4Q3cgUhWQ+LyXAiH/5wd/VrLt\n",
       "KK1smREOz4LAJy3S0+q8OEX0xgUQitcEJdYWBPlXd+3OdGeShY8hC22DNkr/6IFKk4HE1ijVMS95\n",
       "5S+xZdMBMDzJMpXLhOPnyUYI/QAbII6boJV4iJ1Be/avXJXnm8t32cVG+2wg4qeMsn3o3H6yFtPP\n",
       "tE92ZHPXlddjUw736spbv9HR58xpXGuDbcbQ293u58346PbrEUCRlryJgvT3+j75Echiy3Oa2g8P\n",
       "MCCXHV69fc30AQuH2bpkrNSQ1XD58vvHJ31G5rw671aUFH1hwx0pdPPnLahzKRZRXuTqteUe3ivH\n",
       "HqeG51VonTfpG9gfGHbcLE3MPig57tEVcTRATi4bolxru9IhFk8xF7Wpv+CFpiA19PTzgz/gZ6lq\n",
       "eJIiwdculuSDvtb8NiIyU4oP5ExENwlTj2MqtMJ97FiJslbB10pGglJQsOmQ2sVjmK4LGgsQz3Uy\n",
       "7ZVAqdauX7kHVibgrV2WaAEI9gC6m98TJ9pfHM9q9E49Dv3WCRZkceAR01kifuyN6OGTdP5DBzKT\n",
       "/BpIhDngWvxRdyrKPOwOc7ODZqlKyhE3rWBSYHuC/kk4xlDgaFY/8OyzbjJp+HSpraEbbL5InUOK\n",
       "n1PTQasyLMcmk+Hv+OdQ88OotTOOTGhLFZnPyZTQ1cBkxFQF1MbTKFhX5dSjk8Y8VCl/MJCbfYxX\n",
       "0FWdTfVMImqyxDQmFTSyGt7d5yOWPnP81Vdh52vwWmPgBdGCKf/k3hSlUC3gWNzCl1GHf4n68n3d\n",
       "4iR742/gjvEAPV1ljQGa75PYHpGpONpSgS7c6oZds/r4HlbSMo1X1xZ8DEP6fZaclX+2lFDiN6YI\n",
       "nO4PQ17Jr5mPt2eutP5p8khlK94cj8BCa+yhJx//3eNqMdxQ91YQHHPDOuXLr8gvv9obp3/SX8V4\n",
       "S7enXpmVo/WBVrIwkRvpZmMajBwAERNm9N/pkS9y3ffWhevPK5dSfYLqNxUreNXdMkGO72edpGyw\n",
       "oMm01DEX6jRNB5Ic8OaS7N0Tk8ca4WZ1gL7zJdV2y9O+e/8fkfASdTEU98HzKpyl5xb6iKS51MHc\n",
       "QegtCP/cGw5ExqRK09ditFwZ9yXqrAU1REZcFfr84oAFIXyqfB5RxM7i0XBWP+KZtFL75EafH8KH\n",
       "/m3je5IcRBcXhct7Dx4gSy/wKNGESzyB7Lt7RBDVUj95W8877jApma2M/7keNqyYMddKJMG5nMRL\n",
       "szIX9X2cUCjpz30jbpJi+JKeVPUX2dY22g+FPf3bFKWdKTY5UABm1KhXAOKdh/7G3ymJFDP5BP/L\n",
       "tTK6ZuQhM9FvZOUrJvrZ0GQAUEQmhlNi/nVaQwFOrUVlWqhiou7IhxLOFK+MSfGp3uD6TdSGsBga\n",
       "p6YNX98uIvYF5f/2pOXuDCkZ4GpEY2CvYSDAArn341eiYFOHzWc6RMIysqV5a/F//4c0dwCJ8+4N\n",
       "//YwZo19arJTb4k1hFpEdtc8bsOnVExYdkuFst8JC/efVzbDVoSwJJceEFKgMFQruy5MYmx78fZO\n",
       "MoqL1BLeCnxZIVwYEUVUwyYKfMAe9XvDFMy3jsEACh5IjrU85QJfO8a1kkXoWeTBz3E4iG4j47b/\n",
       "UG9IPQwNx1rvjPmS2gzQOxmt9qkJhXPn7FdZax/xrc7aKWXSko64fEN5jaQtTQ8DyyP3pKusRxYX\n",
       "rBapI8ozRlQOes8wZx6AqxCNUOcfscrBYdJPoAbGQDvk+mD5psrSEhu+BAWpT/DFx2YPxmEk5JvV\n",
       "/ZnLmH+/t/1Rd0uMyLpLWbn++KUtnryg1cudcPqGsWaIovASKWLnkQ0h6254BtCLzjnrBHqQ2BRy\n",
       "CHkSmrmPJeFYa9csxIjn8B3xLP9cI7I7HXxQcrZ+u2K7NoCAOUtPQswvs+rVQ+9si4Z9nKL5M2io\n",
       "CaPl+As/mLcAt92nwKL/7pqJWbxrq7mfx5FDHF3vgyWRnluE+RSvYpU2sagV6gdo3/S4hIHvmEXU\n",
       "PuEdjT2ctn33yyY1AGO10HXNcryrAsmNF7ws3wOqwUIM5z0i3OhSSa/n4/oYDvkcF5LkzmO8dS9P\n",
       "qbD+dkgCiEdDSIieavlb/wLd8jAofftOTchy2E9DNz4LHBk4AJl+oeGurD3huHiuR1mp9La6uCQv\n",
       "JV7zg5amzuEBGnXYHYze6UyYNj9LCaTmL4tAcIyi9wVz8/XxYFiCN5nkeSS+uhjiF8+ibJQ5hU2x\n",
       "jqxTM+etelKKegjFjJZGiFlCk1QkDThksJ/PaWs9XS5wnwQWtBCVFMgdCKjRF9/UYXgXeD8/aGeu\n",
       "JMrzQNSyzYVx0TPA89do+MrmDPivBr/ufkgCJdkk7iLvduLmh5LoMjDNsM/YwsGhyniIHk8CKqcT\n",
       "z99cV03AbKRdvB7EX6fbIwHHkXT2Wujz/mB///VZgl36I+gbalZsu/SVaPQb6302bfPg65ynmRzj\n",
       "1IKw3lKaBQ1dAFYc/KgGQS6nkZ6XR4iWXuzFPopuTo/ZxuHf89KuMMDzGnFGcdTF1UUi/xMEgGb9\n",
       "PL5yd4NczbR/CuQjPrhssnUX9IZ7vfkrGtar4aUrj7jOgRGRNWOuK4SiOLKq1aXIjraf0kwb8eHv\n",
       "3TFDeAkQtXHNb4ZjvXyCyyslENh9rLkcln/9OvexszMGf3E/vRoikxGN3Hk4vyzxNTlv1qw64K1w\n",
       "LjVQ4BlDli6gJSM3uSlJuw1Er0wC/wwoMaAUXq1XyBV3c60YmXg0f0tNXaSkgsgHQj9v55dkEXsu\n",
       "WJV9TPaTiZBo0hjbXKB42NPgktWBgnN48X9ivOlixJ1p0s7Y782U+xT9hsCqVNuMOmVLZTUpBOTp\n",
       "jTLeKQGQF2Fs3N4/qM5l5ptKsOfB1XYhfN4aYwAoHfGumAdcVIgQy7sGoSA9RV2//cCQP0EVYU/f\n",
       "Q8/dbXY9NcYJ9CnEcpRfWvxJcO3InKbYxndyWWkvHZGr7pakzVepUiVxiaobZRXIwk0QIPZEz0st\n",
       "3v6RAh/rBkVNoBXgqWYSboSFj1puN4kQuzbNqizieYxuwbnvv2tAWuluWt/OjJnukIHlCUW6v3eF\n",
       "3W7q+/cCNqMc9LrP204a3KdMgKX+PpCdfGGdZZz25pNCHa80TztYwu9RsVdvHN3dvSUSwb6FaQcG\n",
       "8p/h/pvVGGTuSmH2k//pPDurT7UwPeiSt5QvrkJsapI2d/99jVBKw3NYvEEoZLwyD++LNL4IY1Ne\n",
       "YEf/e6NUgL3LWIqiK/kf1s8EDPvQrwtMMWxokecE/u71pioLHgs5yE0VQITWwJzjuhvH9PveO2ui\n",
       "2vjQuJGgyebxSNUk1alG5UERLvEylwLfjynSLEU00iLyIl8DOslXleM9KmouMUGk+jj9tbzPm3C+\n",
       "kCkzBhusYeHf9OqxccndD92MTIRLNKAaYoRTvhIAG6p06JjcPWJztpbc0pSudAdJTOn1us+sHk05\n",
       "k9jR1I8pJ84E/FWozK2raX/Z7J6CY0q6McNRmRBFtSUARS/5mMCuwFwiLb19XLiQL9dEfzvbRU6f\n",
       "iKAQMEKnA80ZmxMPJOQiVifMz/SfnOf8GTB/UUq6W5daLpAcRRzaUBN/mLBytuF82Jfe9eMomXkz\n",
       "wDxxE6i31lN1WPoHr8DK+zX0raQ27YxhCJ+wvd5RgM/02JbGsQpRNDbUeB/gtruGF7vK9NR6p3HG\n",
       "hbxzFcnTnnIwLRZl/6MlHqoVDMd4bx0IRd9blgylmHw3Ga6I0wc59DRRsXKQtmGR/OXgxI713MHG\n",
       "54XV9Urtz2DBs+rKfG6xnsgD7GLuaoXDQSgAAAYpyP/Rv7T2qaqEFu5bn88yggkdAq3Dt7qgpt1k\n",
       "+ArXjEGa/LTaqGHRtfcPFZJLmhaDkcJluwjo7xhYpnHWnr3GPXVafznTRiZy7b1JKult0zmUHyBj\n",
       "PaPzPdDom7TF79S3ZKkEQlbEBg/7V8iELJv5fii/CxIBsgAAXsYy477TSObxQjZRty9PaIr3g7Bz\n",
       "lFemLdt8U1ev01Nksa5e4J4Av3NowSw+QfC1YPlssyMK1MqgV/vq2s5c62BliGiML5mYZGNAY3JH\n",
       "xPFw/XDqzHne/TWbd11eWAqMYufganJEl1A/9OYW+AQ9AmuGLxQABBn0E7xwKYlKOYX19Yg0LyCe\n",
       "/3UoI5daZUj191zsJz20uPyr+YBxhyyr48NzcXg7nul2rtSDQDQrG0A3bmkBmeikAbwJIQXr0g7v\n",
       "7zUV2lAVFJDIszEM5G1jfCYQ//V2f4RDsRQwx/ujfdyqoiC9cWnfVfj6tbAgbXo2avTAAAy6YbPe\n",
       "SX/rN0k3k1zM93hgy59SEAPo3cL9mM/ky3UOGcM/0c/KyaA16uFI64sU5tujlu+wd+LWorOlXX2T\n",
       "hdLAaCU9OxCgpmAMkgp2skWJW02U2y+GMfSHrTOK7fhUWG7eR/Jcjc51hbyUFTvKPrSrvrIiRa4t\n",
       "0lJ/pf4FbAC7+Fz67ZFB0j99st6n1xOrTyKXfpR2lYe7+qwiFlGgc0x1eb7fNm3GwrSivyC5Mhn8\n",
       "dLEqa+2MzqGFEBZVQ5D270u0a0WcqW8yLX1tfvOT6EvE6bSD00EjSehQ2ZZdM3isPlKNkxBoULSe\n",
       "y5UjABWjuZfRGS83RZYTVizog2bb12/nCTLgYdTmPJpLi8Hs1f7X4o50HKMTB33l1sTWWHcW5KMq\n",
       "CakoHnuxX0KgW7wjUKIQemECqoYn/I3Qywva77NCnKFICfXoaeoaLwp7J0qb6WhxdkNAG7OA4rqx\n",
       "7sGnoIhRuqGH1YlAqDh8GDIPObgLFmPfh7rtkPunmnA5/F0DgzERy5NTtj+3F7U7I0RDms/Dvo2q\n",
       "NCrv6+7ICWIAXuFD+7Mh1L3oZa/bqJHOvoGmJQkLhWmocmagRqffEbYLf60S2zmDv5cWR2DxJiz9\n",
       "vN4CWY0+iKiN0MaNH2yGvRAYH5iKoTST//nLNCpkR7+7718tzokwb1ultNjZFU8QmCEeoN7nqXwj\n",
       "uKEf1+Db4TyllId3AT72gn4mlp0Athm19NdkmXHOUvNHZ8H+rN/T5CcO2NsNzU6A0gAYIQR6KAyX\n",
       "S0qCCGny2kddVcpY0IeMjZCUoSBcHBYy1GM9TfvhOywJjnaZMPw5Cff1X8ArxvfoaU7nff5g4QWz\n",
       "SsFiN3uPFaBWkVQF5yC5J66gE7C01CoNMSBlhD5ubxyRthDBqu+aDDxJmGZvbp2JTbp2SQOavJE9\n",
       "MgwMF+FJ9qH0duVlIuRlS9xWRiEND20Nj87H21mhNk+a31ll9i/ER3LkaE4Mnrq0KgDI/UtMnI4T\n",
       "k4XGa/euJs5xEx2cvDyNM5mublIpTRUMDAgCpdlsZSBLKWxVUrvGwUVQO71JJvwcjPBwoSy8WCWk\n",
       "FZgUE3w2duEp16k8mjjfo5fwkNXNqvJjHBfNhjepgSKdfuONnVsCLu/wolrWqNKkW8F7uo98XURr\n",
       "ToPuU105YNIivs2DIwmGXkwjdaKGjGivyPIpW8bia3gf0KP419B6pUYH9BIbgxjepJOH4HHa/vtL\n",
       "RmMK3LdV3OFXg72Gg9EdNTRY5ml04Z9DDbcfcdBtsYKs8fUpfEYxHhJsLJ68P0pp1b8weTbx/QaC\n",
       "Vtx5I3RSM0tiPoIn/nfIL5ouEs0YmRwCSsMx7/dcOXQAqdg6SleWs4wkRLUfoymgk4jzwdAKtBgE\n",
       "QZEOXPSBIl4s3CIuuhwKnmca6CP1xDdqeAc+tRKoNSGq3qOjiR1k9mOnEK8k6wI/PXMIS+9TUEfF\n",
       "7epYXWkMWz3LDGIB/spcBzLDEmEdEaXWSBmsz3cGtKo6kmVUI+hkDgSg6Vpb8roBRFeJM/bYXRG0\n",
       "MxG+pAwNv9t3VgDnuHfFhNhFgGsR1vWwooBwtBMbrkX57yPItkMy7JyxAofvSPbtGmEgA+qxXA+2\n",
       "iJe7uW2xLDVfRiKVCynoJcSJAHau7DxB+Mgxi9UhKZouUBZEur0dfOcVRJsObHgiy4ngJyOCxbDH\n",
       "RmcCVzhzX5N2UzNr9wOuXW9XEl1GVf4fp3CUVkIYzO12U8EnBlFl9GURbrUEJyuc1iY3aIHzbewn\n",
       "Uf48/2eITYQk3JsIyxqIjRJcy8fjakJaEDRQQ/Wsji9j0oI96t6nujgJRAE4lIyYEJtS84ei006g\n",
       "0mkKs5uCsqDRE4d5xGoM77WJQkodIsRWTmUInFDW4z9Arobn8oc+4JMELfEr2hEd3bI18uIZfTX0\n",
       "cs98BTj0kQBmN1SedvLT7vq/tzWJ4w2E8SHdAsNNFAJEnTS7aDwzJ/tMq8G2GO1mkUfoZhTGI6Mt\n",
       "h2NwNW5jHt8hCxUKCjmYL4yOUz4brhfQQPei+19TKr69kYhNgBB3jSppyhmgdDIXFBVT48jH9iVq\n",
       "FEzquZMrwKpQiLygAHGV/OvLjeHZUdfo0bJqRixXeEStr76bteQkVFKtmaKT8oCkXtdQVLej+GqK\n",
       "wyYSxqnvu2ghdW6Z4BWKfkruU1tQnvYeQE4rxYeCBNPlCTRCK7NlkYV0MZH20cRhDTjl9eC79Ijc\n",
       "CznWZQ0+ZL3zcgUVRDd5YDMIzhwcbmSDT+c6oei97CdNKnjc6CuNvfjSMnCNVA4uZFuxhPvfN4tl\n",
       "NvwwoL+6QvLou2DZ4vXuMnO44gzpXxnWDwZ1Aqkea3SYtRiFxoqfvua0cNIK0vurGrY/ZxFUPN++\n",
       "Y7gYSk2iHUx1XfN44T9u+RxOCB5yuMmGEd1ICF1x55zIanO/6//Nz6gQ8wjfCzKJeGaUh73FgqYU\n",
       "X2eH2jReg4dB2ZWNY2kxVDLHVb1Oyz0a8bBNGSOJ1ygNVCTlcaKoFCtcPtl9gbC6zfhmw7FMn6pH\n",
       "BbHhp1yGSJfbTq1QHLC1kXpC3jAStPmYgxCJj8Pq6cQ3ZcQG/o/QPguhKY+mQ/IDT9kaMtMKHkS9\n",
       "TPNKPUn73r0lMiEZYxmOh7Fp8EWaoW/hbdfs7e63Xm6BJJEn6YoOQdk9vB3UJFKaPVDfa54dLX/T\n",
       "Yv2oiJkA8okZ5PsegP5gzSk6gfIcI4fk5Jrfpc2I21UUxYcg2AQHcHv/PtgTIqkPkxJmrh7X88K9\n",
       "nSMVU8s1Z/g4KfMGBCiP+oEv+8bI+/6ERJec7kwVLXcLhMv4YwycBcOUYZmiw735jAOvi74rrWaS\n",
       "bQegFmzDL2eOuALHSVc5T/DhVEg0eArDNgVgRbCeuOyclvSoCSL4QwDf8y00m2wEkpxcwlGUn5xG\n",
       "OPEvRnqW3V5m1O08rdPVYBVFen6j/8RrKgVEz848puCQ/ovTx3uhx5xmfrU+n7hG7XkcAedh0JAJ\n",
       "td6c8UoaoyHydAfiJDboUQ6AB2R4nbGsPbQivHT4ujO5cXm3TuN/DNVCa7cJ+J7Jx8SCrneJnhNJ\n",
       "El2/IjlfonwUh9ueL6s6tEJDrpt+jeEn7epOSxRPwHFKNORf08j+NFV8qvHU5I1QpbcKH9JEBE2+\n",
       "SRiPsrLV05e5vivPZRw7XHVLUz6Z5bIEQ/yEWmArebO39lMxlxL+R3mb7AOGsdD3mW2HcSE8mzao\n",
       "V306L1yO8nCXjmXV+ad+8KOfenEFeJMPnVOLAcRqD3i2zf3ZIJPweCeKE4ooR97x4OPaC2YrXcSJ\n",
       "07hVUcbpbC8TFaA//wW3Bdsi5UcfD6VpQvkpcylQLvZF9Yg2nDtgwI/EaSdcmDnc1FWTzPohs2uF\n",
       "j0hOlc3Eg1RqliQUlvIjM6uxx7DySER+9l18sPZu97dE8Ib97YU9gpE6xG7DI+d+Bul4Ri+Ia7gv\n",
       "7208UvgFIBKAKvBSCgwuYKH7zgjC+S12cUmXxyIRbcKAwpklPHedpEMFL40di1syHb5wg2fgmWE6\n",
       "TPI4Vb1TSdTQxhUA43p/eZhsfXJy6BjOh/zcUkcDxdR+C4REUfoQWGyFH5OaC+pEFT5zOKegyQLy\n",
       "CJi6Why9zEqICOUOSQlJdmYVtCWVeQwDMsAT3LA2UYyBlglZhC45pjwcDJo/DKzgUguVQp82YdAg\n",
       "AALoAAADAAgJAAAY4kGaI2xBX/7WpVAAAAs31p++av9WdjTBUAEJ8i8pSeqROxUKUiU9PXy0y6kV\n",
       "ctS4sb/XyVGnsbtw1q+XQAV/yiejk3EKukpHfrwf5cgoKTzVCN2bIFYLWEJmiWUsfIJMVkUIPjg1\n",
       "6vkkVk3A1CMVYjPIAJTgb4XKGfMLDiTss/qqojvW4ra9RPz2/zftvsptVwJ5OrLPgJyMivxMqZK7\n",
       "uebzQlYPVuQMQ7Z4P9QvIlXkFkzTvh5l0L6fts77BtWTeOM9cs+VvOHmfpguysn9qlu1eLSLYVei\n",
       "UeJvAuS+OrTZ0gj2GFxTNk5nq1pCz9H2eOzrybkjwz1yM9xJPCxL/1rwRNuZAPB70b7jxIumCioW\n",
       "2MmM1QDTkACDCe5NoGrrVgdulzPYqm8uvj4em0AN9ZmLFiMhuxsm2erA29nhVyskvM3J2tSPcli+\n",
       "0IkEAaRB3ilRp/Snr716MQ5SP5qp7k1bPuMtPU2H/pbu+qSGkqIGI0JPIj9RgxhYKUs6N6h+J/En\n",
       "EXWi5qFxuTTO1opdfY3fSxy/rDzVLLC889B6LNMx3XKkjzPcQ36RThR2lKFObCdYc7HMM1qcqw5t\n",
       "ejOjWGnqimCWZdPF0rOv1OZfS2Py8LBKXzZYLwz3DRRH9yTcN9PF0dlsdc44XMe5vYKCiUzTYB7r\n",
       "maeLaLz/rQ6iXdgGYKeBSVWtr4467Tunuxu31ZxmBaU7nmDMA+kRXtIHNpnK56mG+2HRaYKKsAnZ\n",
       "XaAH75FamypyYKEtizNRsaJdR1FaPePQ/iGdrzsrKCZQE8WzkO7/aBx4Plyc15IXbk7CxDfUCqqo\n",
       "jd1f+zPWU2r6PCsIsOEpxJ6nf4w/uqiCZsY2bO73SyclReSVOthRM2TAXuT4YBOCDTxSxuZche8S\n",
       "Xi/25BRUBryPpiy/QYdYGoQghIRtVQN0f/HIc6NwRJp84Hoj36vO5EXHLxgxkxLV6Nrt4D1rSCla\n",
       "QsloWaYHm1d6FJZA/hw7mZDEpP7tXtYSLcVsWPMvS/gNih2LZrgzFvvMt/ImKeb8bsKnkjc3+/Jb\n",
       "UbIp6rxD/HfSd+hIIEhDRbOSM75uwIfaY79LuAmo8tEyZnYq1yGCWmcfQAgvyF9ujRIWuuw16/6s\n",
       "/NZoI1BfbTL2MceUa6I417czLT5nB9ZJPcVA2MB3PgZRLWuieZfaXUBk5Ruh/0wlOZfPoFm+UYz8\n",
       "UGzD8puXKzy6Q52fGSeUvfeLRTsRvVLb21ZthMM/jyHLiEUEDG17bg8WgYFWiV/Ewkv2CdD8YyuU\n",
       "jYa28IYENhlWqRUese2G7Z/LI5uLatcXEKz9ev1i1nKDaOZvymw8M5j+xmfVthrgyuc/KgSQc7xK\n",
       "PBfk4enW0qimcN2FvaRO9bD7moCoc/ZE/LyaUJXdCa8vph7f2zXqf870/yBxhdtK30ABFbEgRlEk\n",
       "LAoO1XAGNtzLpSbpXbUxnuK/a7Zqg94lsgE7OnDdlhfGrB8cnomIB4k/KspzF2Rp4Yw14St7Qy4S\n",
       "MqYTReTv0apEiD+rFWFiff4Te+2rOHxucXGTtQYn7xaF8ic/+S1z2i9BFDdT93AJs3rqhbDTm4ly\n",
       "cHb3n4APsOqKjmMEWGwLOIHFyzxBNiWXIPqMtfOBILMx5NlxVhor6m/cCGGcwmEc+IiSxNvCc4P4\n",
       "E6C/HMLfAHw74jYVpP4Z2g9i2NjnpOl7kghdF4AOhBdpB5Oysf46AulExd/xbm6WtC7hrR5wFkMc\n",
       "gzdGVCjP7eA5i1y2yHzRYZOQar7XcUVm2Kbb1Ze8IiEAvL/NEtnvl9slK9K+xec+rv72w1CzcifV\n",
       "ZTNbzfwPyeie6quQo5um05UiTmw6A3iVmx5L07EfDR+W+Mx5ecFpUNG53oBzobsGZlXBZHzu0CoU\n",
       "AHzcbRfzXOLRg2Mq4edrKIQJpj26Xbs5YwROraN5LOKdpXBy8t4hwB155ZluXxIUCcAdG8EGB4Qn\n",
       "yJihRUKOJO65DY3p0N7CKG15THIx+Rx7ZZ6pLt+NaTKVgjZdcbHZ1AyAT0rk2ghwQTy16e03ceG5\n",
       "JZaulpW+1Cxe5mnn3ZbMSEss8/YGcRnJG2BBkM2hEIRGKQTSrdoOUWjShy0ZTnmy/tHc1MXzpYMs\n",
       "rbnNmhed/LC4ySFEUIBb/AD8D1T1DwhJs9Plezm2H3umIJKcys9VDMsf+uDsSAE5x7U2w+X1WSli\n",
       "GQuw4rKYzy2ulvwpf211sZS6YGRC/DMYfAJMEygzV/LkAERM54eWtRqaJkzAojhPMlep8a8T+gcv\n",
       "TLk2D4H/IxdmGqBFXOfVFwV9HWAM66L00jWprEI7CWFrElGMlFfkeETVYQBCU62xqjLjpry5sUAM\n",
       "FMnEgG+dMZPhRwamMXjckevSXdWnYSbBQs6sVw5S7n08OnS7e7QphCqNoEjlhJ/RWMQWllRdxIYE\n",
       "sCqP09QSHmqx62GQBAW8EwWbH4Fj8ADXvxgROgK5iCdnvr5/wEfgBZPbNhJotOZubzTyC3ko/i8E\n",
       "KisC6+rKJPAqGvmiqRdrxR3oOe+y7vqPy3vFKV4N5DEz58jURaf3wEMrAf3Ax4sZzukCwRje1wej\n",
       "yue3ax6A7C1Qx+OcQ6pLSJYUv0KEWi0i56Qd3UyEUDRg2cHh1U3caZTZt7rC7NzUDs4V+2RQOeWQ\n",
       "sprud/57YgZGB+A3LIL0ZYutOpLGZ+yuFo3FotiS5tUqXqZPr++oUZlNZaGhnzj/ltVmT3PDw9hS\n",
       "QBnzLU0UdRv6QVYvlOi6Rrw+LL17TbhvcsKbCogmTbgu8lckhoyersG/5czvthn0Mc5LnqGPUySN\n",
       "+F0deizobKmnU1g7xURdwMb721ySzE54bcs792bWgUPYkWNpyy+4zVtOb1lCOJCHC78uIMve/1bh\n",
       "jgNjlqFhFvKeuX/UAsijcmGBQvIJg/zWsRFH03YOMZ+SYGD6rU9ppso3mDVer6lSLvonUXtLag3Z\n",
       "xM05vmCSGFIRq2XHW9mDm/VFYBemeBCqR7ocSGn9mqK8H/A3AfVCRu3FSu4BWPNP9ImC7blZN53C\n",
       "WYU0VREJuui0fB/4O43uz7u2v9LVfQkBqUPanEq18QY3F6TvZx7e+7VLuWNWG7rgpEjI7mIBe/3t\n",
       "9Og2MZOlVnlL2XQYIB05xSMr0sQT9XiTvFZ0xs+rhunzU7KRnmRU2UQUzXFGPjbEGTKngMTeP/5p\n",
       "vTf969STvbzoq/jzg63Fs9HatprZ0vCrUjiGmZlqvS2oqvO47D7R7nlky2eONZP77iQKrOuGXG8L\n",
       "kqZmSH909l2I3KONXKQd11V//1L9+wbKW8ajQ0iocG/15m02WL34JHf2KgAC7otdtI0IkVrT6t4g\n",
       "l/ruekhf1DbN5wxQzPiN1IvhgMRMUmjTsodgpHVNCDjWiYa3/rIrjGBgHN/HTCtp8jgj1VlQVkBQ\n",
       "mWmYoVsv/mE2c+5tK4qDZ6ILUMEqhrAMeRnXVm672aZhFaIQ7n0qeeM0TVTRSm5znImNfLM1WazB\n",
       "ZLZRQ1V1V936rqlgYN/TGRZcuZh2dQvYuAxi0AmfN5TFIbM4embiK5eNYRk3TAvERpKGV1664yCE\n",
       "baSNwnYZhBNJrWiXfO6nqE0btInLiHpavjbm7/ko/Q2dcCmL1PbMFogLMnykp4HijGoZh0O66NYA\n",
       "vN/shiNg5Qy1VtNaSVTWqK/ScWwQuZ02tSrK0DrD5OrsFYF2QhFRF6dVtTpf+ZGt8PzVwTtZabLd\n",
       "h2Z6oPFkocIQaXLLcm5XQQPWksGr8ewu8nw3w81dYypcG3akpZ1hJmNhpDDhqPLBUp+ErN7pmNUR\n",
       "JoZdDx8KzQth83QS59vTjdb00aHYQI5gWVq9vkWOJ77MsC5jDtCgyc0hHszFXg6lJA5LHP+iNaB7\n",
       "2+qYmPipVfD7gQ/NiLqDhggXjyp2RpNceygR1fSqzUJoj6zRVcoc+1m7JQDHZ8mkbNynyxgwJ4jQ\n",
       "EtnfLzYOcOy4iucciCoDyqB0fjSLqGLhDWwWoeCE9LwXEnIQBt1kZcwvxJoxFYA4X49AgbDF1gTz\n",
       "cF4OpPvDrATous91TjLXnOpST24e+C4cnqc6xfCRrkIAy9mByU6gtPeLrcljjxjGw/q1qMSu2lw4\n",
       "YCwqh+asNN8fqpgf9m8XjsEs8DmoIBXbPajTI1ohLVpJwWlkuqJxQnDhVWiqsF8BRScKq6/MJags\n",
       "XEenRA/HTBJwMrrVVqgARtJyMzQWpxbK7d0qfFvRoP8H8GIH4WlT/whS//1JviK6HT4gCsIE5pXd\n",
       "98GnraoUBYDfTHySCrXDeV7L0hsRVcfGyUtyiyjNwA9ZHUVqX05eZ5Pdf9ZJ/QUsISgZ2N08cGJL\n",
       "48uP0ji99Frp0RrHgJtd4AJNvrf+bZ9zp72HzP34qTVmaeHTPmHJDA4/9vXrkcrFqqkgwvQxew8/\n",
       "EGzV+MoGfQysxe19hpK8QUrfugqzpA9b0NETtjx/PwWwdmn952Fyi5YNsJKZ9z5/mW1y7SulmuPl\n",
       "JoMhsAvs2kWpg7BYGrNPk/wc+C6vJZz6GPK+yptnR7oJgSJk7NaTzjEkH5M9POCt43MyzvgoWJDj\n",
       "DE0fr603TJ6q+EVFOAH9F6YgoIYpYlR27UbvNAe23u89cyDqP+SdQQC4jemn93STY6CoXgSB3dwF\n",
       "0uJexlN/dHQYY//6wThSdVf3w0xSuNhqv61L41z8LYN+sRC8dry/EQiTVOIhwmtnDx4YD2cI/eoS\n",
       "iTvPONX+nkNuEz9BcNfs3cXhW9ykMFyO5X90sadhn3Cj/HJ1AM21eOMC3qvVYpI/Qpx0Nln4UcYS\n",
       "w1CwNW7n9AxQMSWHM5sHz2iIWQUBCNGmMxdt/UDz3bliCZp1u4N//Yt9g5Npp5ossgBNAt9T71Vu\n",
       "qrAL7BmFV7SRXPMAQt9LXCLPKr4QzW380/UQ7mCWBX2ITdYWINsRle7e8rD9dY79LBzmmeKIy1th\n",
       "gcOAE1sQwbIU2GBIRK27id15D7ixvyYyC6WUrEwmjmx+2EtiY/rSbPmGnp3QjeLNJ8aEcuJFgA90\n",
       "HaqnRetYBO+9/gVx+wxTCCdLRQF8htU2VRYiimlfawaoUOr8hFm57eVmRLFVETmDMhynXhgXjK++\n",
       "rQGnbqOejQnSVNRdR4AA9KEkKv/qZuiyv50uTQB58tVAH0fcRItoTasDyna/NJ8mO8CZbZEcGTw/\n",
       "F6W6kvzbJjwkSgpLO4k/vemhVABTokbjRsv3+SCtRKfkj15yC7+6P8m5p+QX2XjEkMMMxLSbbAjD\n",
       "0LGTgyQozWJSStp//Q3iA2BrKafdyv0UVk9yZcMma2fv3TY96fU2GIAQtXiInNcMS6GXqto/Qim/\n",
       "Ks2fBCj5eGWasX4+4hYuzexzId94PB5jtqmEobskZm3usOthkNFb7CFKZwOUjHdjjpAwGxqXsrx9\n",
       "h+huH0MgkAcI15aBaPaIjS0MfpD0FXp7ty7MZShzvKB5glimSf6pSVznFWm9hMzVmZve8LTRhg+i\n",
       "4royMXihK3aI5nE/9dDlmCQh2sVtCefY1LF69lmeYQVzR9r9ngwZN3egYTuuNedcw3qLZExgi3B2\n",
       "EePH5kKm2nqH91sYIXtUbLnXLlFhcrka1KgJ6uFVS+Y40Hv3MywHuvZ94Y5zswp4X6mroNxjKZLl\n",
       "PvNr8riT+En+VgohuV0AcG0onAQ4um+nfUivovowE9jPag+oeK7ewX64ed66jDT9uh0V0L9Jkcw+\n",
       "9gDtO2/3mGUa5XvP3oiNpdY+/iH4Yz1cP8JTTaCP+Js47BdE4LY2PvLuS18d89NxjaafmBI7NqRs\n",
       "wns69Yf8IWHXErLuTPRRiTW73MUh2RAD+fMFF0LKQAlJrYDVKg/qNdMrnUHCeZMxoTXln2LfbySu\n",
       "8dFw0gcUwQozsLGeFXEaApNWcg9q4j5ZDyTErVb34vKYAJcROoYsdCAehAa4JdcGJIGo4bedNA7e\n",
       "vljy94e9VcxXO0LyaSnW5OR8k7VNl3Za/ufGi4MsYWiIv/ourYvLF9Ej8ncmbDtFZuj+4avxzVXd\n",
       "qWqVm/y7yzNiav4DgeZ6z3t5ZLmzlCr/pArl5ytI92QtykPXR/5nmAr7AXGb5+ZSw6BioML/yMxU\n",
       "PxiofI/7TCZJZsXoi1pQMdzIEVHWM7zl3s4Yk26MUHR+oTymewo09PQ5z9xufX4QeUUwXv+k14YZ\n",
       "waXjz6PGw44K2tbsQjFyT0MGwMuxFtyK5ygqiTOUOZtbnyKnCkwJQlsr9GC7Ct19TDkqUhOWpeJQ\n",
       "0wpV/SItPMUYGHo8AxBu4SCbNl7PhBHTuCCt4VouUmlMCdSM9ctdjoP10Lm0v52kydKKwtCEmQvo\n",
       "2vVoY8VCYiSBDDX779p0lsU6E0wNH/RVKYbqQJ9K+KKf81POqT1YM8K4GBYSf4TUWkHhOj0N12nL\n",
       "BLaWINUvIgkSximzhrhyfF+9JJHuabGEX3n5cPjOjbEhAD69sLVac3EHfajyxF7uLnb51QKk7ApG\n",
       "h0BAgxmdYkdZSEtIGi6/GwTonPJs19DsJatzF2CliAKI761Q42Lizy1r6MG7thA+17nsBGkkYJcS\n",
       "nfxJzblenrEgB3RYG49fLHuZzrUORzw+pDHjCJp/SwZ2C9zAZdTrNQrH0RJT6tiaobIrND0x7AVS\n",
       "6FBfLVBF4aJZOOJMipawaXNIQXkMpZNUpccPaNzxVQdSFOkGAryyCjZh2b4OyEfMiNQJFsFVp6iG\n",
       "Kv/F83o+FQOPYrs3L5zKNrYFuNnniirhJVNs9S6ZMwOi8TNbnYzYjmzDkgpi8w5rrfZcdVx5/RdO\n",
       "N8HmEK47dQMWxYqZ3X/n7wjO26yLMljqe4jqEzGA8cr136HdzEk2SpvX/tujxm7CfyfjvleCYhFK\n",
       "brCGCvtZIH9pjmOAX8/2xs2Kr8RgNDCWBSKKly3PhE61+FuIbmx1hEP8Afqis/+dHHzl7SWHP/VY\n",
       "1gsotdKTy1VyeOPLFv00/Y13Hqe/13mDTR+nhu+Mv4e3rThnlwsiAOig7egaD3bsr6DbBi1tuRMl\n",
       "mg/QUyk4676Ad0tiCqrdVG6KI9jJaGJd2Ylei6t+/f9CM+fC75MHU8CG9bxM5yReJ9e8+81UU2L5\n",
       "QpIFP8bJo8y+cO0DZL6GkT++33DzXQ/sfvgypUjVqsgfdbS6KElAp1yt0+Gvr+If3jiADed8jBcc\n",
       "RFRET9LDdOfvmLz+s7QBbff4u56FyggDPnheipco2sp4xs/nYTF8web2zGRjtbbsNpDH/ZYNRcAC\n",
       "VXT7CEt7nziI/PHX2vPj/aUHqVvBFUnjUB7sEpoMt2+FowRyyPKvIchvStbY6DptmVhZZzFPivBu\n",
       "k3OG3ap/KpK1GxCXVhVuPHNn8msAqsBupXsBKWCvXwiIEe3QPflvjUxfAIBKayDoHuDg9SgvIqfi\n",
       "hTYsHF/ymTifSECNRoq1yLzPuPf/9DrpI4V64Zo3vapfGuEOs0BxJtaZqXeyOcNMOwifosRd4jny\n",
       "rW1w9bHbXpRUnaNyhJ6rufeNa2itKoAEl5nC/aDgUdHggG5o5qLbgZoPJu+KAU7Vh7l91ksjSXZy\n",
       "1zWfMFWjQw0jWM/nyePzqeq4lcfVlEAiJmaPDx4TXZAdEczgnFt++xvSTxb2NnZWrdm83/9ZUKY8\n",
       "M4cKQdxk/D/m963Dh44ZcPsCxyoWUDefSLk8m5e4JhCfbgDz8UKm+Wd44DYl+w8XOCtMdcYzRS4+\n",
       "QM8wBVb6Wyd5DQEnJsysWi5OYhzWLtTyEgvGwLd594z6C+ECWcJScbOR+/si8WFP8awUCEyaK+OM\n",
       "qYMQmL2UmnhrNpY74eXsOQYGmiwv4mWXHX6gDl/gJwHuCb3sO9ly42xzoI0gDZXHmEI5RdOTVHGx\n",
       "fz9SsGz9JpGoA7HnFydP+zQadP2xskHaTe/Vga/QQUHbCTbZb8d/Qmu8nt/hyqxsINhuly1R0r8h\n",
       "bVjf79sw5V+uYhNwLk1WSaCN5tXxaYd9pwWTVBZPneRxtiHufIT3HEP65JTQwk4/KNcvUh3OQT6U\n",
       "pk1dMcBEEwVNhAC1DGCzTxiPNjOPaoOIM6KBbrK3MqwWieK5gThYRqKRFxHQ+evc+zvsfTHxsie8\n",
       "nplZ/LMDiKwVNoFBc/xyzhwPIzovOuWpek6gVugMtfkFhnBpwTLRSoHEX9f1xEUQzYPEQHBcfqWA\n",
       "rexFXQjt3TLFxOjK/3JBrOLVDejwq/1Uo2/SLg6QdlZsRBKOKLcul4O5H/C94afhOyh8WKUtl8un\n",
       "OixCPxwTvguWTuez+9DzhMc3tgAbRy+JeL23AJCDGXfsiFGGjPLqoNt4UuHePRwkL6xO8u7n2COV\n",
       "jkLprsxMR9RTcoR7eMzsdauoJfURL0Zrwcjra8wF7yuvRQabUO6cd2Lc5/fwlRYFD/9QdI+UV8Td\n",
       "phVUIiEXwDX+FIx76gmpx2uPn6M/3BlNldsz+cegkNS5yI+u9eShe3//Jv5mOq3/+uI5+fI7FoEk\n",
       "pSnkwG5EbbLk+wlZhytSh3rCcWOeep4HJBSpnktw5jAtb4CXRxiV5h6BWKIFBbqKSTV9r7TYIGAA\n",
       "AARHQZ5BeIJ/AAADABw4E/xwpwEQATTneDk583zZmb/fiPT0Ed6Fah0INEqkjY68OnHtQ7cQ0skL\n",
       "qre3LgUGw4vdFHQyLKbV99lgRkzVOCUhqJzK06NK53Cv2/8EOIl6jnEU/stJS6mcIY8emw93Mjge\n",
       "3cXOtZ1GJaRJPazjtdLV1QCaPGy6JBKxJK6Pbge5W1xF9uja0NgoFS2Ivb6XuPhR3Yr53H0ubmFw\n",
       "4f+0ZlL4WVPOMr2m/VPHcGGGxX1HoJcEMydm1H6sYReyrCtPToMc37Abn763fUY8yLziMqMQuThO\n",
       "fBM0eYCKSka0USiTFwFiJIfXUhw4cy2ZJa6S0s5tUvrB6k7YXzhkheyAyQ7hfXJxlgqS4XgXDqpu\n",
       "i1WFrNDcdRqlXoUMGU6w7VL7XjeinMiPpQCo+I596mQRHItg4AODOFvF+rn4KhO0AzvCeuGmT7vS\n",
       "PcyZyIcbjl/O/Omf5iAnp1HpLagLVDLIQmBdQWZQUcmd2W4t4H/KIq3aMX3qNSl7xkAwGo7Xnyuk\n",
       "GPO3Ie/wxm1TNz564sLwjSUc1n/tNp72PaWGe4fUhbVAn24Y+yEGIceXs3Kn29ofqkP3pig7Zh+O\n",
       "Djh7KJpaHwvoht/980RnLga+aTxxDupOf3AxJGpiyzavYXsJKZiuqyORDTVQT26QEW6LPGdmWh23\n",
       "EYZE239Wg4T6v4Se13uh1Ds9c5C4X8sIbIBii/pRaEBMobyUXogXODBHqHhrF/+c07TXlUqm/s+f\n",
       "T+o6mNTCHKvX8ecMIQthAcN3dcVUdSlo2tskAA+hj1AGKDVVkbTZH2PDNFTLFPKYv6KigIas+4uw\n",
       "/kfY0TP+qYZ28X124zC3db3ZuJ1OppK0HfjkoFAQqnQcHYI5cgtr0n/sxJgRUkwIMvEZX/wW9tOn\n",
       "XzG5zNPu6Q/cr1LmUsPLxI1NnkzUHKnr+4ZFpZagEz7yrIYfWO6RVPzMjx+JaL5xi9Be5NihDvjg\n",
       "fhgY9A9h9k9+aSAeVOk9zYGBfrlZWYduA+I8cc/gwxFsAEGDGPMBiBD6/a+VsOOxZ9tL8jiBKJ8U\n",
       "6dLME5C3zNq9/g985FcRddFdexL0aab8DHttOeQzYRzLXLoKTAUw+LiTyzck8zkhL4rxCkB+gPHs\n",
       "6bL3nYUpGVcs/3N3NPvDzaOYk+vw0hvqrXeebREontJdg2qRU4j9X0qDUbvVyeEKln4PrUy/mJ/E\n",
       "fO4sz75GXY8T5QlGhVnhXQw4Q0+X6eReiMqRXP6Tov2klRIV66wCo+Z2hJ6aPswGYuraI7hrCZG7\n",
       "itFhn29rf43Pz/dECORB0/6B4qT9JlaXBnO3LFGj7k5Ru3/Dw9k2Zu6cBhy24k25LFAeRV2Wr7iO\n",
       "fn1HICjO44fJ3XCZ6YOkUg6xIEeCNnAY3Sy+EXpP8Qtn+apJ4Qw8m+c1pfNbwxXc5TCYfBbAMTjJ\n",
       "hqFd1FF3ve+CmWz/mD2hAAAD+wGeYmpBLwAAAwArGIHATDlAAVK9ktsqLNAplsEa8ohb2ISd5vdU\n",
       "u0Rhsoj9Ku7pTDcx6ir9UNvUa6rB+MFv3ryemvwIpm0GjqJudQsAbWBdv5/1ywD4qFxujQz+GXzf\n",
       "NkLUmLE5f8MEuZjl/cQcpuQrk6+Nne0HvY0Ksmjs2Zod3eQX/ZDOLzgivKZHkG6abTaoT6zN9bzy\n",
       "OfLRi/OKFEPDZsckgZe5ezOPFJRn2EGuCSrpoGsLgSuAwf95EDt07Eg685mAdsgDNjzUJhLNzLO0\n",
       "x/kedLHa2iScGyfEnO2Wt2DiM1Y5b1AsNrbAXU5A6D6u5hylnsq4ilMhpxLbclBnUgbLs3SojLYM\n",
       "lsPgkjNsh2SjJp6fmrCk5jxylU2c7PfyC8URQ45ReM0gzu8AOKvhZoqlsbtmanlMxGqS18bw/Ywt\n",
       "/wWrgFpSqOuavecrSpmQXBDs1k7voVJWmTrFyvKUUEJsCc6ibZakrdDel9563Ey208x7xWyaW1nl\n",
       "0KYlUhKCpylNxN9I65h+eRuWrdlLoHZQwpC5pWRwFDd+JYYEV6HUVs46/w0Y66wcZ65qRzOb/D+2\n",
       "9VguOR+WkuXPAUDgXoLtCOwkB0p2MiTQ8U2h5/J2HQm9BQb8odEn8AR8hwa+zkXNW/oydPC3gHF7\n",
       "ZaAZ4hB1OeeaitM1Cbym6lw2JtVLym2RJtwhSGdd1kATuyccg6nAOrhI+nJAs52+Ip48mAO8zcnk\n",
       "D23sEEx/zS1wihNCcGVf+snPSi00P+QN7CWHsozaNKubrVScsrM5d9pLbB4JueS0eoTCpL3PUyiH\n",
       "JoW2SoLIRAXa8wreLmpB2A8MNEjjnrVClASRYRaA6OGlKhioTVwRh9s0v1Pb7lYzVPdNSvi5OCIN\n",
       "asZkV2YNFgJHJLzJ1KegXGCXDr1zrjEHIJzvvWWGqvJ5weYS2HXnewzTEnkFB9yyvi2YYls3V4MS\n",
       "I2MVlfKl0iA0T60wD1CQ9RNNrTErntnrYiSTqn19IZQ8iuyV1GlphVeKLf2meCX2++TLFs5GiKbs\n",
       "8yztgntAo4n8w24kLScPrBwSqgmeaYiHSBZJbUHWB+JezG7+9JPk7LoGYGE90/3ox6IfbakY9V+3\n",
       "DZpfGML4VVEcHLRCb2ONjm7VwA0Yixjr9smsUybIwrW5wFE1JmKuWenWl0pgpFLC2ksiVJMNcnXg\n",
       "izBtx2FzwCS7LSMXc0cmpi0vsycejgXhXdFAuH+/erM5LRgpIodPFp47ATyR/TDj9XgR4hI4r2D5\n",
       "cW4pT+tqZXZyN+DliQBMdGC31QMh8V7sacHQHnIjHgTSOpTasp2H16auH/uyRH33sn9nNFPTgNDi\n",
       "b6blTPBpGEtJEAd0AAAG0UGaZEmoQWiZTAgr//7WpVAAAAqnIv/DebMAUSSLy37MumU/76TDyuxv\n",
       "xVDsy+VVIaFHvD/ZNuadc98lN4ecC50qFc6HjD8iEq2JMXRN2kXhYlQI901C+XkM+UpLqdFD2bIo\n",
       "0qMpcvELCwJUAr923T+YGNmq9a/FNC1sEsmIaKsHG9LLFar7RfMxWqUazt9xTEAw4SNlHnKQySMl\n",
       "XbMNvUEMNKIcAyh4aavMcoMEO98O3PScVtlLoP/KWDzCZCAXKVWpphVCpQHSerHlAR9lwLFPZ2bF\n",
       "RNt+jYmprPZ036zseWxIPLmeQ8dXvjXBQWaptXaZVHoYh8yoXfT1sQdXcVbM6mbUGuvWmXuzFHOc\n",
       "GHW4CKJ1dbPFl9x9mecYcZ+ljyQlz7JKuT2HwN0PfUpvpuwBzEuJTK+K8gxR1JZfKYq50vgJ6LTB\n",
       "cHdUq9jSVejqt+aaQrH6XKctWQjFOpH0i+Sqr7Rv9DiN8lWjWcLp4NbeUMfbqXIEPH68HEjvJIZu\n",
       "oTDfOnfzWdRIhPmfToLANDe9DEBG1k0roNgWguigb7C08z4FiATjmfAVP6bnydhfHyT8GYB952tf\n",
       "7C2Vfir7zQ7Jl/hAMn0aIHNdFIwCG6mUOgU3e1Jg0myzch8nSsKSoQNTC+QFD7Egf1Nzo5jqB7/O\n",
       "vAkEch+prPCo8FgnIJ23isjIIZFJMgr2wXi5ggC9p1SybGwPIpoky7eV43FR3yh2dnLONNFWiGMy\n",
       "tj4k7MfIeCo6ykh+5Pf0RH6GbylTcYDdqgIvbUHSGdEsSatts6lClYejoH42uxtof5Ttqzrrt9DH\n",
       "yidopR3S5r7EoJ0z2dytqlsNvie1JpNJhayrBUZwlKEeKZNqdhueNs37gCLSoHzV0yGwPdw3o9iC\n",
       "1k1fnfjzRkYUVjzl+1camtjXP3O9xr9e4SVeSCdB4feUeoFntJYsgCSL333nwTETROlnO/7bjhdz\n",
       "jDPgZAgopAnKWbcpRChL6TbWHoQHqSXkF0gIf0dYYDEEroViRDRTrOwHhXhCWIa/gVPyMuMmFsw2\n",
       "c0TwHfuAAJlhagAspCR7U8VTi53Svf58R7wRVDShmHGT728YtaKdXqkQP1VRReaL0MvbYqXEYg7q\n",
       "d1r3GI1omHv1KzMDsrKjeUhiD6eeVBY2VsjrPNvG4FMMCw+oZIZlInWLSLeW+YAP036cwo3cLeKL\n",
       "UffEl5sw8P+fcmJIMGlufos3GIz6jIiiNSCDr6KjCzG1kABO0S7g9EAIhxTpE00OoC+0PZJaIMYh\n",
       "1JA8KTmRJA7rzH8J4exd9ABqnRmktlLdbV3vS++FC798+CWTztdcDM0u+AiMAOpCkkOI063XJRSk\n",
       "Aq1LnPj3SblkMS0I8VV1IJVr59FRR2sZZ0O0uGNK4IK+kba2FM6DLxhf1Nu6vmJRbvJArWojfdRq\n",
       "Ca881ub5ZvYh792CICYg8cBcmM2D9ki7+wmZ7vLrgYi3lNfIGY9W002qrpSEgUbjrFMfH30do0em\n",
       "ahNiKsN+uvGqb2p2EI+PDMLST7A0MmpmAuy5Lx9n1q33hjp96CsteE25Qs7XrfwmsWpOJHIdJSog\n",
       "SIKKZ1eoaYeBA/4jQaxFP9vLRJO7KDJ9VeB8pUW7b7HC2b+siqi0eLIJHA48iTXfoigL34JVF1l5\n",
       "6GLYdihC/44gO8x8b2bG02OFDEHD8Cf6OegRe8CKaJvymSmx3sEMogQ7XHi4BcZZsvBTKoUmZ/uf\n",
       "EwDTdSmNcagyzRsxvCWBkjkX/aDYUQBp6yu8/2U9G41awla3obbt6cuUx/1yn0jBE1gj2zcUxSHS\n",
       "aSfa6/+0LE2IesCTFKh8q3NLID+/TXDb+y6V+MhIxi2/9eFJon0pELpSyJ1J3V8hUu84REHhiPR7\n",
       "HzcME49ngmYD2c6ER0jjvrytJH78pmqvyJBfLRB2BW0vJU3GsDhPmFVDSaEE9gAvNoyeGVMDqXCG\n",
       "XnDxr4p9MluYtFBXveizlZTWXzS3vfs5IQYWQxwrxFr2+YE8z9/yoRNZYDwr9KB6ft/pUlL7ikCu\n",
       "CxWl8YeN/FsFJAW+Xd2R0ftew/7PHk4CPiWr1uCYetqhF3aAE39Eekcf+mojpoCTUMLZQjjb9Yld\n",
       "Czs2EIkIfpLucOEK3tEK6GsODl4YECeAO87lLKILKmFOn3GewJvRs9SKRW+yIn9cczI6uoR8Gyuu\n",
       "EaITT4X/2XMmjdnt5OhmU6gUjSER9OyRfefcOf9Y8ZU1decsB6G/PWzT0/9zHgNfHBFzwGaLCUp5\n",
       "Uj0eXT9Pp/dPQBNLoyLX89wpXFEVKaX6Q0Nf5+Wue2VTo8bxl+qGplUC4H1ONfktJZzBAAAIEkGa\n",
       "hUnhClJlMCCv//7WpVAAAAqgl/OkpbqegA4bAjLTkbaGhYcQ1AxBRMynM8iQ2L1vWpyqTKZdf9yb\n",
       "KK63dsyy8mNhaWZesVoQKbH1a3/hW9XDQXHRUe1XYxsDxfsMJ5Xt7TrH9bVuV+qi4mCEosSdx4pw\n",
       "Q+A0ZKspyIWgn+DU3vzf87q7Lhl+sT/SuWOTs+wLlRbXQMeMm6+aGl9EW2iA8ej6a+5BMkcrtkEH\n",
       "DzyzY6RKI31b2pCffxQSOC98A9PZ3jjJKy2jU8O9H3J0b0y/TNM9OhpODGAL+ojZo0Z+XqFGRVI9\n",
       "x3Sc5DmDYjRP1KoysOf6gGhpC6Pud+X1YyGKplUDe4CngUzQTOENdIUzNs7X3KYqa6zI0mL5oIS1\n",
       "2C2gdBhZwTtDo9wobvuBKOiJ+/pl/0AaH5pXcbY6lBcKoje+Btjboh6/Gahw8fhXLvLUUSYU6XnW\n",
       "iE8b1n7p1bp40otwZgQcRiIRPU2jjueZklGmb6bC9GIppireKF8Q+/i3QG7rn99H1U/0hkSc++pG\n",
       "5kgPNbxyh8ulyBf/kfQHsL6l9/rv9Zl1DSB7gAAEQzXGuQz3hngTf/eiUbjYGiGrisxCwEzxrYzU\n",
       "9ugheI31tfjE1ZKKpdeStoht5Vf0KVDjVz3Bg/6B/0L2V+ZaQZsbP/tGVQsVoAJy5AEbPl/3NpP9\n",
       "AIB1kwqfu5qb6Phlf1RuQU1WK8/p6qpdx9IntcZ7YKOd0nHA7McBhprKg24Ew4Kr9zmf6ATEms85\n",
       "uSy9DRnCACSZSBDYso2XeRMMErH634hWjXDO+yGTpkB0nKgFKg1E89nheZGi9B3GKhnu57f5jYEg\n",
       "/pRGATb0rKlwEZqHe4J3JYAcQDU1rP+6HxyoadzXsVF3Rz+41qtoEcXJ7O4SHuJnRs6S/rWl8h1R\n",
       "m9CsLZbRz66tcSGEeuU54SF/1GV42SpbKC2nvd/8pd9FAxvX8+m45Z9VPqcJesLaUNhhLgVdqhRe\n",
       "ZibIN/+aoulDIjSSSrOHX6gNE9nDIYG1+fRKFd09HTQjrhPlDaqB5FaPmXDU1G34zt+W+Iwm9PCR\n",
       "ywQFF8lt3yIo55pTa6jr517iHUPy/XfO9UR9+F3qOHxjU0VX5FRIgwl7EiR9ekFmOONI2fSnoSsN\n",
       "FEZL3JyjNAQotn8hCiEzVGNWCiml6XAeRNsMfRIgrGFWfv0H6V1X9Xz0JfLJCP2RlIs+DVJJUChI\n",
       "/viI5kQUQL7/H0XE9sg+A6w21EPf3tkmBrepnLLjkovKQGFKDbuhMc5VR0hRCeHn2U09uUAE+ohm\n",
       "1Rhiphr86OuFCnkV15uZ+82pUAlFIIJdDi7blY5a34ekZuqQqI8dfzAa6Th7unDuUT+/Ir4XwWF3\n",
       "UcLXlJ9OURBjZCpJxXS6ajpV0ovE2jpNrS7IjVx7dsUx+9rKZVV/xa35ZDUprpSa8/2OJmiECM4u\n",
       "2Aam/3JjNkjHT7MQVgs9Xr1F9APAWeZRxLQCHqQbkUrmdoersPVezjCVs36yHktctqSVNqUkCwtc\n",
       "Ex3SrImnRLR+fnNELW9TV1EbRf+Vy7ju8zThDMInmuUFHQiJuIAw81qc90r/tdf1sE/9yEqFqAsr\n",
       "bqfkaLZdh9TCBEsIEGK27IfVIjgvnBP2cOU2txFdJnNLtn9aBexpaO76a+taAoDEWvK8o8mXao3C\n",
       "PCwBuZorA8TW4TevQMt/GWAXfmf4Qm1J7xAjKjB2249suwO9i71BsNcHEbVQx/MSKEoH9BSJN6vq\n",
       "D0BOsJK7O4VtGY0eUy784I7sh8pQ1MT3hiVmvYP7flJceNIedv9ih9ayqDaeUALIw6C8KPCWWsyL\n",
       "/7SCSmjHG82hCZnEpt1rTqMhoEvacs3rcZ7m+ehWuAp2pc4g7efpfAOyUoiHPFodn5sH6sPSa/ZK\n",
       "VzK+fwWTLSoyuRngQgcZEndzR8XjxmU1GEfXc3ujxSmjDyYzuDhdGC8Ej1M774DPjHjcT8JRk5Iy\n",
       "XVJwyIYJidbsIMWY493R1VHoPObWhnC475kNUYAO/0w9Y7aaAguwNb1B0ntXQy9VzZiMWbmWIw+R\n",
       "SgMzgSZFs1EDPLIlHWq7QLAJtyi0lY0It2xgLuqyMqdWPsSwFzYsKZTT1q3eCl+wD4r6riMZrfE/\n",
       "sCx0YnRdxAGrpjDQA/ji/NHgIJZ9tuK3Igqih05WegGXgJBnOu5VyyqnmW+i3b3E+3/fKbJNO0ss\n",
       "DRJcivOmdDUHJv479IG2+hv7eH66m1vJnueni1uFFy8wahpqOF3dYZm5HNuIsBe/DAWKz7SrbxwA\n",
       "odjnBUnwdd/sCwtlLew6QhbdfLfjK8yzq0hqOaf4OpYSKW6IFzFr0gmeoIutHCscrbDnRXazhpVM\n",
       "hDYBiR1iYApK+cfucKJOTECFFhYPcEv+ahRgVq5LdzXyiBresQJPnBtWHJlOpshxwX+G2me4urjd\n",
       "FgERFw9oN1L6HjN6UIQuatzGYHAzeGgdBDA0ZwWGE013TIs6M/W6RgxAfbMikxpiL2yvGcDTBsEo\n",
       "AqmTIDribBXQEAdq+Pz+5nnlz/FQJ9hiC16U0neebAErtYUkY91HnqQuSZEqtcSlwPrqx6x/wJ1k\n",
       "zwZmfRb6OTqUZDP8xP6dwC2IbVxKJGOWY8eXtE0lDMnaTp31tu3iuU9COKSI9G7BlrsIM9r0E79C\n",
       "6QopxzvwUPMeyqLqqA/febbj+hPMa0eDhO64lRW7vlin0EtiIy+jmuLFpeEQIkb1XT9hBwCADLhC\n",
       "lGrFu3sBDWt2BGUpAAAK1EGap0nhDomUwU0TBX/+1qVQAAAKmVLVIAFysDkHfHonYcNNtF3zJLMr\n",
       "7tJuiHSDaNg3DwnMwzdrr4cacMiBjMeX34q2kNXUhEr/dPM1UC+iAAZ3uz3znh3wnXawRRot0SIK\n",
       "z3U2Al8Zl7IefkCMhhb2dDAV/szxXKOfrOPd30YoCp/Imm5J+l4ietHGJ3pqMJX0S8sQZsN35gk1\n",
       "KX1W8WPd1jV0dcLs0zbKbT56WB7pr2+B2AfOAbKSlO1341Q8eURRgw6vkQIPbXcPmYnlEhpzdbtQ\n",
       "ggP0Lz7c0leqKUBYal8jlbUUlknxOskbkQijL6XdebpuZW14bjfdLGXROZyWP9Y5GkwPZl9QUqRH\n",
       "D+9jiCrNdOmgkHt9OF243XGPVAExWgfJ89Sested7CE0j4mHbh+zxEi2gDBbZAj2ecaetJgN8rzj\n",
       "eKAIyXINNJjJaPGj2Mwr9UKd2IkAeKO4tx+/vtBVt1kIAGqTq3nRh7bU/dHg78Pkn6SCaa7qof2e\n",
       "jvv4MU15v3mC2SlErWhrdF/WQKrozYzR+qayftplL5P7zQhuw2ktYFpbrea51HuxAdDXJe0/u3pS\n",
       "DuEeWJ2xByNxSrbGwO8gumSWjqUtu9q7qbKlfXMnAx4FrrOODYVl7zRXuVZeCy7xvtPLZQRWIAPR\n",
       "NM/rcDJoYCtkalYYUY3Q4Jw3n4XTRnk6thoTsxX3h3GOimjeczcBCdfbcrKfOYqZdQSTQVjIkUzM\n",
       "YocBbbovReg1E473xwSHCSvYeD6a2ipOxvysDez+vJrkuLIPSxwUFoMM+amfM2mIg4ExDJNCUG7s\n",
       "8qlFnv/DGU/kwlsLNh4vgzapk71puIA1gD1XMIwKmJw+GR+1TgLmuTRSljGFpio/eE/J/8/WHVyW\n",
       "IJxucWqnENHozQWlXEruZ4pac3x80Eet6+76K61u9mXFq1Y2rUrGBhHzBLfdspQag5TpZq4hNTDn\n",
       "mlj2F0prjuIdZG0O/b6DQfnc2iI2xRFCWIT7Vprbhp7rVlhMs+8OKuH/SpPbz2PsFsQ9SgzC6bzO\n",
       "q1BOR3XLY8YwvbZeaddOs+ifnVZsvEfNfByWfLnX//9c891ZrY0wjuX4ZaTwlqNT5z1W5IGQzjrW\n",
       "Og9osG5OYnVCNo4EaGtgFA624yEuIlyeeDzfqgw1W4T6CACdSmBcJfxNiYvJMrBw9TFdLRllVyKS\n",
       "G53tvTz5biKecTKz8daCSt1r2AxG+sd1Ziz2CM1/DEzPJq96OZklP3K8659ZzmjM8GZ87SBAiuXU\n",
       "1TupEB5JE9IG9hsNKbqTK+13KEFAd04GavIzs1yzMd1gVdcKZdjXwlyfA97UBAnbB+Wgl1O4Lvxm\n",
       "xx7NaeV2ZwX8k6+fyI6+RXabEGzrrnjvBOkotmU52OUvhpS35xwNVZ9m7IXsND4v4Nb3G1U4dllu\n",
       "gj/xO2R/vhEmX/mlEOgUX440NVBazdemXGfs9KeEbOJniIyxp9ed8FfgosQuKW9y3nnvtGjh2wV4\n",
       "nKDnBMPQpYR1/+vnvs5cuIkF/FyWwdeScrWu/V8ywJZYrziDPtjyigBBgz95ksSwmrovcZR0cAPG\n",
       "Ps1Y8PAxyBc7pmeFPh3cI6H2AJgza/nm1eNp9GM6ryFjaJhIsKiNjTMsoZzqr5/3YGLPoTHZbWgw\n",
       "Cq3SDZtrnn+FKTEFWyY2sUUaVieepuhcoUpENKSliXHIH0X6q2pI2t67E99v4+fQQDq7tYR5nSXB\n",
       "U0DqKRk4CFeWeq7xbW4ti9fxCD9iiMdgbqRwWG4C19gf51tzLSt9WDoxOXeNbQRD7ze/p5Y/x20u\n",
       "Wd+fK0qiZJvvNXVBxgUvMpWMOGK27d6HS//bR2QAQfYcy0KfoVyfCgml6Sk6aH3oc2i0e1dJzfZD\n",
       "41QUlaIEy/xoTwb/7R1HFJ/NrT5RNYOVholgL77nQlPkprY0mYSyrCkHgAYMavvIOoG3Spi7GjdB\n",
       "xwXaDv3kGidPFO2UvWD3kL+OS/wO6Onp7VIy4OWq6Y3c6/FLNBT6dV3LKEH5TmRCp9H1O0wPIa1Y\n",
       "E9Kww50pNvMCK5GrPtdlWDxeAWO30O19OMdpQhLwwsAlNSfI68LHWfM0Z59U0p1NIm0lxeMOaXVz\n",
       "d0u0Z0VomL73kQ0MgitttSGGXZnFyQ6rjG+e6ZkmXLpctN1IgPG1gsQGNpW5G6Hg61FgzU3wRCOW\n",
       "vryVJmijJUWBUxuRj33aCSEpNOApqL42HVEhzrbIVSTWO2Ku9G02sfOGDXgMjkCxFSfkTV+AvUOn\n",
       "TaRS9DEsnGBj/vSaZfwXlLXEohghQAr3ke8c4t3nO2zc923g8vMxDUu2mGU9ktYXtqae77fq49RP\n",
       "cqyiW5EfyijyawKeclCarhbQ7Ap7LBPK89DMFQDHxb6LdWg3BWXjEsEyB2/d6jEZrDzKAMyFc0Ur\n",
       "QlQt2Xx0kedW6N8trn//9gLNRjvc++MJz7xHp5l/Oy+v370vOMIQkNeIzCxtDg2UMQPR7wg/NcsJ\n",
       "rYk0jqrH4Cb+Fcw5vCBk01kgTt++NGfbowgl6YxPypC8yM0+HdBO1yILhEx/MkOoTx0vdWK8mmpq\n",
       "08FGuYWn3WtdqBY7Ng9Oy0wJiX9v7fWOxRbJxA9dfphgAEUUNYeIWyReeGNiwMdtel4TjXPNeg39\n",
       "tyTsNwfsJfYTBA3Vq7c5AasLleDxazkaE7d2ScafgZd5pQhaTDX6gNOx/EcYJPA+iDJwy91cKwfy\n",
       "9KjvfKIx3h1EdjKfYTTYSRVaTvkqlVKfCyRQE10tBQFsX9lpNstLClpECgd+kRJyebqAGW5zcJrR\n",
       "iJS+RTpFvbSldt51Rf/HtF/+r1p4Nb94p/4cH1gPxfc4YX3c5UsWQXP5DahWNT6bXvnV/s9qNZeJ\n",
       "44hIAHKrhOKGT5Jj3NIMf3pu7/vbXXhFqU8OD3mAaBuUPRgP2Fr9hpq+moRbqGa0CJJJ116XtS6V\n",
       "JJP7fCSBylwMjEf3jlw/310X4jBWTKMPqmfcCkJH90PkGaxFRbre2lzV8/gFLCKgS+WhnOB1wzKW\n",
       "LJYjw0VGHXu5dZVs83znkrmDvGWNDNP9qFQYj3ZFFm1Vt7jKDUB40Cb8BqOzvGcGAvAEoUxfTH9I\n",
       "VLCmeQJdrCzn8eGZIBBCBX1McZyAtuNpvC9icmHOdPfGIsmFzlGCuBt8TmNxfcfNoN9CaDgA70CQ\n",
       "vLmbJRPz4lkajHeMA3C0LFWBShWmq8XOdq+Vcwz1Qzq8L0pFeSfgAStzCUXPlB9SJk67DBdaaEhC\n",
       "YtvGVxDsQXYyiwtzfUIBWwqHHhicAYYzQgCjB+A6T1MjBqgKZPG+sE29s1l57VnZ1AH1wCDnGW/v\n",
       "Dja7ee53rawMKZXmeIy1vqw257Ch17tFa+pSllkg3r9gf068BXSpqD/4fKKIcmVudaIMBHLKyjPs\n",
       "KG+gE3OpZvH3yVHJgX+BHNCrHfT7WVU7Lz857b2dLegBsoqaz6gklkWnau1lY5rIzuyapqLC8sM7\n",
       "zJv3kZ5YPzz+yzvY8sYqRz3pa52Gps7pAaqwYuMf27apYi7sbb1F08BFjETbSHEQPt+mGuM1o5DH\n",
       "KN6d+VMNzmvAaC2XXDICtti0s04Ff7VGBBRgl07pFp5KdQokakAtXVX0IBj9QVc2tj9I72/jMFqt\n",
       "91M3+AMePZ3exPyd5UyVZZ2wibClHoNOVbmgVoZv9VISx0a7V5CxNWINmSkwdCivvU9VgQAAAvsB\n",
       "nsZqQS8AAAMAKfffym8AFdw9JbHx1/13W1F57l38Vc5NK8wZGUXBfqfNFGEUDKRK3UQD+itrbh9K\n",
       "U0ofsSUkLTBzElDat5ps0SMvevVhxSey1MgX55yq1/16LK4awRZQmy/SQCw363FEzgG0oQ1JIF9J\n",
       "oGu6iYjJEYf9D2jfJ/PQJIzEROPdw5FD+0hjQhSz+7FKMa22PrrTUnV1RswEk//F3bUFy1ZPOzAM\n",
       "MMKoqqLRod5y/p/5VhdyHhcGaF8TbUDJZuZgAaNLJnPcKanRpx/4jCXYeTYesz3KVWvpKtjA8YAz\n",
       "YZM6tJ/uVTAxo1ri9J2A0KScdwtpg/JrfceqCu+ot/sMtxyWHFtLtEy0FDv5ODDLH5Pl+QQtREdk\n",
       "NAvCKB2GnnldBJyeb4BE0S3YsgmJnsCX9IJoAqK9LQ0oFB7uI3sdujpoD9LZ6wgXF1bZLAb+VegK\n",
       "xRSxpUD0lJdRWduDrq9T2feFXfONcyP3/v5t6srAjmcshMN3yT+7iAMc7sVqf11qPE5FyKodj7fi\n",
       "FI5LkTGP99rHKlCf3QFsxyW8C/VzqproRybVyDKpZS79pxywFtUDmlGOl8Dil7AD4NvGIywGggV0\n",
       "u5w+Ek8zEycnliWy6+BBRUAbUmR6Exf0QnAGi48hHpuJLT+drjglpDrhnSgwa/ySkB+B4McCf5qT\n",
       "vD5mEdUuAcjsYLLhLCHcLj9Hg+frnw66qStWt4ay7m0bnvdw0pG8COzfOzN9mvddlU+Hhc0Eld8k\n",
       "LI/E7u38pOhHNJD4c7HUDYyjfZ8cmtDnHngAml/tyOByyWPgKt+lIO/4p85sD1w3W8is1CAz9xdg\n",
       "6aT388qVK9ijtfxF3YA8L6cRqp6B+rf+wESQn+RH8EOcXLKnCSj5YdcBFgPkgSxdMBx5TrmfE0HJ\n",
       "CnyPHAz/NXGP+xnD0klZTBzGouNJL++uRyqEnFbm94MmKL+q9uR6eRa9tjUXpCannprHN47Myt7P\n",
       "6DpoJEGP6UOBPSK1kdTHF0VQgLKBAAAJzkGayEnhDyZTAgr//talUAAACuj/8EEoAEJwUI+YSPNo\n",
       "5o7CXAqRC38adNCGuWaco97zUqWpsXVW9ZzGiHmSKObYpN9vYfsfR6oBkA5eprQ9aQ1zyFht91wa\n",
       "0yz7brcE/LTfSQQUW/CNibVNbBJbCt+wtDtSwEoOmHAzwmKatodDjIHvDkbRrb4gv41+TmdVMfBE\n",
       "qNTodPh3Jhg0xFqpTKLcqkNAy6aTEZ5aXlxa+G9jqjSYFeIHVHFLhmLhrC5nvDdp8Co5rxltZzj5\n",
       "Hr7MiOs/PowdRW5aAhrlBiIzivjDeEmTMNyxkPJrGm8yg9heGnkIQSs2Vs1krggIDjMS61dVYsMS\n",
       "qV4V4K7rx105wR24IeFDPI+zmiAMOlq4Vcm5FCjcxLBeVKjhAE7C/9zkQHLuev/ZBKKosfc7Fgl7\n",
       "KgNjf6bRffgaxurM6pT3aYg5y3PQzh93Bp6dtSsXAJRJYEDpoZSr+aGTb69WyJsBPorXJr3I6Gkt\n",
       "fsqH6S9n33eQ0KoCNYguxZnlUuD78kubwaQncsGaG/pMYvVE2JsXb5Sp90dF0AMBNJ0eqzjpqepP\n",
       "k7/2wXJU2slwYpBtUpSTLjiH83VGWQzHhwJrb39ICGlMjSs8rG4RCgxtLZYm1DFEbPb4t4tjGvMc\n",
       "pih66npFIoY1WXAGHQRxJmfPKmfqdWlNijEwi2I124i2m/6cuwhx61HbpnWbjvWjo38RKxozcQBm\n",
       "aGEKLjYm8lWGB1W6k2YjXEJGnmCayId8pDAI6XL3Ob+6dJk9IqmbNgpGV9tRfIV0Wb/rREr5Fp+8\n",
       "moyrRUOrIIhiLV8POxEp5CtVqVkRxrubKV5SpECYmCU4TBTg461WapldG/x2ncKVqUkQVZONV4QU\n",
       "mPLPvCAknoqrQ4DA5k8HdDvv3WZfrmmypD/ZwH0uATYpFPa692TXQ0G4dg6fLeNA6UUmtB84z/cj\n",
       "58WtCZ2Wuvcj44yYpVFcRgtkBuVDrIjtLMqIqaGxMcjpVBdgIgFHfyYx9EtO/gTlc45u3HoTl4ed\n",
       "6bHvP79Gr5nKmw5X5LDL1nIk2gV21C7aLyYOtN7mX2+X6ai0+ETXrC3Rkv146ks669KoGmfqmOE5\n",
       "PBPKhZM1gPxBShlBFW+JoYdpRfsTaP94VmFys12wxMMpVGgmhAcmFZw+IhhODSc2kUkgDj828Dcq\n",
       "cHOweLsWoaHfxBBpZPM7If/uvCmRtzq5hgz2PRZDNkuB2Lh0GLjjz6KKvzJNt+giXrQAvdIkZe8x\n",
       "gvPHCw4x0fofR84J6bsFRBFSetvn5WIMeSXdhfh6gTDXJcBeSV2adQprlNpP0JpcrPsDFVcTqP5B\n",
       "ZPrJfqnyOTosKc2TDASyAkutjBD9kzZ9zXDkNMCWmqBRcpWyeHlvRQiQiIl6Ff42t7e7LhM37tDn\n",
       "1r77LHm4VSxASWWOklv77nHtoN5DjZatKh60jaWXYrzNzobGu7u1u0Dl+/R3vOtdev4An9K92izd\n",
       "QdEjHoJw6Va6C2XstZMwtK5lcrtUgiL/hP9VReSn/hocTn0KuFTKpiIp0BKem3aJcvv8DLp8MQSh\n",
       "nxIBfrND6d+lXVgChSG54Myd7q3hN/lb9BFmb/t25ELnwDcpr8OS5++uT2S2KRwOtXDPIfujqj/E\n",
       "tMfsyu7+rjgfne9ARoxPfTXEZKVpi/RkhU4SHWTaGlYKMOIg9lcVJoaeL4qBjZTCpeNDi8hNGUCp\n",
       "ghMm4CE76nSd0hUevPljajLrUvo/NIL3q4koknPV+ZNz3HZqpXDube7uxT8MYv6pcNbCkTnFxDdu\n",
       "GZ8tqxrdl0BzjMv/MPtBa/TrQ1tW1hInCkVOfz5twAHsZUnv0Ioc0GGp93rjnbhKzOf8q2UKQjQx\n",
       "DuG70NOIFL35aFpB6oRLMsrykNeVEDxAvM2z6DxGtS1CxqHRjTshbYELi+kvyFSGkSeZyqDlFFBx\n",
       "JU/qpPar/f76E6KFkb++pM5mttX/+foIpkPvSboMnTqrRkTcdhiSAhcDwB3Kk7RN5dR6lPTzWkI2\n",
       "j2r3RUbJtUY3RZu2WC3SBTegxg1MbWXKT0CoT0nGBSoj/oiArJ13afnFMCUMH+MdjytFkZ9S8KNv\n",
       "jNIKhpiL0ZZsxxRkWnuMIr2BwR5KPGSWhtqtmhOlC1WoMjISBsfNniSmzmzeAvQXlzW3GxG8hCY+\n",
       "bT+QZ4qGqoUY/dlveBTF1gVrBTdkqvtCgs3Df2gXFkJUZYfpsPW7RFyg9m8XiVx8A2KatuDWxpa3\n",
       "mD+fD+GsnwzIrxL5LCSRFwZ20nRf1DSya0tBNSdqdRlwHp2tTsbZBWq4zWxPlxZa0iQWvZWyqOIC\n",
       "jvFi0Nq397y3KvB3wDT9czpQwsBesVMyQClcOWvVklSvIOhkVTqHMV/CIk5d0MNUiuir/04iReJP\n",
       "BQ05VfyRI69tQBQbD+QWwzZzfM5nVnM5lcci3K0cikisElLkq4fr9ykJU00rD2ZaGXaECfZdBJNg\n",
       "4QlinpHJeH9Sfm4ULwWr/CIFAZ8DeusyEZDrg+bqFroGxxhVoGmohdxBM+yOi0oLOaRema6K3zi5\n",
       "s9SLRb/wYXOrFJoyEUxwa2Vut5Ewq3ttOOoEiUXXK/+aXJtJ6hSTEqDBEVSy4l6WjPbZDY6MCneD\n",
       "ghNXHjM5ykfuCRo4lH5Un5Ahhc47ZIr9BHXD3LI/zxy7adzvy4dIoR4s045mpGbqAL4e1yc/O0pp\n",
       "ebRGjqEhb11uTZsAGicn8tjj23X5RO3y7MHh+12ZuqiFWP2eRZPNUPWGbbPYkmmQpEG0dW6U+6v5\n",
       "+zQrRiaf1xS9hVddL1fZJ+51ZhUO34dZUGFoL5sU5VQMhon193oKCaVjche4KfWpnt9a8PGgIg9p\n",
       "93xmpv9an3jnXIZihQOssSKcDUFwH1mMybRW6s2ma0Hk+LFZj0RFUjRSrxHeahPItGAT4YkUgvVB\n",
       "ji3NKcVAKkqM03B2hMxeOPzEI4m4rOPGdhFs2hmMltO8LETUdslBKRg9OjIUHiejR3DixX2E8ItC\n",
       "xecCaIU1acwk5d6P/VIlSx5aXk5XEYVLIWHR8ctfpHsucbSd5WC2vK4d6KeLhP3Edhy5zyVq1mN/\n",
       "MziUBIdRjzi8vZdJqiHZm6EMJYMgodkfcaVYNm7nM2PM5MWWuTinJ/qHaKUJBGmwXF7xJQ4JvxWW\n",
       "fX+nNjhIA407zoHlzBPsr6udx6H1p7QgffC31nGNhGTSu4k+ayTwbqJ3J8nRmEUI4WvJzbULPLVy\n",
       "HuDySOzscyba7BQTC//FRQhhlxp+lonoj5wCvovApUy+H1BgbCJpuHKVSRGnBFlUqSJs7Sc3UJDV\n",
       "kibdkfx+pczycskm6jblA5b2c+aNU/QdirlEAAAK3kGa6UnhDyZTAgr//talUAAACylFx90AAtZX\n",
       "kVc6U65FLyC6M4zcCZ3oMZltinlsGnFByMZ6K2Ntb9rHvMs59u78PuAClNyJ8MZYEWHm7Yx0IwRJ\n",
       "DOI0zLcLzaXW+oFBvLml65XC67WQFBPhOnKr2UKWUnyLzaFXSt1LWlOWJPYa0kbWk+WHqhMIlZU1\n",
       "HT8vGDj755sx2QkYXTSwnYXXzVYVPX2bqO7khPJXEp+zE84m0ULinmaV6UzfNJ0R8MAc8Rf+z67r\n",
       "2Er4URMO8AQsNaP22L37h85RGcz4vwbGpYBKn3N5jEZWJjpBt9793R2ALsLZz4inxI12UReTuGSU\n",
       "+e38hSl3iJZEqMoxxPZ6zfItBhZdvgtxoaNJIO0abLWKWnqRAGgLkBkjOpFv6jG4BLFKbh6/exOQ\n",
       "5wCqEdtwxtNk8PTgND+45f0kqCzM/IxU4xxijakDEOj/gq+iV46fXlkv9YPSst2/42tOGDHRZ5uF\n",
       "7Pbu41y3AvSp3tLxVGBLcJ95Nl1uHP/K2eMXG0LKBf+t82Z8XGpQTXLcB9AvD16bzkz06TXBZmtB\n",
       "r1ij2ciyJLC+SXxanzxIKYcypEPErUViHfKf4nxphSWbcj0YiR2FnK9pQaOhzM8UoSfFRDtcQhI7\n",
       "4XCc19H5l71Jc9c2qeh4tVdpBrQcZRWIlJy0PKacJa0uOG8BgtNcHhMLn6H+tgjIs//CosF4Fh5W\n",
       "mb0Axd5Dn9p431pB7SkVAiq43bVWsnPYbHDExw1A+gGsSnZSYDS+0UjTlLYeK04oHR0PkWoCyolN\n",
       "7uXPWNs5Wd4oWzNQyGzZ1PCa8xwBQH4/tVlULP6p8SB53gdvkiqZ3x7g78KR3nXKSrJeuT5COMHW\n",
       "JoWmlan4BAIBvm7L2enBfnkOeNe5SH37eQ6QUWccUpnIZkpAVYamTUuF+tVd4yAhTWAz8DP0cFrP\n",
       "gU+rua+tZPuqbjCgOm6cvWob5Q8U36Zi+AfK3tuvHIzK83OTheoQQ5PNp0mXF8U5sBYnpjTx96l+\n",
       "HHwKzBVcvcUyURtaqaD3ZFcWOoMnnFOZ8pb4l5coD/GnibfAzBJMlFkmra9jBda6BFduDuxTi/Bs\n",
       "nGmPQq7vhdsDc2iIGMPt5Cd4B32kC0FjsqCKjYDMgAuOrNJmDMEB4wZkCm/VQt0JKHy3lCWvh+LP\n",
       "mBrfjjUCg5GSeu2tAgFQT9202fIsTJuujSh4UT9EWDXV6YUndwNwPNYEBPOezQL36ctlL/x7j83k\n",
       "NhYjyrLUii8RIW52VCqaRj7RpuOWLcLo+KG/fR7znUa+mRwAPafGuK0ShCp656ztBUy3ua0kMyuY\n",
       "39Gt0VHxGDcws5lqSaPqUgyDTWhmka9C1pEgh5XkLfetFM2gUpJQNZkgI3VlMfoAIawc/Lbg3oMF\n",
       "Sm1Z3KO6ydhKUHkiwYT7t/6PLCAcwGFHhBtMKROXXtmJh7WP40c13ymS6GNHADIsrJ/99glGnfCA\n",
       "OjOZIwhuk5iBXIVGrF3/x/wBxLT3F2mZmJLrxAMVgVTM98KVFU1KzILOM24YDa7duwJq6+psic/W\n",
       "eSZnyuEKbtb5c7XmgLjXT7EIlMbxP89Sp2gTec+1EJWuvczYR6A9LE1PkehLi1Qd3JLpyeVF3rPO\n",
       "gXQChS8HHKEq0+T4eO81gpjRrbS61fjZmeqw4aHeb8C+A5CXH5UvH7Ftrr2rg1xR3Nw3at9N4LT4\n",
       "BdJo+9tc02j2TbKcgjBeMM4qbUCTWpkLPWT8D8ZkM/JJ8ogftJ9zw5OmZe+k0SOs4TE7e4tVRfh1\n",
       "CoXhigRK86r2Qzvyzxx77Hju+vLH9MrFn8+0vMRkOft/HE9GLHKlYR17gJjcSEi63Z1Zf8NId91I\n",
       "1SvMCDUlkSNydxUMs519mjcpNnG53tfv7j1l7kGIoVV2m0YYqmQ9K9Mfv2OlJVkFRCF5PPulsQMn\n",
       "EkOiKPDCrzLFqVIwsk3JlKxoivGehVUBm5o2bkbvytAC0dpXfx0aGhwjm3cVpHsuWspieUeZTVhL\n",
       "wIERSxV3C0KWhiCbmay6j0lbYoAWxkrH6pulTCHLrjm5uQn1YVpnosFX+E1t7Ssb0Hm8kqQmWa6k\n",
       "5i61fGV3viEW8HRuke6Orj2PyVSLOTG7H7UJhImpSRdFr594ZITSrYuvZsYgOzvn/pXTNFy41M0G\n",
       "3ceh5IUc39KdusdipECiAGqVdpgmWK4tqDl1CD93+IYcLDcFVpFh6lvupy9yFIR3sQ+G1U3TmagC\n",
       "aT/we5fXwtkX/MjRwSaNWUZhFH2icZ/3capwZdcEoSln5iL6mJ5tKfbeCDu1Do2cAm29QMzuGWEj\n",
       "wQSBAZbpTAnGQIr6pDqFCoU+d2mHm5u/fwwj+OJkQfS2X67gujaDGmKdRhWRV+Un1ItjJsE/v6ls\n",
       "r4hvotsnwg5Jnbb6I6oqCnijGkjqlViyqI0Vf3+8OMdg0faThwpiHztdv0WqFNQ9yEslJMlKUeED\n",
       "2LpGn6afxz21VAp4rOMPsJBFeffF0nhVH+ul4I0P6hQpafbkslA0ee8VVAn42CPPjGLu4/8QZGV5\n",
       "Jz2RtSYQxA64Q2C2BmOJoCrB/nQzsFSA9Vcdnzn4+SHtFvkvnHsCcTpzKiHbBOjYnUTGiHwyIyW5\n",
       "3E5XlqiFO59yV6M1bvQDpFZm3T30xBToTSXxHlVJ6YEca2AznmMCNPSzJvnA1RY12LdqF+Z7sY4c\n",
       "nwbe1IZdK1YwhXlVVun0M4z0STkIKVh6inAYK7N35yp43YLR43CFDOBza2PIxX1zDN8ALP3D0ou6\n",
       "v3we1PnqE/b8AmKMvNXWhq3foBAYo/0JPDJehzt0OUHiR5PP+NhVtsjkPPGltdBuh5oFqEix2Zi+\n",
       "pHzYY645Oc6n4wprPz+2/AHb4n74kJ/ujqjQMvkjQ2BQqQkVilhuZvsIa+dsKgOLgINgtPO1cWpL\n",
       "xOG+6ukgZZXFfH12ctM+Ta+nTnfiKZeIXGQ1TN8KPbESTYMoCudkH1djsx2yskFmtSKQxtUAFCfp\n",
       "Xj/peCcTLTBdQ2jc+FCnQU4zr6BRiCuWzhUR3se4YXcPODNc91TIItgoFEVO8E7ZBU1jbJ3e7n1k\n",
       "vGzsGvhyNsXe1/2PLwi1x8xipk0NBaLgCTNt8vWSOswZmiOiMydBSFj1Qad6DHN1f6wV2qbu9AZA\n",
       "ZNuvWvnroNE+uYOkGPPX5A+D84f113Io2GP4hd7r7yL+8Y9sE1be4MKjfSnnH4DCtPaKthaMAzGE\n",
       "6W0FjH0ne0qZW2L+WQltyVpTI/A88QjiPkXCodiU+8oDVyyq+kgvSDm6JJIf5Hhbh+2V+P5wSZFr\n",
       "BoMl/CI4YlzgcGAVaB8i98KbzLpZxNXZ+j7OqMq3bUHZtrlcjdMh4GOqkssQBMQaO5Z6yuJqWhxX\n",
       "PUdplUg/xdWe2jZ3T1641X7/PgAZ5Mh81o5HzHxDayV5U37yAuIO2FERMvcG+pxX6YqEojRyPcmO\n",
       "8zfpvWE+bUbJx36eFY9aFZ0zkUMKm+0u8xyj7j9Oj3bO4d9CsIvWWDUbyysReNmjXDRUXcPF/K7i\n",
       "8P9UbE2aQ8GL6Pb3OSmRl4vsotbFb2nqQpZC1/smRcoFh9AqZo6ta9DB5d9Fd3Zb5Jh6xUaX0Win\n",
       "X7bGVxQZcFquK8zLrfd4MHQQ5uoygw0xi6tFsjI5HIO74hgHYG0Z4WyVffzp/4gJ6OvteDm+kwo0\n",
       "nLvP2MTYePqrLw5N9WcYEJrlNSAAABAFQZsLSeEPJlMFETwU//7WjLAAABZSqdQABOaIkkTBM63T\n",
       "e+GUg0Kw4z1k1iAuBAOq7CS4FFQ38hrx9tdd56VAv4Iw/TEkvJxBvfi6BMUA9dQiCJnlG2wdTTC1\n",
       "W3MCKCy2a7yqO/2ZNnV5ii+nw5eYSQlIodaS3WMcWuAMElkMiBS9jO6bOThOEXCR8sB0sa+meWbh\n",
       "yMP4n0r1o7VGrTGe/yfQ1CwZ6hu/PHV7DgfW7tRp5dUIr5WgXkJLYrUqNMuQOgZxtJrVxNXh26IV\n",
       "8lQBxOJQOV6hRJkgYU0pjmYrQWPQtaoxRzCIRqbgpzeclL2d8tt5tfPce59hfjCQhI3OMzwazMGH\n",
       "aNC5axQ+i0kNpQ69cqtVRlsoxVmtd7eb2XfBrzqt0OwKqrWC2XkWQYoi07kms5ALrfGJ9/yraJjW\n",
       "RSB9j9/ODV3mvH8hRFlW779X/YaaTie2BE+B0Z4Q/GsTPZHWraRPWvpD0izeVHJJFn6pnXdsBoM9\n",
       "JVg+P95pim189S8WA6NBMUEvCBGVsTp1BGcG/H19S67HHKQm1cDIyICawz0UJ3E3sJkHFwXG4WxY\n",
       "iju6rkCFyIKSz0l5HoDEg+YMsWqAOc5zFDXhtG9d0avkXm5vNVxsmDvjhnJu6HLu92ZAOA0Gpme5\n",
       "foyyZIfKTs26EqEHViE4sVtkB7OUN5D2aY4f124+pNzA8psIPhXMrlGnUrQ9XN0jOKPVPguERfWK\n",
       "/YuN55OxaKyAbJVZbhENjbW/x5OUsMzAEDCGlY1rzsGvKEOHx4zqmtZcNYxaJvoOpnHUiAg66/sF\n",
       "5lSmUfF60ITPtvpj7TE/KxMzGiNDPbVOUV6eTvhIupTnBSlT2SNa7bV4OdVClFvDs5yyUGcyITLi\n",
       "XfQW7N4vWtQbFcT8u+fpObJTlu3ejgqJp75tb3DUEyLt+xQKq/YQjYinD+/T9FYZO5MRhE8WHMe/\n",
       "Pe39xRlhCD7y21V1BYl2LeMqsPULiL24/VVrTH4TToWxxynJiOgQjXem+Yaym3h/Sivv5k2FDllL\n",
       "niax1mAJM4Jmiksh8nMvrzMINPxiB5HfPSYHvFce8g3YSr/3B+GD+fYVfnHuZKM1juTxJKx2JCgb\n",
       "P1ISEmFEHChunkuqAo29ZCwNVFNlInn8e4xlmYU17d7N9JjbJhlbW9fS8q0pG/7jr6Ok32cbILEX\n",
       "UcKVVjGTYXwIxEbzwhFgWnwx8q2gJy1Q8Tx6/gj25+SbEFB7//thscz0q+/c0nR+yUhRHHY5+pS4\n",
       "7C7p/UhD+/5vzVqdIb3KPEC5rhPitZc+sk22fq4lqvu4gIv5xqOOk5QkaEw0myL7DXgcB/sQ86mX\n",
       "9PpFuKGNp3C2cR/xorDgtkAA1h2iF/zxCS5SDzvSqKRGe9pc03W9QJFebczEh7FdUGC6mqa1A7R7\n",
       "9scZ3peJwNLGZ5TspJmo/IMqfXscXrcEH9BmlDySq7puiE8TjX99hk40QaYecakv0GrkfdsYxgrg\n",
       "H8zCiij6IKVWDaB41+RCrso7GISeypVwfI4ucoZpaxZPwcG3F8OfEEd8xOl3oUc7XFTVFu6TwTJl\n",
       "SJoUgX1wJ0ddkH0O7a4NyD2x5lqeuLFksOC0Q2InvxNrt6hLAtB8KdU+Tf6C8uJeVhBiOln2R6CJ\n",
       "x8utB8Cj5SjCH25RFeARIlYtIqsoG1j2LkFS2sXXKQ1Cr54LHcO3T2JE8JNX2Rq/KKTJWVE2pqLR\n",
       "sMkGYa9xp51harPwxW7agnI9S73TyHmlBBxyWnoVh7TTLVgnlQdQ54oVVwV5oVKrTTYe/1CeZDYB\n",
       "VTdhXMQGfzk0MfA7md5iJkwXCu5Z2ug5AzR78oXGJpMp4DRByXuxMgSXtqlPrLB/OoZIl8ljRl5A\n",
       "fc1PfBIUrJctriY7TTjcgBMQPgst/nNSqjVx84R9KMX5sh3r44hqPXJSIMCMJ4UZjO/012e6G8NO\n",
       "OJM/A4rs8J50Zpez6rKmanUDyFqTlhWMaegZVS87ENduVnON7cRpEEqHqHbWJBBgBWxf5v8yZVjk\n",
       "z7e6UNHaso5NCABb+fJPenaU4ewBFHqvfsFGRbxuoD8MtuljFR/aQhuDEJC6LFf81T1oJDP7g/OK\n",
       "lL1EtOJp+cfgRUVXm7IJPfXKg6rXi1yKdFreF5HY1o5ksw+iw35cMGFrVC9ev9W/39CHq6ra6DDF\n",
       "2UaxPEwGjGDtNg1aq/3bZF6HBDXK9xXgWmOJB9aYECUAgFzam0yfr+EYAjZ48HkHRQItMyewZAv6\n",
       "U129QMswwaIIjPvhTIVKDEPXyVUIY8Ou361v54CzVSvGrnFglZ+jAEG6b6w7pBzXSHdwJov0m5+x\n",
       "GknjTTqkBDtyOaocY3Ycbab/KZIB0ZZ8d6ol1S0HkmwJ8ljfHp9kUecot2kgPYKWkguXCRPqHJVn\n",
       "BUHfjwXTFZ2kU3S8l2s1uiyLJbJ5yhVJUYbSkmNPRTCa5gOn9ZX6go6yKl2U66ZqYaG70Q4vkbLj\n",
       "K6mCMcacsJkG0G9lQN1x9j1CS3rGu5cAyPaCRV1nHk6oQf3Y1kXRSvbXvq+yKlXqkMKm8B9aMw2x\n",
       "BSjntYNxS7vaGAs7gsH1vzp8I21OZvPbdzecBoPxE4Xp9i4/STrwMK0L3PcXXX9kL2mT/+jsgq1y\n",
       "moQ5PDMDKLLWcKMEcBd6e1Y4uAN+nTm45sh/P9S3Klb2bHKdooEZZlcj40wKXtUq3TP0XVfcLth/\n",
       "DoUdTR2xgVicdiw3KMSHQw3TlvJlBP8M1bbbjFMItCm4P2fmrY1QjzkY9G8Qdi9j7brYnwB0ilxO\n",
       "7PbQeisUv0K8+XmoCC8MjqHXPqa7cC9wCxZS/jadzdHv/joIe2FnbJ9KPczPL8ebTDiOC2WsDbLp\n",
       "zdcx6zAyuGkDXDY/CYjKOpKEvRV7faL7niP8S69Nezckc6VVRuvUHisImxS0fhm1nBBNoiMd8K5U\n",
       "QkgxuundFNlMBFVBCZrBteVx/dVt3Pu3ZgevsvKceskaXP8CHhvlXqKmNtO/n5AuWayMY8tJJybg\n",
       "DTisP4W53uuyRvaZfriGfwsyygC5v9zdeQUoUOCVaWxWL4JrhjqZsV7j2nmddDPA2UFoq3wdPG0A\n",
       "63dDWDYYlg5939DOzOf/3UuN0knca3Ztn4Z5F8GFXtnntl8wcdkdQ6tqtbNQtRe8bhhG5xz+iCF8\n",
       "93BcTZn+ZLaNx00CloNtT66ZC4WBnBVzDHSmH20LdzJCUtjHKRRls5g39jCYeHu3VJxhjfkHVgwQ\n",
       "2Kp37W3KU47+qxGEyDAsJxlO5gNjZUuCepdbP6yrjHQjFUARe2RC1w9MO5fCUCwXEfULoaOL/6Ib\n",
       "cyNN1tUx3C/917qhlaAxDvWb+O5KqL/B6IMw6FAlTOgiETK2fsEXlSyBJnc/bKmbMGLXFIYRE4lu\n",
       "lhJDXU1t0cLxej53fHPuxEiLK3JPBWX8+A/aTz5O7dj2enR/b5IxlRUle3jNTzbImDLbG4HKfuTA\n",
       "ZCylMZfUleAzelxkulkQ7QkhvSokcPyFule+taOSa6pMs3B06OEa2q0B7RNhaBYL9716nHqTLlvC\n",
       "G1fjTXsQXbu6aouiAtuIMd5oCcNP7929Arx/oWkrwDJ+SysfvqEM01c4ZMQH3Yc3/qMUS/ZG4Tch\n",
       "ffZ4d+bAdgn3hrvM09ji1ElBj/Z+itt3ezGCU0IRwR34Hk8uGMNITFR3tUVzKHdYcGn2krXmQf9n\n",
       "r5WpIv9GoSfRJyjdiEtsNMTOegbx9SqBsmGWgsppZtUWvbDA6PfcMWT7eGcS6wdabp4RnpU3CRhG\n",
       "KgMxsSKDld/psNmwpHpvGAmbogaf2MxLq05Co5b2bfmiYz4anoFcNk0GXA7L8WLjp8vUqP4kBaaQ\n",
       "Os705k+3iF5m6kcAASdLIGIbGcl5CoR/4NaLOMEWLFqf/s5ZjYwxNP9R0c/3nGyVRc8XNXFEOugx\n",
       "C94YOQLDsFPp0g6RYDEPbTnI9gS0fkrs25n3KYmy7cxKOuDu+2zTNlczNaV0qt1ku0Kq2/69LLnf\n",
       "u9nTyDCTU/+x2kiXwm/ROqogz5PX0bbxtHCL4V3ZGDpetEniawqkNgvDzB96SIB7Wv+7kibDzi55\n",
       "dDZYxSFriQGNa74AEqv8QmcrGnFXdhYEDxli21XXbnod4gtLq6iJugDyCDo7jcKOtbz7hy0scNYs\n",
       "xtQ5fuqf7cH6apAAFO3wWkWiBZPBTsQj1RT61xTKB3/APOzeKlq9nwDTvTaxpLUFjUhk0lYSwEFJ\n",
       "kD3VGKYT7U+iWZ9Ifu9+FpJtSzlOMJZdxv2XPqhqERZRzfoB+4freN0VhFxzLQ+l1LAbuiPpShX9\n",
       "6qr0PuG4ZcEGM/c00kdh4iwzkJYrrC7c8naVIvvm0Pw7P+OCDa35EEU4oAT2bhKgyRWueaY8Yh7n\n",
       "NNHD3BVzVdtN/M6gI6pv98W6IxBmmLz12j6JxLeSuysAX6NO5+TSfFYaLyBm6Zec+kEA/9JTCoKs\n",
       "ua8p1fVawYLP37enNmBldcjbD3Y6aqvqIl79hWke5xvCdZeF8NSdpJxTL2mdi6d7kjMRkWUqUlIL\n",
       "9ptzNZlpJqNcknJenT3OBqoACFGOUFdN7jJ/jsHy0rOjiJN8j0XG++PXPyuwtfMWrO7dXmGuDyr3\n",
       "MIHgNrj93T+iJXe3eYIbICFebWsERKz4qCl0I/QnMKaqMAF2gGfT8fqO0pKJZv2GTsXdWkohPIAw\n",
       "0ZB+hW1EVLhUC4Qkyj+85um0R8wmqmR8Q8NGMy+/cc3wakmig3pAQ+X4fz9G9CHLHXnyxTPSoHGR\n",
       "e1jtO8NhYM0wvYpKwpdPDENhSzp7LIqIYUrgBCkpQB1PYdWzswBBp2+bat9Ivqc/6RNJAbV/1/bz\n",
       "t6AXkQsP4TPzlIDH/S4xyWsmgX+4KzLjpV5Kv0Wpb50mjO20BBLszf5CZHWXB/pF+wkuMVj6ZGx1\n",
       "W5KCHr7wC+1MkGcU33DR9bdD6hMeB9dhclvxOuhZJU/CWXLfWXogERff2Igo+kclQp7unTjRJb9U\n",
       "DXS01BX7srmVKvbHSDXN7Kk/SSBtmpJJZCoMZVNZPYc801xm47nng0Fx+CGFrPJkaPl64jhi6Ij2\n",
       "s8ndrhUHyHCfgGsObzjWu6k4xct0D79beA841lIwOCUU7lR6yvPGRPJyqTejPZd5HXONwlIA+mNx\n",
       "EyQnSFu8KscTO8xAW55dTm1s9P9OagRUEnD6thxsP7mFrpB5BBv48u6lz6meWGCmdAB11qkl7Hnu\n",
       "hGLZLea5Nz+QVvGoXNXRuTZUFstsfRO2vKtRHR9GpzTqE0iR1mODacSIhDnGaMwUpshMsoCXjTbS\n",
       "rcaMAugoB2zBD/9MYnMQwnJQL6oapNkvI1iUpQvlGNCKrXCstCJq4BcRJvfpHYWqCKtclzvc9bfh\n",
       "kc6aluWZBDIxbZeNBG0nLqakLiG9iN6YFtSeJFQWRp0gY6AfDuzmjcCGq+FJoR+IZEbXnqMZSojA\n",
       "Dp9j0qTmDRutb3a8kuAjv046uZCBAAAFhQGfKmpBLwAAAwArGuqWg2B4cgAsEvSMQOBCp3VogzON\n",
       "r/G2nR0rnqPZiQ/0cj59dvaSzFf9zxCFnaLXp2VTkWe17Usa55FHePVkWurnvtcXi0xthylI6JJI\n",
       "msM6p2KBHwnTNonHbH8JCmmXXqbqbK1l4UeUElyXvl7CRLNHUAD+h9/xCKbqlf+T6Uu7IicxlZfv\n",
       "qRW8R0S4b2qYSBTIENmuAjLYeSdsAceVbxYquoyRE+dSFsHJoS4WZNc1tO6rXzR2iacFKLPqa/G0\n",
       "qDUnpyyDrWzSOOLRVx719h6WgRYhH7k7hHnoeVJ+OnfcaZZdegEovD9G2e5fE5qMV9EDz8nK60s+\n",
       "JVh1YrgWDwJIsiCfJuh/8roE0KW/LNDyfMXCBccx4oZHWtzY8g5vuJv55ClH1NNz/+XM/5Y5KjHA\n",
       "kFZI+iLNGo7XEFI2RLwGn9nK2/PThsej106R997kphGX6z9Y39WlOym79RnUsx8FvLiPYcBZ+V4U\n",
       "n5LKU0IrKvSymR+pbOeb8C7PyIDhtgW0Q6YCR1+Z+51rY+FziJV+zORx0gPOlM1avcoA1bkP4sUL\n",
       "jXTMZPQXxDltJDk0tlcbD3uznLxmZkUkGURpbxipgHvnaGQjCrJZDSZf05rsnrSh6kGPI+Yg57L6\n",
       "QdwpHxC9pd6d1CTagEnUhic1kGpOzT6tT1zJydSNzvyjuSRBdG/VRnErbxclv8rH/rOyoeeXRPZR\n",
       "4jT0i+w24B0t1uDAzzStQepeiUL43dRuLpYwVgK4DyHW/noJraS2sLcUKuFxkIp7zTii2Wn/D9zI\n",
       "a22JFU1a/DP12n7mYvFtvd7qfBCdKRyQY89Kp7H6eYn2jiBKfEYcgcl3//VvAFKmyKPdAhFSv8qE\n",
       "w3H0LIgLGJ/BuIe3fRt5r49/MVeoQqn1wjADkJD383moDUcqlhRoqCPBYGwGPgJQeO9X24amplpN\n",
       "IvyjK3bTSLRiKswhcpKMDhoLaA41+0Ft1bfqN4ePPDO2phxsJl6U3dLdHkcaYUaMKKbrF+4hOo+1\n",
       "DtOkamyzKHUEFh6vu93WX1kr4O2SHjzifE1wBWEFmIWxcjD5Ah+b+IRA0ZWZC/VaX7K65cknwm1L\n",
       "dILLjxJ2GpLpWFbRg7z+YS6l33H7qya/pCfD4x/ynjiyA6IhO0sgMvSj66UAZH21MHWPq25mmyyZ\n",
       "aFtiJgTJ/aPmeyowaDFp26ZewC5j47dAadi/5aLiDCVzKzPL90l1C+KQMhaHOw6K7tCd7XszEZhm\n",
       "oYtLEhTaJJx0EAIbvY8xr2p4gzQebHrj/G/kBSyaqwdsJHCItFTiNM3Aj9p9Y7EI5wCcWXnRdIAx\n",
       "oL2Ncml0DZk/jf0jODx3ktF+1jNWnbP4j92+zIqewHTF1RNZ+/CBk0SHBganElEWiJIpEe82Yn+d\n",
       "sJM8jvwLeWBljsN3KH1u5Kv8EL0+FIdy4UpT5TJ5YmprsFZWhCqomjBoLyD+zufXof/7sOssnWql\n",
       "GtBAL5rZR55DSaNgxDMnH4sQkMhFlN1hyO0ARQEZ8W6zuOkKdKOdXJ10uCnX3wjjgFSWRVig/NpD\n",
       "jf+re8jmGzTzsEIROzpBdDXB8FTXSHrXlP9YtZhIKbXIXIj1E9eTSOaeCZ8A204tLK9sr9m3y+Y8\n",
       "85SdXKEckIOOQbLVzvhcCjRR0sGmDsWPTplnTlOpdOB20ndU88DqZM3WWa5qO742H/lonm9g2t52\n",
       "kvcRoBxULETibVz0mTEnXjZ/JVekq0/hjaUtZf0AzEpk65vcdKa4Oq+CAmW0btdH1pw0QAVIk971\n",
       "dM2c4nSK3FVVjWqbj+sj00iel1UnvtAvrcjTdD4io6Wx53zGxETpuG1imQvvJj9Nx/PvAmxhN6ql\n",
       "5cwqG5ylfxcc4riPgAAACp5Bmy1J4Q8mUwU8Ev/+tSqAAABXeJ/wJWM1fABuc5Ha+sOAA3U/4jlk\n",
       "JYb2KWg5LHdmPrupiFGOfHAMVfSbU7tyKUqyuWNNQpXUm2Pj//++SUUqYLbgcVMFd9pJTX6A5uLw\n",
       "Tvnn5BqcjJQwf2Ebdk6Y/u6DJVZ2SWAlSjHjPEiTuKCYt5zWfnB70chYIjH0QBtXpDrPw2r76q3q\n",
       "GtwCYGOa3/3bvOoEQ8w3obzlnC/G5iXy0BQJAxgbRyPkQC7nc503+ZPBlSgdUCqfS2zOlMkr00Dx\n",
       "fOiBSDyULo7nVdBua+pNBuGB+4uTRKPjthO46VycvrF800LY4Rcwn0Tm9QOmOqnj7MmtC8d98f56\n",
       "Mlze1yf9YPNhPVHo/l1jG2iZFyLpMy1Eu5JHc2Q7+PV66YyzSUWve/5Zg0mn2HgXr+QCDq55jHaj\n",
       "XEjKUKoFLg/jj6A7Mk7Bseq5fq/UZCUrnIYgZKosc/O2axZkZ7OkxUPJntMSs0GnVR1gqmJsHg2C\n",
       "xn7g45CWcI8mTvLPVff9X+hpKmYPof/4+soKu7AxCimfU3oELe0b8drQMzuPqHYW26yaDvcnhLf3\n",
       "QEl6ZWj/18tPwj3I9g4Ogn0xZa1CXkojh//6F1QeQ8EYf7hWDkuar2zbLJU9MpPkdns7T1t4ygi2\n",
       "WddavZDQxdELjeBjBICyBmL1yY+yeRpamgc4nsdMmIeLOLRUNhAPS/jyzILChub36HaJCRl96qGj\n",
       "ptSSMVx8AdNxHnyUP6P5DZZEL/jxbt049sIsNG+Y+QqlnMmP6M1QcruPuoydxUG7prjZc24efNpF\n",
       "B1jLyeBfvz68iR5Ob/0P5UtO5TSjRrhtIMvmMEE7NRQtJBSKrshngQYybm0qmb22gkOXixbUulyc\n",
       "1sB9dKuo6CJEJMO0pTq00jtbBUvNIOrqWfFx+oXORUOqrHtSvmtrhk4biaAQt0YM1ilvEwnWiRvp\n",
       "1s7YGyvQM/8lEEHx5CRZhCrCM7GAbJm/FdlQNLugbR8p5h8YL16Pb91bbqwBIVjt93c+WJunPr5t\n",
       "IwbUAdTqvJZP2fRgdyUQ3/6dHi3mg/QciDBM1u83zZ03c41am7p2qt5ZxzQv9XDZjXfTpEPeGHfE\n",
       "5yNiF0JtT1Op/NLnSV6ipjL7vnz2M2MZWCIJciLY/nyh2yraIjGYqeY2Ov/QMILlVX4/rofhSyKo\n",
       "b+aGileY5W5a46plNT5Q2OgJhXvGusIps7ckb45rTgt5RZY1xae1Z2Yk/yTYN9CFHW+MnCsnphcv\n",
       "nyLDFKFSbwi0nLBnGpNulLaicI1ynwU+cZZdn7Fl9xaKGJENjvmYjf/yjxZPipgqsYnGM8AMCxh8\n",
       "0Qz2vsc8dTh0+tQ+EI118aH1weauTLy08YYk19h3AwQck5S2Ebg3jKLbe7woAHxXRvRts3wSvoQs\n",
       "71z1GSUqpfQt+BgNW5PEdyt44WVqM3O8Z/U8RU9Nua8NXAX542OFijKUwFhqxTNuXdPAvMaphT0A\n",
       "YaGVgjWZeIF1gPIuC8YPgoz/2gR2bYuQyeBnIUQQaP9wcddD7ZPycZtbXc6wHC54zZ5y7UvM9fD+\n",
       "vTSbEjE3zk+MDrulnGw0Vgnpzv2fdZe7vaLqqVzzRznOLnsKApNbxqGAtP/UKemKV6MpbNZjr3Wz\n",
       "yq67j5JlpEhPCyeX07hcqd0zpQ+ZhTDD6edF00NlcEOgqox8KZBHHi76MGMofbfuk1e12/rphCe0\n",
       "zu3JamfOef1MeYH3A6bmOQaNmPXMJTfZw9eiEDWUo7WG+mx19Xrd29mADUhHp4Cy9Fm17RJOk7Q3\n",
       "yjFS3WpOiM8+HgU/NL49ZTSty9wztyZCjTqEla0TU0O90lHi2Y1r+weIqDQNFNDIyX3u3hfQvnT9\n",
       "7Fy/HyK/PaDA2FNp6N04iawxOOYp5iZBkD8kKCaGib8mZVvxdHy8T74mSjK3K1Ey3qxe2y0pVFiE\n",
       "ihOO7PB5gcN+DywiRDIsBNpS7rbiq05pEohAILgADg6WumXXJjOI1GTD0mgCLndMUnvW08iyqYKD\n",
       "ucq07qnbOsqYP0YrCBJ82C8Of3FIRV4Dsau/88i9A0rhKoGxAaoFLlA2qukvQtGNe4XY8I827WR2\n",
       "o12pFFjzPAyeuTJkdRf9YYpAssaVGKrPjheiv8c0NFYKcSX6R9DBAaoyhSr6DOpa/cdN9UmFZLJA\n",
       "A5voVAf+fZn9mJKeNfPzJ7f21D8N+CEzk6YThCyfBM4QFvwI7pWznfZd/i0GT/lOHTZl12IS8HkB\n",
       "WZH37JLtFeE0IIASw7rqWEWOPrAfTcxq5Had+fe+vQH9t4fQRbSWhGBDHU+B/2mmLOBmyPbskhcC\n",
       "U+CW1lF35sRQ7G1UCzMdemvPm9CQciNEjIVTAmhQGupcG5NzGoWbupclGy2u0mjDobL3FNry52zl\n",
       "Yj9ge4tG68W9nTEhEnoeTfD0O/MRMxtJWVk0C7NSdZDfgMHpv7Q9W6y5Je6SsqdtPawAxo82iMKu\n",
       "9vRlF7fGQj5ronqPOTKZY6wxroARKaBAUTYucB3CvJf4vCxHVstb3BFIOUPHQAzuiFourIUKMYcZ\n",
       "7pclEr8soH3r5fISHTESBGQ1dWaXoWpmoNcdrt5VwuEnjhvUKMjKqvhBg+i8tetO+M/Id6t3PQur\n",
       "5uW9NPp/KXPzT9e2KgsnqLwqED5cGJmsj5IdpSb4fCP7k/FNUo9O6z2+DXez9dMmeSHooaoq6/f0\n",
       "yAyUzrKdkOPygtgS3k1aq5AqAMUMc8KTSlpv0UWEWKdrB8TQjJRr9sHh30Dv3SlOEKwG+0m+yuww\n",
       "Jlrn6dBrf44bsijTIL2oD42UcUFuySAH0wX31ahUooVTKeI/SXI37bD2cxTqYgVK/CLthy0YhZ5T\n",
       "O4Z5rE9BCRxz5qnNMHVJU9bFTrGz0F3IiCRiNtMRQ77cUgVhnGRRqUODnYvZEchO++GlKwdSsnCg\n",
       "o/WVglvwbamiaew3bYB9or4ZMYoZiIMJTRk6EHgU8FVYrsSHQugctkrbWEGTS9CiZKeEvUSvPN3u\n",
       "7e/5BsbpGMYOkEWoiBy/n0eEBLb4oIRBntcVrUkMsGA9FaWoCZ3+J4jVQAj9g/9SMcFzpZ0MtVn8\n",
       "Hxa3WjMXkG2jQT265CvQr17XX0Uv6IFQZohU69KNlhm29zsR3DgUlsPCtLICGEcmG8XmJFLtrYTy\n",
       "y1K+AB0f/hZQKylAodaa7LNDuaQU9/rBL3HSW1QJl2R7F+yBTDkwDPr4XZPr0GU+IL/ueO0IbEx2\n",
       "InqPBnM6Z8olkpRRvpMOvW9a2X9siJc3KE7rH3Vlbq8a6eA/zi0CSnhCkSACAuJVx4yLJ33Twj7+\n",
       "GLSyfH96kuYelcQCdaeSEiGGg41UJyouIu6qEXwJN0SfX2yQCiU9ecPzfCdSfInNv1H/MwIMoE0p\n",
       "wF6weRbK4d/FiEPzvY5nwyPFccOxu7kyrGMKIfIwqdw3Gt/XdCpyHfOyvPKXcsJRf1yxhEAfaI9j\n",
       "aaeGtpd0wg5Fc/LDF5GJC1EGyANSNUpAaWG/ByXlhUEwg1v4UnuAdTxJaSbTH3Ox+C0yT8P5nLRG\n",
       "R14CMgklPvmnqTGeAZjbj36O8jE+EjyNJThtn076ML56ED6A98asfTYKoIgcb+XQqO+wraULAUgA\n",
       "AADdAZ9MakEvAAADACsYgdP8UZnUPkwghkHpypnUwDLdqCZssdYC8SAlcYY4ABMSRxGEr/Jf9SXZ\n",
       "bm2Vjp6WnIkrdowHnL7MM/IInX8MSidCkEkvcKf4MlHV1nKM6xW/guxwm/ysJuVey+PyS9004mqH\n",
       "8abcKtqw25e0NTahxlYZz05+DKfg5e2cuMzWPwqf1XaYjmi1BWUVdikrlYnc6sOxTrXikDwpU7Yd\n",
       "c0ALX1bFN5GzbN8OT5+OccC3tQ6iZsNQ+aCj3UwbsNspiK+uAI+/m8CbPtipNxXVX4KgKSEAAAPE\n",
       "bW9vdgAAAGxtdmhkAAAAAAAAAAAAAAAAAAAD6AAAG1gAAQAAAQAAAAAAAAAAAAAAAAEAAAAAAAAA\n",
       "AAAAAAAAAAABAAAAAAAAAAAAAAAAAABAAAAAAAAAAAAAAAAAAAAAAAAAAAAAAAAAAAAAAAAAAgAA\n",
       "Au50cmFrAAAAXHRraGQAAAADAAAAAAAAAAAAAAABAAAAAAAAG1gAAAAAAAAAAAAAAAAAAAAAAAEA\n",
       "AAAAAAAAAAAAAAAAAAABAAAAAAAAAAAAAAAAAABAAAAAA+gAAAPoAAAAAAAkZWR0cwAAABxlbHN0\n",
       "AAAAAAAAAAEAABtYAABAAAABAAAAAAJmbWRpYQAAACBtZGhkAAAAAAAAAAAAAAAAAABAAAABwABV\n",
       "xAAAAAAALWhkbHIAAAAAAAAAAHZpZGUAAAAAAAAAAAAAAABWaWRlb0hhbmRsZXIAAAACEW1pbmYA\n",
       "AAAUdm1oZAAAAAEAAAAAAAAAAAAAACRkaW5mAAAAHGRyZWYAAAAAAAAAAQAAAAx1cmwgAAAAAQAA\n",
       "AdFzdGJsAAAAuXN0c2QAAAAAAAAAAQAAAKlhdmMxAAAAAAAAAAEAAAAAAAAAAAAAAAAAAAAAA+gD\n",
       "6ABIAAAASAAAAAAAAAABAAAAAAAAAAAAAAAAAAAAAAAAAAAAAAAAAAAAAAAAAAAAGP//AAAAN2F2\n",
       "Y0MBZAAg/+EAGmdkACCs2UD8H/llhAAAAwAEAAADABA8YMZYAQAGaOvjyyLA/fj4AAAAABx1dWlk\n",
       "a2hA8l8kT8W6OaUbzwMj8wAAAAAAAAAYc3R0cwAAAAAAAAABAAAADgAAIAAAAAAUc3RzcwAAAAAA\n",
       "AAABAAAAAQAAAGhjdHRzAAAAAAAAAAsAAAABAABAAAAAAAEAAIAAAAAAAgAAIAAAAAACAABAAAAA\n",
       "AAEAAGAAAAAAAQAAIAAAAAACAABAAAAAAAEAAGAAAAAAAQAAIAAAAAABAABgAAAAAAEAACAAAAAA\n",
       "HHN0c2MAAAAAAAAAAQAAAAEAAAAOAAAAAQAAAExzdHN6AAAAAAAAAAAAAAAOAAAxuQAAGOYAAARL\n",
       "AAAD/wAABtUAAAgWAAAK2AAAAv8AAAnSAAAK4gAAEAkAAAWJAAAKogAAAOEAAAAUc3RjbwAAAAAA\n",
       "AAABAAAAMAAAAGJ1ZHRhAAAAWm1ldGEAAAAAAAAAIWhkbHIAAAAAAAAAAG1kaXJhcHBsAAAAAAAA\n",
       "AAAAAAAALWlsc3QAAAAlqXRvbwAAAB1kYXRhAAAAAQAAAABMYXZmNTguNDUuMTAw\n",
       "\">\n",
       "  Your browser does not support the video tag.\n",
       "</video>"
      ],
      "text/plain": [
       "<matplotlib.animation.FuncAnimation at 0x22589d98190>"
      ]
     },
     "execution_count": 18,
     "metadata": {},
     "output_type": "execute_result"
    }
   ],
   "source": [
    "ani"
   ]
  },
  {
   "cell_type": "markdown",
   "metadata": {
    "slideshow": {
     "slide_type": "slide"
    }
   },
   "source": [
    "## Neurona artificial\n"
   ]
  },
  {
   "cell_type": "markdown",
   "metadata": {
    "slideshow": {
     "slide_type": "-"
    }
   },
   "source": [
    "\n",
    "Es una versión generalizada del percetrón la cual permite resolver problemas más complejos y cuyas principales diferencias son:\n",
    "- Usa funciones de activación continuas como:\n",
    "    - Sigmoid: $\\sigma(x) = \\frac{1}{1+e^{-x}}$\n",
    "    - Tangente hiperbólica: ${\\rm tanh}(x) = \\frac{e^x - e^{-x}}{e^x + e^{-x}}$\n",
    "    - ReLU (Rectified Linear Unit) ${\\rm ReLU}(x) = \\max(0,x)$\n",
    "    \n",
    "- En consecuencia, la salida de una neurona puede ser una variable continua\n",
    "\n",
    "- Pueden ser entrenadas mediante el algoritmo de gradiente descendente (*algoritmo de optimización iterativo que se utiliza para minimizar una función*) o *backpropagation*\n",
    "\n",
    "- Son las unidades de redes neuronales más complejas conocidas como Perceptrón Multi Capa o *MultiLayer Perceptron* (MLP)"
   ]
  },
  {
   "cell_type": "code",
   "execution_count": 19,
   "metadata": {
    "slideshow": {
     "slide_type": "slide"
    }
   },
   "outputs": [
    {
     "data": {
      "image/png": "[encoded data removed]",
      "text/plain": [
       "<Figure size 1500x800 with 1 Axes>"
      ]
     },
     "metadata": {},
     "output_type": "display_data"
    }
   ],
   "source": [
    "sigmoid = lambda x: 1./(1. + np.exp(-x))\n",
    "tanh = lambda x: (np.exp(x) - np.exp(-x))/(np.exp(x) + np.exp(-x))\n",
    "relu = lambda x: np.where(x > 0, x, 0)\n",
    "heaviside = lambda x: np.where(x < 0, -1, 1)\n",
    "\n",
    "x = np.linspace(-5,5,100)\n",
    "plt.figure(figsize=(15,8))\n",
    "plt.plot(x,sigmoid(x),label=\"Sigmoid\")\n",
    "plt.plot(x,tanh(x),label=\"Tanh\")\n",
    "plt.plot(x,relu(x),label=\"ReLU\")\n",
    "plt.plot(x,heaviside(x),label=\"Heaviside\")\n",
    "plt.xlabel(\"x\"); plt.ylabel(\"activation\")\n",
    "plt.legend()\n",
    "plt.xlim(-5,5); plt.ylim(-2,2);"
   ]
  },
  {
   "cell_type": "markdown",
   "metadata": {
    "slideshow": {
     "slide_type": "slide"
    }
   },
   "source": [
    "# Pausa"
   ]
  }
 ],
 "metadata": {
  "celltoolbar": "Slideshow",
  "kernelspec": {
   "display_name": "Python 3 (ipykernel)",
   "language": "python",
   "name": "python3"
  },
  "language_info": {
   "codemirror_mode": {
    "name": "ipython",
    "version": 3
   },
   "file_extension": ".py",
   "mimetype": "text/x-python",
   "name": "python",
   "nbconvert_exporter": "python",
   "pygments_lexer": "ipython3",
   "version": "3.9.7"
  }
 },
 "nbformat": 4,
 "nbformat_minor": 4
}
