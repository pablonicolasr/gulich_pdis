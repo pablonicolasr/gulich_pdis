{
 "cells": [
  {
   "cell_type": "markdown",
   "metadata": {},
   "source": [
    "# Procesamiento Digital de Imágenes Satelitales\n",
    "# Instituto Gulich - Mayo - Julio 2025"
   ]
  },
  {
   "cell_type": "markdown",
   "metadata": {},
   "source": [
    "---\n",
    "#  Clase 06b: Un sitio de estudio. ROIS y Máscaras\n",
    "---\n"
   ]
  },
  {
   "cell_type": "markdown",
   "metadata": {},
   "source": [
    "### Objetivos de la notebook:\n",
    "\n",
    "- En esta notebook esperamos que aprendas a mirar en conjunto datos raster y ROIS vectoriales.\n",
    "\n",
    "### Datos con los que trabajaremos en esta Notebook:\n",
    "\n",
    "- La imagen Sentinel-2 del Dique Roggero en formato original comprimido \n",
    "    - **L1C_T21HUB_A017181_20181006T135109.zip**\n",
    "    - **L1C_T21HUB_A023044_20191120T135113.zip**\n",
    "- Capa vectorial\n",
    "    - **zona_dique.geojson**\n",
    "    - **rois_dique.geojson**"
   ]
  },
  {
   "cell_type": "markdown",
   "metadata": {},
   "source": [
    "### Las librerías que vamos a manejar son:\n",
    "\n",
    "```python\n",
    "import os\n",
    "\n",
    "import numpy as np\n",
    "import matplotlib.pyplot as plt\n",
    "\n",
    "import rasterio\n",
    "import rasterio.mask\n",
    "\n",
    "from rasterio.plot import show\n",
    "from rasterio.plot import show_hist\n",
    "from rasterio.mask import mask\n",
    "\n",
    "import geopandas as gpd\n",
    "\n",
    "import pandas as pd\n",
    "import seaborn as sns\n",
    "\n",
    "import sys\n",
    "sys.path.append('../')\n",
    "\n",
    "from funciones import *\n",
    "\n",
    "```"
   ]
  },
  {
   "cell_type": "code",
   "execution_count": null,
   "metadata": {},
   "outputs": [],
   "source": []
  },
  {
   "cell_type": "markdown",
   "metadata": {},
   "source": [
    "vamos a definir primero nuestras rutas:\n",
    "\n",
    "```python\n",
    "data_dir = '../data/raw_data/'\n",
    "path_proc = '../data/proc/'\n",
    "path_out = '../data/out/'\n",
    "path_vector = '../data/raw_data/vector/'\n",
    "```"
   ]
  },
  {
   "cell_type": "code",
   "execution_count": null,
   "metadata": {},
   "outputs": [],
   "source": []
  },
  {
   "cell_type": "markdown",
   "metadata": {},
   "source": [
    "Utilicemos el vector \"zona_dique.geojson\" para recortar nuestras capas de entrada:\n",
    "```python\n",
    "mbb_dique = compute_mbb(os.path.join(path_vector, 'zona_dique.geojson'), grid_step=100)\n",
    "```"
   ]
  },
  {
   "cell_type": "code",
   "execution_count": null,
   "metadata": {},
   "outputs": [],
   "source": []
  },
  {
   "cell_type": "markdown",
   "metadata": {},
   "source": [
    "Utilizando la función creada en la notebook anterior, vamos a leer nuestros datos:\n",
    "\n",
    "```python\n",
    "fn_zip = 'L1C_T21HUB_A017181_20181006T135109.zip'\n",
    "img, crs, gt = extract_10m_bands_Sentinel2_ZIP(os.path.join(data_dir, fn_zip),\n",
    "                                                             mbb=mbb_dique)\n",
    "```"
   ]
  },
  {
   "cell_type": "code",
   "execution_count": null,
   "metadata": {},
   "outputs": [],
   "source": []
  },
  {
   "cell_type": "markdown",
   "metadata": {},
   "source": [
    "Guardemos nuestro _stack_ para más adelante:\n",
    "```python\n",
    "bandnames_B_G_R_NIR_NDVI = ['Blue', 'Green', 'Red', 'NIR', 'NDVI']\n",
    "guardar_GTiff(os.path.join(path_proc, 'S2_dique_20181006.tif'),\n",
    "              crs,\n",
    "              gt,\n",
    "              img,\n",
    "              bandnames=bandnames_B_G_R_NIR_NDVI)\n",
    "```"
   ]
  },
  {
   "cell_type": "code",
   "execution_count": null,
   "metadata": {},
   "outputs": [],
   "source": []
  },
  {
   "cell_type": "markdown",
   "metadata": {},
   "source": [
    "Veamos nuestro recorte:\n",
    "```python\n",
    "fig, ax = plt.subplots(1, 2, figsize=(12, 10), sharey=True)\n",
    "\n",
    "show(nequalize(img[[2, 1, 0]]), transform=gt, ax=ax[0])\n",
    "show(nequalize(img[[4, 3, 0]]), transform=gt, ax=ax[1])\n",
    "\n",
    "ax[0].set_title('Combinación Color Verdadero')\n",
    "ax[1].set_title('Combinación Falso Color: NDVI, NIR, BLUE')\n",
    "ax[0].ticklabel_format(style='plain')\n",
    "ax[1].ticklabel_format(style='plain')\n",
    "plt.tight_layout()\n",
    "plt.show()\n",
    "```"
   ]
  },
  {
   "cell_type": "code",
   "execution_count": null,
   "metadata": {},
   "outputs": [],
   "source": []
  },
  {
   "cell_type": "markdown",
   "metadata": {},
   "source": [
    "## Tratemos de hacer una máscara de agua\n",
    "\n",
    "```python\n",
    "NDVI = img[4]\n",
    "NDVI < 0.0\n",
    "```"
   ]
  },
  {
   "cell_type": "code",
   "execution_count": null,
   "metadata": {},
   "outputs": [],
   "source": []
  },
  {
   "cell_type": "markdown",
   "metadata": {},
   "source": [
    "```python\n",
    "fig, ax = plt.subplots(figsize=(10, 10))\n",
    "show(NDVI < 0.25, transform=gt, ax=ax)\n",
    "ax.ticklabel_format(style='plain')\n",
    "plt.show()\n",
    "```"
   ]
  },
  {
   "cell_type": "code",
   "execution_count": null,
   "metadata": {},
   "outputs": [],
   "source": []
  },
  {
   "cell_type": "markdown",
   "metadata": {},
   "source": [
    "## Veamos un poco los histogramas\n",
    "\n",
    "rasterio también nos permite graficar de manera sencilla los histogramas de nuestros datos mediante una función llamada [show_hist](https://rasterio.readthedocs.io/en/stable/api/rasterio.plot.html#rasterio.plot.show_hist). Veamos la distribución de los datos de nuestras bandas:\n",
    "\n",
    "```python\n",
    "fig, ax = plt.subplots(1, 1)\n",
    "ax.set_xlim(xmin=0.025, xmax=0.225)\n",
    "show_hist(\n",
    "    img[[2, 1, 0]], bins=1024, lw=0.0, alpha=0.5, ax=ax,\n",
    "    histtype='stepfilled',\n",
    "    title=\"Histogram RGB\",\n",
    "    label=['R', 'G', 'B'])\n",
    "\n",
    "plt.show()\n",
    "```"
   ]
  },
  {
   "cell_type": "code",
   "execution_count": null,
   "metadata": {},
   "outputs": [],
   "source": []
  },
  {
   "cell_type": "markdown",
   "metadata": {},
   "source": [
    "Veamos el histograma de nuestra capa de NDVI\n",
    "\n",
    "```python\n",
    "fig, ax = plt.subplots()\n",
    "\n",
    "show_hist(\n",
    "    NDVI, bins=256, lw=0.0, alpha=1, ax=ax,\n",
    "    histtype='stepfilled',\n",
    "    title=\"Histogram NDVI\",\n",
    "    label=['NDVI'])\n",
    "\n",
    "plt.show()\n",
    "```"
   ]
  },
  {
   "cell_type": "code",
   "execution_count": null,
   "metadata": {},
   "outputs": [],
   "source": []
  },
  {
   "cell_type": "markdown",
   "metadata": {
    "scrolled": true
   },
   "source": [
    "## ¿a qué corresponde cada moda?\n",
    "Podríamos generar manualmente umbrales para identificar qué es cada una de estas modas. Por ejemplo, podríamos identificar visualmente los siguientes cortes:\n",
    "\n",
    "```python\n",
    "vmin = NDVI.min()\n",
    "thr_1 = 0\n",
    "thr_2 = 0.35\n",
    "vmax = 1\n",
    "\n",
    "fig, ax = plt.subplots()\n",
    "\n",
    "show_hist(\n",
    "    NDVI, bins=256, lw=0.0, alpha=1, ax=ax,\n",
    "    histtype='stepfilled',\n",
    "    title=\"Histogram NDVI\",\n",
    "    label=['NDVI'])\n",
    "\n",
    "ax.axvline(thr_1)\n",
    "ylim = ax.get_ylim()\n",
    "ax.axvline(thr_2)\n",
    "ax.fill_betweenx(ylim, vmin, thr_1, facecolor='green', alpha=0.1)\n",
    "ax.fill_betweenx(ylim, thr_1, thr_2, facecolor='blue', alpha=0.1)\n",
    "ax.fill_betweenx(ylim, thr_2, vmax, facecolor='orange', alpha=0.1)\n",
    "ax.set_ylim(*ylim)\n",
    "ax.set_xlim(NDVI.min(), NDVI.max())\n",
    "\n",
    "plt.show()\n",
    "```"
   ]
  },
  {
   "cell_type": "code",
   "execution_count": null,
   "metadata": {},
   "outputs": [],
   "source": []
  },
  {
   "cell_type": "markdown",
   "metadata": {
    "scrolled": true
   },
   "source": [
    "```python\n",
    "fig, ax = plt.subplots(1, 2, figsize=(12, 10), sharey=True)\n",
    "\n",
    "show(NDVI < thr_1, ax=ax[0], transform=gt)\n",
    "show(nequalize(img[[2, 1, 0]]), transform=gt, ax=ax[1])\n",
    "\n",
    "ax[0].ticklabel_format(style='plain')\n",
    "ax[1].ticklabel_format(style='plain')\n",
    "\n",
    "ax[0].set_title(f'Valores de NDVI menores a {thr_1}')\n",
    "ax[1].set_title('Combinacion Color Verdadero')\n",
    "\n",
    "plt.tight_layout()\n",
    "plt.show()\n",
    "```"
   ]
  },
  {
   "cell_type": "code",
   "execution_count": null,
   "metadata": {},
   "outputs": [],
   "source": []
  },
  {
   "cell_type": "markdown",
   "metadata": {},
   "source": [
    "```python\n",
    "fig, ax = plt.subplots(1, 2, figsize=(12, 10), sharey=True)\n",
    "\n",
    "show((NDVI > thr_1) & (NDVI < thr_2), ax=ax[0], transform=gt)\n",
    "show(nequalize(img[[2, 1, 0]]), transform=gt, ax=ax[1])\n",
    "\n",
    "ax[0].ticklabel_format(style='plain')\n",
    "ax[1].ticklabel_format(style='plain')\n",
    "\n",
    "ax[0].set_title(f'Valores de NDVI entre {thr_1} y {thr_2}')\n",
    "ax[1].set_title('Combinacion Color Verdadero')\n",
    "\n",
    "plt.tight_layout()\n",
    "plt.show()\n",
    "```"
   ]
  },
  {
   "cell_type": "code",
   "execution_count": null,
   "metadata": {},
   "outputs": [],
   "source": []
  },
  {
   "cell_type": "markdown",
   "metadata": {},
   "source": [
    "```python\n",
    "fig, ax = plt.subplots(1, 2, figsize=(10, 10), sharey=True)\n",
    "\n",
    "show(NDVI > thr_2, ax=ax[0], transform=gt)\n",
    "show(nequalize(img[[2, 1, 0]]), transform=gt, ax=ax[1])\n",
    "\n",
    "ax[0].ticklabel_format(style='plain')\n",
    "ax[1].ticklabel_format(style='plain')\n",
    "\n",
    "ax[0].set_title(f'Valores de NDVI mayores a {thr_2}')\n",
    "ax[1].set_title('Combinacion Color Verdadero')\n",
    "\n",
    "plt.tight_layout()\n",
    "plt.show()\n",
    "```"
   ]
  },
  {
   "cell_type": "code",
   "execution_count": null,
   "metadata": {},
   "outputs": [],
   "source": []
  },
  {
   "cell_type": "markdown",
   "metadata": {},
   "source": [
    "## Veamos ahora el histograma para NIR\n",
    "\n",
    "```python\n",
    "fig, ax = plt.subplots(figsize=(12, 8))\n",
    "\n",
    "ax.set_xlim(xmin=0.0, xmax = 0.6)\n",
    "show_hist(img[-2], bins=512, lw=0.0, alpha=1, ax=ax,\n",
    "          histtype='stepfilled',\n",
    "          title=\"Histogram NIR\",\n",
    "          label=['NIR'])\n",
    "\n",
    "plt.show()\n",
    "```"
   ]
  },
  {
   "cell_type": "code",
   "execution_count": null,
   "metadata": {},
   "outputs": [],
   "source": []
  },
  {
   "cell_type": "markdown",
   "metadata": {},
   "source": [
    "### Ejercicio 8.1 de máscaras:\n",
    "A partir de lo anterior, responder:\n",
    "\n",
    "- ¿A qué corresponde cada una de las dos modas?\n",
    "- A partir de los histogramas, seleccionar un umbral en NIR y NDVI para realizar máscaras de agua. ¿Cuál delimita mejor el cuerpo de agua?\n",
    "- Usando un recorte similar al S2_dique_20181006.tif pero para la imagen del 2019-11-20, generár una máscara de agua con el umbral adecuado para esta nueva fecha. Comparar ambas máscaras. ¿A qué corresponden los pixels marcados como agua en solo una de las imagenes?\n",
    "- Armar una imagen que tenga valor 0 si no hay agua, 1 si hay agua en una de ambas fechas y 2 si hay agua en ambas fechas. Plotear el resultado.\n"
   ]
  },
  {
   "cell_type": "markdown",
   "metadata": {},
   "source": [
    "## Hasta acá miramos la imágen entera.\n",
    "## Agreguemos ahora información (etiquetas) sobre sus pixels."
   ]
  },
  {
   "cell_type": "markdown",
   "metadata": {},
   "source": [
    "```python\n",
    "rois_shp = gpd.read_file(os.path.join(path_vector, 'rois_dique.geojson'))\n",
    "rois_shp.head(10)\n",
    "```"
   ]
  },
  {
   "cell_type": "code",
   "execution_count": null,
   "metadata": {},
   "outputs": [],
   "source": []
  },
  {
   "cell_type": "markdown",
   "metadata": {},
   "source": [
    "Veamos qué información tenemos:\n",
    "\n",
    "```python\n",
    "# Veamos las clases de nuestros ROI\n",
    "rois_shp['clase']\n",
    "```"
   ]
  },
  {
   "cell_type": "code",
   "execution_count": null,
   "metadata": {},
   "outputs": [],
   "source": []
  },
  {
   "cell_type": "markdown",
   "metadata": {},
   "source": [
    "```python\n",
    "rois_shp['geometry']  # series of shapely geometries\n",
    "```"
   ]
  },
  {
   "cell_type": "code",
   "execution_count": null,
   "metadata": {},
   "outputs": [],
   "source": []
  },
  {
   "cell_type": "markdown",
   "metadata": {},
   "source": [
    "```python\n",
    "print(rois_shp.crs)\n",
    "```"
   ]
  },
  {
   "cell_type": "code",
   "execution_count": null,
   "metadata": {},
   "outputs": [],
   "source": []
  },
  {
   "cell_type": "markdown",
   "metadata": {},
   "source": [
    "```python\n",
    "fig, ax = plt.subplots(figsize=(12, 12))\n",
    "rois_shp.plot(ax=ax)\n",
    "ax.ticklabel_format(style='plain')\n",
    "plt.show()\n",
    "```"
   ]
  },
  {
   "cell_type": "code",
   "execution_count": null,
   "metadata": {},
   "outputs": [],
   "source": []
  },
  {
   "cell_type": "markdown",
   "metadata": {},
   "source": [
    "## Realicemos la superposición de nuestros ROIs en nuestro NDVI\n",
    "\n",
    "```python\n",
    "fig, ax = plt.subplots(figsize=(12,12))\n",
    "rois_shp.boundary.plot(ax=ax, color='orangered')\n",
    "show(NDVI, transform=gt, ax=ax)\n",
    "ax.ticklabel_format(style='plain')\n",
    "plt.show()\n",
    "```"
   ]
  },
  {
   "cell_type": "code",
   "execution_count": null,
   "metadata": {},
   "outputs": [],
   "source": []
  },
  {
   "cell_type": "markdown",
   "metadata": {},
   "source": [
    "Podríamos filtrar por clase:\n",
    "\n",
    "```python\n",
    "fig, ax = plt.subplots(figsize=(12, 12))\n",
    "rois_shp[rois_shp['clase']=='urbano'].boundary.plot(ax=ax, color='orangered')\n",
    "show(NDVI, transform=gt, ax=ax)\n",
    "ax.set_title('ROIS de la zona urbana')\n",
    "ax.ticklabel_format(style='plain')\n",
    "plt.show()\n",
    "```"
   ]
  },
  {
   "cell_type": "code",
   "execution_count": null,
   "metadata": {},
   "outputs": [],
   "source": []
  },
  {
   "cell_type": "markdown",
   "metadata": {},
   "source": [
    "o colorear por clase:\n",
    "\n",
    "```python\n",
    "fig, ax = plt.subplots(figsize=(12, 12))\n",
    "rois_shp.plot(ax=ax, column='clase')\n",
    "rois_shp.boundary.plot(ax=ax, color='orangered')\n",
    "show(NDVI, transform=gt, ax=ax)\n",
    "ax.ticklabel_format(style='plain')\n",
    "plt.show()\n",
    "```"
   ]
  },
  {
   "cell_type": "code",
   "execution_count": null,
   "metadata": {},
   "outputs": [],
   "source": []
  },
  {
   "cell_type": "markdown",
   "metadata": {},
   "source": [
    "### Ejercicio 8.2 Visualización de imágenes (opcional):\n",
    "1. Rehacer el gráfico usando de fondo la imagen RGB equalizada y ploteando los bordes de los ROIS.\n",
    "1. Rehacer el gráfico pero ploteando solo los ROIs de clase 'rural'."
   ]
  },
  {
   "cell_type": "code",
   "execution_count": null,
   "metadata": {},
   "outputs": [],
   "source": []
  }
 ],
 "metadata": {
  "kernelspec": {
   "display_name": "Python 3 (ipykernel)",
   "language": "python",
   "name": "python3"
  },
  "language_info": {
   "codemirror_mode": {
    "name": "ipython",
    "version": 3
   },
   "file_extension": ".py",
   "mimetype": "text/x-python",
   "name": "python",
   "nbconvert_exporter": "python",
   "pygments_lexer": "ipython3",
   "version": "3.12.10"
  }
 },
 "nbformat": 4,
 "nbformat_minor": 4
}
