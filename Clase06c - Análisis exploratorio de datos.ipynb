{
 "cells": [
  {
   "cell_type": "markdown",
   "metadata": {},
   "source": [
    "# Procesamiento Digital de Imágenes Satelitales\n",
    "# Instituto Gulich - Mayo - Julio 2025"
   ]
  },
  {
   "cell_type": "markdown",
   "metadata": {},
   "source": [
    "---\n",
    "#  Clase 06c: Análisis exploratorio de datos\n",
    "---\n"
   ]
  },
  {
   "cell_type": "markdown",
   "metadata": {},
   "source": [
    "### Objetivos de la notebook:\n",
    "\n",
    "- En esta notebook esperamos que aprendas a mirar en conjunto datos raster y ROIS vectoriales.\n",
    "\n",
    "### Datos con los que trabajaremos en esta Notebook:\n",
    "\n",
    "- Los recortes de Sentinel-2 del Dique Roggero \n",
    "    - **S2_dique_20191120.tif** y\n",
    "    - **S2_dique_20181006.tif**\n",
    "- Capa vectorial de ROIS\n",
    "    - **rois_dique.geojson**"
   ]
  },
  {
   "cell_type": "markdown",
   "metadata": {},
   "source": [
    "```python\n",
    "import os\n",
    "import sys\n",
    "sys.path.append('../')\n",
    "\n",
    "import numpy as np\n",
    "import matplotlib.pyplot as plt\n",
    "\n",
    "import rasterio\n",
    "from rasterio.plot import show\n",
    "from rasterio.plot import show_hist\n",
    "from rasterio.mask import mask\n",
    "\n",
    "import geopandas as gpd\n",
    "\n",
    "import pandas as pd\n",
    "import seaborn as sns\n",
    "\n",
    "from funciones import *\n",
    "```"
   ]
  },
  {
   "cell_type": "code",
   "execution_count": null,
   "metadata": {},
   "outputs": [],
   "source": []
  },
  {
   "cell_type": "markdown",
   "metadata": {},
   "source": [
    "```python\n",
    "path_proc = '../data/proc/'\n",
    "path_out = '../data/out/'\n",
    "path_vector = '../data/raw_data/vector/'\n",
    "```"
   ]
  },
  {
   "cell_type": "code",
   "execution_count": null,
   "metadata": {},
   "outputs": [],
   "source": []
  },
  {
   "cell_type": "markdown",
   "metadata": {},
   "source": [
    "```python\n",
    "raster_fn = os.path.join(path_proc, 'S2_dique_20181006.tif')\n",
    "\n",
    "with rasterio.open(raster_fn) as src:\n",
    "    img = src.read()\n",
    "    gt = src.transform\n",
    "\n",
    "```"
   ]
  },
  {
   "cell_type": "code",
   "execution_count": null,
   "metadata": {},
   "outputs": [],
   "source": []
  },
  {
   "cell_type": "markdown",
   "metadata": {},
   "source": [
    "```python\n",
    "rois_vec = gpd.read_file(os.path.join(path_vector, 'rois_dique.geojson'))\n",
    "rois_vec.head(10)\n",
    "```"
   ]
  },
  {
   "cell_type": "code",
   "execution_count": null,
   "metadata": {},
   "outputs": [],
   "source": []
  },
  {
   "cell_type": "markdown",
   "metadata": {},
   "source": [
    "## Uso de _mask_ para extraer valores de un raster a partir de un ROI\n",
    "### Profundizando un poco en los arrays enmascarados"
   ]
  },
  {
   "cell_type": "markdown",
   "metadata": {},
   "source": [
    "Como vimos en notebooks anteriores, es posible generar recortes a partir de nuestros polígonos haciendo uso del módulo [rasterio.mask](https://rasterio.readthedocs.io/en/latest/api/rasterio.mask.html). Veamos un ejemplo con nuestros datos:\n",
    "\n",
    "```python\n",
    "# Aquí extraemos la geometría del primer ROI\n",
    "roi0 = rois_vec['geometry'][0]\n",
    "\n",
    "# Utilicemos el ROI anterior para extraer los valores de la imagen\n",
    "with rasterio.open(raster_fn) as src:\n",
    "     out_image, out_transform = mask(src, [roi0], crop=True)\n",
    "\n",
    "# Grafiquemos nuestro subset\n",
    "fig, ax = plt.subplots()\n",
    "show(nequalize(out_image[[2, 1, 0]], p=1), ax=ax, transform=out_transform)\n",
    "# rois_vec.loc[[0]].boundary.plot(ax=ax, color='orangered')\n",
    "# ax.ticklabel_format(style='plain')\n",
    "plt.show()\n",
    "```"
   ]
  },
  {
   "cell_type": "code",
   "execution_count": null,
   "metadata": {},
   "outputs": [],
   "source": []
  },
  {
   "cell_type": "markdown",
   "metadata": {},
   "source": [
    "### Haciendo que mask devuelva un array enmascarado con `filled=false`"
   ]
  },
  {
   "cell_type": "markdown",
   "metadata": {},
   "source": [
    "```python\n",
    "with rasterio.open(raster_fn) as src:\n",
    "    out_image, out_transform = mask(src, [roi0], crop=True, filled=False)\n",
    "```"
   ]
  },
  {
   "cell_type": "code",
   "execution_count": null,
   "metadata": {},
   "outputs": [],
   "source": []
  },
  {
   "cell_type": "markdown",
   "metadata": {},
   "source": [
    "```python\n",
    "type(out_image)\n",
    "```"
   ]
  },
  {
   "cell_type": "code",
   "execution_count": null,
   "metadata": {},
   "outputs": [],
   "source": []
  },
  {
   "cell_type": "markdown",
   "metadata": {},
   "source": [
    "```python\n",
    "out_image[:, 0, 0]\n",
    "```"
   ]
  },
  {
   "cell_type": "code",
   "execution_count": null,
   "metadata": {},
   "outputs": [],
   "source": []
  },
  {
   "cell_type": "markdown",
   "metadata": {},
   "source": [
    "```python\n",
    "out_image.data.shape\n",
    "```"
   ]
  },
  {
   "cell_type": "code",
   "execution_count": null,
   "metadata": {},
   "outputs": [],
   "source": []
  },
  {
   "cell_type": "markdown",
   "metadata": {},
   "source": [
    "```python\n",
    "mascara = out_image.mask[0]\n",
    "\n",
    "mascara\n",
    "```"
   ]
  },
  {
   "cell_type": "code",
   "execution_count": null,
   "metadata": {},
   "outputs": [],
   "source": []
  },
  {
   "cell_type": "markdown",
   "metadata": {},
   "source": [
    "```python\n",
    "out_image.data[:, ~mascara]\n",
    "```"
   ]
  },
  {
   "cell_type": "code",
   "execution_count": null,
   "metadata": {},
   "outputs": [],
   "source": []
  },
  {
   "cell_type": "markdown",
   "metadata": {},
   "source": [
    "## Etiquetado de datos\n",
    "\n",
    "Para entender mejor nuestros datos, es necesario asociar la información de nuestras imágenes a su respectiva etiqueta, la cual puede provenir por ejemplo de información relevada en campo o interpretación visual sobre las mismas. Para realizar esto, vamos a construir un dataframe que contendrá como _features_ o características la información espectral y, como _label_ o etiqueta el valor correspondiente a cada ROI. Iniciemos con una sola clase:\n",
    "\n",
    "```python\n",
    "import numpy as np\n",
    "import geopandas as gpd\n",
    "import matplotlib.pyplot as plt\n",
    "\n",
    "# archivos\n",
    "vector_fn = os.path.join(path_vector, 'rois_dique.geojson')\n",
    "raster_fn = os.path.join(path_proc, 'S2_dique_20181006.tif')\n",
    "\n",
    "# Cargamos nuestros polígonos\n",
    "rois_vec = gpd.read_file(vector_fn)\n",
    "\n",
    "# Definimos un valor fuera de nuestro rango válido para los datos no válidos\n",
    "nodata = -255\n",
    "```\n"
   ]
  },
  {
   "cell_type": "code",
   "execution_count": null,
   "metadata": {},
   "outputs": [],
   "source": []
  },
  {
   "cell_type": "markdown",
   "metadata": {},
   "source": [
    "Leamos nuestro vector y recortemos a un polígono\n",
    "\n",
    "```python\n",
    "# Cargamos nuestros polígonos y nos quedamos con uno de los elementos\n",
    "clase, geom = rois_vec.loc[0, ['clase', 'geometry']].to_list()\n",
    "\n",
    "# Cargamos la imagen y la recortamos a nuestro polígono\n",
    "with rasterio.open(raster_fn) as src:\n",
    "    clip, _transform = mask(src, [geom], crop=True, nodata=nodata)\n",
    "```"
   ]
  },
  {
   "cell_type": "code",
   "execution_count": null,
   "metadata": {},
   "outputs": [],
   "source": []
  },
  {
   "cell_type": "markdown",
   "metadata": {},
   "source": [
    "```python\n",
    "d, x, y = clip.shape\n",
    "D = clip.reshape([d, x*y]).T  # rompemos la estructura espacial, pero no espectral\n",
    "DX = D[np.all(D != nodata, axis=1)]  # Nos quedamos con los valores útiles\n",
    "DY = np.repeat(clase, DX.shape[0])  # Generamos un array con la etiqueta de la clase\n",
    "```"
   ]
  },
  {
   "cell_type": "code",
   "execution_count": null,
   "metadata": {},
   "outputs": [],
   "source": []
  },
  {
   "cell_type": "markdown",
   "metadata": {},
   "source": [
    "Veamos algunos datos etiquetados:\n",
    "\n",
    "```python\n",
    "print('Clase  Blue   Green  Red    NIR     NDVI')\n",
    "for i in range(10):\n",
    "    j = np.random.randint(DX.shape[0])\n",
    "    print(f'{DY[j]:6s} {DX[j,0]:.3f}  {DX[j,1]:.3f}  {DX[j,2]:.3f}  {DX[j,3]:.3f}  {DX[j,4]: .3f}')\n",
    "```"
   ]
  },
  {
   "cell_type": "code",
   "execution_count": null,
   "metadata": {},
   "outputs": [],
   "source": []
  },
  {
   "cell_type": "markdown",
   "metadata": {},
   "source": [
    "Vamos a extender lo anterior a todas las clases, para lo que asumiremos que ya cargamos nuestros ROIs y definimos nuestro valor _nodata_. En este caso tendremos previmente que generar un array para ir concatenando los datos contenidos en cada ROI, así como sus valores de clase. Además, vamos a generar un listado con las etiquetas posibles:\n",
    "\n",
    "```python\n",
    "# primero defino cantidad de atributos = cantidad de bandas en el raster\n",
    "with rasterio.open(raster_fn) as src:\n",
    "    d = src.count \n",
    "\n",
    "# Clases de los ROIs\n",
    "clases = list(set(rois_vec['clase']))\n",
    "# clases = list(rois_vec['clase'].unique())\n",
    "clases.sort()\n",
    "\n",
    "# Generamos valores categóricos para nuestras clases\n",
    "clase_dict = {clase: i for i, clase in enumerate(clases)}\n",
    "```"
   ]
  },
  {
   "cell_type": "code",
   "execution_count": null,
   "metadata": {},
   "outputs": [],
   "source": []
  },
  {
   "cell_type": "markdown",
   "metadata": {},
   "source": [
    "Creamos los vectores para almacenar nuestra información de datos y etiquetas\n",
    "\n",
    "```python\n",
    "X = np.empty((0, d), dtype=np.float32)  # array vacío para almacenar valores espectrales\n",
    "Y = np.empty(0, dtype=int)              # array vacío para almacenar etiquetas\n",
    "\n",
    "```"
   ]
  },
  {
   "cell_type": "code",
   "execution_count": null,
   "metadata": {},
   "outputs": [],
   "source": []
  },
  {
   "cell_type": "markdown",
   "metadata": {},
   "source": [
    "Con el raster en memoria, iteramos sobre los polígonos y extraemos para cada uno la información que nos interesa, cada vez almacenamos en los array anteriores la información extraida con su respectiva etiqueta:\n",
    "\n",
    "```python\n",
    "with rasterio.open(raster_fn) as src:\n",
    "    for index, row in rois_vec.iterrows():\n",
    "        clase, geom = row[['clase', 'geometry']].to_list()\n",
    "        clip, _transform = mask(src, [geom], crop=True, nodata=nodata)\n",
    "        d, x, y = clip.shape\n",
    "        D = clip.reshape([d, x*y]).T  # Rompemos la estructura espacial, pero no espectral\n",
    "        DX = D[np.all(D != nodata, axis=1)]  # Nos quedamos con los valores útiles\n",
    "        DY = np.repeat(clase, DX.shape[0])  # Generamos un array con la etiqueta de la clase\n",
    "        X = np.concatenate((X, DX))  # Concatenamos nuestros datos espectrales\n",
    "        Y = np.concatenate((Y, DY))  # Concatenamos las etiquetas de la clase\n",
    "```"
   ]
  },
  {
   "cell_type": "code",
   "execution_count": null,
   "metadata": {},
   "outputs": [],
   "source": []
  },
  {
   "cell_type": "markdown",
   "metadata": {},
   "source": [
    "El array X tiene una fila por cada pixel (con sus datos espectrales), mientras que Y tiene un elemento por cada pixel indicando la clase correspondiente. Veamos algunos datos etiquetados:\n",
    "\n",
    "```python\n",
    "R = 10  # cantindad a elegir al azar\n",
    "N = len(Y)\n",
    "\n",
    "print('Clase      Blue   Green  Red    NIR     NDVI')\n",
    "for i in range(R):\n",
    "    j = np.random.randint(N)\n",
    "    print(f'{clase_dict[Y[j]]:d}.{Y[j]:<7}: {X[j,0]:.3f}  {X[j,1]:.3f}  {X[j,2]:.3f}  {X[j,3]:.3f}  {X[j,4]: .3f}')\n",
    "```"
   ]
  },
  {
   "cell_type": "code",
   "execution_count": null,
   "metadata": {},
   "outputs": [],
   "source": []
  },
  {
   "cell_type": "markdown",
   "metadata": {},
   "source": [
    "## Firmas espectrales"
   ]
  },
  {
   "cell_type": "markdown",
   "metadata": {},
   "source": [
    "```python\n",
    "# Visualización\n",
    "        \n",
    "# Creamos la figura\n",
    "B_G_R_NIR = [0.49, 0.56, 0.665, 0.842]\n",
    "fig, ax = plt.subplots(figsize=(15, 10))\n",
    "\n",
    "for j, l in enumerate(clases):\n",
    "    S = np.where(Y==l)[0]\n",
    "    data_vis_clase = X[S,:-1]\n",
    "    media_clase = data_vis_clase.mean(axis=0)\n",
    "    std_clase = data_vis_clase.std(axis=0)\n",
    "    ax.plot(B_G_R_NIR, media_clase, label=l)\n",
    "    ax.fill_between(B_G_R_NIR, media_clase - std_clase, media_clase + std_clase, color='b', alpha=.1)\n",
    "\n",
    "ax.set_ylim(0, 0.4)\n",
    "ax.legend()\n",
    "ax.set_xlabel(\"longitud de onda (nm)\")\n",
    "ax.set_ylabel(\"reflectancia\")\n",
    "\n",
    "ax.set_title('Firmas espectrales de las clases')\n",
    "font = {'family':'serif', 'color':'darkgray', 'size':12}\n",
    "\n",
    "for x, t in zip(B_G_R_NIR, ['Blue', 'Green', 'Red', 'NIR']):\n",
    "    ax.text(x - 0.005, 0.03, t, fontdict=font)\n",
    "\n",
    "plt.show()\n",
    "```"
   ]
  },
  {
   "cell_type": "code",
   "execution_count": null,
   "metadata": {},
   "outputs": [],
   "source": []
  },
  {
   "cell_type": "markdown",
   "metadata": {},
   "source": [
    "## Boxplots, Violinplots y Scatterplots"
   ]
  },
  {
   "cell_type": "markdown",
   "metadata": {},
   "source": [
    "```python\n",
    "# Armo un dataframe con los datos etiquetados\n",
    "data = pd.DataFrame({'B':X[:,0],\n",
    "                     'G':X[:,1],\n",
    "                     'R':X[:,2],\n",
    "                     'NIR':X[:,3],\n",
    "                     'NDVI':X[:,4],\n",
    "                     'clase':Y})\n",
    "\n",
    "data['clase_cat'] = data['clase'].map(clase_dict).astype(\"category\")\n",
    "\n",
    "# y los grafico de diferentes formas\n",
    "fig, ax = plt.subplots(figsize=(15, 10))\n",
    "sns.boxplot(data=data, x='clase', y='NDVI', ax=ax)\n",
    "plt.show()\n",
    "```"
   ]
  },
  {
   "cell_type": "code",
   "execution_count": null,
   "metadata": {},
   "outputs": [],
   "source": []
  },
  {
   "cell_type": "markdown",
   "metadata": {},
   "source": [
    "```python\n",
    "fig, ax = plt.subplots(figsize=(15, 10))\n",
    "sns.violinplot(data=data, x='clase', y='NDVI', ax=ax)\n",
    "plt.show()\n",
    "```"
   ]
  },
  {
   "cell_type": "code",
   "execution_count": null,
   "metadata": {},
   "outputs": [],
   "source": []
  },
  {
   "cell_type": "markdown",
   "metadata": {
    "scrolled": true
   },
   "source": [
    "```python\n",
    "fig, ax = plt.subplots(figsize=(10, 5))\n",
    "sns.scatterplot(data=data, x='R', y='G',hue='clase', alpha=0.3, s=15, ax=ax)\n",
    "plt.show()\n",
    "```"
   ]
  },
  {
   "cell_type": "code",
   "execution_count": null,
   "metadata": {},
   "outputs": [],
   "source": []
  },
  {
   "cell_type": "markdown",
   "metadata": {},
   "source": [
    "### 9.1 Ejercicio de visualización de datos (opcional)\n",
    "1. Repetir el violinplot pero graficando solo para la clase _rural_\n",
    "1. Repetir el scatterplot usando los ejes:\n",
    "    1. Red y NIR\n",
    "    1. NDVI y Blue\n",
    "    1. NDVI y Green"
   ]
  },
  {
   "cell_type": "markdown",
   "metadata": {},
   "source": [
    "### 9.2 Ejercicio de etiquetado\n",
    "1. En los diferentes gráficos se observa que la clase _rural_ está compuesta de al menos dos clases mezcaldas. \n",
    "    1. Mirando tu último violin-plot, definir un umbral que separe las dos potenciales clases diferentes.\n",
    "    1. Generar un nuevo geoDataFrame llamado rois_rural (a partir de rois_vec) que tenga solo aquellos ROIS de la clase 'rural'. Luego agregar una columna con el promedio de los valores de NDVI del ROI correspondiente.\n",
    "    1. Modificar la columna 'clase' de rois_rural de manera de distinguir los dos tipos de ROIS rurales (los que tengan NDVI alto y bajo, de acuerdo al umbral seleccionado).\n",
    "    1. Graficar la imagen Sentinel-2 RGB ecualizada y sobre ella los bordes de los dos tipos de ROIS rurales con colores diferentes.\n",
    "    1. Observando estas últimas dos imágenes tratar de entender a qué corresponden las dos subclases de 'rural'. Asignarles un nombre adecuado.\n",
    "    1. Modificar el archivo _geoJSON_ usando estas nuevas etiquetas, según corresponda, para la vieja clase 'rural'.\n",
    "    1. Repetir los gráficos anteriores (firmas espectrales, violinplots, y scatterplots) considerando las nuevas etiquetas.\n"
   ]
  },
  {
   "cell_type": "markdown",
   "metadata": {},
   "source": [
    "```python\n",
    "## Ayuda Ejercicio 9.2 B\n",
    "\n",
    "# Generar un nuevo GeoDataFrame llamados rois_rural a partir de rois_vec\n",
    "rois_rural = data.loc[data['clase']=='rural', :].copy()\n",
    "\n",
    "# Agregar una columna con el promedio de los valores de NDVI del ROI correspondiente:\n",
    "with rasterio.open(raster_fn) as src:\n",
    "    for index, row in rois_rural.iterrows():\n",
    "        geom = ...\n",
    "        clip, _transform = mask(..., ..., crop=..., nodata=...)\n",
    "        d, x, y = clip.shape\n",
    "        D = clip.reshape([d, ...]).T  # Rompemos la estructura espacial, pero no espectral\n",
    "        DX = D[np.all(D != nodata, axis=1)]  # Nos quedamos con los valores útiles\n",
    "        mndvi = DX[:,-1].mean()  # Calculamos el NDVI medio\n",
    "        rois_rural.loc[..., 'NDVI_medio'] = mndvi  # Asignamos al polígono el valor de NDVI medio\n",
    "```"
   ]
  }
 ],
 "metadata": {
  "kernelspec": {
   "display_name": "Python 3 (ipykernel)",
   "language": "python",
   "name": "python3"
  },
  "language_info": {
   "codemirror_mode": {
    "name": "ipython",
    "version": 3
   },
   "file_extension": ".py",
   "mimetype": "text/x-python",
   "name": "python",
   "nbconvert_exporter": "python",
   "pygments_lexer": "ipython3",
   "version": "3.12.9"
  }
 },
 "nbformat": 4,
 "nbformat_minor": 4
}
